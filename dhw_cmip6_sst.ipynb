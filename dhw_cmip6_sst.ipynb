{
 "cells": [
  {
   "cell_type": "markdown",
   "metadata": {},
   "source": [
    "# Checking DHW nd DHM scripts using current coraltemp satellite data"
   ]
  },
  {
   "cell_type": "markdown",
   "metadata": {},
   "source": [
    "\n",
    "Potential issues to think about:\n",
    "* DHM v. DHW and associated different MMM algorithms\n",
    "* William uses nightime data only. CMIP Models are at best deaily mean. A night-time mean shoudl not be too far from teh daily mean, but there will presimably be a slight cold bias. Chris Merchan uses 10am in CCI SST as a bst single time estimate of daily mean.\n",
    "* The climatological period for DHW (1985 - 2012) starts just after an El Nino and ends just before an ENSO, so is rather anomolos because it only contains one ENSO event. A climatology from a free-running model run of the smae length is likley to contain more ENEl Nino events, therefore one could argue is more likely to be biased high, meaning that teh DHW values calculated would be lower than reality\n",
    "* The 1997-1998 El Nino (captured by the DHW MMM climatology period) was anomalously big, so statistically a free-running model run, even with perfect ENSO simulation would likely have a lower MMM than observed, wich would make the DHW values calculate from the model higher than reality\n",
    "   ** Note, the standardising year of 1988.3 is chosen for DHW because it allows them to match a precious climatological period\n",
    "    which would not necessarily be a sensble year to use given model metholology\n",
    "    \n"
   ]
  },
  {
   "cell_type": "code",
   "execution_count": 40,
   "metadata": {},
   "outputs": [],
   "source": [
    "import iris\n",
    "import iris.coord_categorisation\n",
    "import matplotlib.pyplot as plt\n",
    "import numpy as np\n",
    "import iris.quickplot as qplt\n",
    "import netCDF4\n",
    "import datetime\n",
    "import scipy\n",
    "import scipy.signal\n",
    "import glob\n",
    "import cartopy.feature as cfeature\n",
    "from scipy.stats import t\n",
    "import pickle\n",
    "import os\n",
    "import glob\n",
    "from mpl_toolkits.axes_grid1 import AxesGrid\n",
    "from cartopy.mpl.geoaxes import GeoAxes\n",
    "import cartopy.crs as ccrs\n",
    "from cartopy.mpl.ticker import LongitudeFormatter, LatitudeFormatter\n",
    "\n",
    "\n",
    "\n",
    "\n"
   ]
  },
  {
   "cell_type": "code",
   "execution_count": 3,
   "metadata": {},
   "outputs": [],
   "source": [
    "def extract_region(cube,lon_west,lon_east,lat_south,lat_north):\n",
    "    cube_region_tmp = cube.intersection(longitude=(lon_west, lon_east))\n",
    "    cube_region = cube_region_tmp.intersection(latitude=(lat_south, lat_north))\n",
    "    return cube_region"
   ]
  },
  {
   "cell_type": "code",
   "execution_count": 4,
   "metadata": {},
   "outputs": [],
   "source": [
    "def area_avg(cube):\n",
    "    try:\n",
    "        cube.coord('latitude').guess_bounds()\n",
    "        cube.coord('longitude').guess_bounds()\n",
    "    except:\n",
    "        pass\n",
    "    grid_areas = iris.analysis.cartography.area_weights(cube)\n",
    "    return cube.collapsed(['longitude','latitude'],iris.analysis.MEAN, weights=grid_areas)\n",
    "\n",
    "\n",
    "def area_avg_not_weighted(cube):\n",
    "    return cube.collapsed(['longitude','latitude'],iris.analysis.MEAN)\n",
    "\n",
    "\n",
    "\n",
    "def area_max(cube):\n",
    "    return cube.collapsed(['longitude','latitude'],iris.analysis.MAX)"
   ]
  },
  {
   "cell_type": "code",
   "execution_count": 5,
   "metadata": {},
   "outputs": [],
   "source": [
    "\n",
    "def linregress_3D(y_array):\n",
    "    # y_array is a 3-D array formatted like (time,lon,lat)\n",
    "    # The purpose of this function is to do linear regression using time series of data over each (lon,lat) grid box with consideration of ignoring np.nan\n",
    "    # Construct x_array indicating time indexes of y_array, namely the independent variable.\n",
    "    x_array=np.empty(y_array.shape)\n",
    "    for i in range(y_array.shape[0]): x_array[i,:,:]=i+1 # This would be fine if time series is not too long. Or we can use i+yr (e.g. 2019).\n",
    "    x_array[np.isnan(y_array)]=np.nan\n",
    "    # Compute the number of non-nan over each (lon,lat) grid box.\n",
    "    n=np.sum(~np.isnan(x_array),axis=0)\n",
    "    # Compute mean and standard deviation of time series of x_array and y_array over each (lon,lat) grid box.\n",
    "    x_mean=np.nanmean(x_array,axis=0)\n",
    "    y_mean=np.nanmean(y_array,axis=0)\n",
    "    x_std=np.nanstd(x_array,axis=0)\n",
    "    y_std=np.nanstd(y_array,axis=0)\n",
    "    # Compute co-variance between time series of x_array and y_array over each (lon,lat) grid box.\n",
    "    cov=np.nansum((x_array-x_mean)*(y_array-y_mean),axis=0)/n\n",
    "    # Compute correlation coefficients between time series of x_array and y_array over each (lon,lat) grid box.\n",
    "    cor=cov/(x_std*y_std)\n",
    "    # Compute slope between time series of x_array and y_array over each (lon,lat) grid box.\n",
    "    slope=cov/(x_std**2)\n",
    "    # Compute intercept between time series of x_array and y_array over each (lon,lat) grid box.\n",
    "    intercept=y_mean-x_mean*slope\n",
    "    # Compute tstats, stderr, and p_val between time series of x_array and y_array over each (lon,lat) grid box.\n",
    "    tstats=cor*np.sqrt(n-2)/np.sqrt(1-cor**2)\n",
    "    stderr=slope/tstats\n",
    "    p_val=t.sf(tstats,n-2)*2\n",
    "    # Compute r_square and rmse between time series of x_array and y_array over each (lon,lat) grid box.\n",
    "    # r_square also equals to cor**2 in 1-variable lineare regression analysis, which can be used for checking.\n",
    "    r_square=np.nansum((slope*x_array+intercept-y_mean)**2,axis=0)/np.nansum((y_array-y_mean)**2,axis=0)\n",
    "    rmse=np.sqrt(np.nansum((y_array-slope*x_array-intercept)**2,axis=0)/n)\n",
    "    # Do further filteration if needed (e.g. We stipulate at least 3 data records are needed to do regression analysis) and return values\n",
    "    n=n*1.0 # convert n from integer to float to enable later use of np.nan\n",
    "    n[n<3]=np.nan\n",
    "    slope[np.isnan(n)]=np.nan\n",
    "    intercept[np.isnan(n)]=np.nan\n",
    "    p_val[np.isnan(n)]=np.nan\n",
    "    r_square[np.isnan(n)]=np.nan\n",
    "    rmse[np.isnan(n)]=np.nan\n",
    "#     return n,slope,intercept,p_val,r_square,rmse\n",
    "    return slope,intercept"
   ]
  },
  {
   "cell_type": "markdown",
   "metadata": {},
   "source": [
    "## Defining DHW, DHM and their MMM climatologies\n",
    "\n",
    "### DHW MMM (Skirving definition):\n",
    "\n",
    "* The MMM is calculated from 1985-2012 inclusive\n",
    "* The data from the above period is averaged from daily to monthly\n",
    "* Each calendar month from the 1985-2012 period (i.e. initially all Jans) are taken. Each grid point has a linear trend fitted to it through time, then the value coresponding to 1988.2857 on that linar trend is assigned to that grid point for that month. This is done for each claendar month. Now you have 12 2d fields, one for each month.\n",
    "* Take the maximum of the 12 values for each pixel. This is the DHW MMM.\n",
    "\n",
    "### DHM MMM (Donner method):\n",
    "\n",
    "* The MMM is calculated from 1985 - 2000 inclusive\n",
    "* The data from the above period is averaged from daily to monthly\n",
    "* The data is NOT detrended\n",
    "* The maximum monthly mean value at each point is taken over that interval.\n",
    "\n",
    "*NOTE The DHM MMM should statistically be considerably higher than then DHW MMM becuase it does not remove climate change and will be weighted towards finding warmest montsh towards the latter part of the climatology period, whereas the DHW MMM attempts to adjust eveything to 1988.3 which falls towards teh start of teh period.*\n",
    "\n",
    "### DHW (Skirving definition):\n",
    "\n",
    "* Working with daily data \n",
    "* Using the DHW MMM defined above, subtract the MMM from each daily timestep over your analysis period\n",
    "* After the subtraction described above, **set all values less than 1 to 0**.\n",
    "* for each point in space and time, look back over an 84 day window (no. days in **3 months**: 7 days * 4 weeks * 3 months), and sum up the values and asign the sum to the current day. i.e. sum up over anomalies a 3 month rolling window.\n",
    "* **Divide by 7 to do from DHdays to DHweeks**\n",
    "\n",
    "### DHM (Donner definition):\n",
    "\n",
    "* Working with monthly data \n",
    "* Using the DHM MMM defined above, subtract the MMM from each daily timestep over your analysis period\n",
    "* After the subtraction described above, **set all values less than 0 to 0**.\n",
    "* for each point in space and time, look back over an **4 month window**  and sum up the values and asign the sum to the current month. i.e. sum up over anomalies a 4 month rolling window.\n",
    "\n"
   ]
  },
  {
   "cell_type": "code",
   "execution_count": 6,
   "metadata": {},
   "outputs": [],
   "source": [
    "#DHM - 1985-2000\n",
    "\n",
    "# https://rmets.onlinelibrary.wiley.com/doi/pdf/10.1002/joc.3486\n",
    "# the monthly data set for 1982 – 2006 was first detrended using a linear regression, calculated for each month of the year and grid cell. The data set was detrended and centred on 1988\n",
    "# I don't like this - it becoes ver deending on whether 1988 is a warm or cold year/...\n",
    "\n",
    "def mmm_for_dhm(cube):\n",
    "    years_for_mmm_climatology = [1985,2000]\n",
    "    #####################################################\n",
    "    #Avreage months separately!!!!!!!!!!!\n",
    "#####################################################\n",
    "    cube_years = cube.coord('year').points\n",
    "    #subset the data into the bit you want to use to calculate the MMM climatology and the bit you want to calculate DHW on\n",
    "    clim_cube = cube[np.where((cube_years >= years_for_mmm_climatology[0]) & (cube_years <= years_for_mmm_climatology[1]))]\n",
    "    #collapse the months together, taking the maximum value at each lat-lon grid square\n",
    "    mmm_climatology = clim_cube.collapsed('time',iris.analysis.MAX)\n",
    "    return mmm_climatology\n",
    "\n",
    "\n",
    "\n",
    "def mmm_skirving(cube):\n",
    "    cube = cube.aggregated_by(['year','month'], iris.analysis.MEAN)\n",
    "    print 'calculating NOAA Skirving MMM for month:'\n",
    "#     missing_data_value_greater_than = -32768.0\n",
    "#     missing_data_equals = -32768.0\n",
    "    missing_data_equals = cube.data.fill_value\n",
    "    print 'NOTE THIS SHOULD IDEALLY BE USING AN AVERAGE OF NIGHTIME TEMPERATURES, WHICH IS NOT A BED ESTIMATE FOR DAILY MEAN. A GOOD ALTERNATIEV FOR DAILY MEAN IS 10am (whet chris merchant does)'\n",
    "    years_for_mmm_climatology = [1985,2012]\n",
    "    standardisation_date = 1988.2857\n",
    "    mm_cube = cube[0:12].copy()\n",
    "    mm_cube_data = mm_cube.data.copy()\n",
    "    cube_years = cube.coord('year').points\n",
    "    #subset the data into the bit you want to use to calculate the MMM climatology and the bit you want to calculate DHW on\n",
    "    clim_cube = cube[np.where((cube_years >= years_for_mmm_climatology[0]) & (cube_years <= years_for_mmm_climatology[1]))]\n",
    "    clim_cube_detrended = clim_cube.copy()\n",
    "    clim_cube_detrended_data = clim_cube_detrended.data\n",
    "    print np.shape(clim_cube_detrended)\n",
    "    for i,month in enumerate(np.unique(cube.coord('month_number').points)):\n",
    "        print i+1\n",
    "        loc = np.where(clim_cube.coord('month_number').points == month)\n",
    "        tmp = clim_cube_detrended_data[loc,:,:][0]\n",
    "        tmp[np.where(tmp == missing_data_equals )] = np.nan\n",
    "        slope,intercept = linregress_3D(tmp)\n",
    "        x = standardisation_date - years_for_mmm_climatology[0]\n",
    "        y = (slope * x ) + intercept\n",
    "        mm_cube_data[i,:,:] = y\n",
    "    mm_cube.data = mm_cube_data\n",
    "    mmm_climatology = mm_cube.collapsed('time',iris.analysis.MAX)\n",
    "    return mmm_climatology\n",
    "\n"
   ]
  },
  {
   "cell_type": "code",
   "execution_count": null,
   "metadata": {},
   "outputs": [],
   "source": []
  },
  {
   "cell_type": "code",
   "execution_count": 7,
   "metadata": {},
   "outputs": [],
   "source": [
    "def dhm(cube,mmm_climatology,years_over_which_to_calculate_dhm):\n",
    "    missing_data_value = cube.data.fill_value\n",
    "    #This hsould be given monthly data\n",
    "    # One DHM == 4DHW This is important\n",
    "#     mmm is straight averg not fdetreneded for DHM\n",
    "    #Look at the donna poapers - look over two papers...\n",
    "    #accumulation window is 4 months rather than 3 months.\n",
    "    cube_years = cube.coord('year').points\n",
    "#     print cube_years\n",
    "#     print years_over_which_to_calculate_dhm[0]\n",
    "#     print years_over_which_to_calculate_dhm[1]\n",
    "    main_cube = cube[np.where((cube_years >= years_over_which_to_calculate_dhm[0]) & (cube_years <= years_over_which_to_calculate_dhm[1]))]\n",
    "    main_cube_data = main_cube.data.copy()\n",
    "    main_cube_data[np.where(main_cube_data == missing_data_value )] = np.nan\n",
    "    main_cube.data = main_cube_data\n",
    "    \n",
    "    #subtract the monthly mean climatology from the rest of the data\n",
    "    main_cube -= mmm_climatology # at this stage this is called a hot spot (which is anything greater than the mmm)\n",
    "\n",
    "    #set all values less than 1 to zero\n",
    "#     main_cube.data[np.where(main_cube.data <= 1.0)] = 0.0\n",
    "    #OR\n",
    "    main_cube_data = main_cube.data.copy()\n",
    "    main_cube_data[np.where(main_cube_data < 0.0)] = 0.0\n",
    "#     main_cube_data[np.where(main_cube_data == missing_data_value )] = np.nan\n",
    "    main_cube.data = main_cube_data\n",
    "    \n",
    "    #make a cube to hold the output data\n",
    "    output_cube = main_cube[3::].copy()\n",
    "    output_cube.data[:] = np.nan\n",
    "    output_cube_data = output_cube.data.copy()\n",
    "\n",
    "        #AVEREG OVER A 4 month  window rather than 3 month when it comes to DHW\n",
    "\n",
    "\n",
    "    #loop through from day 112 to the end of the dataset\n",
    "    for i in range(output_cube.shape[0]):\n",
    "#         print i,' of ',output_cube.shape[0]\n",
    "        tmp_data = main_cube[i:i+4].collapsed('time',iris.analysis.SUM)\n",
    "        output_cube_data[i,:,:] = tmp_data.data\n",
    "\n",
    "    #save the output\n",
    "    output_cube.data = output_cube_data\n",
    "    return output_cube"
   ]
  },
  {
   "cell_type": "code",
   "execution_count": 8,
   "metadata": {},
   "outputs": [],
   "source": [
    "def dhw(cube,mmm_climatology,years_over_which_to_calculate_dhw):\n",
    "    cube_years = cube.coord('year').points\n",
    "    #note this is to be uef with daily data...\n",
    "    main_cube = cube[np.where((cube_years > years_over_which_to_calculate_dhw[0]) & (cube_years < years_over_which_to_calculate_dhw[1]))]\n",
    "    #subtract the monthly mean climatology from the rest of the data\n",
    "    main_cube -= mmm_climatology\n",
    "    #set all values less than 1 to zero\n",
    "    main_cube.data[np.where(main_cube.data < 1.0)] = 0.0 \n",
    "\n",
    "    #make a cube to hold the output data\n",
    "    output_cube = main_cube[83::].copy()\n",
    "    output_cube.data[:] = np.nan\n",
    "    output_cube_data = output_cube.data.copy()\n",
    "\n",
    "    #loop through from day 84 to the end of the dataset\n",
    "    for i in range(output_cube.shape[0]):\n",
    "#         print i,' of ',output_cube.shape[0]\n",
    "        #sum the temperatures in that 84 day window and divide result by 7 to get in DHWeeks rather than DHdays\n",
    "        tmp_data = main_cube[i:i+84].collapsed('time',iris.analysis.SUM)/7.0\n",
    "        output_cube_data[i,:,:] = tmp_data.data\n",
    "\n",
    "    #save the output\n",
    "    output_cube.data = output_cube_data\n",
    "    return output_cube"
   ]
  },
  {
   "cell_type": "code",
   "execution_count": 9,
   "metadata": {},
   "outputs": [],
   "source": [
    "# Note - this maps on to grid of cube 2\n",
    "def compariable_across_grids(cube1,cube2,lon_west,lon_east,lat_south,lat_north):\n",
    "\n",
    "    cube1_region = extract_region(cube1,lon_west,lon_east,lat_south,lat_north)\n",
    "    cube2_region = extract_region(cube2,lon_west,lon_east,lat_south,lat_north)\n",
    "\n",
    "    cube2_region.coord('latitude').coord_system = cube1_region.coord('latitude').coord_system\n",
    "    cube2_region.coord('longitude').coord_system =cube1_region.coord('longitude').coord_system\n",
    "\n",
    "    cube1_region_regridded = cube1_region.regrid(cube2_region, iris.analysis.Linear())\n",
    "\n",
    "    cube2_region.data = np.ma.masked_array(cube2_region.data)\n",
    "    cube2_region.data.mask = cube1_region_regridded.data.mask\n",
    "\n",
    "\n",
    "    cube2_region.data[np.where(cube2_region.data < -20.0)] = cube2_region.data.fill_value\n",
    "    cube2_region.data[np.where(cube2_region.data >100.0)] = cube2_region.data.fill_value\n",
    "    cube2_region.data = np.ma.masked_where(cube2_region.data == cube2_region.data.fill_value, cube2_region.data)\n",
    "\n",
    "    cube1_region_regridded.data[np.where(cube1_region_regridded.data < -20.0)] = cube1_region_regridded.data.fill_value\n",
    "    cube1_region_regridded.data[np.where(cube1_region_regridded.data > 100.0)] = cube1_region_regridded.data.fill_value\n",
    "    cube1_region_regridded.data = np.ma.masked_where(cube1_region_regridded.data == cube1_region_regridded.data.fill_value, cube1_region_regridded.data)\n",
    "    \n",
    "    return cube1_region_regridded,cube2_region\n",
    "\n",
    "\n",
    "# Note - this maps on to grid of cube 1\n",
    "def compariable_across_grids2(cube1,cube2,lon_west,lon_east,lat_south,lat_north):\n",
    "\n",
    "    cube1_region = extract_region(cube1,lon_west,lon_east,lat_south,lat_north)\n",
    "    cube2_region = extract_region(cube2,lon_west,lon_east,lat_south,lat_north)\n",
    "\n",
    "    cube2_region.coord('latitude').coord_system = cube1_region.coord('latitude').coord_system\n",
    "    cube2_region.coord('longitude').coord_system =cube1_region.coord('longitude').coord_system\n",
    "\n",
    "    cube2_region = cube2_region.regrid(cube1_region, iris.analysis.Linear())\n",
    "\n",
    "    cube2_region.data = np.ma.masked_array(cube2_region.data)\n",
    "    cube2_region.data.mask = cube1_region.data.mask\n",
    "\n",
    "\n",
    "    cube2_region.data[np.where(cube2_region.data < -20.0)] = cube2_region.data.fill_value\n",
    "    cube2_region.data[np.where(cube2_region.data >100.0)] = cube2_region.data.fill_value\n",
    "    cube2_region.data = np.ma.masked_where(cube2_region.data == cube2_region.data.fill_value, cube2_region.data)\n",
    "\n",
    "    cube1_region.data[np.where(cube1_region.data < -20.0)] = cube1_region.data.fill_value\n",
    "    cube1_region.data[np.where(cube1_region.data > 100.0)] = cube1_region.data.fill_value\n",
    "    cube1_region.data = np.ma.masked_where(cube1_region.data == cube1_region.data.fill_value, cube1_region.data)\n",
    "    \n",
    "    return cube1_region,cube2_region"
   ]
  },
  {
   "cell_type": "markdown",
   "metadata": {},
   "source": [
    "## Read in satilite data"
   ]
  },
  {
   "cell_type": "code",
   "execution_count": 10,
   "metadata": {},
   "outputs": [
    {
     "name": "stderr",
     "output_type": "stream",
     "text": [
      "/Users/ph290/miniconda2/lib/python2.7/site-packages/iris/fileformats/cf.py:1143: IrisDeprecation: NetCDF default loading behaviour currently does not expose variables which define reference surfaces for dimensionless vertical coordinates as independent Cubes. This behaviour is deprecated in favour of automatic promotion to Cubes. To switch to the new behaviour, set iris.FUTURE.netcdf_promote to True.\n",
      "  warn_deprecated(msg)\n"
     ]
    }
   ],
   "source": [
    "dhw_cci_sst = iris.load_cube('./data/cci_sst_dhw.nc')"
   ]
  },
  {
   "cell_type": "markdown",
   "metadata": {},
   "source": [
    "## Read in Model Data"
   ]
  },
  {
   "cell_type": "code",
   "execution_count": 11,
   "metadata": {},
   "outputs": [
    {
     "name": "stdout",
     "output_type": "stream",
     "text": [
      "file does not exist:  /Users/ph290/Documents/HalloranSync/documents/jupyter_github/Jupiter_notebooks_halloran/data/CanESM5_global_hist_585_GBR_surfacetemperature.nc\n",
      "file does not exist:  /Users/ph290/Documents/HalloranSync/documents/jupyter_github/Jupiter_notebooks_halloran/data/MRI-ESM2-0_global_hist_585_GBR_surfacetemperature.nc\n",
      "EC-Earth3-Veg 585\n",
      "file does not exist:  /Users/ph290/Documents/HalloranSync/documents/jupyter_github/Jupiter_notebooks_halloran/data/ACCESS-CM2_global_hist_585_GBR_surfacetemperature.nc\n",
      "CNRM-ESM2-1 585\n",
      "file does not exist:  /Users/ph290/Documents/HalloranSync/documents/jupyter_github/Jupiter_notebooks_halloran/data/MPI-ESM1-2-HR_global_hist_585_GBR_surfacetemperature.nc\n",
      "UKESM1-0-LL 585\n"
     ]
    }
   ],
   "source": [
    "directory = '/Users/ph290/Documents/HalloranSync/documents/jupyter_github/Jupiter_notebooks_halloran/data/'\n",
    "temp_dir = '/Users/ph290/Documents/HalloranSync/documents/jupyter_github/Jupiter_notebooks_halloran/data/'\n",
    "\n",
    "\n",
    "models = ['CanESM5','MRI-ESM2-0','EC-Earth3-Veg','ACCESS-CM2','CNRM-ESM2-1','MPI-ESM1-2-HR','UKESM1-0-LL']\n",
    "models_withh_data = []\n",
    "experiments = ['585']\n",
    "variables = ['surfacetemperature']\n",
    "\n",
    "\n",
    "model_cubes = {}\n",
    "for model in models:\n",
    "    model_cubes[model] = {}\n",
    "    for experiment in experiments:\n",
    "        model_cubes[model][experiment] = {}\n",
    "        for variable in variables:\n",
    "            file_name = model+'_global_hist_'+experiment+'_GBR_'+variable+'.nc'\n",
    "            if os.path.exists(directory+file_name):\n",
    "                print model,experiment\n",
    "                model_cubes[model][experiment][variable] = {}\n",
    "                cube_tmp = iris.load_cube(directory+file_name)\n",
    "                cube_tmp.data = np.ma.masked_where(cube_tmp.data == 9.96920997e+36, cube_tmp.data)\n",
    "                try:\n",
    "                    iris.coord_categorisation.add_year(cube_tmp, 'time', name='year')\n",
    "                except:\n",
    "                    pass\n",
    "                try:\n",
    "                    iris.coord_categorisation.add_month(cube_tmp, 'time', name='month')\n",
    "                except:\n",
    "                    pass \n",
    "                try:\n",
    "                    iris.coord_categorisation.add_month_number(cube_tmp, 'time', name='month_number')\n",
    "                except:\n",
    "                    pass \n",
    "                model_cubes[model][experiment][variable]['RawModel'] = cube_tmp\n",
    "                models_withh_data.append(model)\n",
    "#                 plt.pcolormesh(model_cubes[model][experiment][variable]['RawModel'][0].data)\n",
    "#                 plt.show()\n",
    "            else:\n",
    "                print 'file does not exist: ',directory+file_name\n",
    "            \n",
    "\n"
   ]
  },
  {
   "cell_type": "code",
   "execution_count": 12,
   "metadata": {},
   "outputs": [],
   "source": [
    "model_region_regridded,obs_region = compariable_across_grids2(model_cubes[model][experiment][variable]['RawModel'],dhw_cci_sst,142,156,-29,-10)"
   ]
  },
  {
   "cell_type": "code",
   "execution_count": 13,
   "metadata": {},
   "outputs": [],
   "source": [
    "# lon_west,lon_east,lat_south,lat_north=142,156,-29,-10\n",
    "# cube1 = model_cubes[model][experiment][variable]['RawModel']\n",
    "# cube2 = dhw_cci_sst\n",
    "\n",
    "# cube1_region = extract_region(cube1,lon_west,lon_east,lat_south,lat_north)\n",
    "# cube2_region = extract_region(cube2,lon_west,lon_east,lat_south,lat_north)\n",
    "\n",
    "# cube2_region.coord('latitude').coord_system = cube1_region.coord('latitude').coord_system\n",
    "# cube2_region.coord('longitude').coord_system =cube1_region.coord('longitude').coord_system\n",
    "\n",
    "# cube1_region_regridded = cube1_region.regrid(cube2_region, iris.analysis.Linear())\n",
    "\n",
    "# cube2_region.data = np.ma.masked_array(cube2_region.data)\n",
    "# cube2_region.data.mask = cube1_region_regridded.data.mask\n",
    "\n",
    "\n",
    "# cube2_region.data[np.where(cube2_region.data < -20.0)] = cube2_region.data.fill_value\n",
    "# cube2_region.data[np.where(cube2_region.data >100.0)] = cube2_region.data.fill_value\n",
    "# cube2_region.data = np.ma.masked_where(cube2_region.data == cube2_region.data.fill_value, cube2_region.data)\n",
    "\n",
    "# cube1_region_regridded.data[np.where(cube1_region_regridded.data < -20.0)] = cube1_region_regridded.data.fill_value\n",
    "# cube1_region_regridded.data[np.where(cube1_region_regridded.data > 100.0)] = cube1_region_regridded.data.fill_value\n",
    "# cube1_region_regridded.data = np.ma.masked_where(cube1_region_regridded.data == cube1_region_regridded.data.fill_value, cube1_region_regridded.data)\n"
   ]
  },
  {
   "cell_type": "code",
   "execution_count": 14,
   "metadata": {},
   "outputs": [],
   "source": [
    "# model_region_regridded = cube1_region_regridded\n",
    "# obs_region = cube2_region\n",
    "# qplt.pcolormesh(model_region_regridded[0])\n",
    "# plt.show()\n",
    "\n",
    "# qplt.pcolormesh(obs_region[0])\n",
    "# plt.show()"
   ]
  },
  {
   "cell_type": "code",
   "execution_count": null,
   "metadata": {},
   "outputs": [],
   "source": []
  },
  {
   "cell_type": "code",
   "execution_count": 15,
   "metadata": {},
   "outputs": [],
   "source": [
    "# model = models_withh_data[0]\n",
    "# variable = variables[0]\n",
    "# experiment = experiments[0]\n",
    "# model_cubes[model][experiment][variable]['RawModel']\n",
    "# mmm_climatology_dhw = mmm_skirving(model_cubes[model][experiment][variable]['RawModel'])"
   ]
  },
  {
   "cell_type": "code",
   "execution_count": null,
   "metadata": {},
   "outputs": [],
   "source": [
    "\n"
   ]
  },
  {
   "cell_type": "markdown",
   "metadata": {},
   "source": [
    "# Calculate DHW"
   ]
  },
  {
   "cell_type": "code",
   "execution_count": 16,
   "metadata": {},
   "outputs": [
    {
     "name": "stdout",
     "output_type": "stream",
     "text": [
      "EC-Earth3-Veg 585 surfacetemperature\n",
      "EC-Earth3-Veg 585\n",
      "CNRM-ESM2-1 585 surfacetemperature\n",
      "CNRM-ESM2-1 585\n",
      "UKESM1-0-LL 585 surfacetemperature\n",
      "UKESM1-0-LL 585\n"
     ]
    }
   ],
   "source": [
    "\n",
    "\n",
    "years_over_which_to_calculate_dhw = [2000,2100]\n",
    "\n",
    "\n",
    "for model in models_withh_data:\n",
    "    for experiment in experiments:\n",
    "        for variable in variables:\n",
    "            file_name = model+'_global_hist_'+experiment+'_GBR_'+variable+'.nc'\n",
    "            print model,experiment,variable\n",
    "            if os.path.exists(directory+file_name):\n",
    "                print model,experiment\n",
    "                try:\n",
    "                    model_cubes[model][experiment][variable]['mmm_climatology_dhw'] = iris.load_cube(temp_dir+'mmm_climatology_dhw_'+model+experiment+variable+'.nc')\n",
    "                except:\n",
    "                    mmm_climatology_dhw = mmm_skirving(model_cubes[model][experiment][variable]['RawModel'])\n",
    "                    model_cubes[model][experiment][variable]['mmm_climatology_dhw'] = mmm_climatology_dhw\n",
    "                try:\n",
    "                    model_cubes[model][experiment][variable]['dhw'] =  iris.load_cube(temp_dir+'dhw_cube_gbr_'+model+experiment+variable+'.nc')\n",
    "                except:\n",
    "                    dhw_cube_gbr = dhw(model_cubes[model][experiment][variable]['RawModel'],mmm_climatology_dhw,years_over_which_to_calculate_dhw)\n",
    "                    model_cubes[model][experiment][variable]['dhw'] = dhw_cube_gbr    \n",
    "            else:\n",
    "                print 'file does not exist: ',directory+file_name\n",
    "\n",
    "\n",
    "\n",
    "                                \n"
   ]
  },
  {
   "cell_type": "markdown",
   "metadata": {},
   "source": [
    "save out DHW data"
   ]
  },
  {
   "cell_type": "code",
   "execution_count": 18,
   "metadata": {},
   "outputs": [
    {
     "name": "stdout",
     "output_type": "stream",
     "text": [
      "EC-Earth3-Veg 585 surfacetemperature\n",
      "EC-Earth3-Veg 585\n",
      "CNRM-ESM2-1 585 surfacetemperature\n",
      "CNRM-ESM2-1 585\n",
      "UKESM1-0-LL 585 surfacetemperature\n",
      "UKESM1-0-LL 585\n"
     ]
    }
   ],
   "source": [
    "\n",
    "for model in models_withh_data:\n",
    "    for experiment in experiments:\n",
    "        for variable in variables:\n",
    "            file_name = model+'_global_hist_'+experiment+'_GBR_'+variable+'.nc'\n",
    "            print model,experiment,variable\n",
    "            if os.path.exists(directory+file_name):\n",
    "                print model,experiment\n",
    "                if not os.path.exists(temp_dir+'mmm_climatology_dhw_'+model+experiment+variable+'.nc'):\n",
    "                    iris.fileformats.netcdf.save(model_cubes[model][experiment][variable]['mmm_climatology_dhw'], temp_dir+'mmm_climatology_dhw_'+model+experiment+variable+'.nc' , netcdf_format='NETCDF4', local_keys=None,zlib=False, complevel=4)\n",
    "                if not os.path.exists(temp_dir+'dhw_cube_gbr_'+model+experiment+variable+'.nc'):\n",
    "                    iris.fileformats.netcdf.save(model_cubes[model][experiment][variable]['dhw'], temp_dir+'dhw_cube_gbr_'+model+experiment+variable+'.nc' , netcdf_format='NETCDF4', local_keys=None,zlib=False, complevel=4)                \n",
    "            else:\n",
    "                print 'file does not exist: ',directory+file_name"
   ]
  },
  {
   "cell_type": "code",
   "execution_count": null,
   "metadata": {},
   "outputs": [],
   "source": [
    "# import bz2\n",
    "\n",
    "# sfile = bz2.BZ2File('/Users/ph290/Downloads/s2p3_cmip6/smallerfile.p', 'w')\n",
    "# pickle.dump( [model_cubes,dhw_cci_sst], sfile)"
   ]
  },
  {
   "cell_type": "code",
   "execution_count": null,
   "metadata": {},
   "outputs": [],
   "source": []
  },
  {
   "cell_type": "code",
   "execution_count": 19,
   "metadata": {},
   "outputs": [
    {
     "name": "stdout",
     "output_type": "stream",
     "text": [
      "(5395, 190, 140)\n",
      "(35557, 190, 140)\n"
     ]
    }
   ],
   "source": [
    "print np.shape(obs_region.data)\n",
    "print np.shape(model_cubes[model][experiment][variable]['dhw'].data)"
   ]
  },
  {
   "cell_type": "code",
   "execution_count": 20,
   "metadata": {},
   "outputs": [
    {
     "name": "stderr",
     "output_type": "stream",
     "text": [
      "/Users/ph290/miniconda2/lib/python2.7/site-packages/iris/analysis/cartography.py:376: UserWarning: Using DEFAULT_SPHERICAL_EARTH_RADIUS.\n",
      "  warnings.warn(\"Using DEFAULT_SPHERICAL_EARTH_RADIUS.\")\n"
     ]
    },
    {
     "data": {
      "text/plain": [
       "[<matplotlib.lines.Line2D at 0x1169fdd10>]"
      ]
     },
     "execution_count": 20,
     "metadata": {},
     "output_type": "execute_result"
    },
    {
     "data": {
      "image/png": "[encoded data removed]",
      "text/plain": [
       "<Figure size 432x288 with 1 Axes>"
      ]
     },
     "metadata": {
      "needs_background": "light"
     },
     "output_type": "display_data"
    }
   ],
   "source": [
    "\n",
    "years_to_examine = [2000,2016]\n",
    "\n",
    "obs_region_tmp = obs_region[np.where((obs_region.coord('year').points >= years_to_examine[0]) & (obs_region.coord('year').points <= years_to_examine[1]))]\n",
    "\n",
    "\n",
    "qplt.plot(area_avg(obs_region_tmp))\n",
    "# plt.colorbar()"
   ]
  },
  {
   "cell_type": "code",
   "execution_count": 21,
   "metadata": {},
   "outputs": [
    {
     "data": {
      "text/plain": [
       "[2000, 2016]"
      ]
     },
     "execution_count": 21,
     "metadata": {},
     "output_type": "execute_result"
    }
   ],
   "source": [
    "years_to_examine"
   ]
  },
  {
   "cell_type": "code",
   "execution_count": 22,
   "metadata": {},
   "outputs": [],
   "source": [
    "# tmp = model_cubes[model][experiment][variable]['dhw'].data.copy()\n",
    "# # tmp[0].mask = (obs_region[0].data.mask)\n",
    "# plt.contourf(tmp[0])\n",
    "# plt.colorbar()\n",
    "# model_cube = model_cube[np.where((model_cube.coord('year').points >= years_to_examine[0]) & (model_cube.coord('year').points <= years_to_examine[1]))]\n",
    "# qplt.plot(area_avg(model_cube))"
   ]
  },
  {
   "cell_type": "code",
   "execution_count": null,
   "metadata": {},
   "outputs": [],
   "source": [
    "# dhw_cci_sst\n",
    "\n",
    "num_bins = 50\n",
    "\n",
    "\n",
    "\n",
    "years_to_examine = [2000,2016]\n",
    "\n",
    "# the histogram of the data\n",
    "obs_region_tmp = obs_region[np.where((obs_region.coord('year').points >= years_to_examine[0]) & (obs_region.coord('year').points <= years_to_examine[1]))]\n",
    "x_obs = obs_region_tmp.data.ravel()\n",
    "print len(x_obs)\n",
    "\n",
    "for model in models_withh_data:\n",
    "    for experiment in experiments:\n",
    "        for variable in variables:\n",
    "            fig, ax = plt.subplots()\n",
    "            n, bins, patches = plt.hist(x_obs, np.linspace(1,15,30), normed=1, alpha=0.3,label = 'CCI SST DHW')\n",
    "            file_name = model+'_global_hist_'+experiment+'_GBR_'+variable+'.nc'\n",
    "            print model,experiment,variable\n",
    "            model_cube = model_cubes[model][experiment][variable]['dhw'].copy()\n",
    "            model_cube = model_cube[np.where((model_cube.coord('year').points >= years_to_examine[0]) & (model_cube.coord('year').points <= years_to_examine[1]))]\n",
    "            x = model_cube.data.ravel()\n",
    "            print len(x)\n",
    "            n, bins, patches = plt.hist(x, np.linspace(1,15,30), normed=1, alpha=0.3,label = model)\n",
    "            plt.legend()\n",
    "\n",
    "            # ax.plot(bins, y, '--')\n",
    "            ax.set_xlabel('DHW value bin')\n",
    "            ax.set_ylabel('normalised frequency')\n",
    "\n",
    "            # Tweak spacing to prevent clipping of ylabel\n",
    "            fig.tight_layout()\n",
    "            plt.savefig('/Users/ph290/Downloads/'+model+'.png')\n",
    "            plt.show()\n",
    "\n",
    "# CCI SST DHW\n",
    "\n",
    "\n"
   ]
  },
  {
   "cell_type": "code",
   "execution_count": 24,
   "metadata": {},
   "outputs": [],
   "source": [
    "# mmm_climatology_dhw = mmm_skirving(cube_region)\n",
    "# dhw_cube_gbr = dhw(cube_region,mmm_climatology_dhw,years_over_which_to_calculate_dhw)"
   ]
  },
  {
   "cell_type": "code",
   "execution_count": 25,
   "metadata": {},
   "outputs": [],
   "source": [
    "# cube_region_monthly = cube_region.aggregated_by(['month','year'], iris.analysis.MEAN)\n",
    "# mmm_climatology_dhm = mmm_for_dhm(cube_region_monthly)\n",
    "# dhm_cube_gbr_monthly = dhm(cube_region_monthly,mmm_climatology_dhm,years_over_which_to_calculate_dhw)\n",
    "\n"
   ]
  },
  {
   "cell_type": "markdown",
   "metadata": {},
   "source": [
    "### masking land points"
   ]
  },
  {
   "cell_type": "code",
   "execution_count": 26,
   "metadata": {},
   "outputs": [],
   "source": [
    "# dhw_cube_gbr.data = np.ma.masked_array(dhw_cube_gbr.data)\n",
    "# dhw_cube_gbr.data.mask = cube_region.data.mask\n"
   ]
  },
  {
   "cell_type": "code",
   "execution_count": 27,
   "metadata": {},
   "outputs": [],
   "source": [
    "# def asb(cube,threshold):\n",
    "#     dhvalue_cube_gbr_tmp = cube.copy()\n",
    "#     dhvalue_cube_gbr_tmp_data = dhvalue_cube_gbr_tmp.data\n",
    "#     dhvalue_cube_gbr_tmp_data[np.where(dhvalue_cube_gbr_tmp_data <= threshold)] = 0.0\n",
    "#     dhvalue_cube_gbr_tmp_data[np.where(dhvalue_cube_gbr_tmp_data > threshold)] = 1.0\n",
    "#     dhvalue_cube_gbr_tmp.data = dhvalue_cube_gbr_tmp_data\n",
    "#     dhvalue_cube_gbr_asb = dhvalue_cube_gbr_tmp.copy()\n",
    "#     dhvalue_cube_gbr_asb = dhvalue_cube_gbr_tmp.aggregated_by(['year'], iris.analysis.SUM)\n",
    "#     dhvalue_cube_gbr_asb_tmp = dhvalue_cube_gbr_asb.data\n",
    "#     dhvalue_cube_gbr_asb_tmp[np.where(dhvalue_cube_gbr_asb_tmp > 1.0)] = 1.0\n",
    "#     dhvalue_cube_gbr_asb.data = dhvalue_cube_gbr_asb_tmp\n",
    "#     return dhvalue_cube_gbr_asb\n",
    "\n",
    "\n",
    "# dhw_cube_gbr.data = np.ma.masked_where(dhw_cube_gbr.data == dhw_cube_gbr.data.fill_value,dhw_cube_gbr.data)\n",
    "\n",
    "\n",
    "# # dhm_cube_gbr = extract_region(dhm_cube_gbr,lon_west,lon_east,lat_south,lat_north)\n",
    "# dhw_cube_gbr_asb = asb(dhw_cube_gbr,8.0)\n",
    "# dhw_cube_gbr_asb_area_avg = area_avg(dhw_cube_gbr_asb)\n",
    "# dhw_cube_gbr.data[np.where(dhw_cube_gbr.data == 0.0)] = np.nan\n",
    "# dhw_avg = area_avg(dhw_cube_gbr.aggregated_by(['year'], iris.analysis.MEAN))\n",
    "\n",
    "\n",
    "# dhm_cube_gbr_asb_monthly = asb(dhm_cube_gbr_monthly,2.0)\n",
    "# dhm_cube_gbr_asb_area_avg_monthly = area_avg(dhm_cube_gbr_asb_monthly)\n",
    "# dhm_avg_monthly = area_avg(dhm_cube_gbr_monthly.aggregated_by(['year'], iris.analysis.MEAN))\n",
    "\n",
    "\n"
   ]
  },
  {
   "cell_type": "markdown",
   "metadata": {},
   "source": [
    "## The following compares DHW and DHMs where the daily satilite data has been averaged to monthly prior to any DHM analysis"
   ]
  },
  {
   "cell_type": "markdown",
   "metadata": {},
   "source": [
    "### Maximum **DHW** in each grid box over 2012-2019"
   ]
  },
  {
   "cell_type": "code",
   "execution_count": 28,
   "metadata": {},
   "outputs": [],
   "source": [
    "# fig = plt.figure(figsize=(15, 15))\n",
    "# dhw_cube_gbr_max = dhw_cube_gbr.collapsed('time',iris.analysis.MAX)\n",
    "# qplt.pcolormesh(dhw_cube_gbr_max)\n"
   ]
  },
  {
   "cell_type": "code",
   "execution_count": 29,
   "metadata": {},
   "outputs": [],
   "source": [
    "# dhm_cube_gbr_max = dhm_cube_gbr_monthly.collapsed('time',iris.analysis.MAX)\n",
    "\n"
   ]
  },
  {
   "cell_type": "markdown",
   "metadata": {},
   "source": [
    "### Maximum **DHM** in each grid box over 2012-2019"
   ]
  },
  {
   "cell_type": "code",
   "execution_count": 30,
   "metadata": {},
   "outputs": [],
   "source": [
    "# fig = plt.figure(figsize=(15, 15))\n",
    "# qplt.pcolormesh(dhm_cube_gbr_max)"
   ]
  },
  {
   "cell_type": "markdown",
   "metadata": {},
   "source": [
    "### Time mean **DHW** in each grid box over 2012-2019"
   ]
  },
  {
   "cell_type": "code",
   "execution_count": 31,
   "metadata": {},
   "outputs": [],
   "source": [
    "# fig = plt.figure(figsize=(15, 15))\n",
    "# dhw_cube_gbr_mean = dhw_cube_gbr.collapsed('time',iris.analysis.MEAN)\n",
    "# qplt.pcolormesh(dhw_cube_gbr_mean)"
   ]
  },
  {
   "cell_type": "markdown",
   "metadata": {},
   "source": [
    "### Time mean **DHM** in each grid box over 2012-2019"
   ]
  },
  {
   "cell_type": "code",
   "execution_count": 32,
   "metadata": {},
   "outputs": [],
   "source": [
    "# fig = plt.figure(figsize=(15, 15))\n",
    "# dhm_cube_gbr_mean = dhm_cube_gbr_monthly.collapsed('time',iris.analysis.MEAN)\n",
    "# qplt.pcolormesh(dhm_cube_gbr_mean)"
   ]
  },
  {
   "cell_type": "code",
   "execution_count": 33,
   "metadata": {},
   "outputs": [],
   "source": [
    "# dhw_avg = area_avg(dhw_cube_gbr.aggregated_by(['year'], iris.analysis.MEAN))\n",
    "# dhm_avg = area_avg(dhm_cube_gbr_monthly.aggregated_by(['year'], iris.analysis.MEAN))\n",
    "\n",
    "# dhw_max = area_max(dhw_cube_gbr.aggregated_by(['year'], iris.analysis.MAX))\n",
    "# dhm_max = area_max(dhm_cube_gbr_monthly.aggregated_by(['year'], iris.analysis.MAX))\n"
   ]
  },
  {
   "cell_type": "markdown",
   "metadata": {},
   "source": [
    "### Average DHW and DHM in time and space in each grid box over 2012-2019, using region in above plots"
   ]
  },
  {
   "cell_type": "code",
   "execution_count": 34,
   "metadata": {},
   "outputs": [],
   "source": [
    "# fig = plt.figure(figsize=(8, 8))\n",
    "# plt.scatter(dhw_avg.coord('year').points,dhw_avg.data,s=150,label='DHW')\n",
    "# plt.scatter(dhm_avg.coord('year').points,dhm_avg.data,s=150,label='DHM')\n",
    "# plt.ylabel('avg. regional DHW/DHM')\n",
    "# plt.legend()\n",
    "# plt.xlabel('year')"
   ]
  },
  {
   "cell_type": "markdown",
   "metadata": {},
   "source": [
    "### Maximum DHW and DHM in time and space in each grid box over 2012-2019, using region in above plots"
   ]
  },
  {
   "cell_type": "code",
   "execution_count": 35,
   "metadata": {},
   "outputs": [],
   "source": [
    "# fig = plt.figure(figsize=(8, 8))\n",
    "# plt.scatter(dhw_avg.coord('year').points,dhw_max.data,s=150,label='DHW')\n",
    "# plt.scatter(dhm_avg.coord('year').points,dhm_max.data,s=150,label='DHM')\n",
    "# plt.ylabel('maximum annual regional DHW/DHM')\n",
    "# plt.legend()\n",
    "# plt.xlabel('year')"
   ]
  },
  {
   "cell_type": "markdown",
   "metadata": {},
   "source": [
    "# As above but showing area averaged ASB. Note that the DHW and DHM are on two separate y-axes"
   ]
  },
  {
   "cell_type": "markdown",
   "metadata": {},
   "source": [
    "The important thing to note as far as I'm concerned here is that based on satilite data averaged from daily to monthly, then applying the accepted DHM algorithms, there was no ASB over the observed period - the maximum DHW reached in any grid box over this interval (2017) was 1.9"
   ]
  },
  {
   "cell_type": "code",
   "execution_count": null,
   "metadata": {},
   "outputs": [],
   "source": []
  },
  {
   "cell_type": "code",
   "execution_count": null,
   "metadata": {},
   "outputs": [],
   "source": [
    "\n",
    "for model in models_withh_data:\n",
    "    for experiment in experiments:\n",
    "        for variable in variables:\n",
    "            model_cubes[model][experiment][variable]['dhw_ann_max'] = model_cubes[model][experiment][variable]['dhw'].aggregated_by('year', iris.analysis.MAX)"
   ]
  },
  {
   "cell_type": "code",
   "execution_count": null,
   "metadata": {},
   "outputs": [],
   "source": []
  },
  {
   "cell_type": "code",
   "execution_count": null,
   "metadata": {},
   "outputs": [],
   "source": [
    "\n"
   ]
  },
  {
   "cell_type": "code",
   "execution_count": 54,
   "metadata": {},
   "outputs": [],
   "source": [
    "\n",
    "\n",
    "def return_frequency(dhw_ann_max,window_length,threshold):\n",
    "    output_cube = dhw_ann_max[0:int(np.floor((np.shape(dhw_ann_max)[0])/window_length)*window_length)].copy()\n",
    "    output_cube_data = output_cube.data.data\n",
    "    for i in range(int(np.floor((np.shape(dhw_ann_max)[0])/window_length)*window_length)):\n",
    "        tmp_data_window = dhw_ann_max[i:i+int(window_length)]\n",
    "        tmp_data_window_gt_threshold = tmp_data_window.data.data.copy()\n",
    "        tmp_data_window_gt_threshold[np.where(tmp_data_window_gt_threshold > 1000.0)] = np.nan\n",
    "        tmp_data_window_gt_threshold[np.where(tmp_data_window_gt_threshold < threshold)] = np.nan\n",
    "        tmp_data_window_gt_threshold[np.where(tmp_data_window_gt_threshold >= threshold)] = 1.0\n",
    "        tmp_data_window_gt_threshold_frequency = np.nansum(tmp_data_window_gt_threshold,axis=0)/window_length\n",
    "        output_cube_data[i,:,:] = tmp_data_window_gt_threshold_frequency\n",
    "\n",
    "    output_cube.data = np.ma.masked_array(output_cube_data)\n",
    "    output_cube.data.mask = dhw_ann_max[0:int(np.floor((np.shape(dhw_ann_max)[0])/window_length)*window_length)].data.mask\n",
    "    return output_cube\n",
    "\n"
   ]
  },
  {
   "cell_type": "code",
   "execution_count": 55,
   "metadata": {},
   "outputs": [
    {
     "name": "stderr",
     "output_type": "stream",
     "text": [
      "/Users/ph290/miniconda2/lib/python2.7/site-packages/ipykernel_launcher.py:10: RuntimeWarning: invalid value encountered in less\n",
      "  # Remove the CWD from sys.path while we load stuff.\n",
      "/Users/ph290/miniconda2/lib/python2.7/site-packages/ipykernel_launcher.py:11: RuntimeWarning: invalid value encountered in greater_equal\n",
      "  # This is added back by InteractiveShellApp.init_path()\n"
     ]
    },
    {
     "data": {
      "text/plain": [
       "Text(0.5,1,'GBR avg. bleaching frequency for window length of 10')"
      ]
     },
     "execution_count": 55,
     "metadata": {},
     "output_type": "execute_result"
    },
    {
     "data": {
      "image/png": "[encoded data removed]",
      "text/plain": [
       "<Figure size 432x288 with 1 Axes>"
      ]
     },
     "metadata": {
      "needs_background": "light"
     },
     "output_type": "display_data"
    }
   ],
   "source": [
    "dhw_thresholds = [4,8,16]\n",
    "dhw_threshold_colors = ['g','b','r']\n",
    "\n",
    "for model in models_withh_data:\n",
    "    experiment = '585'\n",
    "    variable = 'surfacetemperature'\n",
    "\n",
    "    window_length=10\n",
    "\n",
    "    for i,dhw_threshold in enumerate(dhw_thresholds):\n",
    "        output_cube = return_frequency(model_cubes[model][experiment][variable]['dhw_ann_max'],window_length,dhw_threshold)\n",
    "        qplt.plot(area_avg(output_cube),label=str(dhw_threshold),color=dhw_threshold_colors[i])\n",
    "\n",
    "plt.title('GBR avg. bleaching frequency for window length of '+str(window_length))\n"
   ]
  },
  {
   "cell_type": "code",
   "execution_count": 56,
   "metadata": {},
   "outputs": [],
   "source": [
    "\n",
    "def first_occurance(cube,frequency_threshold):\n",
    "    first_occurance_output_cube = cube[0].copy()\n",
    "    years = cube.coord('year').points\n",
    "    cube_data = cube.data.copy()\n",
    "    for i,year in enumerate(years):\n",
    "        tmp_cube = cube_data[i,:,:]\n",
    "        tmp_cube[np.where(tmp_cube >= frequency_threshold)] = year\n",
    "        tmp_cube[np.where(tmp_cube < frequency_threshold)] = 1.0e9\n",
    "        cube_data[i,:,:] = tmp_cube\n",
    "\n",
    "\n",
    "    first_occurance_output_cube.data = np.ma.min(cube_data,axis=0)\n",
    "    first_occurance_output_cube.data.mask = cube.data.mask\n",
    "    return first_occurance_output_cube"
   ]
  },
  {
   "cell_type": "markdown",
   "metadata": {},
   "source": [
    "### Year of 1st occurance of frequency_threshold fraction of years in a window_length window experincing given DHW values"
   ]
  },
  {
   "cell_type": "code",
   "execution_count": 64,
   "metadata": {},
   "outputs": [
    {
     "name": "stderr",
     "output_type": "stream",
     "text": [
      "/Users/ph290/miniconda2/lib/python2.7/site-packages/ipykernel_launcher.py:10: RuntimeWarning: invalid value encountered in less\n",
      "  # Remove the CWD from sys.path while we load stuff.\n",
      "/Users/ph290/miniconda2/lib/python2.7/site-packages/ipykernel_launcher.py:11: RuntimeWarning: invalid value encountered in greater_equal\n",
      "  # This is added back by InteractiveShellApp.init_path()\n",
      "/Users/ph290/miniconda2/lib/python2.7/site-packages/ipykernel_launcher.py:8: MaskedArrayFutureWarning: setting an item on a masked array which has a shared mask will not copy the mask and also change the original mask array in the future.\n",
      "Check the NumPy 1.11 release notes for more information.\n",
      "  \n"
     ]
    },
    {
     "data": {
      "image/png": "[encoded data removed]",
      "text/plain": [
       "<Figure size 864x720 with 18 Axes>"
      ]
     },
     "metadata": {
      "needs_background": "light"
     },
     "output_type": "display_data"
    }
   ],
   "source": [
    "window_length=5.0\n",
    "frequency_threshold = 0.4\n",
    "\n",
    "projection = ccrs.PlateCarree()\n",
    "axes_class = (GeoAxes,\n",
    "              dict(map_projection=projection))\n",
    "\n",
    "fig = plt.figure(figsize=(12, 10))\n",
    "\n",
    "axgr = AxesGrid(fig, 111, axes_class=axes_class,\n",
    "                nrows_ncols=(3, 3),\n",
    "                axes_pad=0.6,\n",
    "                cbar_location='right',\n",
    "                cbar_mode='single',\n",
    "                cbar_pad=0.2,\n",
    "                cbar_size='3%',\n",
    "                label_mode='')  # note the empty label_mode\n",
    "\n",
    "# js = range(len(models_withh_data))\n",
    "\n",
    "models_to_cycle_through = np.repeat(models_withh_data,3)\n",
    "dhw_thresholds = [4,8,16,4,8,16,4,8,16]\n",
    "\n",
    "for i, ax in enumerate(axgr):\n",
    "# for i,model in enumerate(models_withh_data):\n",
    "#     ax = axgr[i]\n",
    "# for i,model in enumerate(models_withh_data):\n",
    "    model = models_to_cycle_through[i]\n",
    "    \n",
    "    ax.coastlines()\n",
    "    ax.set_xticks(np.linspace(-180, 180, 5), crs=projection)\n",
    "    ax.set_yticks(np.linspace(-90, 90, 5), crs=projection)\n",
    "    lon_formatter = LongitudeFormatter(zero_direction_label=True)\n",
    "    lat_formatter = LatitudeFormatter()\n",
    "    ax.xaxis.set_major_formatter(lon_formatter)\n",
    "    ax.yaxis.set_major_formatter(lat_formatter)\n",
    "\n",
    "    cube = return_frequency(model_cubes[model][experiment][variable]['dhw_ann_max'],window_length,dhw_thresholds[i])\n",
    "    first_occurance_output_cube = first_occurance(cube,frequency_threshold)\n",
    "    lon = first_occurance_output_cube.coord('longitude').points\n",
    "    lat = first_occurance_output_cube.coord('latitude').points\n",
    "    plt_data = first_occurance_output_cube.data\n",
    "    p = ax.pcolormesh(lon, lat, plt_data,\n",
    "                    transform=projection,\n",
    "                    cmap='viridis',vmin=2000,vmax=2050)\n",
    "    ax.set_title(model+'\\nDHW = '+str(dhw_thresholds[i]))\n",
    "\n",
    "axgr.cbar_axes[0].colorbar(p)\n",
    "\n",
    "plt.savefig('/Users/ph290/Downloads/first_occurange_of_'+str(window_length*frequency_threshold)+'_severe_bleaching_years_in_a_'+str(window_length)+'_year_window.png')\n",
    "plt.show()\n",
    "\n"
   ]
  },
  {
   "cell_type": "code",
   "execution_count": 44,
   "metadata": {},
   "outputs": [
    {
     "data": {
      "text/plain": [
       "<iris 'Cube' of unknown / (1) (time: 99; latitude: 190; longitude: 140)>"
      ]
     },
     "execution_count": 44,
     "metadata": {},
     "output_type": "execute_result"
    }
   ],
   "source": []
  },
  {
   "cell_type": "code",
   "execution_count": null,
   "metadata": {},
   "outputs": [],
   "source": []
  }
 ],
 "metadata": {
  "kernelspec": {
   "display_name": "Python 2",
   "language": "python",
   "name": "python2"
  },
  "language_info": {
   "codemirror_mode": {
    "name": "ipython",
    "version": 2
   },
   "file_extension": ".py",
   "mimetype": "text/x-python",
   "name": "python",
   "nbconvert_exporter": "python",
   "pygments_lexer": "ipython2",
   "version": "2.7.17"
  }
 },
 "nbformat": 4,
 "nbformat_minor": 4
}
