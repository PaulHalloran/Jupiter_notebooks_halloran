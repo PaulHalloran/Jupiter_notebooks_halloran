{
 "cells": [
  {
   "cell_type": "markdown",
   "id": "f4bd1a46",
   "metadata": {},
   "source": [
    "# Fitting curves to detrend data 17/06/21"
   ]
  },
  {
   "cell_type": "code",
   "execution_count": 107,
   "id": "9d31dc29",
   "metadata": {},
   "outputs": [],
   "source": [
    "from matplotlib import pyplot as plt\n",
    "import numpy as np\n",
    "from scipy.optimize import curve_fit\n",
    "from scipy.optimize import leastsq\n",
    "import iris\n",
    "\n"
   ]
  },
  {
   "cell_type": "code",
   "execution_count": 73,
   "id": "edac7db5",
   "metadata": {},
   "outputs": [
    {
     "data": {
      "image/png": "[encoded data removed]",
      "text/plain": [
       "<Figure size 432x288 with 1 Axes>"
      ]
     },
     "metadata": {
      "needs_background": "light"
     },
     "output_type": "display_data"
    }
   ],
   "source": [
    "def straight_line_function(x,m,c):    \n",
    "    y = (m*x) + c\n",
    "    return y\n",
    "\n",
    "\n",
    "def quadratic_function(x,a,b,c):    \n",
    "    y = (a*(x**2.0)) + (b*x) + c\n",
    "    return y\n",
    "\n",
    "\n",
    "def quadratic_function2(x,a,b,c,d):    \n",
    "    y = (a*(x**3.0)) + (b*(x**2.0)) + (c*x) + d\n",
    "    return y\n",
    "\n",
    "x = np.array([5.5,10.2,15.6,23.0,25.0,27,29,31])\n",
    "y= np.array([ 0.006, 0.0087 ,0.0119838, 0.01541191 ,0.01484149, 0.015, 0.017, 0.0146])\n",
    "\n",
    "\n",
    "plt.scatter(x,y)\n",
    "\n",
    "parameters, var = curve_fit(quadratic_function,x,y)\n",
    "\n",
    "fitted_curve_x_values = np.linspace(0,31,100)\n",
    "fitted_curve_y_values = quadratic_function(fitted_curve_x_values, *parameters)\n",
    "\n",
    "plt.plot(fitted_curve_x_values, fitted_curve_y_values,'r.',ms=1) \n",
    "plt.show()"
   ]
  },
  {
   "cell_type": "markdown",
   "id": "7b53cce9",
   "metadata": {},
   "source": [
    "Detrending the data"
   ]
  },
  {
   "cell_type": "code",
   "execution_count": 74,
   "id": "2b2c31db",
   "metadata": {},
   "outputs": [],
   "source": [
    "y_values_anomaly_from_curve = quadratic_function(x, *parameters)"
   ]
  },
  {
   "cell_type": "code",
   "execution_count": 75,
   "id": "9b4f8cc9",
   "metadata": {},
   "outputs": [
    {
     "data": {
      "text/plain": [
       "<matplotlib.collections.PathCollection at 0x7fa902177ac0>"
      ]
     },
     "execution_count": 75,
     "metadata": {},
     "output_type": "execute_result"
    },
    {
     "data": {
      "image/png": "[encoded data removed]",
      "text/plain": [
       "<Figure size 432x288 with 1 Axes>"
      ]
     },
     "metadata": {
      "needs_background": "light"
     },
     "output_type": "display_data"
    }
   ],
   "source": [
    "plt.scatter(x,y-y_values_anomaly_from_curve)\n"
   ]
  },
  {
   "cell_type": "markdown",
   "id": "c41fcbc3",
   "metadata": {},
   "source": [
    "## same thing but on 3D array"
   ]
  },
  {
   "cell_type": "code",
   "execution_count": 132,
   "id": "bf7b3f20",
   "metadata": {},
   "outputs": [],
   "source": [
    "#Read in some data\n",
    "\n",
    "file = '/Users/ph290/Downloads/historical_bottomtemperature_1960.nc'\n",
    "cube = iris.load_cube(file)\n",
    "cube_data = cube.data"
   ]
  },
  {
   "cell_type": "code",
   "execution_count": 134,
   "id": "ce45f8ef",
   "metadata": {},
   "outputs": [],
   "source": [
    "#define the equation to use as a function\n",
    "\n",
    "def quadratic_function(x,a,b,c):    \n",
    "    y = (a*(x**2.0)) + (b*x) + c\n",
    "    return y\n",
    "\n",
    "shape = np.shape(cube_data)\n",
    "output_cube_data = cube_data.copy()\n",
    "output_cube_data[:] = np.nan\n",
    "\n",
    "#Do teh detrending\n",
    "for i in range(shape[1]):\n",
    "    for j in range(shape[2]):\n",
    "        parameters, var = curve_fit(quadratic_function,np.arange(shape[0]),cube_data[:,i,j])\n",
    "        y_values_anomaly_from_curve = quadratic_function(cube_data[:,i,j], *parameters)\n",
    "        output_cube_data[:,i,j] = cube_data[:,i,j]-y_values_anomaly_from_curve\n",
    "\n",
    "#Put the detrended data back in to the original cube\n",
    "cube.data = output_cube_data"
   ]
  },
  {
   "cell_type": "code",
   "execution_count": null,
   "id": "4cbd3b2f",
   "metadata": {},
   "outputs": [],
   "source": []
  }
 ],
 "metadata": {
  "kernelspec": {
   "display_name": "Python 3",
   "language": "python",
   "name": "python3"
  },
  "language_info": {
   "codemirror_mode": {
    "name": "ipython",
    "version": 3
   },
   "file_extension": ".py",
   "mimetype": "text/x-python",
   "name": "python",
   "nbconvert_exporter": "python",
   "pygments_lexer": "ipython3",
   "version": "3.9.4"
  }
 },
 "nbformat": 4,
 "nbformat_minor": 5
}
