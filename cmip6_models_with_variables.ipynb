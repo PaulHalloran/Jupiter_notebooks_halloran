{
 "cells": [
  {
   "cell_type": "markdown",
   "metadata": {},
   "source": [
    "Availability on https://esgf-node.llnl.gov/search/cmip6/ 280120"
   ]
  },
  {
   "cell_type": "markdown",
   "metadata": {},
   "source": [
    "day|r1i1p1f1|gn|CMIP6|historical\n",
    "\n"
   ]
  },
  {
   "cell_type": "code",
   "execution_count": 1,
   "metadata": {},
   "outputs": [],
   "source": [
    "\n",
    "tas=['ACCESS-CM2','ACCESS-ESM1-5','AWI-CM-1-1-MR','BCC-CSM2-MR','BCC-ESM1','CESM2','CESM2-FV2','CESM2-WACCM','CESM2-WACCM-FV2','CanESM5','FGOALS-g3','IITM-ESM','MIROC6','MPI-ESM-1-2-HAM','MPI-ESM1-2-HR','MPI-ESM1-2-LR','MRI-ESM2-0','NESM3','NorCPM1','NorESM2-LM','NorESM2-MM','SAM0-UNICON']\n",
    "\n",
    "vas=['ACCESS-CM2','ACCESS-ESM1-5','AWI-CM-1-1-MR','BCC-CSM2-MR','BCC-ESM1','CanESM5','IITM-ESM','MIROC6','MPI-ESM-1-2-HAM','MPI-ESM1-2-HR','MPI-ESM1-2-LR','MRI-ESM2-0','NESM3','NorCPM1']\n",
    "\n",
    "uas=['ACCESS-CM2','ACCESS-ESM1-5','AWI-CM-1-1-MR','BCC-CSM2-MR','BCC-ESM1','CanESM5','IITM-ESM','MIROC6','MPI-ESM-1-2-HAM','MPI-ESM1-2-HR','MPI-ESM1-2-LR','MRI-ESM2-0','NESM3','NorCPM1']\n",
    "\n",
    "clt=['ACCESS-CM2','ACCESS-ESM1-5','BCC-CSM2-MR','BCC-ESM1','CESM2','CESM2-FV2','CESM2-WACCM','CESM2-WACCM-FV2','CanESM5','FGOALS-g3','IITM-ESM','MIROC6','MPI-ESM-1-2-HAM','MPI-ESM1-2-HR','MPI-ESM1-2-LR','MRI-ESM2-0','NESM3','NorESM2-LM','NorESM2-MM','SAM0-UNICON']\n",
    "\n",
    "hurs=['ACCESS-CM2','ACCESS-ESM1-5','CESM2','CESM2-FV2','CESM2-WACCM','CESM2-WACCM-FV2','CanESM5','FGOALS-g3','IITM-ESM','MIROC6','MPI-ESM-1-2-HAM','MPI-ESM1-2-HR','MPI-ESM1-2-LR','MRI-ESM2-0','NorESM2-LM','NorESM2-MM','SAM0-UNICON']\n",
    "\n",
    "psl=['ACCESS-CM2','ACCESS-ESM1-5','BCC-CSM2-MR','BCC-ESM1','CESM2','CESM2-FV2','CESM2-WACCM','CESM2-WACCM-FV2','CanESM5','FGOALS-g3','IITM-ESM','MIROC6','MPI-ESM-1-2-HAM','MPI-ESM1-2-HR','MPI-ESM1-2-LR','MRI-ESM2-0','NESM3','NorCPM1','NorESM2-LM','NorESM2-MM','SAM0-UNICON']\n",
    "\n",
    "rsds=['ACCESS-CM2','ACCESS-ESM1-5','BCC-CSM2-MR','BCC-ESM1','CESM2','CESM2-FV2','CESM2-WACCM','CESM2-WACCM-FV2','CanESM5','FGOALS-g3','IITM-ESM','MIROC6','MPI-ESM-1-2-HAM','MPI-ESM1-2-HR','MPI-ESM1-2-LR','MRI-ESM2-0','NESM3','NorCPM1','NorESM2-LM','NorESM2-MM','SAM0-UNICON']\n",
    "\n",
    "rlds=['ACCESS-CM2','ACCESS-ESM1-5','BCC-CSM2-MR','BCC-ESM1','CESM2','CESM2-FV2','CESM2-WACCM','CESM2-WACCM-FV2','CanESM5','FGOALS-g3','IITM-ESM','MIROC6','MPI-ESM-1-2-HAM','MPI-ESM1-2-HR','MPI-ESM1-2-LR','MRI-ESM2-0','NESM3','NorESM2-LM','NorESM2-MM','SAM0-UNICON']"
   ]
  },
  {
   "cell_type": "code",
   "execution_count": 2,
   "metadata": {},
   "outputs": [],
   "source": [
    "historical_set = set(tas) & set(vas) & set(uas) & set(clt) & set(hurs) & set(psl) & set(rsds) & set(rlds)"
   ]
  },
  {
   "cell_type": "markdown",
   "metadata": {},
   "source": [
    "day | r1i1p1f1 | gn | CMIP6 | ssp585\n"
   ]
  },
  {
   "cell_type": "code",
   "execution_count": 3,
   "metadata": {},
   "outputs": [],
   "source": [
    "tas=['ACCESS-CM2','ACCESS-ESM1-5','AWI-CM-1-1-MR','BCC-CSM2-MR','CESM2','CESM2-WACCM','CanESM5','FGOALS-g3','MIROC6','MPI-ESM1-2-HR','MPI-ESM1-2-LR','MRI-ESM2-0','NESM3','NorESM2-LM']\n",
    "vas=['ACCESS-CM2','ACCESS-ESM1-5','AWI-CM-1-1-MR','BCC-CSM2-MR','CanESM5','MIROC6','MPI-ESM1-2-HR','MPI-ESM1-2-LR','MRI-ESM2-0','NESM3']\n",
    "uas=['ACCESS-CM2','ACCESS-ESM1-5','AWI-CM-1-1-MR','BCC-CSM2-MR','CanESM5','MIROC6','MPI-ESM1-2-HR','MPI-ESM1-2-LR','MRI-ESM2-0','NESM3']\n",
    "clt=['ACCESS-CM2','ACCESS-ESM1-5','AWI-CM-1-1-MR','BCC-CSM2-MR','CESM2','CESM2-WACCM','CanESM5','FGOALS-g3','MIROC6','MPI-ESM1-2-HR','MPI-ESM1-2-LR','MRI-ESM2-0','NESM3','NorESM2-LM']\n",
    "hurs=['ACCESS-CM2','ACCESS-ESM1-5','AWI-CM-1-1-MR','CESM2','CESM2-WACCM','CanESM5','FGOALS-g3','MIROC6','MPI-ESM1-2-HR','MPI-ESM1-2-LR','MRI-ESM2-0','NorESM2-LM']\n",
    "psl=['ACCESS-CM2','ACCESS-ESM1-5','AWI-CM-1-1-MR','BCC-CSM2-MR','CESM2','CESM2-WACCM','CanESM5','FGOALS-g3','MIROC6','MPI-ESM1-2-HR','MPI-ESM1-2-LR','MRI-ESM2-0','NESM3','NorESM2-LM']\n",
    "rsds=['ACCESS-CM2','ACCESS-ESM1-5','AWI-CM-1-1-MR','BCC-CSM2-MR','CESM2','CESM2-WACCM','CanESM5','FGOALS-g3','MIROC6','MPI-ESM1-2-HR','MPI-ESM1-2-LR','MRI-ESM2-0','NESM3','NorESM2-LM']\n",
    "rlds=['ACCESS-CM2','ACCESS-ESM1-5','AWI-CM-1-1-MR','BCC-CSM2-MR','CESM2','CESM2-WACCM','CanESM5','FGOALS-g3','MIROC6','MPI-ESM1-2-HR','MPI-ESM1-2-LR','MRI-ESM2-0','NESM3','NorESM2-LM']"
   ]
  },
  {
   "cell_type": "code",
   "execution_count": 4,
   "metadata": {},
   "outputs": [],
   "source": [
    "ssp585_set = set(tas) & set(vas) & set(uas) & set(clt) & set(hurs) & set(psl) & set(rsds) & set(rlds)"
   ]
  },
  {
   "cell_type": "code",
   "execution_count": 5,
   "metadata": {},
   "outputs": [
    {
     "data": {
      "text/plain": [
       "{'ACCESS-CM2',\n",
       " 'ACCESS-ESM1-5',\n",
       " 'AWI-CM-1-1-MR',\n",
       " 'CanESM5',\n",
       " 'MIROC6',\n",
       " 'MPI-ESM1-2-HR',\n",
       " 'MPI-ESM1-2-LR',\n",
       " 'MRI-ESM2-0'}"
      ]
     },
     "execution_count": 5,
     "metadata": {},
     "output_type": "execute_result"
    }
   ],
   "source": [
    "ssp585_set\n"
   ]
  },
  {
   "cell_type": "markdown",
   "metadata": {},
   "source": [
    "day | r1i1p1f1 | gn | CMIP6 | ssp119\n"
   ]
  },
  {
   "cell_type": "code",
   "execution_count": 38,
   "metadata": {},
   "outputs": [],
   "source": [
    "tas=['CanESM5','FGOALS-g3','MIROC6','MRI-ESM2-0']\n",
    "# vas=['\n",
    "\n",
    "# uas=['\n",
    "\n",
    "# clt=['\n",
    "\n",
    "# hurs=['\n",
    "psl=['CanESM5','FGOALS-g3','MIROC6','MRI-ESM2-0']\n",
    "rsds=['CanESM5','FGOALS-g3','MRI-ESM2-0']\n",
    "rlds=['CanESM5','FGOALS-g3','MRI-ESM2-0']\n"
   ]
  },
  {
   "cell_type": "code",
   "execution_count": 39,
   "metadata": {},
   "outputs": [],
   "source": [
    "ssp119_set = set(tas) & set(psl) & set(rsds) & set(rlds)"
   ]
  },
  {
   "cell_type": "code",
   "execution_count": 40,
   "metadata": {},
   "outputs": [
    {
     "data": {
      "text/plain": [
       "{'CanESM5', 'FGOALS-g3', 'MRI-ESM2-0'}"
      ]
     },
     "execution_count": 40,
     "metadata": {},
     "output_type": "execute_result"
    }
   ],
   "source": [
    "ssp119_set"
   ]
  },
  {
   "cell_type": "markdown",
   "metadata": {},
   "source": [
    "models with all runs"
   ]
  },
  {
   "cell_type": "code",
   "execution_count": 41,
   "metadata": {},
   "outputs": [
    {
     "name": "stdout",
     "output_type": "stream",
     "text": [
      "set(['CanESM5', 'MRI-ESM2-0'])\n"
     ]
    }
   ],
   "source": [
    "print  set(historical_set) & set(ssp585_set) & set(ssp119_set)"
   ]
  },
  {
   "cell_type": "code",
   "execution_count": 6,
   "metadata": {},
   "outputs": [
    {
     "name": "stdout",
     "output_type": "stream",
     "text": [
      "set(['MPI-ESM1-2-HR', 'ACCESS-CM2', 'ACCESS-ESM1-5', 'CanESM5', 'MIROC6', 'MPI-ESM1-2-LR', 'MRI-ESM2-0'])\n"
     ]
    }
   ],
   "source": [
    "print  set(historical_set) & set(ssp585_set)\n",
    "\n",
    "\n",
    "\n",
    "\n"
   ]
  },
  {
   "cell_type": "markdown",
   "metadata": {},
   "source": [
    "# gr"
   ]
  },
  {
   "cell_type": "markdown",
   "metadata": {},
   "source": [
    "day|r1i1p1f1|gr|CMIP6|ssp119\n",
    "\n"
   ]
  },
  {
   "cell_type": "code",
   "execution_count": null,
   "metadata": {},
   "outputs": [],
   "source": [
    "\n",
    "tas=['EC-Earth3-Veg',' IPSL-CM6A-LR']\n",
    "vas=['EC-Earth3-Veg',' IPSL-CM6A-LR']\n",
    "uas=['EC-Earth3-Veg',' IPSL-CM6A-LR']\n",
    "clt=['EC-Earth3-Veg',' IPSL-CM6A-LR']\n",
    "hurs=['EC-Earth3-Veg']\n",
    "psl=['EC-Earth3-Veg',' IPSL-CM6A-LR']\n",
    "rsds=['EC-Earth3-Veg',' IPSL-CM6A-LR']\n",
    "rlds=['EC-Earth3-Veg',' IPSL-CM6A-LR']"
   ]
  }
 ],
 "metadata": {
  "kernelspec": {
   "display_name": "Python 2",
   "language": "python",
   "name": "python2"
  },
  "language_info": {
   "codemirror_mode": {
    "name": "ipython",
    "version": 2
   },
   "file_extension": ".py",
   "mimetype": "text/x-python",
   "name": "python",
   "nbconvert_exporter": "python",
   "pygments_lexer": "ipython2",
   "version": "2.7.17"
  }
 },
 "nbformat": 4,
 "nbformat_minor": 2
}
