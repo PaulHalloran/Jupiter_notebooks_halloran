{
 "cells": [
  {
   "cell_type": "code",
   "execution_count": 30,
   "id": "bb6fb04a",
   "metadata": {},
   "outputs": [],
   "source": [
    "\n",
    "import iris\n",
    "import iris.quickplot as qplt\n",
    "from iris import *\n",
    "from iris.analysis import *\n",
    "from iris.analysis.cartography import *\n",
    "from iris.coord_categorisation import *\n",
    "import matplotlib.pyplot as plt\n",
    "from scipy.stats import *\n",
    "import sys\n",
    "import numpy\n",
    "import iris.coord_categorisation\n",
    "from numpy import *\n",
    "from matplotlib.pyplot import *\n",
    "from scipy.stats.mstats import *"
   ]
  },
  {
   "cell_type": "code",
   "execution_count": 127,
   "id": "b697f779",
   "metadata": {
    "collapsed": true,
    "jupyter": {
     "outputs_hidden": true
    }
   },
   "outputs": [
    {
     "name": "stdout",
     "output_type": "stream",
     "text": [
      "unknown / (unknown)                 (time: 47815; latitude: 161; longitude: 131)\n",
      "     Dimension coordinates:\n",
      "          time                           x                -               -\n",
      "          latitude                       -                x               -\n",
      "          longitude                      -                -               x\n",
      "     Attributes:\n",
      "          CDI: Climate Data Interface version ?? (http://mpimet.mpg.de/cdi)\n",
      "          CDO: Climate Data Operators version 1.9.3 (http://mpimet.mpg.de/cdo)\n",
      "          Conventions: CF-1.7\n",
      "          history: Thu May 27 16:58:34 2021: cdo mergetime GFDL-CM4_ssp585_surfacetemperature_1970.nc...\n",
      "unknown / (unknown)                 (time: 132; latitude: 161; longitude: 131)\n",
      "     Dimension coordinates:\n",
      "          time                           x              -               -\n",
      "          latitude                       -              x               -\n",
      "          longitude                      -              -               x\n",
      "     Auxiliary coordinates:\n",
      "          year                           x              -               -\n",
      "     Attributes:\n",
      "          CDI: Climate Data Interface version ?? (http://mpimet.mpg.de/cdi)\n",
      "          CDO: Climate Data Operators version 1.9.3 (http://mpimet.mpg.de/cdo)\n",
      "          Conventions: CF-1.7\n",
      "          history: Thu May 27 16:58:34 2021: cdo mergetime GFDL-CM4_ssp585_surfacetemperature_1970.nc...\n",
      "     Cell methods:\n",
      "          mean: year\n"
     ]
    },
    {
     "name": "stderr",
     "output_type": "stream",
     "text": [
      "/home/cj362/anaconda3/envs/py38/lib/python3.8/site-packages/iris/analysis/cartography.py:394: UserWarning: Using DEFAULT_SPHERICAL_EARTH_RADIUS.\n",
      "  warnings.warn(\"Using DEFAULT_SPHERICAL_EARTH_RADIUS.\")\n"
     ]
    },
    {
     "data": {
      "text/plain": [
       "Text(0, 0.5, 'Temperature (Celsius)')"
      ]
     },
     "execution_count": 127,
     "metadata": {},
     "output_type": "execute_result"
    },
    {
     "data": {
      "image/png": "[encoded data removed]",
      "text/plain": [
       "<Figure size 432x288 with 1 Axes>"
      ]
     },
     "metadata": {
      "needs_background": "light"
     },
     "output_type": "display_data"
    }
   ],
   "source": [
    "# Generate annual mean surface temperature data\n",
    "# Will reveal background trend using non-cumulative variable\n",
    "\n",
    "## Define annual mean over all areas function\n",
    "def area_avg(cube):\n",
    "    try:\n",
    "        cube.coord('latitude').guess_bounds()\n",
    "    except:\n",
    "        pass\n",
    "    try:\n",
    "        cube.coord('longitude').guess_bounds()\n",
    "    except:\n",
    "        pass\n",
    "    grid_areas = iris.analysis.cartography.area_weights(cube)\n",
    "    annual_area_mean = cube.collapsed(['longitude', 'latitude'],iris.analysis.MEAN, weights=grid_areas)\n",
    "    return annual_area_mean\n",
    "\n",
    "\n",
    "## Load in data\n",
    "cube = iris.load_cube('/data/local_ssd/cj362/S2P3Rv2.0/dhw/UKESM1-0-LL_ssp245_1970_2100_surfacetemperature_all.nc')\n",
    "iris.coord_categorisation.add_year(cube,'time', name='year') # Add year dimension\n",
    "annual_cube=cube.aggregated_by('year',iris.analysis.MEAN) # Calculate for year dimension\n",
    "\n",
    "# Create annual average data \n",
    "annual_cube_area_avg = area_avg(annual_cube) # Call upon function to average over all grid squares\n",
    "annual_cube_area_avg_data = annual_cube_area_avg.data  # Extract data\n",
    "\n",
    "\n",
    "# Catch out datasets that are too long\n",
    "# should only be 131 values\n",
    "if (len(annual_cube_area_avg_data >131)):\n",
    "    annual_cube_area_avg_data = annual_cube_area_avg_data[0:131]\n",
    "    \n",
    "\n",
    "## Plotting\n",
    "# Generate x-values array:\n",
    "x_array =[]\n",
    "for i in range(1970,2101):\n",
    "    x_array.append(i)\n",
    "    \n",
    "# Define y-values array:\n",
    "y_array = annual_cube_area_avg_data\n",
    "\n",
    "# Create plot\n",
    "plt.plot(x_array,y_array)\n",
    "plt.axis([1960,2110,24,31])                 # Set x and y axis limits\n",
    "plt.xticks(np.arange(1970, 2110, step=10))  # Set label locations (2110 necessary in order to get 2100 label)\n",
    "plt.xticks(rotation=35)                     # Set label rotation\n",
    "plt.title('UKESM1-0-LL ssp2(4.5) mean annual surface temperature 1970-2100', pad=17)\n",
    "xlabel('Year')\n",
    "ylabel('Temperature (Celsius)')\n",
    "#savefig('/data/local_ssd/cj362/S2P3Rv2.0/dhw/background_trend_outputs/UKESM1-0-LL_ssp245_surfacetemperature.png')\n",
    "\n"
   ]
  },
  {
   "cell_type": "code",
   "execution_count": 153,
   "id": "05ce6a1b",
   "metadata": {
    "collapsed": true,
    "jupyter": {
     "outputs_hidden": true
    }
   },
   "outputs": [
    {
     "name": "stderr",
     "output_type": "stream",
     "text": [
      "/home/cj362/anaconda3/envs/py38/lib/python3.8/site-packages/iris/analysis/cartography.py:394: UserWarning: Using DEFAULT_SPHERICAL_EARTH_RADIUS.\n",
      "  warnings.warn(\"Using DEFAULT_SPHERICAL_EARTH_RADIUS.\")\n",
      "/home/cj362/anaconda3/envs/py38/lib/python3.8/site-packages/numpy/core/_methods.py:47: RuntimeWarning: overflow encountered in reduce\n",
      "  return umr_sum(a, axis, dtype, out, keepdims, initial, where)\n",
      "/home/cj362/anaconda3/envs/py38/lib/python3.8/site-packages/dask/array/core.py:4412: RuntimeWarning: invalid value encountered in multiply\n",
      "  result = function(*args, **kwargs)\n"
     ]
    },
    {
     "name": "stdout",
     "output_type": "stream",
     "text": [
      "[3.45493279e+32 1.96509641e+32 1.96576891e+32 1.96586537e+32\n",
      " 1.96605357e+32 1.96683296e+32 1.96625546e+32 1.96616087e+32\n",
      " 1.96778717e+32 1.96682214e+32 1.96480934e+32 1.96480934e+32\n",
      " 1.96481012e+32 1.96480934e+32 1.96480934e+32 1.96480934e+32\n",
      " 1.96480934e+32 1.96480826e+32 1.96625627e+32 1.97380334e+32\n",
      " 1.50105529e-01 1.30606893e-01 1.96519460e+32 1.96509852e+32\n",
      " 1.96509852e+32 1.96499759e+32 1.96499977e+32 1.96480934e+32\n",
      " 1.96668441e+32 1.96716063e+32 1.96528388e+32 1.97146381e+32\n",
      " 1.97193426e+32 1.96555980e+32 1.97778410e+32 1.97854145e+32\n",
      " 1.96629845e+32 1.96649365e+32 1.96649202e+32 1.96565624e+32\n",
      " 1.96565082e+32 1.96583357e+32 1.96670654e+32 1.96634224e+32\n",
      " 1.96721999e+32 1.96702758e+32 1.96481012e+32 1.96480934e+32\n",
      " 1.96480934e+32 1.96480934e+32 1.96480934e+32 1.96480841e+32\n",
      " 1.96480934e+32 1.96480934e+32 1.96480934e+32 1.96480359e+32\n",
      " 1.96480934e+32 1.96480934e+32 1.96480934e+32 1.96480717e+32\n",
      " 1.96480934e+32 1.96480934e+32 1.96480934e+32 1.96481012e+32\n",
      " 1.96480934e+32 1.96480934e+32 1.96480934e+32 1.96480934e+32\n",
      " 1.96480857e+32 1.96480934e+32 1.96480934e+32 1.96480934e+32\n",
      " 1.96480375e+32 1.96480934e+32 1.96480934e+32 1.96480934e+32\n",
      " 1.96480717e+32 1.96480934e+32 1.96480934e+32 1.96480934e+32\n",
      " 1.96481028e+32 1.96480934e+32 1.96480934e+32 1.96480934e+32\n",
      " 1.96480934e+32 1.96480857e+32 1.96480934e+32 1.96480934e+32\n",
      " 1.96480934e+32 1.96480375e+32 1.96480934e+32 1.96480934e+32\n",
      " 1.96480934e+32 1.96480701e+32 1.96480934e+32 1.96480934e+32\n",
      " 1.96480934e+32 1.96481043e+32 1.96480934e+32 1.96480934e+32\n",
      " 1.96480934e+32 1.96480934e+32 1.96480872e+32 1.96480934e+32\n",
      " 1.96480934e+32 1.96480934e+32 1.96480375e+32 1.96480934e+32\n",
      " 1.96480934e+32 1.96480934e+32 1.96480701e+32 1.96480934e+32\n",
      " 1.96480934e+32 1.96480934e+32 1.96481043e+32]\n",
      "\n",
      "[       nan        nan        nan        nan        nan        nan\n",
      "        nan        nan        nan        nan        nan        nan\n",
      "        nan        nan        nan        nan        nan        nan\n",
      "        nan        nan 0.15010553 0.13060689        nan        nan\n",
      "        nan        nan        nan        nan        nan        nan\n",
      "        nan        nan        nan        nan        nan        nan\n",
      "        nan        nan        nan        nan        nan        nan\n",
      "        nan        nan        nan        nan        nan        nan\n",
      "        nan        nan        nan        nan        nan        nan\n",
      "        nan        nan        nan        nan        nan        nan\n",
      "        nan        nan        nan        nan        nan        nan\n",
      "        nan        nan        nan        nan        nan        nan\n",
      "        nan        nan        nan        nan        nan        nan\n",
      "        nan        nan        nan        nan        nan        nan\n",
      "        nan        nan        nan        nan        nan        nan\n",
      "        nan        nan        nan        nan        nan        nan\n",
      "        nan        nan        nan        nan        nan        nan\n",
      "        nan        nan        nan        nan        nan        nan\n",
      "        nan        nan        nan        nan        nan        nan\n",
      "        nan]\n"
     ]
    },
    {
     "data": {
      "text/plain": [
       "Text(0, 0.5, 'DHW')"
      ]
     },
     "execution_count": 153,
     "metadata": {},
     "output_type": "execute_result"
    },
    {
     "data": {
      "image/png": "[encoded data removed]",
      "text/plain": [
       "<Figure size 432x288 with 1 Axes>"
      ]
     },
     "metadata": {
      "needs_background": "light"
     },
     "output_type": "display_data"
    }
   ],
   "source": [
    "# Generate annual dhw data\n",
    "# Will reveal background trend using a cumulative stress variable\n",
    "# Using the maxmimum value is opted for eventually becaue this will highlight better the stress as it only takes one high\n",
    "# event to cause severe bleaching with impacts lasting for the whole year and beyond. \n",
    "\n",
    "## Define annual mean across all areas function\n",
    "def area_mean(dhw_cube):\n",
    "    try:\n",
    "        dhw_cube.coord('latitude').guess_bounds()\n",
    "    except:\n",
    "        pass\n",
    "    try:\n",
    "        dhw_cube.coord('longitude').guess_bounds()\n",
    "    except:\n",
    "        pass\n",
    "    grid_areas = iris.analysis.cartography.area_weights(dhw_cube)\n",
    "    return dhw_cube.collapsed(['longitude', 'latitude'],iris.analysis.MEAN, weights=grid_areas)\n",
    "\n",
    "## Read in data\n",
    "dhw_cube = iris.load_cube('/data/local_ssd/cj362/S2P3Rv2.0/dhw/dhw_script_outputs/miroc6_ssp245_daily_dhw.nc')\n",
    "iris.coord_categorisation.add_year(dhw_cube,'time', name='year')   # Add year dimension\n",
    "dhw_annual_cube=dhw_cube.aggregated_by('year',iris.analysis.MEAN)  # Calculate for year dimension\n",
    "cube_annual_area_mean = area_mean(dhw_annual_cube)   # Call upon function to average over all grid squares\n",
    "\n",
    "## Extract cube data\n",
    "cube_annual_area_mean_data= cube_annual_area_mean.data\n",
    "print(cube_annual_area_mean_data)\n",
    "\n",
    "#filtering out crazy values and assigning them as a Nan\n",
    "for i in range(len(cube_annual_area_mean_data+1)):\n",
    "    if (cube_annual_area_mean_data[i]>10000):\n",
    "        cube_annual_area_mean_data[i]=float(\"Nan\")\n",
    "\n",
    "print()\n",
    "print(cube_annual_area_mean_data)\n",
    "\n",
    "## Plotting\n",
    "x_array =[]                            # Generate x-values array:\n",
    "for i in range(1985,2100):\n",
    "    x_array.append(i)\n",
    "y_array = cube_annual_area_mean_data   # Define y-values array:\n",
    "\n",
    "\n",
    "# Create plot\n",
    "plt.plot(x_array,y_array)\n",
    "plt.axis([1980,2105,0,2.25])                 # Set x and y axis limits\n",
    "plt.xticks(np.arange(1980, 2110, step=10))  # Set label locations (2110 necessary in order to get 2100 label)\n",
    "plt.xticks(rotation=35)                     # Set label rotation\n",
    "title('UKESM1-0-LL ssp2(4.5) mean annual degree heating weeks 1985-2100',pad=17)  # pad relates to offset\n",
    "xlabel('Year')\n",
    "ylabel('DHW')\n",
    "# savefig('/data/local_ssd/cj362/S2P3Rv2.0/dhw/background_trend_outputs/UKESM1-0-LL_ssp245_dhw_annual_mean.png')\n",
    "\n"
   ]
  },
  {
   "cell_type": "code",
   "execution_count": 192,
   "id": "33092957",
   "metadata": {},
   "outputs": [
    {
     "name": "stdout",
     "output_type": "stream",
     "text": [
      "unknown / (1)                       (time: 41317; latitude: 161; longitude: 131)\n",
      "     Dimension coordinates:\n",
      "          time                           x                -               -\n",
      "          latitude                       -                x               -\n",
      "          longitude                      -                -               x\n",
      "     Attributes:\n",
      "          Conventions: CF-1.7\n"
     ]
    },
    {
     "name": "stderr",
     "output_type": "stream",
     "text": [
      "/home/cj362/anaconda3/envs/py38/lib/python3.8/site-packages/iris/analysis/cartography.py:394: UserWarning: Using DEFAULT_SPHERICAL_EARTH_RADIUS.\n",
      "  warnings.warn(\"Using DEFAULT_SPHERICAL_EARTH_RADIUS.\")\n"
     ]
    },
    {
     "data": {
      "text/plain": [
       "Text(0, 0.5, 'DHW')"
      ]
     },
     "execution_count": 192,
     "metadata": {},
     "output_type": "execute_result"
    },
    {
     "data": {
      "image/png": "[encoded data removed]",
      "text/plain": [
       "<Figure size 432x288 with 1 Axes>"
      ]
     },
     "metadata": {
      "needs_background": "light"
     },
     "output_type": "display_data"
    }
   ],
   "source": [
    "## Define function for annual max across all areas\n",
    "\n",
    "def area_mean(dhw_cube):\n",
    "    try:\n",
    "        dhw_cube.coord('latitude').guess_bounds()\n",
    "    except:\n",
    "        pass\n",
    "    try:\n",
    "        dhw_cube.coord('longitude').guess_bounds()\n",
    "    except:\n",
    "        pass\n",
    "    grid_areas = iris.analysis.cartography.area_weights(dhw_cube)\n",
    "    return dhw_cube.collapsed(['longitude', 'latitude'],iris.analysis.MEAN, weights=grid_areas)\n",
    "\n",
    "## Read in data\n",
    "dhw_cube = iris.load_cube('/data/local_ssd/cj362/S2P3Rv2.0/dhw/dhw_script_outputs/ukesm1_ssp245_daily_dhw.nc')\n",
    "print(dhw_cube)\n",
    "try:\n",
    "    iris.coord_categorisation.add_year(dhw_cube,'time', name='year')\n",
    "except:\n",
    "    pass\n",
    "dhw_cube_annual_max=dhw_cube.aggregated_by('year',iris.analysis.MAX)  # Calculate for year dimension\n",
    "# print(dhw_cube_annual_max)\n",
    "# print(dhw_cube_annual_max.data)\n",
    "dhw_cube_annual_area_max = area_mean(dhw_cube_annual_max)             # Explanation: essentially is the mean of all the maximum values projected for each grid square for each year\n",
    "# print(dhw_cube_annual_area_max)\n",
    "dhw_cube_annual_area_max_data = dhw_cube_annual_area_max.data\n",
    "# print(dhw_cube_annual_area_max_data)\n",
    "\n",
    "#filtering out crazy values and assigning them as a Nan\n",
    "for i in range(len(dhw_cube_annual_area_max_data+1)):\n",
    "    if (dhw_cube_annual_area_max_data[i]>10000):\n",
    "        dhw_cube_annual_area_max_data[i]=float(\"Nan\")\n",
    "        \n",
    "\n",
    "# print(dhw_cube_annual_area_max)\n",
    "# print()\n",
    "# print(dhw_cube_annual_area_max_data)\n",
    "\n",
    "## Plotting\n",
    "x_array =[]                            # Generate x-values array:\n",
    "for i in range(1985,2100):\n",
    "    x_array.append(i)\n",
    "y_array = dhw_cube_annual_area_max_data   # Define y-values array:\n",
    "\n",
    "\n",
    "# Create plot\n",
    "plt.plot(x_array,y_array)\n",
    "plt.axis([1980,2105,0,7])                 # Set x and y axis limits\n",
    "plt.xticks(np.arange(1980, 2110, step=10))  # Set label locations (2110 necessary in order to get 2100 label)\n",
    "plt.xticks(rotation=35)                     # Set label rotation\n",
    "# title('miroc6 ssp5(8.5) max annual degree heating weeks 1985-2100',pad=17)  # pad relates to offset\n",
    "xlabel('Year')\n",
    "ylabel('DHW')\n",
    "# savefig('/data/local_ssd/cj362/S2P3Rv2.0/dhw/background_trend_outputs/UKESM1-0-LL_ssp245_dhw_annual_mean.png')"
   ]
  },
  {
   "cell_type": "code",
   "execution_count": 208,
   "id": "91a30e53",
   "metadata": {},
   "outputs": [
    {
     "name": "stdout",
     "output_type": "stream",
     "text": [
      "(115,)\n",
      "<class 'tuple'>\n",
      "[0.34696224 0.19858621 0.23453442 0.17461567 0.10054877 0.30399827\n",
      " 0.4161512  0.28594765 0.09635938 0.36890725 0.18063441 0.07825991\n",
      " 0.25403369 0.31415987 0.70013016 0.50639579 1.06869653 0.44358565\n",
      " 0.58612171 0.565546   0.9085137  0.47526871 0.80855407 0.47121747\n",
      " 0.6610075  0.0480876  0.27503225 0.47320395 0.18364224 0.30043567\n",
      " 0.64282336 0.33992644 0.6634976  0.25460986 0.6020064  0.42428555\n",
      " 1.00305209 0.58888655 0.37663125 1.14991848 0.66681883 1.17442217\n",
      " 0.50303675 1.72562661 1.07909444 0.2855766  1.13740535 0.45670729\n",
      " 1.9107527  2.20831433 1.89466903 1.61074701 0.8098775  0.37435413\n",
      " 0.66993672 1.63361966 1.53547121 2.08882829 1.41369368 1.3263681\n",
      " 1.25804516 2.60552132 1.9673267  1.54724545 2.30707205 1.99861675\n",
      " 1.33863453 2.13604179 1.65523992 3.13086105 0.88833864 0.75752526\n",
      " 1.84238992 0.74950985 1.99145303 2.46051967 1.99159411 2.04407303\n",
      " 2.11207679 2.12553981 1.59054    3.57103111 1.48160474 1.91475652\n",
      " 2.05600901 1.41296599 2.21193369 2.107878   2.69545304 1.78685911\n",
      " 2.68880023 2.47459563 2.71160393 2.54304024 2.63551305 1.27546088\n",
      " 2.24594636 2.21306386 2.43632215 3.96995935 2.61927035 1.47559616\n",
      " 3.38915636 2.71387922 3.30647004 3.73643651 2.46599038 2.53374803\n",
      " 3.66392658 3.13864887 2.37622167 2.9348791  3.06434183 2.51331441\n",
      " 2.90531515]\n"
     ]
    },
    {
     "ename": "IndexError",
     "evalue": "invalid index to scalar variable.",
     "output_type": "error",
     "traceback": [
      "\u001b[0;31m---------------------------------------------------------------------------\u001b[0m",
      "\u001b[0;31mIndexError\u001b[0m                                Traceback (most recent call last)",
      "\u001b[0;32m<ipython-input-208-cdfdbfcb0476>\u001b[0m in \u001b[0;36m<module>\u001b[0;34m\u001b[0m\n\u001b[1;32m     17\u001b[0m \u001b[0;32mfor\u001b[0m \u001b[0mi\u001b[0m \u001b[0;32min\u001b[0m \u001b[0mrange\u001b[0m\u001b[0;34m(\u001b[0m\u001b[0mshape\u001b[0m\u001b[0;34m[\u001b[0m\u001b[0;36m0\u001b[0m\u001b[0;34m]\u001b[0m\u001b[0;34m)\u001b[0m\u001b[0;34m:\u001b[0m\u001b[0;34m\u001b[0m\u001b[0;34m\u001b[0m\u001b[0m\n\u001b[1;32m     18\u001b[0m     \u001b[0;32mfor\u001b[0m \u001b[0mj\u001b[0m \u001b[0;32min\u001b[0m \u001b[0mrange\u001b[0m\u001b[0;34m(\u001b[0m\u001b[0mshape\u001b[0m\u001b[0;34m[\u001b[0m\u001b[0;36m0\u001b[0m\u001b[0;34m]\u001b[0m\u001b[0;34m)\u001b[0m\u001b[0;34m:\u001b[0m\u001b[0;34m\u001b[0m\u001b[0;34m\u001b[0m\u001b[0m\n\u001b[0;32m---> 19\u001b[0;31m         \u001b[0;32mif\u001b[0m \u001b[0mcube_data\u001b[0m\u001b[0;34m.\u001b[0m\u001b[0mmask\u001b[0m\u001b[0;34m[\u001b[0m\u001b[0;36m0\u001b[0m\u001b[0;34m,\u001b[0m\u001b[0mi\u001b[0m\u001b[0;34m,\u001b[0m\u001b[0mj\u001b[0m\u001b[0;34m]\u001b[0m \u001b[0;34m==\u001b[0m \u001b[0;32mFalse\u001b[0m\u001b[0;34m:\u001b[0m\u001b[0;34m\u001b[0m\u001b[0;34m\u001b[0m\u001b[0m\n\u001b[0m\u001b[1;32m     20\u001b[0m             \u001b[0mparameters\u001b[0m\u001b[0;34m,\u001b[0m \u001b[0mvar\u001b[0m \u001b[0;34m=\u001b[0m \u001b[0mcurve_fit\u001b[0m\u001b[0;34m(\u001b[0m\u001b[0mquadratic_function\u001b[0m\u001b[0;34m,\u001b[0m\u001b[0mnp\u001b[0m\u001b[0;34m.\u001b[0m\u001b[0marange\u001b[0m\u001b[0;34m(\u001b[0m\u001b[0mshape\u001b[0m\u001b[0;34m[\u001b[0m\u001b[0;36m0\u001b[0m\u001b[0;34m]\u001b[0m\u001b[0;34m)\u001b[0m\u001b[0;34m,\u001b[0m\u001b[0mcube_data\u001b[0m\u001b[0;34m[\u001b[0m\u001b[0;34m:\u001b[0m\u001b[0;34m,\u001b[0m\u001b[0mi\u001b[0m\u001b[0;34m,\u001b[0m\u001b[0mj\u001b[0m\u001b[0;34m]\u001b[0m\u001b[0;34m)\u001b[0m\u001b[0;34m\u001b[0m\u001b[0;34m\u001b[0m\u001b[0m\n\u001b[1;32m     21\u001b[0m             \u001b[0my_values_anomaly_from_curve\u001b[0m \u001b[0;34m=\u001b[0m \u001b[0mquadratic_function\u001b[0m\u001b[0;34m(\u001b[0m\u001b[0mnp\u001b[0m\u001b[0;34m.\u001b[0m\u001b[0marange\u001b[0m\u001b[0;34m(\u001b[0m\u001b[0mshape\u001b[0m\u001b[0;34m[\u001b[0m\u001b[0;36m0\u001b[0m\u001b[0;34m]\u001b[0m\u001b[0;34m)\u001b[0m\u001b[0;34m,\u001b[0m \u001b[0;34m*\u001b[0m\u001b[0mparameters\u001b[0m\u001b[0;34m)\u001b[0m\u001b[0;34m\u001b[0m\u001b[0;34m\u001b[0m\u001b[0m\n",
      "\u001b[0;31mIndexError\u001b[0m: invalid index to scalar variable."
     ]
    }
   ],
   "source": [
    "## Detrending\n",
    "\n",
    "def quadratic_function(x,a,b,c):    \n",
    "    y = (a*(x**2.0)) + (b*x) + c\n",
    "    return y\n",
    "\n",
    "dhw_cube_annual_area_max_detrended = dhw_cube_annual_area_max.copy()\n",
    "cube_data = dhw_cube_annual_area_max_detrended.data\n",
    "\n",
    "shape = np.shape(cube_data) # Returns the shape of the array i.e., how many items are in the array\n",
    "print(shape)\n",
    "print(type(shape))\n",
    "output_cube_data = cube_data.copy()\n",
    "print(output_cube_data)\n",
    "output_cube_data[:] = np.nan # Converts all values (:) in the array to Nan values\n",
    "\n",
    "for i in range(shape[0]):\n",
    "    for j in range(shape[0]):\n",
    "        if cube_data.mask[0,i,j] == False:\n",
    "            parameters, var = curve_fit(quadratic_function,np.arange(shape[0]),cube_data[:,i,j])\n",
    "            y_values_anomaly_from_curve = quadratic_function(np.arange(shape[0]), *parameters)\n",
    "            output_cube_data[:,i,j] = cube_data[:,i,j]-y_values_anomaly_from_curve\n",
    "\n",
    "# This bit of code essentially deals with all the odd values:\n",
    "# np.isnan is used to identify where the data value is a Nan value\n",
    "# the .fill_value function fills the specified data point by default as None\n",
    "output_cube_data.data[np.where(np.isnan(output_cube_data))] = output_cube_data.fill_value\n",
    "output_cube_data[np.where(output_cube_data == 0.0)] = output_cube_data.fill_value\n",
    "output_cube_data.mask[np.where(np.isnan(output_cube_data))] = True    # Masks data values that are Nans to True (meaning they are ignored)\n",
    "output_cube_data.mask[np.where(output_cube_data == output_cube_data.fill_value)] = True   # Masks data values that have been assigned using fill_value to True also\n",
    "\n",
    "#Put the detrended data back in to the original cube\n",
    "dhw_cube_annual_area_max_detrended.data = output_cube_data\n",
    "\n",
    "print(dhw_cube_annual_area_max_detrended)"
   ]
  }
 ],
 "metadata": {
  "kernelspec": {
   "display_name": "Python 3",
   "language": "python",
   "name": "python3"
  },
  "language_info": {
   "codemirror_mode": {
    "name": "ipython",
    "version": 3
   },
   "file_extension": ".py",
   "mimetype": "text/x-python",
   "name": "python",
   "nbconvert_exporter": "python",
   "pygments_lexer": "ipython3",
   "version": "3.9.4"
  }
 },
 "nbformat": 4,
 "nbformat_minor": 5
}
