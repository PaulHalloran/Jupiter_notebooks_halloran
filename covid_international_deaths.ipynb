{
 "cells": [
  {
   "cell_type": "markdown",
   "metadata": {},
   "source": [
    "# International COVID-19 Deaths"
   ]
  },
  {
   "cell_type": "markdown",
   "metadata": {},
   "source": [
    "Data from:\n",
    "https://data.europa.eu/euodp/en/data/dataset/covid-19-coronavirus-data/resource/260bbbde-2316-40eb-aec3-7cd7bfc2f590\n"
   ]
  },
  {
   "cell_type": "code",
   "execution_count": 20,
   "metadata": {},
   "outputs": [],
   "source": [
    "import numpy as np\n",
    "import matplotlib.pyplot as plt\n",
    "import datetime\n",
    "from scipy.optimize import curve_fit\n",
    "import pandas as pd\n",
    "import io\n",
    "import requests\n"
   ]
  },
  {
   "cell_type": "markdown",
   "metadata": {},
   "source": [
    "### Pull data from opendata.ecdc.europa.eu (European Center for Disease Prevention and Control)"
   ]
  },
  {
   "cell_type": "code",
   "execution_count": 21,
   "metadata": {},
   "outputs": [
    {
     "ename": "ConnectionError",
     "evalue": "HTTPSConnectionPool(host='opendata.ecdc.europa.eu', port=443): Max retries exceeded with url: /covid19/casedistribution/csv (Caused by NewConnectionError('<urllib3.connection.VerifiedHTTPSConnection object at 0x110805210>: Failed to establish a new connection: [Errno 60] Operation timed out',))",
     "output_type": "error",
     "traceback": [
      "\u001b[0;31m---------------------------------------------------------------------------\u001b[0m",
      "\u001b[0;31mConnectionError\u001b[0m                           Traceback (most recent call last)",
      "\u001b[0;32m<ipython-input-21-55e3602ce3bc>\u001b[0m in \u001b[0;36m<module>\u001b[0;34m()\u001b[0m\n\u001b[1;32m      1\u001b[0m \u001b[0;34m\u001b[0m\u001b[0m\n\u001b[1;32m      2\u001b[0m \u001b[0murl\u001b[0m\u001b[0;34m=\u001b[0m\u001b[0;34m\"https://opendata.ecdc.europa.eu/covid19/casedistribution/csv\"\u001b[0m\u001b[0;34m\u001b[0m\u001b[0m\n\u001b[0;32m----> 3\u001b[0;31m \u001b[0ms\u001b[0m\u001b[0;34m=\u001b[0m\u001b[0mrequests\u001b[0m\u001b[0;34m.\u001b[0m\u001b[0mget\u001b[0m\u001b[0;34m(\u001b[0m\u001b[0murl\u001b[0m\u001b[0;34m)\u001b[0m\u001b[0;34m.\u001b[0m\u001b[0mcontent\u001b[0m\u001b[0;34m\u001b[0m\u001b[0m\n\u001b[0m\u001b[1;32m      4\u001b[0m \u001b[0mc\u001b[0m\u001b[0;34m=\u001b[0m\u001b[0mpd\u001b[0m\u001b[0;34m.\u001b[0m\u001b[0mread_csv\u001b[0m\u001b[0;34m(\u001b[0m\u001b[0mio\u001b[0m\u001b[0;34m.\u001b[0m\u001b[0mStringIO\u001b[0m\u001b[0;34m(\u001b[0m\u001b[0ms\u001b[0m\u001b[0;34m.\u001b[0m\u001b[0mdecode\u001b[0m\u001b[0;34m(\u001b[0m\u001b[0;34m'utf-8'\u001b[0m\u001b[0;34m)\u001b[0m\u001b[0;34m)\u001b[0m\u001b[0;34m)\u001b[0m\u001b[0;34m\u001b[0m\u001b[0m\n",
      "\u001b[0;32m/Users/ph290/miniconda2/lib/python2.7/site-packages/requests/api.pyc\u001b[0m in \u001b[0;36mget\u001b[0;34m(url, params, **kwargs)\u001b[0m\n\u001b[1;32m     73\u001b[0m \u001b[0;34m\u001b[0m\u001b[0m\n\u001b[1;32m     74\u001b[0m     \u001b[0mkwargs\u001b[0m\u001b[0;34m.\u001b[0m\u001b[0msetdefault\u001b[0m\u001b[0;34m(\u001b[0m\u001b[0;34m'allow_redirects'\u001b[0m\u001b[0;34m,\u001b[0m \u001b[0mTrue\u001b[0m\u001b[0;34m)\u001b[0m\u001b[0;34m\u001b[0m\u001b[0m\n\u001b[0;32m---> 75\u001b[0;31m     \u001b[0;32mreturn\u001b[0m \u001b[0mrequest\u001b[0m\u001b[0;34m(\u001b[0m\u001b[0;34m'get'\u001b[0m\u001b[0;34m,\u001b[0m \u001b[0murl\u001b[0m\u001b[0;34m,\u001b[0m \u001b[0mparams\u001b[0m\u001b[0;34m=\u001b[0m\u001b[0mparams\u001b[0m\u001b[0;34m,\u001b[0m \u001b[0;34m**\u001b[0m\u001b[0mkwargs\u001b[0m\u001b[0;34m)\u001b[0m\u001b[0;34m\u001b[0m\u001b[0m\n\u001b[0m\u001b[1;32m     76\u001b[0m \u001b[0;34m\u001b[0m\u001b[0m\n\u001b[1;32m     77\u001b[0m \u001b[0;34m\u001b[0m\u001b[0m\n",
      "\u001b[0;32m/Users/ph290/miniconda2/lib/python2.7/site-packages/requests/api.pyc\u001b[0m in \u001b[0;36mrequest\u001b[0;34m(method, url, **kwargs)\u001b[0m\n\u001b[1;32m     58\u001b[0m     \u001b[0;31m# cases, and look like a memory leak in others.\u001b[0m\u001b[0;34m\u001b[0m\u001b[0;34m\u001b[0m\u001b[0m\n\u001b[1;32m     59\u001b[0m     \u001b[0;32mwith\u001b[0m \u001b[0msessions\u001b[0m\u001b[0;34m.\u001b[0m\u001b[0mSession\u001b[0m\u001b[0;34m(\u001b[0m\u001b[0;34m)\u001b[0m \u001b[0;32mas\u001b[0m \u001b[0msession\u001b[0m\u001b[0;34m:\u001b[0m\u001b[0;34m\u001b[0m\u001b[0m\n\u001b[0;32m---> 60\u001b[0;31m         \u001b[0;32mreturn\u001b[0m \u001b[0msession\u001b[0m\u001b[0;34m.\u001b[0m\u001b[0mrequest\u001b[0m\u001b[0;34m(\u001b[0m\u001b[0mmethod\u001b[0m\u001b[0;34m=\u001b[0m\u001b[0mmethod\u001b[0m\u001b[0;34m,\u001b[0m \u001b[0murl\u001b[0m\u001b[0;34m=\u001b[0m\u001b[0murl\u001b[0m\u001b[0;34m,\u001b[0m \u001b[0;34m**\u001b[0m\u001b[0mkwargs\u001b[0m\u001b[0;34m)\u001b[0m\u001b[0;34m\u001b[0m\u001b[0m\n\u001b[0m\u001b[1;32m     61\u001b[0m \u001b[0;34m\u001b[0m\u001b[0m\n\u001b[1;32m     62\u001b[0m \u001b[0;34m\u001b[0m\u001b[0m\n",
      "\u001b[0;32m/Users/ph290/miniconda2/lib/python2.7/site-packages/requests/sessions.pyc\u001b[0m in \u001b[0;36mrequest\u001b[0;34m(self, method, url, params, data, headers, cookies, files, auth, timeout, allow_redirects, proxies, hooks, stream, verify, cert, json)\u001b[0m\n\u001b[1;32m    531\u001b[0m         }\n\u001b[1;32m    532\u001b[0m         \u001b[0msend_kwargs\u001b[0m\u001b[0;34m.\u001b[0m\u001b[0mupdate\u001b[0m\u001b[0;34m(\u001b[0m\u001b[0msettings\u001b[0m\u001b[0;34m)\u001b[0m\u001b[0;34m\u001b[0m\u001b[0m\n\u001b[0;32m--> 533\u001b[0;31m         \u001b[0mresp\u001b[0m \u001b[0;34m=\u001b[0m \u001b[0mself\u001b[0m\u001b[0;34m.\u001b[0m\u001b[0msend\u001b[0m\u001b[0;34m(\u001b[0m\u001b[0mprep\u001b[0m\u001b[0;34m,\u001b[0m \u001b[0;34m**\u001b[0m\u001b[0msend_kwargs\u001b[0m\u001b[0;34m)\u001b[0m\u001b[0;34m\u001b[0m\u001b[0m\n\u001b[0m\u001b[1;32m    534\u001b[0m \u001b[0;34m\u001b[0m\u001b[0m\n\u001b[1;32m    535\u001b[0m         \u001b[0;32mreturn\u001b[0m \u001b[0mresp\u001b[0m\u001b[0;34m\u001b[0m\u001b[0m\n",
      "\u001b[0;32m/Users/ph290/miniconda2/lib/python2.7/site-packages/requests/sessions.pyc\u001b[0m in \u001b[0;36msend\u001b[0;34m(self, request, **kwargs)\u001b[0m\n\u001b[1;32m    644\u001b[0m \u001b[0;34m\u001b[0m\u001b[0m\n\u001b[1;32m    645\u001b[0m         \u001b[0;31m# Send the request\u001b[0m\u001b[0;34m\u001b[0m\u001b[0;34m\u001b[0m\u001b[0m\n\u001b[0;32m--> 646\u001b[0;31m         \u001b[0mr\u001b[0m \u001b[0;34m=\u001b[0m \u001b[0madapter\u001b[0m\u001b[0;34m.\u001b[0m\u001b[0msend\u001b[0m\u001b[0;34m(\u001b[0m\u001b[0mrequest\u001b[0m\u001b[0;34m,\u001b[0m \u001b[0;34m**\u001b[0m\u001b[0mkwargs\u001b[0m\u001b[0;34m)\u001b[0m\u001b[0;34m\u001b[0m\u001b[0m\n\u001b[0m\u001b[1;32m    647\u001b[0m \u001b[0;34m\u001b[0m\u001b[0m\n\u001b[1;32m    648\u001b[0m         \u001b[0;31m# Total elapsed time of the request (approximately)\u001b[0m\u001b[0;34m\u001b[0m\u001b[0;34m\u001b[0m\u001b[0m\n",
      "\u001b[0;32m/Users/ph290/miniconda2/lib/python2.7/site-packages/requests/adapters.pyc\u001b[0m in \u001b[0;36msend\u001b[0;34m(self, request, stream, timeout, verify, cert, proxies)\u001b[0m\n\u001b[1;32m    514\u001b[0m                 \u001b[0;32mraise\u001b[0m \u001b[0mSSLError\u001b[0m\u001b[0;34m(\u001b[0m\u001b[0me\u001b[0m\u001b[0;34m,\u001b[0m \u001b[0mrequest\u001b[0m\u001b[0;34m=\u001b[0m\u001b[0mrequest\u001b[0m\u001b[0;34m)\u001b[0m\u001b[0;34m\u001b[0m\u001b[0m\n\u001b[1;32m    515\u001b[0m \u001b[0;34m\u001b[0m\u001b[0m\n\u001b[0;32m--> 516\u001b[0;31m             \u001b[0;32mraise\u001b[0m \u001b[0mConnectionError\u001b[0m\u001b[0;34m(\u001b[0m\u001b[0me\u001b[0m\u001b[0;34m,\u001b[0m \u001b[0mrequest\u001b[0m\u001b[0;34m=\u001b[0m\u001b[0mrequest\u001b[0m\u001b[0;34m)\u001b[0m\u001b[0;34m\u001b[0m\u001b[0m\n\u001b[0m\u001b[1;32m    517\u001b[0m \u001b[0;34m\u001b[0m\u001b[0m\n\u001b[1;32m    518\u001b[0m         \u001b[0;32mexcept\u001b[0m \u001b[0mClosedPoolError\u001b[0m \u001b[0;32mas\u001b[0m \u001b[0me\u001b[0m\u001b[0;34m:\u001b[0m\u001b[0;34m\u001b[0m\u001b[0m\n",
      "\u001b[0;31mConnectionError\u001b[0m: HTTPSConnectionPool(host='opendata.ecdc.europa.eu', port=443): Max retries exceeded with url: /covid19/casedistribution/csv (Caused by NewConnectionError('<urllib3.connection.VerifiedHTTPSConnection object at 0x110805210>: Failed to establish a new connection: [Errno 60] Operation timed out',))"
     ]
    }
   ],
   "source": [
    "\n",
    "url=\"https://opendata.ecdc.europa.eu/covid19/casedistribution/csv\"\n",
    "s=requests.get(url).content\n",
    "c=pd.read_csv(io.StringIO(s.decode('utf-8')))"
   ]
  },
  {
   "cell_type": "markdown",
   "metadata": {},
   "source": [
    "### Plot data"
   ]
  },
  {
   "cell_type": "code",
   "execution_count": null,
   "metadata": {},
   "outputs": [],
   "source": [
    "fig= plt.subplots(figsize=(7, 7))\n",
    "\n",
    "daily_death_threshold = 200\n",
    "\n",
    "for country in c.countriesAndTerritories.unique():\n",
    "    c_country = c.loc[c['countriesAndTerritories'] == country]\n",
    "    c_country['date'] = pd.to_datetime(c_country[['year', 'month', 'day']])\n",
    "    loc = np.where(c_country.deaths.values > daily_death_threshold)[0]\n",
    "    if len(loc > 0):\n",
    "        days = (c_country.date - c_country.iloc[loc[-1]].date).dt.days\n",
    "        my_lw=2\n",
    "        if country == 'United_Kingdom':\n",
    "            my_lw=6\n",
    "        if country == 'Brazil':\n",
    "            my_lw=6\n",
    "        plt.plot(days,c_country.deaths.rolling(window=7).mean(),label=country,lw=my_lw,alpha=0.6)\n",
    "\n",
    "plt.legend(loc=2)\n",
    "plt.title('daily deaths for countries exceeding '+str(daily_death_threshold)+' daily deaths')\n",
    "plt.xlabel('days since 1$^{st}$ occurance of '+str(daily_death_threshold)+' daily deaths')\n",
    "plt.ylabel('daily deaths')\n",
    "plt.xlim([-40,80])"
   ]
  },
  {
   "cell_type": "code",
   "execution_count": null,
   "metadata": {},
   "outputs": [],
   "source": [
    "fig= plt.subplots(figsize=(20, 20))\n",
    "\n",
    "daily_death_threshold_fract_of_pop = 0.00001\n",
    "\n",
    "for country in c.countriesAndTerritories.unique():\n",
    "    c_country = c.loc[c['countriesAndTerritories'] == country]\n",
    "    if c_country.popData2018.values[0] > 1.0e6:\n",
    "        c_country['date'] = pd.to_datetime(c_country[['year', 'month', 'day']])\n",
    "        loc = np.where(c_country.deaths.values > (daily_death_threshold_fract_of_pop * c_country.popData2018.values[0]))[0]\n",
    "        if len(loc > 0):\n",
    "            days = (c_country.date - c_country.iloc[loc[-1]].date).dt.days\n",
    "            my_lw=2\n",
    "#             if country == 'United_Kingdom':\n",
    "#                 my_lw=6\n",
    "            if country == 'Germany':\n",
    "                my_lw=6\n",
    "            plt.plot(days,c_country.deaths.rolling(window=7).mean()/(c_country.popData2018.values[0]/100.0),label=country,lw=my_lw,alpha=0.6)\n",
    "\n",
    "plt.legend(loc=2)\n",
    "plt.title('daily deaths for countries exceeding threshold daily deaths (min counyry pop > 1e6)')\n",
    "plt.xlabel('days since 1$^{st}$ occurance of '+str(daily_death_threshold_fract_of_pop*100)+' % of pop daily deaths')\n",
    "plt.ylabel('daily deaths per 100 of population')\n",
    "plt.xlim([-40,80])"
   ]
  },
  {
   "cell_type": "code",
   "execution_count": null,
   "metadata": {},
   "outputs": [],
   "source": [
    "fig= plt.subplots(figsize=(20, 20))\n",
    "\n",
    "daily_death_threshold_fract_of_pop = 0.000005\n",
    "\n",
    "for country in c.countriesAndTerritories.unique():\n",
    "    c_country = c.loc[c['countriesAndTerritories'] == country]\n",
    "    if c_country.popData2018.values[0] > 1.0e6:\n",
    "        c_country['date'] = pd.to_datetime(c_country[['year', 'month', 'day']])\n",
    "        loc = np.where(c_country.deaths.values > (daily_death_threshold_fract_of_pop * c_country.popData2018.values[0]))[0]\n",
    "        if len(loc > 0):\n",
    "#             \n",
    "            my_lw=2\n",
    "            if country == 'United_Kingdom':\n",
    "                my_lw=6\n",
    "            if country == 'United_States_of_America':\n",
    "                my_lw=6\n",
    "            if country == 'Sweden':\n",
    "                my_lw=6\n",
    "            tmp = c_country.deaths.rolling(window=14).mean()/c_country.deaths.rolling(window=14).mean().max()\n",
    "            loc = np.where(c_country.deaths.rolling(window=7).mean() == np.max(c_country.deaths.rolling(window=7).mean().max()))[0]\n",
    "            days = (c_country.date - c_country.iloc[loc[-1]].date).dt.days\n",
    "            plt.plot(days,tmp,label=country,lw=my_lw,alpha=0.6)\n",
    "\n",
    "plt.legend(loc=2)\n",
    "plt.title('normalised daily deaths for countries exceeding threshold daily deaths (min counyry pop > 1e6)')\n",
    "plt.xlabel('days since 1$^{st}$ occurance of '+str(daily_death_threshold_fract_of_pop*100)+' % of pop daily deaths')\n",
    "plt.ylabel('normalised daily deaths')\n",
    "plt.xlim([-40,80])"
   ]
  },
  {
   "cell_type": "code",
   "execution_count": null,
   "metadata": {},
   "outputs": [],
   "source": [
    "uk_measures={}\n",
    "uk_measures['Heathrow begins screening all arrivals from Wuhan'] = datetime.datetime(2020, 1, 22)\n",
    "uk_measures['doctors given powers to forcibly quarantine people'] = datetime.datetime(2020,2 , 10)\n",
    "uk_measures['Boris Johnson urges everybody in the UK to work from home and avoid pubs and restaurants'] = datetime.datetime(2020, 3, 16)\n",
    "uk_measures['announces most schools across England will be shut down in 2 days'] = datetime.datetime(2020, 3, 18)\n",
    "uk_measures['Johnson orders all pubs, restaurants, gyms and other social venues across the country to close'] = datetime.datetime(2020, 3, 20)\n",
    "uk_measures['Lockdown partial lift, unlimited exercise, back to work if cant work from home, travel for exercise'] = datetime.datetime(2020, 5, 10)\n",
    "\n",
    "infection_to_death=20\n",
    "\n",
    "country = 'United_Kingdom'\n",
    "\n",
    "# country = 'United_States_of_America'\n",
    "# country = 'Finland'\n",
    "\n",
    "from scipy.optimize import curve_fit\n",
    "from itertools import cycle\n",
    "\n",
    "colours = ['r','g','b','c','m','y']\n",
    "colours_cycle = cycle(colours)\n",
    "\n",
    "def func(x, a, c, d):\n",
    "    return a*np.exp(c*x)+d\n",
    "\n",
    "\n",
    "c_country = c.loc[c['countriesAndTerritories'] == country]\n",
    "c_country['date'] = pd.to_datetime(c_country[['year', 'month', 'day']])\n",
    "days = (c_country.date - c_country.iloc[0].date).dt.days\n",
    "\n",
    "fig= plt.subplots(figsize=(10, 10))\n",
    "\n",
    "x,y=days.copy(),c_country.deaths.values.copy()\n",
    "plt.scatter(x,y)\n",
    "\n",
    "# for i in (np.arange(15)+1):\n",
    "#     x,y=days[i::].copy(),c_country.deaths.values[i::].copy()\n",
    "#     popt, pcov = curve_fit(func, x, y)\n",
    "#     plt.plot(x, func(x, *popt),alpha=0.8,label='_nolegend_')\n",
    "\n",
    "if country == 'United_Kingdom':\n",
    "    for key in uk_measures:\n",
    "        color=next(colours_cycle)\n",
    "        date = uk_measures[key]\n",
    "        days = (date - c_country.iloc[0].date).days\n",
    "        days2 = days + infection_to_death\n",
    "        plt.plot([days,days],[0,1200],color,label=key,alpha=0.5,lw=5)\n",
    "        plt.plot([days2,days2],[0,1200],color,alpha=0.2,lw=5)\n",
    "    \n",
    "plt.legend(loc = 1)\n",
    "\n",
    "plt.savefig('/Users/ph290/Downloads/x_deaths.png')\n",
    "# plt.xlim([-35,5])"
   ]
  },
  {
   "cell_type": "code",
   "execution_count": null,
   "metadata": {},
   "outputs": [],
   "source": [
    "\n"
   ]
  },
  {
   "cell_type": "code",
   "execution_count": null,
   "metadata": {},
   "outputs": [],
   "source": [
    "ISO3_codes = np.array([str(x) for x in np.unique(c.countryterritoryCode)])\n",
    "ISO3_codes = ISO3_codes[ISO3_codes <> 'nan']"
   ]
  },
  {
   "cell_type": "code",
   "execution_count": null,
   "metadata": {},
   "outputs": [],
   "source": [
    "ISO3_codes"
   ]
  },
  {
   "cell_type": "code",
   "execution_count": null,
   "metadata": {},
   "outputs": [],
   "source": [
    "import iris\n",
    "file = './data/download_jan.nc'\n",
    "variable = '2 metre temperature' # 10 metre wind speed # surface_downwelling_shortwave_flux_in_air\n",
    "# variable = '10 metre wind speed' \n",
    "cube = iris.load_cube(file,variable)"
   ]
  },
  {
   "cell_type": "code",
   "execution_count": null,
   "metadata": {},
   "outputs": [],
   "source": [
    "import geopandas as gpd\n",
    "# import geopandas\n",
    "\n",
    "# country_df = gpd.read_file(\"./data/TM_WORLD_BORDERS-0.3.shp\", vfs=\"zip://TM_WORLD_BORDERS-0.3.zip/\")\n",
    "country_df = gpd.read_file(\"./data/TM_WORLD_BORDERS-0.3.shp\")\n",
    "\n",
    "\n",
    "def get_country_window(country):\n",
    "    return country_df[country_df[\"ISO3\"].str.lower() == country.lower()].geometry.values[0].bounds\n",
    "\n",
    "\n",
    "fig= plt.subplots(figsize=(10, 10))\n",
    "\n",
    "\n",
    "for ISO3_code in ISO3_codes:\n",
    "    try:\n",
    "\n",
    "        country_window = get_country_window(ISO3_code)\n",
    "        if country_window[0] < 0.0:\n",
    "            country_lon = country_window[0] + (country_window[2]-country_window[0])/2\n",
    "        else:\n",
    "            country_lon = country_window[0] - (country_window[2]-country_window[0])/2\n",
    "\n",
    "        if country_window[1] < 0.0:\n",
    "            country_lat = country_window[1] + (country_window[3]-country_window[1])/2\n",
    "        else:\n",
    "            country_lat = country_window[1] - (country_window[3]-country_window[1])/2\n",
    "\n",
    "\n",
    "        c_country = c.loc[c['countryterritoryCode'] == ISO3_code]\n",
    "        c_country['date'] = pd.to_datetime(c_country[['year', 'month', 'day']])\n",
    "        #         days = (c_country.date - c_country.iloc[0].date).dt.days\n",
    "\n",
    "        sample_points = [('longitude', np.array([country_lon])),('latitude', np.array([country_lat]))]\n",
    "        result = cube.interpolate(sample_points, iris.analysis.Linear())\n",
    "\n",
    "\n",
    "#         loc = np.where(c_country.deaths.values > 10)[0][-1]\n",
    "#         print c_country.deaths.values[loc-14:loc]\n",
    "#         x,y=days[loc-7:loc].copy(),c_country.deaths.values[loc-7:loc].copy()\n",
    "#         popt, pcov = curve_fit(func, x, y)\n",
    "#         plt.scatter(result.data[0][0][0],popt[1],alpha=0.5,label=ISO2_code)\n",
    "        loc1 = np.where(c_country.deaths.values > 100)[0][-1]\n",
    "        loc2 = np.where(c_country.deaths.values > 200)[0][-1]\n",
    "        no_days_a_to_b = (c_country.iloc[loc2].date - c_country.iloc[loc1].date).days\n",
    "        plt.scatter(result.data[0][0][0],no_days_a_to_b,alpha=0.5,label=ISO3_code)\n",
    "\n",
    "    except:\n",
    "        pass\n",
    "\n",
    "plt.legend()\n",
    "# plt.ylim([0,10])\n"
   ]
  },
  {
   "cell_type": "markdown",
   "metadata": {},
   "source": [
    "# UK deaths by date of death\n",
    "Note - these are deaths in hospital of people who tested positive for covid - not that covid was the cause of death.\n",
    "This may be why numbers plateau at low values, because they were deaths taht woul dhave happened anyway, and they just happned to have covid but would not have died from that?"
   ]
  },
  {
   "cell_type": "code",
   "execution_count": null,
   "metadata": {},
   "outputs": [],
   "source": [
    "import pandas as pd\n",
    "import datetime\n",
    "from datetime import date\n"
   ]
  },
  {
   "cell_type": "code",
   "execution_count": null,
   "metadata": {},
   "outputs": [],
   "source": [
    "uk_measures={}\n",
    "uk_measures['Heathrow begins screening all arrivals from Wuhan'] = datetime.datetime(2020, 1, 22)\n",
    "uk_measures['doctors given powers to forcibly quarantine people'] = datetime.datetime(2020,2 , 10)\n",
    "uk_measures['Boris Johnson urges everybody in the UK to work from home and avoid pubs and restaurants'] = datetime.datetime(2020, 3, 16)\n",
    "uk_measures['announces most schools across England will be shut down in 2 days'] = datetime.datetime(2020, 3, 18)\n",
    "uk_measures['Johnson orders all pubs, restaurants, gyms and other social venues across the country to close'] = datetime.datetime(2020, 3, 20)\n",
    "uk_measures['Easter weekend'] = datetime.datetime(2020, 4, 12)\n",
    "uk_measures['Lockdown partial lift, unlimited exercise, back to work if cant work from home, travel for exercise'] = datetime.datetime(2020, 5, 10)\n",
    "uk_measures['Meet one person in public space'] = datetime.datetime(2020, 5, 13)\n",
    "uk_measures['Schools back. Meet outdoors groups of 6'] = datetime.datetime(2020, 6, 1)\n"
   ]
  },
  {
   "cell_type": "code",
   "execution_count": null,
   "metadata": {},
   "outputs": [],
   "source": [
    "# https://www.england.nhs.uk/statistics/statistical-work-areas/covid-19-daily-deaths/\n",
    "# https://www.england.nhs.uk/statistics/wp-content/uploads/sites/2/2020/05/COVID-19-total-announced-deaths-26-May-2020.xlsx\n",
    "try:\n",
    "    analysis_day = date.today()\n",
    "    url=\"https://www.england.nhs.uk/statistics/wp-content/uploads/sites/2/2020/\"+analysis_day.strftime('%m')+\"/COVID-19-total-announced-deaths-\"+str(analysis_day.day)+\"-\"+analysis_day.strftime('%B')+\"-2020.xlsx\"\n",
    "    df = pd.read_excel(url, sheetname='Tab4 Deaths by trust', header=15)\n",
    "except:\n",
    "    try:\n",
    "        analysis_day = date.today()- datetime.timedelta(days=1)\n",
    "        url=\"https://www.england.nhs.uk/statistics/wp-content/uploads/sites/2/2020/\"+analysis_day.strftime('%m')+\"/COVID-19-total-announced-deaths-\"+str(analysis_day.day)+\"-\"+analysis_day.strftime('%B')+\"-2020.xlsx\"\n",
    "        df = pd.read_excel(url, sheetname='Tab4 Deaths by trust', header=15)\n",
    "    except:\n",
    "        try:\n",
    "            analysis_day = date.today()- datetime.timedelta(days=2)\n",
    "            url=\"https://www.england.nhs.uk/statistics/wp-content/uploads/sites/2/2020/\"+analysis_day.strftime('%m')+\"/COVID-19-total-announced-deaths-\"+str(analysis_day.day)+\"-\"+analysis_day.strftime('%B')+\"-2020.xlsx\"\n",
    "            df = pd.read_excel(url, sheetname='Tab4 Deaths by trust', header=15)\n",
    "        except:\n",
    "            analysis_day = date.today()- datetime.timedelta(days=3)\n",
    "            url=\"https://www.england.nhs.uk/statistics/wp-content/uploads/sites/2/2020/\"+analysis_day.strftime('%m')+\"/COVID-19-total-announced-deaths-\"+str(analysis_day.day-1)+\"-\"+analysis_day.strftime('%B')+\"-2020.xlsx\"\n",
    "            df = pd.read_excel(url, sheetname='Tab4 Deaths by trust', header=15)\n",
    "\n",
    "df = df.iloc[2::]\n",
    "\n",
    "print 'Regions:'\n",
    "print df['NHS England Region'].unique()"
   ]
  },
  {
   "cell_type": "code",
   "execution_count": null,
   "metadata": {},
   "outputs": [],
   "source": [
    "population={}\n",
    "population['East Of England'] = 6.2e6\n",
    "population['London'] = 8.9e6\n",
    "population['Midlands'] = 5.9e6 +4.8e6\n",
    "population['North East And Yorkshire'] = 2.66e6 +5.48e6\n",
    "population['North West'] = 7.29e6\n",
    "population['South East'] = 9.13e6\n",
    "population['South West'] = 5.56e6\n"
   ]
  },
  {
   "cell_type": "code",
   "execution_count": null,
   "metadata": {},
   "outputs": [],
   "source": [
    "total = 0.0\n",
    "for key in list(population):\n",
    "    total += population[key]\n",
    "\n",
    "print total"
   ]
  },
  {
   "cell_type": "code",
   "execution_count": null,
   "metadata": {},
   "outputs": [],
   "source": [
    "first_date = datetime.datetime(2020, 3, 1, 0, 0)\n",
    "last_date = analysis_day\n",
    "\n",
    "out_dates = []\n",
    "out_deaths = []\n",
    "\n",
    "dates = pd.date_range(start=first_date,end=last_date)\n",
    "dates = pd.date_range(start=first_date,end=last_date)\n",
    "for i,date in enumerate(dates):\n",
    "    try:\n",
    "        out_deaths.append(df[dates[i]].sum())\n",
    "        out_dates.append(date)\n",
    "    except:\n",
    "        pass\n",
    "\n",
    "\n",
    "region = 'London' # specify NHS region\n",
    "# region = 'South West' # specify NHS region\n",
    "\n",
    "df_tmp = df.loc[df['NHS England Region'] == region]\n",
    "out_dates_region = []\n",
    "out_deaths_region = []\n",
    "\n",
    "dates = pd.date_range(start=first_date,end=last_date)\n",
    "dates = pd.date_range(start=first_date,end=last_date)\n",
    "for i,date in enumerate(dates):\n",
    "    try:\n",
    "        out_deaths_region.append(df_tmp[dates[i]].sum())\n",
    "        out_dates_region.append(date)\n",
    "    except:\n",
    "        pass\n",
    "\n",
    "out_deaths_region_tot=out_deaths_region\n",
    "out_deaths_region = np.array(out_deaths_region)\n",
    "out_deaths_region /= population[region]\n",
    "#     \n",
    "region2 = 'South West' # specify NHS region\n",
    "# region2 = 'Midlands' # specify NHS region\n",
    "# region2 = 'East Of England'\n",
    "# region2 = 'North East And Yorkshire'\n",
    "# region2 = 'North West'\n",
    "# region2 = 'South East'\n",
    "\n",
    "df_tmp = df.loc[df['NHS England Region'] == region2]\n",
    "out_dates_region2 = []\n",
    "out_deaths_region2 = []\n",
    "\n",
    "\n",
    "for i,date in enumerate(dates):\n",
    "    try:\n",
    "        out_deaths_region2.append(df_tmp[dates[i]].sum())\n",
    "        out_dates_region2.append(date)\n",
    "    except:\n",
    "        pass\n",
    "\n",
    "out_deaths_region2_tot = out_deaths_region2\n",
    "out_deaths_region2 = np.array(out_deaths_region2)\n",
    "out_deaths_region2 /= population[region2]\n",
    "\n",
    "# region3 = 'South West' # specify NHS region\n",
    "# region3 = 'Midlands' # specify NHS region\n",
    "region3 = 'East Of England'\n",
    "# region3 = 'North East And Yorkshire'\n",
    "# region3 = 'North West'\n",
    "# region3 = 'South East'\n",
    "\n",
    "df_tmp = df.loc[df['NHS England Region'] == region3]\n",
    "out_dates_region3 = []\n",
    "out_deaths_region3 = []\n",
    "\n",
    "for i,date in enumerate(dates):\n",
    "    try:\n",
    "        out_deaths_region3.append(df_tmp[dates[i]].sum())\n",
    "        out_dates_region3.append(date)\n",
    "    except:\n",
    "        pass\n",
    "\n",
    "out_deaths_region3_tot = out_deaths_region3\n",
    "out_deaths_region3 = np.array(out_deaths_region3)\n",
    "out_deaths_region3 /= population[region3]\n"
   ]
  },
  {
   "cell_type": "code",
   "execution_count": null,
   "metadata": {},
   "outputs": [],
   "source": [
    "def plot_region(region,df,dates):\n",
    "    df_tmp = df.loc[df['NHS England Region'] == region]\n",
    "    out_dates_region = []\n",
    "    out_deaths_region = []\n",
    "    for i,date in enumerate(dates):\n",
    "        try:\n",
    "            out_deaths_region.append(df_tmp[dates[i]].sum())\n",
    "            out_dates_region.append(date)\n",
    "        except:\n",
    "            pass\n",
    "#     plt.scatter(out_dates_region,out_deaths_region,label= region,alpha=0.5,s=10)\n",
    "    plt.plot(out_dates_region,out_deaths_region,label= region,alpha=0.5)\n",
    "    \n",
    "max_no = 600\n",
    "\n",
    "fig= plt.subplots(figsize=(20, 20))\n",
    "plt.scatter(out_dates,out_deaths,label='all regions')\n",
    " \n",
    "\n",
    "\n",
    "regions = ['London','South West','Midlands','East Of England','North East And Yorkshire','North West','South East']\n",
    "for region in regions:\n",
    "    plot_region(region,df,dates)\n",
    "\n",
    "x_still_coming_in = out_dates[-1]- datetime.timedelta(days=5)\n",
    "plt.plot([x_still_coming_in,x_still_coming_in],[0,max_no])\n",
    "\n",
    "# for tmp in list(uk_measures):\n",
    "#     measure = uk_measures[tmp]\n",
    "#     plt.plot([measure,measure],[0,max_no],'r')\n",
    "#     plt.plot([measure + datetime.timedelta(days=20),measure + datetime.timedelta(days=20)],[0,max_no],'r',alpha=0.6)\n",
    "from scipy.optimize import curve_fit\n",
    "from itertools import cycle\n",
    "\n",
    "colours = ['r','g','b','c','m','y','#C0C0C0','#808000','#008080']\n",
    "colours_cycle = cycle(colours)\n",
    "\n",
    "infection_to_death=20\n",
    "for key in uk_measures:\n",
    "    color=next(colours_cycle)\n",
    "    days = uk_measures[key]\n",
    "    days2 = days + datetime.timedelta(infection_to_death)\n",
    "    plt.plot([days,days],[0,max_no],color,label=key,alpha=0.5,lw=5)\n",
    "    plt.plot([days2,days2],[0,max_no],color,alpha=0.2,lw=5)\n",
    "\n",
    "\n",
    "\n",
    "plt.legend(loc=1)\n",
    "plt.ylabel('deaths per day per thousand\\nday of actual death')\n",
    "plt.title('England hospital deaths\\nright of blue line = prelim. data\\nred lines lockdown date and 20 days after that')\n",
    "\n",
    "plt.ylim([0,max_no])\n",
    "# plt.savefig('/Users/ph290/Downloads/deaths_by_actual_date_tot.png')"
   ]
  },
  {
   "cell_type": "code",
   "execution_count": null,
   "metadata": {},
   "outputs": [],
   "source": [
    "def plot_region(region,df,dates):\n",
    "    df_tmp = df.loc[df['NHS England Region'] == region]\n",
    "    out_dates_region = []\n",
    "    out_deaths_region = []\n",
    "    for i,date in enumerate(dates):\n",
    "        try:\n",
    "            out_deaths_region.append(df_tmp[dates[i]].sum())\n",
    "            out_dates_region.append(date)\n",
    "        except:\n",
    "            pass\n",
    "#     plt.scatter(out_dates_region,out_deaths_region,label= region,alpha=0.5,s=10)\n",
    "    plt.plot(out_dates_region,out_deaths_region,label= region,alpha=0.5)\n",
    "    \n",
    "max_no = 100\n",
    "\n",
    "fig= plt.subplots(figsize=(20, 10))\n",
    "plt.scatter(out_dates,out_deaths,label='all regions')\n",
    " \n",
    "\n",
    "\n",
    "regions = ['London','South West','Midlands','East Of England','North East And Yorkshire','North West','South East']\n",
    "for region in regions:\n",
    "    plot_region(region,df,dates)\n",
    "\n",
    "x_still_coming_in = out_dates[-1]- datetime.timedelta(days=5)\n",
    "plt.plot([x_still_coming_in,x_still_coming_in],[0,max_no])\n",
    "\n",
    "# for tmp in list(uk_measures):\n",
    "#     measure = uk_measures[tmp]\n",
    "#     plt.plot([measure,measure],[0,max_no],'r')\n",
    "#     plt.plot([measure + datetime.timedelta(days=20),measure + datetime.timedelta(days=20)],[0,max_no],alpha=0.6)\n",
    "from scipy.optimize import curve_fit\n",
    "from itertools import cycle\n",
    "\n",
    "\n",
    "infection_to_death=20\n",
    "for key in uk_measures:\n",
    "    color=next(colours_cycle)\n",
    "    days = uk_measures[key]\n",
    "    days2 = days + datetime.timedelta(infection_to_death)\n",
    "    plt.plot([days,days],[0,max_no],color,label=key,alpha=0.5,lw=5)\n",
    "    plt.plot([days2,days2],[0,max_no],color,alpha=0.2,lw=5)\n",
    "\n",
    "\n",
    "plt.legend()\n",
    "plt.ylabel('deaths per day per thousand\\nday of actual death')\n",
    "plt.title('England hospital deaths\\nright of blue line = prelim. data\\nred lines lockdown date and 20 days after that')\n",
    "\n",
    "plt.ylim([0,max_no])\n",
    "plt.savefig('/Users/ph290/Downloads/deaths_by_actual_date_tot.png')"
   ]
  },
  {
   "cell_type": "code",
   "execution_count": null,
   "metadata": {},
   "outputs": [],
   "source": [
    "max_no = 0.025\n",
    "\n",
    "fig= plt.subplots(figsize=(10, 10))\n",
    "plt.scatter(out_dates,(np.array(out_deaths)/total)*1000.0,label='all regions')\n",
    "\n",
    "plt.plot(out_dates_region,out_deaths_region*1000.0,label= region)\n",
    "plt.plot(out_dates_region2,out_deaths_region2*1000.0,label= region2)\n",
    "\n",
    "x_still_coming_in = out_dates[-1]- datetime.timedelta(days=5)\n",
    "plt.plot([x_still_coming_in,x_still_coming_in],[0,max_no])\n",
    "\n",
    "infection_to_death=20\n",
    "for key in uk_measures:\n",
    "    color=next(colours_cycle)\n",
    "    days = uk_measures[key]\n",
    "    days2 = days + datetime.timedelta(infection_to_death)\n",
    "    plt.plot([days,days],[0,max_no],color,label=key,alpha=0.5,lw=5)\n",
    "    plt.plot([days2,days2],[0,max_no],color,alpha=0.2,lw=5)\n",
    "\n",
    "plt.legend()\n",
    "plt.ylabel('deaths per day per thousand\\nday of actual death')\n",
    "plt.title('England hospital deaths\\nright of blue line = prelim. data\\nred lines lockdown date and 20 days after that')\n",
    "\n",
    "plt.savefig('/Users/ph290/Downloads/deaths_by_actual_date.png')"
   ]
  },
  {
   "cell_type": "code",
   "execution_count": null,
   "metadata": {},
   "outputs": [],
   "source": [
    "try:\n",
    "    analysis_day = date.today()\n",
    "    url=\"https://www.england.nhs.uk/statistics/wp-content/uploads/sites/2/2020/\"+analysis_day.strftime('%m')+\"/COVID-19-total-announced-deaths-\"+str(analysis_day.day)+\"-\"+analysis_day.strftime('%B')+\"-2020.xlsx\"\n",
    "    df_age = pd.read_excel(url, sheetname='Tab3 Deaths by age', header=15)\n",
    "except:\n",
    "    try:\n",
    "        analysis_day = date.today()- datetime.timedelta(days=1)\n",
    "        url=\"https://www.england.nhs.uk/statistics/wp-content/uploads/sites/2/2020/\"+analysis_day.strftime('%m')+\"/COVID-19-total-announced-deaths-\"+str(analysis_day.day)+\"-\"+analysis_day.strftime('%B')+\"-2020.xlsx\"\n",
    "        df_age = pd.read_excel(url, sheetname='Tab3 Deaths by age', header=15)\n",
    "    except:\n",
    "        try:\n",
    "            analysis_day = date.today()- datetime.timedelta(days=2)\n",
    "            url=\"https://www.england.nhs.uk/statistics/wp-content/uploads/sites/2/2020/\"+analysis_day.strftime('%m')+\"/COVID-19-total-announced-deaths-\"+str(analysis_day.day)+\"-\"+analysis_day.strftime('%B')+\"-2020.xlsx\"\n",
    "            df_age = pd.read_excel(url, sheetname='Tab3 Deaths by age', header=15)\n",
    "        except:\n",
    "            analysis_day = date.today()- datetime.timedelta(days=3)\n",
    "            url=\"https://www.england.nhs.uk/statistics/wp-content/uploads/sites/2/2020/\"+analysis_day.strftime('%m')+\"/COVID-19-total-announced-deaths-\"+str(analysis_day.day-1)+\"-\"+analysis_day.strftime('%B')+\"-2020.xlsx\"\n",
    "            df_age = pd.read_excel(url, sheetname='Tab3 Deaths by age', header=15)\n",
    "\n",
    "df_age = df_age.iloc[2::].T\n",
    "df_age.columns = df_age.iloc[0]\n",
    "df_age = df_age.iloc[3:-4]"
   ]
  },
  {
   "cell_type": "code",
   "execution_count": null,
   "metadata": {},
   "outputs": [],
   "source": [
    "fig= plt.subplots(figsize=(10, 10))\n",
    "\n",
    "for col_name in list(df_age.iloc[:,0:5]):\n",
    "    plt.plot(df_age.index,df_age[col_name],label=col_name)\n",
    "\n",
    "x_still_coming_in = out_dates[-1]- datetime.timedelta(days=5)\n",
    "plt.plot([x_still_coming_in,x_still_coming_in],[0,500])\n",
    "\n",
    "max_no=400\n",
    "infection_to_death=20\n",
    "for key in uk_measures:\n",
    "    color=next(colours_cycle)\n",
    "    days = uk_measures[key]\n",
    "    days2 = days + datetime.timedelta(infection_to_death)\n",
    "    plt.plot([days,days],[0,max_no],color,label=key,alpha=0.5,lw=5)\n",
    "    plt.plot([days2,days2],[0,max_no],color,alpha=0.2,lw=5)\n",
    "\n",
    "plt.legend()\n",
    "plt.ylabel('deaths per day\\nday of actual death')\n",
    "plt.title('England hospital deaths\\nright of blue line = prelim. data\\nred lines lockdown date and 20 days after that')\n",
    "\n",
    "plt.legend()\n",
    "plt.savefig('/Users/ph290/Downloads/deaths_by_actual_date_by_date.png')"
   ]
  },
  {
   "cell_type": "code",
   "execution_count": null,
   "metadata": {},
   "outputs": [],
   "source": [
    "fig= plt.subplots(figsize=(10, 10))\n",
    "\n",
    "for col_name in list(df_age.iloc[:,0:5]):\n",
    "    plt.plot(df_age.index,df_age[col_name],label=col_name)\n",
    "\n",
    "x_still_coming_in = out_dates[-1]- datetime.timedelta(days=5)\n",
    "plt.plot([x_still_coming_in,x_still_coming_in],[0,500])\n",
    "\n",
    "max_no=100\n",
    "infection_to_death=20\n",
    "for key in uk_measures:\n",
    "    color=next(colours_cycle)\n",
    "    days = uk_measures[key]\n",
    "    days2 = days + datetime.timedelta(infection_to_death)\n",
    "    plt.plot([days,days],[0,max_no],color,label=key,alpha=0.5,lw=5)\n",
    "    plt.plot([days2,days2],[0,max_no],color,alpha=0.2,lw=5)\n",
    "\n",
    "plt.ylim([0,100])\n",
    "\n",
    "plt.legend()\n",
    "plt.ylabel('deaths per day\\nday of actual death')\n",
    "plt.title('England hospital deaths\\nright of blue line = prelim. data\\nred lines lockdown date and 20 days after that')\n",
    "\n",
    "plt.legend()\n",
    "plt.savefig('/Users/ph290/Downloads/deaths_by_actual_date_by_date.png')"
   ]
  },
  {
   "cell_type": "code",
   "execution_count": null,
   "metadata": {},
   "outputs": [],
   "source": [
    "fig= plt.subplots(figsize=(15, 10))\n",
    "\n",
    "for col_name in list(df_age.iloc[:,0:5]):\n",
    "    plt.plot(df_age.index,df_age[col_name],label=col_name)\n",
    "\n",
    "x_still_coming_in = out_dates[-1]- datetime.timedelta(days=5)\n",
    "plt.plot([x_still_coming_in,x_still_coming_in],[0,500])\n",
    "\n",
    "max_no=100\n",
    "infection_to_death=20\n",
    "for key in uk_measures:\n",
    "    color=next(colours_cycle)\n",
    "    days = uk_measures[key]\n",
    "    days2 = days + datetime.timedelta(infection_to_death)\n",
    "    plt.plot([days,days],[0,max_no],color,label=key,alpha=0.5,lw=5)\n",
    "    plt.plot([days2,days2],[0,max_no],color,alpha=0.2,lw=5)\n",
    "\n",
    "\n",
    "plt.legend()\n",
    "plt.ylabel('deaths per day\\nday of actual death')\n",
    "plt.title('England hospital deaths\\nright of blue line = prelim. data\\nred lines lockdown date and 20 days after that')\n",
    "\n",
    "plt.legend()\n",
    "\n",
    "plt.ylim([0,150])"
   ]
  },
  {
   "cell_type": "code",
   "execution_count": null,
   "metadata": {},
   "outputs": [],
   "source": [
    "# UK (not england) age"
   ]
  },
  {
   "cell_type": "code",
   "execution_count": null,
   "metadata": {},
   "outputs": [],
   "source": [
    "df3 = pd.read_csv('/Users/ph290/Downloads/United Kingdom-2020.csv')"
   ]
  },
  {
   "cell_type": "code",
   "execution_count": null,
   "metadata": {},
   "outputs": [],
   "source": [
    "df3['total']= df3.M + df3.F\n",
    "ages = ['0-19','20-39','40-59','60-79','80+']\n",
    "tot_pop = [df3['total'].iloc[i*4:(i*4)+4].sum() for i in np.arange(5)]\n",
    "tot_pop[-1] += df3['total'].iloc[-1]\n",
    "tot_pop_fract = ((np.array(tot_pop)*1.0)/np.sum(tot_pop))"
   ]
  },
  {
   "cell_type": "code",
   "execution_count": null,
   "metadata": {},
   "outputs": [],
   "source": [
    "plt.scatter(ages,tot_pop_fract)"
   ]
  },
  {
   "cell_type": "code",
   "execution_count": null,
   "metadata": {},
   "outputs": [],
   "source": [
    "fig= plt.subplots(figsize=(10, 10))\n",
    "\n",
    "for i,col_name in enumerate(list(df_age.iloc[:,0:5])):\n",
    "    plt.scatter(df_age.index,df_age[col_name]/tot_pop[i],label=col_name)\n",
    "\n",
    "x_still_coming_in = out_dates[-1]- datetime.timedelta(days=5)\n",
    "plt.plot([x_still_coming_in,x_still_coming_in],[0,0.00015])\n",
    "\n",
    "max_no=100\n",
    "infection_to_death=20\n",
    "for key in uk_measures:\n",
    "    color=next(colours_cycle)\n",
    "    days = uk_measures[key]\n",
    "    days2 = days + datetime.timedelta(infection_to_death)\n",
    "    plt.plot([days,days],[0,max_no],color,label=key,alpha=0.5,lw=5)\n",
    "    plt.plot([days2,days2],[0,max_no],color,alpha=0.2,lw=5)\n",
    "\n",
    "plt.ylim([0.0,0.00015])\n",
    "plt.legend()\n",
    "plt.ylabel('Fractino of that age group\\ndeaths per day\\nday of actual death')\n",
    "plt.title('England hospital deaths\\nright of blue line = prelim. data\\nred lines lockdown date and 20 days after that')\n",
    "\n",
    "plt.legend()\n",
    "plt.savefig('/Users/ph290/Downloads/deaths_by_actual_date_by_date_fract_of_pop.png')"
   ]
  },
  {
   "cell_type": "code",
   "execution_count": null,
   "metadata": {},
   "outputs": [],
   "source": [
    "plt.scatter([9.9,29.5,49.5,69.5,85.0],[df_age[name].sum()/tot_pop[i] for i,name in enumerate(list(df_age.iloc[:,0:5]))])\n",
    "plt.ylim(0.0,0.004)"
   ]
  },
  {
   "cell_type": "code",
   "execution_count": null,
   "metadata": {},
   "outputs": [],
   "source": [
    "from scipy.interpolate import interp1d\n",
    "\n",
    "x = [9.9,29.5,49.5,69.5,85.0]\n",
    "y=[df_age[name].sum() for i,name in enumerate(list(df_age.iloc[:,0:5]))]\n",
    "\n",
    "f = interp1d(x, y)\n",
    "f2 = interp1d(x, y, kind='quadratic')\n",
    "\n",
    "xnew = np.linspace(np.min(x), np.max(x), num=100)\n",
    "plt.plot(x, y, 'o', xnew, f(xnew), '-', xnew, f2(xnew), '--')\n"
   ]
  },
  {
   "cell_type": "code",
   "execution_count": null,
   "metadata": {},
   "outputs": [],
   "source": [
    "xnew = np.linspace(np.min(x), np.max(x), num=100)\n",
    "plt.plot(x, y, 'o', xnew, f(xnew), '-', xnew, f2(xnew), '--')\n",
    "plt.ylim(0,2050)"
   ]
  },
  {
   "cell_type": "code",
   "execution_count": null,
   "metadata": {},
   "outputs": [],
   "source": [
    "xnew = np.linspace(np.min(x), np.max(x), num=100)\n",
    "plt.plot(x, y, 'o', xnew, f(xnew), '-', xnew, f2(xnew), '--')\n",
    "plt.ylim(0,205)"
   ]
  },
  {
   "cell_type": "code",
   "execution_count": null,
   "metadata": {},
   "outputs": [],
   "source": []
  },
  {
   "cell_type": "code",
   "execution_count": null,
   "metadata": {},
   "outputs": [],
   "source": []
  },
  {
   "cell_type": "code",
   "execution_count": null,
   "metadata": {},
   "outputs": [],
   "source": []
  },
  {
   "cell_type": "code",
   "execution_count": null,
   "metadata": {},
   "outputs": [],
   "source": []
  },
  {
   "cell_type": "code",
   "execution_count": null,
   "metadata": {},
   "outputs": [],
   "source": []
  },
  {
   "cell_type": "code",
   "execution_count": null,
   "metadata": {},
   "outputs": [],
   "source": []
  },
  {
   "cell_type": "code",
   "execution_count": null,
   "metadata": {},
   "outputs": [],
   "source": []
  },
  {
   "cell_type": "code",
   "execution_count": null,
   "metadata": {},
   "outputs": [],
   "source": []
  },
  {
   "cell_type": "code",
   "execution_count": null,
   "metadata": {},
   "outputs": [],
   "source": []
  },
  {
   "cell_type": "code",
   "execution_count": null,
   "metadata": {},
   "outputs": [],
   "source": []
  },
  {
   "cell_type": "code",
   "execution_count": null,
   "metadata": {},
   "outputs": [],
   "source": []
  },
  {
   "cell_type": "code",
   "execution_count": null,
   "metadata": {},
   "outputs": [],
   "source": []
  },
  {
   "cell_type": "code",
   "execution_count": null,
   "metadata": {},
   "outputs": [],
   "source": []
  },
  {
   "cell_type": "code",
   "execution_count": null,
   "metadata": {},
   "outputs": [],
   "source": []
  },
  {
   "cell_type": "code",
   "execution_count": null,
   "metadata": {},
   "outputs": [],
   "source": []
  },
  {
   "cell_type": "code",
   "execution_count": null,
   "metadata": {},
   "outputs": [],
   "source": []
  },
  {
   "cell_type": "code",
   "execution_count": null,
   "metadata": {},
   "outputs": [],
   "source": []
  },
  {
   "cell_type": "code",
   "execution_count": null,
   "metadata": {},
   "outputs": [],
   "source": []
  },
  {
   "cell_type": "code",
   "execution_count": null,
   "metadata": {},
   "outputs": [],
   "source": []
  },
  {
   "cell_type": "code",
   "execution_count": null,
   "metadata": {},
   "outputs": [],
   "source": []
  },
  {
   "cell_type": "code",
   "execution_count": null,
   "metadata": {},
   "outputs": [],
   "source": []
  },
  {
   "cell_type": "code",
   "execution_count": null,
   "metadata": {},
   "outputs": [],
   "source": []
  },
  {
   "cell_type": "code",
   "execution_count": null,
   "metadata": {},
   "outputs": [],
   "source": []
  },
  {
   "cell_type": "code",
   "execution_count": null,
   "metadata": {},
   "outputs": [],
   "source": []
  },
  {
   "cell_type": "code",
   "execution_count": null,
   "metadata": {},
   "outputs": [],
   "source": []
  },
  {
   "cell_type": "code",
   "execution_count": null,
   "metadata": {},
   "outputs": [],
   "source": []
  },
  {
   "cell_type": "code",
   "execution_count": null,
   "metadata": {},
   "outputs": [],
   "source": []
  },
  {
   "cell_type": "code",
   "execution_count": null,
   "metadata": {},
   "outputs": [],
   "source": []
  },
  {
   "cell_type": "code",
   "execution_count": null,
   "metadata": {},
   "outputs": [],
   "source": []
  },
  {
   "cell_type": "code",
   "execution_count": null,
   "metadata": {},
   "outputs": [],
   "source": []
  },
  {
   "cell_type": "code",
   "execution_count": null,
   "metadata": {},
   "outputs": [],
   "source": []
  },
  {
   "cell_type": "code",
   "execution_count": null,
   "metadata": {},
   "outputs": [],
   "source": []
  },
  {
   "cell_type": "code",
   "execution_count": null,
   "metadata": {},
   "outputs": [],
   "source": []
  },
  {
   "cell_type": "code",
   "execution_count": null,
   "metadata": {},
   "outputs": [],
   "source": []
  }
 ],
 "metadata": {
  "kernelspec": {
   "display_name": "Python 2",
   "language": "python",
   "name": "python2"
  },
  "language_info": {
   "codemirror_mode": {
    "name": "ipython",
    "version": 2
   },
   "file_extension": ".py",
   "mimetype": "text/x-python",
   "name": "python",
   "nbconvert_exporter": "python",
   "pygments_lexer": "ipython2",
   "version": "2.7.17"
  }
 },
 "nbformat": 4,
 "nbformat_minor": 4
}
