{
 "cells": [
  {
   "cell_type": "markdown",
   "id": "c7818c39",
   "metadata": {},
   "source": [
    "# Carbonate system through SeaCURE system "
   ]
  },
  {
   "cell_type": "markdown",
   "id": "a5c9d5f0",
   "metadata": {},
   "source": [
    "### functions required for subsequent calculations"
   ]
  },
  {
   "cell_type": "code",
   "execution_count": 301,
   "id": "18406879",
   "metadata": {},
   "outputs": [],
   "source": [
    "import numpy as np\n",
    "import PyCO2SYS as pyco2\n",
    "import pandas as pd\n",
    "\n",
    "def carbon_chem_from_alk_and_dic(alkalinity, dic, temperature, salinity):\n",
    "    # * **Total alkalinity** (type `1`) in μmol·kg<sup>−1</sup>.\n",
    "    # * **Dissolved inorganic carbon** (type `2`) in μmol·kg<sup>−1</sup>.\n",
    "    # * **pH** (type `3`) on the Total, Seawater, Free or NBS scale[^1].  Which scale is given by the input `pHSCALEIN`.\n",
    "    # * **Partial pressure** (type `4`) or **fugacity** (type `5`) **of CO<sub>2</sub>** in μatm or **aqueous CO<sub>2</sub>** (type `8`) in μmol·kg<sup>−1</sup>.\n",
    "    # * **Carbonate ion** (type `6`) in μmol·kg<sup>−1</sup>.\n",
    "    # * **Bicarbonate ion** (type `7`) in μmol·kg<sup>−1</sup>.\n",
    "    # Define input conditions\n",
    "    kwargs_alk_dic = dict(\n",
    "        par1 = alkalinity,  # Value of the first parameter\n",
    "        par2 = dic,  # Value of the second parameter, which is a long vector of different DIC's!\n",
    "        par1_type = 1,  # The first parameter supplied is of type \"1\", which is \"alkalinity\"\n",
    "        par2_type = 2,  # The second parameter supplied is of type \"2\", which is \"DIC\"\n",
    "        salinity = salinity,  # Salinity of the sample\n",
    "        temperature = temperature,  # Temperature at input conditions\n",
    "    )\n",
    "    return pd.DataFrame.from_dict(pyco2.sys(**kwargs_alk_dic), orient='index').T\n",
    "\n",
    "def carbon_chem_from_pH_and_dic(pH, dic, temperature, salinity):\n",
    "    # Define input conditions\n",
    "    kwargs_pH_dic = dict(\n",
    "        par1 = dic,  # Value of the first parameter\n",
    "        par2 = pH,  # Value of the second parameter, which is a long vector of different DIC's!\n",
    "        par1_type = 2,  # The first parameter supplied is of type \"1\", which is \"alkalinity\"\n",
    "        par2_type = 3,  # The second parameter supplied is of type \"2\", which is \"DIC\"\n",
    "        salinity = salinity,  # Salinity of the sample\n",
    "        temperature = temperature,  # Temperature at input conditions\n",
    "    )\n",
    "    return pd.DataFrame.from_dict(pyco2.sys(**kwargs_pH_dic), orient='index').T\n",
    "\n",
    "def conservative_mixing(conc1,conc2,fraction_conc1):\n",
    "    return (conc1 * fraction_conc1) + (conc2 * (1.0 - fraction_conc1))\n",
    "\n",
    "\n",
    "def itterate_on_pH(co2_stripper_conditions,initial_pH_estimate,co2_stripper_predicted_ph,increment,direction):\n",
    "    counter = 0\n",
    "    if direction == 'down':\n",
    "        while co2_stripper_predicted_ph > pH_in_seawater_co2_stripper:\n",
    "            initial_pH_estimate -= increment\n",
    "            counter += 1\n",
    "            ED_cell_seawater = carbon_chem_from_pH_and_dic(initial_pH_estimate, inflow_seawater['dic'].values, temperature, salinity)\n",
    "            alkalinity_after_mixing_streams = conservative_mixing(ED_cell_seawater['alkalinity'].values,inflow_seawater['alkalinity'].values,fraction_of_water_passing_through_ED_acid_stream)\n",
    "            co2_stripper_conditions = carbon_chem_from_alk_and_dic(alkalinity_after_mixing_streams, inflow_seawater_dissolved_inorganic_carbon, seawater_temperature, seawater_salinity)\n",
    "            co2_stripper_predicted_ph = co2_stripper_conditions['pH'].values\n",
    "            if counter > 10000:\n",
    "                print('max iterations hit')\n",
    "                break\n",
    "    else:\n",
    "        while co2_stripper_predicted_ph < pH_in_seawater_co2_stripper:\n",
    "            initial_pH_estimate += increment\n",
    "            counter += 1\n",
    "            ED_cell_seawater = carbon_chem_from_pH_and_dic(initial_pH_estimate, inflow_seawater['dic'].values, temperature, salinity)\n",
    "            alkalinity_after_mixing_streams = conservative_mixing(ED_cell_seawater['alkalinity'].values,inflow_seawater['alkalinity'].values,fraction_of_water_passing_through_ED_acid_stream)\n",
    "            co2_stripper_conditions = carbon_chem_from_alk_and_dic(alkalinity_after_mixing_streams, inflow_seawater_dissolved_inorganic_carbon, seawater_temperature, seawater_salinity)\n",
    "            co2_stripper_predicted_ph = co2_stripper_conditions['pH'].values\n",
    "            if counter > 10000:\n",
    "                print('max iterations hit')\n",
    "                break\n",
    "    return ED_cell_seawater,co2_stripper_conditions,initial_pH_estimate,co2_stripper_predicted_ph"
   ]
  },
  {
   "cell_type": "markdown",
   "id": "1fd7e13b",
   "metadata": {},
   "source": [
    "### Define inputs"
   ]
  },
  {
   "cell_type": "code",
   "execution_count": 334,
   "id": "866946e9",
   "metadata": {},
   "outputs": [],
   "source": [
    "seawater_temperature = 10.0 # degrees C\n",
    "seawater_salinity = 35.0 # psu\n",
    "inflow_seawater_alkalinity = 2300.0 # µeq/kg\n",
    "inflow_seawater_dissolved_inorganic_carbon = 2100.0 # µmol/kg\n",
    "fraction_of_water_passing_through_ED_acid_stream = 0.1 # decimal fraction of the incoming seawater stream diverted through the ED unit\n",
    "pH_in_seawater_co2_stripper = 4.0\n",
    "fraction_of_possible_co2_extracted_to_gas_stream = 1.0 # fraction of the available CO2 removed from teh seawater in the sewater Co2 stripper\n",
    "fraction_of_water_passing_through_ED_base_stream = fraction_of_water_passing_through_ED_acid_stream # initial assumption is that the same volume of fluid is passing through the ED cell's base stream as through the acid stream\n",
    "fraction_of_co2_depleted_water_in_final_outflow = 0.25 # i.e. how much unpricessed seawater if being mixed with the processed water when returned back to the ocean"
   ]
  },
  {
   "cell_type": "markdown",
   "id": "e7b8e3c0",
   "metadata": {},
   "source": [
    "### Chemistry of inflow seawater\n",
    "\n",
    "Note, initial output variables are:\n",
    "\n",
    "pH - self explanatory\n",
    "\n",
    "dic - dissolved inorganic carbon concentration. i.e. total amount of dissolved carbon in the seawater in µmol/kg\n",
    "\n",
    "alkalinity - total alkalinity, 'the molar amount of bases in a solution that can be converted to uncharged species by a strong acid' ([wikipedia](https://en.wikipedia.org/wiki/Alkalinity#cite_note-2)), µeq/kg\n",
    "\n",
    "bicarbonate - concentration of bicarbonate ions µmol/kg\n",
    "\n",
    "carbonate - concentration of carbonate ions µmol/kg\n",
    "\n",
    "pCO2 - partial presure of CO2, µatm"
   ]
  },
  {
   "cell_type": "code",
   "execution_count": 335,
   "id": "804d9f2a",
   "metadata": {},
   "outputs": [
    {
     "data": {
      "text/html": [
       "<div>\n",
       "<style scoped>\n",
       "    .dataframe tbody tr th:only-of-type {\n",
       "        vertical-align: middle;\n",
       "    }\n",
       "\n",
       "    .dataframe tbody tr th {\n",
       "        vertical-align: top;\n",
       "    }\n",
       "\n",
       "    .dataframe thead th {\n",
       "        text-align: right;\n",
       "    }\n",
       "</style>\n",
       "<table border=\"1\" class=\"dataframe\">\n",
       "  <thead>\n",
       "    <tr style=\"text-align: right;\">\n",
       "      <th></th>\n",
       "      <th>pH</th>\n",
       "      <th>dic</th>\n",
       "      <th>alkalinity</th>\n",
       "      <th>bicarbonate</th>\n",
       "      <th>carbonate</th>\n",
       "      <th>pCO2</th>\n",
       "    </tr>\n",
       "  </thead>\n",
       "  <tbody>\n",
       "    <tr>\n",
       "      <th>0</th>\n",
       "      <td>8.091704847930695</td>\n",
       "      <td>2100.0</td>\n",
       "      <td>2300.0</td>\n",
       "      <td>1940.980368</td>\n",
       "      <td>143.206398</td>\n",
       "      <td>361.773084</td>\n",
       "    </tr>\n",
       "  </tbody>\n",
       "</table>\n",
       "</div>"
      ],
      "text/plain": [
       "                  pH     dic alkalinity  bicarbonate   carbonate        pCO2\n",
       "0  8.091704847930695  2100.0     2300.0  1940.980368  143.206398  361.773084"
      ]
     },
     "execution_count": 335,
     "metadata": {},
     "output_type": "execute_result"
    }
   ],
   "source": [
    "inflow_seawater = carbon_chem_from_alk_and_dic(inflow_seawater_alkalinity, inflow_seawater_dissolved_inorganic_carbon, seawater_temperature, seawater_salinity)\n",
    "inflow_seawater[['pH','dic','alkalinity','bicarbonate', 'carbonate','pCO2']]\n"
   ]
  },
  {
   "cell_type": "markdown",
   "id": "1579e431",
   "metadata": {},
   "source": [
    "### Conditions in acid stream of ED cell\n",
    "\n",
    "Crude itteration to find pH in ED cell consistent with the required seawater CO2 stripper pH and fraction of seawaterpassed trhough ED cell"
   ]
  },
  {
   "cell_type": "code",
   "execution_count": 336,
   "id": "1dc92e82",
   "metadata": {},
   "outputs": [
    {
     "data": {
      "text/html": [
       "<div>\n",
       "<style scoped>\n",
       "    .dataframe tbody tr th:only-of-type {\n",
       "        vertical-align: middle;\n",
       "    }\n",
       "\n",
       "    .dataframe tbody tr th {\n",
       "        vertical-align: top;\n",
       "    }\n",
       "\n",
       "    .dataframe thead th {\n",
       "        text-align: right;\n",
       "    }\n",
       "</style>\n",
       "<table border=\"1\" class=\"dataframe\">\n",
       "  <thead>\n",
       "    <tr style=\"text-align: right;\">\n",
       "      <th></th>\n",
       "      <th>pH</th>\n",
       "      <th>dic</th>\n",
       "      <th>alkalinity</th>\n",
       "      <th>bicarbonate</th>\n",
       "      <th>carbonate</th>\n",
       "      <th>pCO2</th>\n",
       "    </tr>\n",
       "  </thead>\n",
       "  <tbody>\n",
       "    <tr>\n",
       "      <th>0</th>\n",
       "      <td>1.662965999999998</td>\n",
       "      <td>2100.0</td>\n",
       "      <td>-21511.534919</td>\n",
       "      <td>0.096042</td>\n",
       "      <td>0.0</td>\n",
       "      <td>48041.328496</td>\n",
       "    </tr>\n",
       "  </tbody>\n",
       "</table>\n",
       "</div>"
      ],
      "text/plain": [
       "                  pH     dic    alkalinity bicarbonate carbonate          pCO2\n",
       "0  1.662965999999998  2100.0 -21511.534919    0.096042       0.0  48041.328496"
      ]
     },
     "execution_count": 336,
     "metadata": {},
     "output_type": "execute_result"
    }
   ],
   "source": [
    "counter = 0\n",
    "co2_stripper_predicted_ph = 1000.0\n",
    "initial_pH_estimate = pH_in_seawater_co2_stripper\n",
    "co2_stripper_conditions = 0.0\n",
    "\n",
    "ED_cell_seawater,co2_stripper_conditions,initial_pH_estimate,co2_stripper_predicted_ph = itterate_on_pH(co2_stripper_conditions,initial_pH_estimate,co2_stripper_predicted_ph,0.1,'down')\n",
    "ED_cell_seawater,co2_stripper_conditions,initial_pH_estimate,co2_stripper_predicted_ph = itterate_on_pH(co2_stripper_conditions,initial_pH_estimate,co2_stripper_predicted_ph,0.01,'up')\n",
    "ED_cell_seawater,co2_stripper_conditions,initial_pH_estimate,co2_stripper_predicted_ph = itterate_on_pH(co2_stripper_conditions,initial_pH_estimate,co2_stripper_predicted_ph,0.001,'down')\n",
    "ED_cell_seawater,co2_stripper_conditions,initial_pH_estimate,co2_stripper_predicted_ph = itterate_on_pH(co2_stripper_conditions,initial_pH_estimate,co2_stripper_predicted_ph,0.0001,'up')\n",
    "ED_cell_seawater,co2_stripper_conditions,initial_pH_estimate,co2_stripper_predicted_ph = itterate_on_pH(co2_stripper_conditions,initial_pH_estimate,co2_stripper_predicted_ph,0.00001,'down')\n",
    "ED_cell_seawater,co2_stripper_conditions,initial_pH_estimate,co2_stripper_predicted_ph = itterate_on_pH(co2_stripper_conditions,initial_pH_estimate,co2_stripper_predicted_ph,0.000001,'up')\n",
    "\n",
    "ED_cell_seawater[['pH','dic','alkalinity','bicarbonate', 'carbonate','pCO2']]\n"
   ]
  },
  {
   "cell_type": "markdown",
   "id": "5ab105cb",
   "metadata": {},
   "source": [
    "\n",
    "\n"
   ]
  },
  {
   "cell_type": "markdown",
   "id": "2142eacf",
   "metadata": {},
   "source": [
    "### Conditions in seawater CO2 stripper"
   ]
  },
  {
   "cell_type": "code",
   "execution_count": 337,
   "id": "4976a141",
   "metadata": {},
   "outputs": [
    {
     "data": {
      "text/html": [
       "<div>\n",
       "<style scoped>\n",
       "    .dataframe tbody tr th:only-of-type {\n",
       "        vertical-align: middle;\n",
       "    }\n",
       "\n",
       "    .dataframe tbody tr th {\n",
       "        vertical-align: top;\n",
       "    }\n",
       "\n",
       "    .dataframe thead th {\n",
       "        text-align: right;\n",
       "    }\n",
       "</style>\n",
       "<table border=\"1\" class=\"dataframe\">\n",
       "  <thead>\n",
       "    <tr style=\"text-align: right;\">\n",
       "      <th></th>\n",
       "      <th>pH</th>\n",
       "      <th>dic</th>\n",
       "      <th>alkalinity</th>\n",
       "      <th>bicarbonate</th>\n",
       "      <th>carbonate</th>\n",
       "      <th>pCO2</th>\n",
       "    </tr>\n",
       "  </thead>\n",
       "  <tbody>\n",
       "    <tr>\n",
       "      <th>0</th>\n",
       "      <td>4.000006046230498</td>\n",
       "      <td>2100.0</td>\n",
       "      <td>-81.153492</td>\n",
       "      <td>20.664562</td>\n",
       "      <td>0.000123</td>\n",
       "      <td>47570.761768</td>\n",
       "    </tr>\n",
       "  </tbody>\n",
       "</table>\n",
       "</div>"
      ],
      "text/plain": [
       "                  pH     dic alkalinity bicarbonate carbonate          pCO2\n",
       "0  4.000006046230498  2100.0 -81.153492   20.664562  0.000123  47570.761768"
      ]
     },
     "execution_count": 337,
     "metadata": {},
     "output_type": "execute_result"
    }
   ],
   "source": [
    "co2_stripper_conditions[['pH','dic','alkalinity','bicarbonate', 'carbonate','pCO2']]"
   ]
  },
  {
   "cell_type": "markdown",
   "id": "c7c77f6a",
   "metadata": {},
   "source": [
    "### Fraction of dissolved carbon potentially liberated"
   ]
  },
  {
   "cell_type": "code",
   "execution_count": 338,
   "id": "58278b21",
   "metadata": {},
   "outputs": [
    {
     "name": "stdout",
     "output_type": "stream",
     "text": [
      "[0.9901596738254074]\n"
     ]
    }
   ],
   "source": [
    "fraction_of_liberated_dic = (inflow_seawater_dissolved_inorganic_carbon - co2_stripper_conditions['bicarbonate'].values - co2_stripper_conditions['carbonate'].values)/inflow_seawater_dissolved_inorganic_carbon\n",
    "print(fraction_of_liberated_dic)"
   ]
  },
  {
   "cell_type": "markdown",
   "id": "4ee9dd63",
   "metadata": {},
   "source": [
    "### Conditions in base stream of ED cell\n"
   ]
  },
  {
   "cell_type": "code",
   "execution_count": 339,
   "id": "095563b7",
   "metadata": {},
   "outputs": [
    {
     "data": {
      "text/html": [
       "<div>\n",
       "<style scoped>\n",
       "    .dataframe tbody tr th:only-of-type {\n",
       "        vertical-align: middle;\n",
       "    }\n",
       "\n",
       "    .dataframe tbody tr th {\n",
       "        vertical-align: top;\n",
       "    }\n",
       "\n",
       "    .dataframe thead th {\n",
       "        text-align: right;\n",
       "    }\n",
       "</style>\n",
       "<table border=\"1\" class=\"dataframe\">\n",
       "  <thead>\n",
       "    <tr style=\"text-align: right;\">\n",
       "      <th></th>\n",
       "      <th>pH</th>\n",
       "      <th>dic</th>\n",
       "      <th>alkalinity</th>\n",
       "      <th>bicarbonate</th>\n",
       "      <th>carbonate</th>\n",
       "      <th>pCO2</th>\n",
       "    </tr>\n",
       "  </thead>\n",
       "  <tbody>\n",
       "    <tr>\n",
       "      <th>0</th>\n",
       "      <td>12.210527851437211</td>\n",
       "      <td>20.664685</td>\n",
       "      <td>23811.534919</td>\n",
       "      <td>0.021282</td>\n",
       "      <td>20.643403</td>\n",
       "      <td>0.0</td>\n",
       "    </tr>\n",
       "  </tbody>\n",
       "</table>\n",
       "</div>"
      ],
      "text/plain": [
       "                   pH        dic    alkalinity bicarbonate  carbonate pCO2\n",
       "0  12.210527851437211  20.664685  23811.534919    0.021282  20.643403  0.0"
      ]
     },
     "execution_count": 339,
     "metadata": {},
     "output_type": "execute_result"
    }
   ],
   "source": [
    "remaining_dic = (co2_stripper_conditions['dic'].values * (1.0 - fraction_of_liberated_dic)) * (1.0/fraction_of_possible_co2_extracted_to_gas_stream)\n",
    "\n",
    "ED_cell_base_seawater = carbon_chem_from_alk_and_dic(inflow_seawater_alkalinity - ED_cell_seawater['alkalinity'], remaining_dic, seawater_temperature, seawater_salinity)\n",
    "ED_cell_base_seawater[['pH','dic','alkalinity','bicarbonate', 'carbonate','pCO2']]"
   ]
  },
  {
   "cell_type": "markdown",
   "id": "8b9a098b",
   "metadata": {},
   "source": [
    "### Conditions after mixing base stream of ED cell with water from seawater CO2 stripper\n"
   ]
  },
  {
   "cell_type": "code",
   "execution_count": 340,
   "id": "25dfd871",
   "metadata": {},
   "outputs": [
    {
     "data": {
      "text/html": [
       "<div>\n",
       "<style scoped>\n",
       "    .dataframe tbody tr th:only-of-type {\n",
       "        vertical-align: middle;\n",
       "    }\n",
       "\n",
       "    .dataframe tbody tr th {\n",
       "        vertical-align: top;\n",
       "    }\n",
       "\n",
       "    .dataframe thead th {\n",
       "        text-align: right;\n",
       "    }\n",
       "</style>\n",
       "<table border=\"1\" class=\"dataframe\">\n",
       "  <thead>\n",
       "    <tr style=\"text-align: right;\">\n",
       "      <th></th>\n",
       "      <th>pH</th>\n",
       "      <th>dic</th>\n",
       "      <th>alkalinity</th>\n",
       "      <th>bicarbonate</th>\n",
       "      <th>carbonate</th>\n",
       "      <th>pCO2</th>\n",
       "    </tr>\n",
       "  </thead>\n",
       "  <tbody>\n",
       "    <tr>\n",
       "      <th>0</th>\n",
       "      <td>11.110095387236399</td>\n",
       "      <td>20.664685</td>\n",
       "      <td>2308.115349</td>\n",
       "      <td>0.265028</td>\n",
       "      <td>20.399655</td>\n",
       "      <td>0.000047</td>\n",
       "    </tr>\n",
       "  </tbody>\n",
       "</table>\n",
       "</div>"
      ],
      "text/plain": [
       "                   pH        dic   alkalinity bicarbonate  carbonate      pCO2\n",
       "0  11.110095387236399  20.664685  2308.115349    0.265028  20.399655  0.000047"
      ]
     },
     "execution_count": 340,
     "metadata": {},
     "output_type": "execute_result"
    }
   ],
   "source": [
    "alkalinity_after_ED_base_and_stripper_mixing = conservative_mixing(ED_cell_base_seawater['alkalinity'].values,co2_stripper_conditions['alkalinity'].values,fraction_of_water_passing_through_ED_base_stream)\n",
    "after_ED_base_and_stripper_mixing = carbon_chem_from_alk_and_dic(alkalinity_after_ED_base_and_stripper_mixing, remaining_dic, seawater_temperature, seawater_salinity)\n",
    "after_ED_base_and_stripper_mixing[['pH','dic','alkalinity','bicarbonate', 'carbonate','pCO2']]"
   ]
  },
  {
   "cell_type": "markdown",
   "id": "8239373f",
   "metadata": {},
   "source": [
    "### Conditions after mixing CO2 depleted water with natural seeawater in final outflow"
   ]
  },
  {
   "cell_type": "code",
   "execution_count": 341,
   "id": "90e104bb",
   "metadata": {},
   "outputs": [
    {
     "data": {
      "text/html": [
       "<div>\n",
       "<style scoped>\n",
       "    .dataframe tbody tr th:only-of-type {\n",
       "        vertical-align: middle;\n",
       "    }\n",
       "\n",
       "    .dataframe tbody tr th {\n",
       "        vertical-align: top;\n",
       "    }\n",
       "\n",
       "    .dataframe thead th {\n",
       "        text-align: right;\n",
       "    }\n",
       "</style>\n",
       "<table border=\"1\" class=\"dataframe\">\n",
       "  <thead>\n",
       "    <tr style=\"text-align: right;\">\n",
       "      <th></th>\n",
       "      <th>pH</th>\n",
       "      <th>dic</th>\n",
       "      <th>alkalinity</th>\n",
       "      <th>bicarbonate</th>\n",
       "      <th>carbonate</th>\n",
       "      <th>pCO2</th>\n",
       "    </tr>\n",
       "  </thead>\n",
       "  <tbody>\n",
       "    <tr>\n",
       "      <th>0</th>\n",
       "      <td>8.86868693539054</td>\n",
       "      <td>1580.166171</td>\n",
       "      <td>2302.028837</td>\n",
       "      <td>1095.167031</td>\n",
       "      <td>483.508071</td>\n",
       "      <td>34.112487</td>\n",
       "    </tr>\n",
       "  </tbody>\n",
       "</table>\n",
       "</div>"
      ],
      "text/plain": [
       "                 pH          dic   alkalinity  bicarbonate   carbonate  \\\n",
       "0  8.86868693539054  1580.166171  2302.028837  1095.167031  483.508071   \n",
       "\n",
       "        pCO2  \n",
       "0  34.112487  "
      ]
     },
     "execution_count": 341,
     "metadata": {},
     "output_type": "execute_result"
    }
   ],
   "source": [
    "alkalinity_in_outflow = conservative_mixing(alkalinity_after_ED_base_and_stripper_mixing,inflow_seawater_alkalinity,fraction_of_co2_depleted_water_in_final_outflow)\n",
    "dic_in_outflow = conservative_mixing(remaining_dic,inflow_seawater_dissolved_inorganic_carbon,fraction_of_co2_depleted_water_in_final_outflow)\n",
    "\n",
    "after_ED_base_and_stripper_mixing = carbon_chem_from_alk_and_dic(alkalinity_in_outflow, dic_in_outflow, seawater_temperature, seawater_salinity)\n",
    "after_ED_base_and_stripper_mixing[['pH','dic','alkalinity','bicarbonate', 'carbonate','pCO2']]"
   ]
  },
  {
   "cell_type": "markdown",
   "id": "2bc7a32a",
   "metadata": {},
   "source": [
    "ADD a diagram of the system with the numbers popping up in the right oplace fopr the specified variable"
   ]
  },
  {
   "cell_type": "code",
   "execution_count": null,
   "id": "3662770e",
   "metadata": {},
   "outputs": [],
   "source": []
  }
 ],
 "metadata": {
  "kernelspec": {
   "display_name": "Python 3",
   "language": "python",
   "name": "python3"
  },
  "language_info": {
   "codemirror_mode": {
    "name": "ipython",
    "version": 3
   },
   "file_extension": ".py",
   "mimetype": "text/x-python",
   "name": "python",
   "nbconvert_exporter": "python",
   "pygments_lexer": "ipython3",
   "version": "3.9.4"
  }
 },
 "nbformat": 4,
 "nbformat_minor": 5
}
