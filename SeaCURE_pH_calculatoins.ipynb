{
 "cells": [
  {
   "cell_type": "markdown",
   "id": "e9e2760e",
   "metadata": {},
   "source": [
    "# Carbonate system through SeaCURE system \n",
    "\n",
    "Note to Paul. To make this work on binder, you need the the runtime.txt, apt.txt and requirements.txt associated with github commit 6088dd44f2e69c62eeda9b6b555c8174773ac4b0 in https://github.com/PaulHalloran/Jupiter_notebooks_halloran . These install graphviz via apt, then graphviz, pandas, PyCO2SYS and numpy with pip. Note at present does not work if conda installs are invoked with an environment.yml file."
   ]
  },
  {
   "cell_type": "markdown",
   "id": "452dd149",
   "metadata": {},
   "source": [
    "### functions required for subsequent calculations"
   ]
  },
  {
   "cell_type": "code",
   "execution_count": 123,
   "id": "dce5c4e0",
   "metadata": {},
   "outputs": [],
   "source": [
    "import numpy as np\n",
    "import PyCO2SYS as pyco2\n",
    "import pandas as pd\n",
    "from graphviz import Digraph\n",
    "\n",
    "def carbon_chem_from_alk_and_dic(alkalinity, dic, temperature, salinity):\n",
    "    # * **Total alkalinity** (type `1`) in μmol·kg<sup>−1</sup>.\n",
    "    # * **Dissolved inorganic carbon** (type `2`) in μmol·kg<sup>−1</sup>.\n",
    "    # * **pH** (type `3`) on the Total, Seawater, Free or NBS scale[^1].  Which scale is given by the input `pHSCALEIN`.\n",
    "    # * **Partial pressure** (type `4`) or **fugacity** (type `5`) **of CO<sub>2</sub>** in μatm or **aqueous CO<sub>2</sub>** (type `8`) in μmol·kg<sup>−1</sup>.\n",
    "    # * **Carbonate ion** (type `6`) in μmol·kg<sup>−1</sup>.\n",
    "    # * **Bicarbonate ion** (type `7`) in μmol·kg<sup>−1</sup>.\n",
    "    # Define input conditions\n",
    "    kwargs_alk_dic = dict(\n",
    "        par1 = alkalinity,  # Value of the first parameter\n",
    "        par2 = dic,  # Value of the second parameter, which is a long vector of different DIC's!\n",
    "        par1_type = 1,  # The first parameter supplied is of type \"1\", which is \"alkalinity\"\n",
    "        par2_type = 2,  # The second parameter supplied is of type \"2\", which is \"DIC\"\n",
    "        salinity = salinity,  # Salinity of the sample\n",
    "        temperature = temperature,  # Temperature at input conditions\n",
    "    )\n",
    "    return pd.DataFrame.from_dict(pyco2.sys(**kwargs_alk_dic), orient='index').T\n",
    "\n",
    "def carbon_chem_from_pH_and_dic(pH, dic, temperature, salinity):\n",
    "    # Define input conditions\n",
    "    kwargs_pH_dic = dict(\n",
    "        par1 = dic,  # Value of the first parameter\n",
    "        par2 = pH,  # Value of the second parameter, which is a long vector of different DIC's!\n",
    "        par1_type = 2,  # The first parameter supplied is of type \"1\", which is \"alkalinity\"\n",
    "        par2_type = 3,  # The second parameter supplied is of type \"2\", which is \"DIC\"\n",
    "        salinity = salinity,  # Salinity of the sample\n",
    "        temperature = temperature,  # Temperature at input conditions\n",
    "    )\n",
    "    return pd.DataFrame.from_dict(pyco2.sys(**kwargs_pH_dic), orient='index').T\n",
    "\n",
    "def conservative_mixing(conc1,conc2,fraction_conc1):\n",
    "    return (conc1 * fraction_conc1) + (conc2 * (1.0 - fraction_conc1))\n",
    "\n",
    "\n",
    "def itterate_on_pH(co2_stripper_conditions,initial_pH_estimate,co2_stripper_predicted_ph,seawater_temperature, seawater_salinity,increment,direction):\n",
    "    counter = 0\n",
    "    if direction == 'down':\n",
    "        while co2_stripper_predicted_ph > pH_in_seawater_co2_stripper:\n",
    "            initial_pH_estimate -= increment\n",
    "            counter += 1\n",
    "            ED_cell_seawater = carbon_chem_from_pH_and_dic(initial_pH_estimate, inflow_seawater['dic'].values, seawater_temperature, seawater_salinity)\n",
    "            alkalinity_after_mixing_streams = conservative_mixing(ED_cell_seawater['alkalinity'].values,inflow_seawater['alkalinity'].values,fraction_of_water_passing_through_ED_acid_stream)\n",
    "            co2_stripper_conditions = carbon_chem_from_alk_and_dic(alkalinity_after_mixing_streams, inflow_seawater_dissolved_inorganic_carbon, seawater_temperature, seawater_salinity)\n",
    "            co2_stripper_predicted_ph = co2_stripper_conditions['pH'].values\n",
    "            if counter > 10000:\n",
    "                print('max iterations hit')\n",
    "                break\n",
    "    else:\n",
    "        while co2_stripper_predicted_ph < pH_in_seawater_co2_stripper:\n",
    "            initial_pH_estimate += increment\n",
    "            counter += 1\n",
    "            ED_cell_seawater = carbon_chem_from_pH_and_dic(initial_pH_estimate, inflow_seawater['dic'].values, seawater_temperature, seawater_salinity)\n",
    "            alkalinity_after_mixing_streams = conservative_mixing(ED_cell_seawater['alkalinity'].values,inflow_seawater['alkalinity'].values,fraction_of_water_passing_through_ED_acid_stream)\n",
    "            co2_stripper_conditions = carbon_chem_from_alk_and_dic(alkalinity_after_mixing_streams, inflow_seawater_dissolved_inorganic_carbon, seawater_temperature, seawater_salinity)\n",
    "            co2_stripper_predicted_ph = co2_stripper_conditions['pH'].values\n",
    "            if counter > 10000:\n",
    "                print('max iterations hit')\n",
    "                break\n",
    "    return ED_cell_seawater,co2_stripper_conditions,initial_pH_estimate,co2_stripper_predicted_ph"
   ]
  },
  {
   "cell_type": "markdown",
   "id": "fb94c335",
   "metadata": {},
   "source": [
    "### Define inputs"
   ]
  },
  {
   "cell_type": "code",
   "execution_count": 124,
   "id": "a7cfaebf",
   "metadata": {},
   "outputs": [],
   "source": [
    "seawater_temperature = 10.0 # degrees C\n",
    "seawater_salinity = 35.0 # psu\n",
    "inflow_seawater_alkalinity = 2300.0 # µeq/kg\n",
    "inflow_seawater_dissolved_inorganic_carbon = 2100.0 # µmol/kg\n",
    "fraction_of_water_passing_through_ED_acid_stream = 0.1 # decimal fraction of the incoming seawater stream diverted through the ED unit\n",
    "pH_in_seawater_co2_stripper = 4.0\n",
    "fraction_of_possible_co2_extracted_to_gas_stream = 1.0 # fraction of the available CO2 removed from teh seawater in the sewater Co2 stripper\n",
    "fraction_of_water_passing_through_ED_base_stream = fraction_of_water_passing_through_ED_acid_stream # initial assumption is that the same volume of fluid is passing through the ED cell's base stream as through the acid stream\n",
    "fraction_of_co2_depleted_water_in_final_outflow = 0.25 # i.e. how much unpricessed seawater if being mixed with the processed water when returned back to the ocean"
   ]
  },
  {
   "cell_type": "markdown",
   "id": "48834517",
   "metadata": {},
   "source": [
    "Note, initial output variables are:\n",
    "\n",
    "- pH - self explanatory\n",
    "- dic - dissolved inorganic carbon concentration. i.e. total amount of dissolved carbon in the seawater in µmol/kg\n",
    "- alkalinity - total alkalinity, 'the molar amount of bases in a solution that can be converted to uncharged species by a strong acid' ([wikipedia](https://en.wikipedia.org/wiki/Alkalinity#cite_note-2)), µeq/kg\n",
    "- bicarbonate - concentration of bicarbonate ions µmol/kg\n",
    "- carbonate - concentration of carbonate ions µmol/kg\n",
    "- pCO2 - partial presure of CO2, µatm"
   ]
  },
  {
   "cell_type": "markdown",
   "id": "a25658c6",
   "metadata": {},
   "source": [
    "### Chemistry of inflow seawater\n"
   ]
  },
  {
   "cell_type": "code",
   "execution_count": 125,
   "id": "21240cd9",
   "metadata": {},
   "outputs": [
    {
     "data": {
      "text/html": [
       "<div>\n",
       "<style scoped>\n",
       "    .dataframe tbody tr th:only-of-type {\n",
       "        vertical-align: middle;\n",
       "    }\n",
       "\n",
       "    .dataframe tbody tr th {\n",
       "        vertical-align: top;\n",
       "    }\n",
       "\n",
       "    .dataframe thead th {\n",
       "        text-align: right;\n",
       "    }\n",
       "</style>\n",
       "<table border=\"1\" class=\"dataframe\">\n",
       "  <thead>\n",
       "    <tr style=\"text-align: right;\">\n",
       "      <th></th>\n",
       "      <th>pH</th>\n",
       "      <th>dic</th>\n",
       "      <th>alkalinity</th>\n",
       "      <th>bicarbonate</th>\n",
       "      <th>carbonate</th>\n",
       "      <th>pCO2</th>\n",
       "    </tr>\n",
       "  </thead>\n",
       "  <tbody>\n",
       "    <tr>\n",
       "      <th>0</th>\n",
       "      <td>8.091704847930695</td>\n",
       "      <td>2100.0</td>\n",
       "      <td>2300.0</td>\n",
       "      <td>1940.980368</td>\n",
       "      <td>143.206398</td>\n",
       "      <td>361.773084</td>\n",
       "    </tr>\n",
       "  </tbody>\n",
       "</table>\n",
       "</div>"
      ],
      "text/plain": [
       "                  pH     dic alkalinity  bicarbonate   carbonate        pCO2\n",
       "0  8.091704847930695  2100.0     2300.0  1940.980368  143.206398  361.773084"
      ]
     },
     "execution_count": 125,
     "metadata": {},
     "output_type": "execute_result"
    }
   ],
   "source": [
    "inflow_seawater = carbon_chem_from_alk_and_dic(inflow_seawater_alkalinity, inflow_seawater_dissolved_inorganic_carbon, seawater_temperature, seawater_salinity)\n",
    "inflow_seawater[['pH','dic','alkalinity','bicarbonate', 'carbonate','pCO2']]\n"
   ]
  },
  {
   "cell_type": "markdown",
   "id": "61dce10a",
   "metadata": {},
   "source": [
    "### Conditions in acid stream of ED cell\n",
    "\n",
    "Crude itteration to find pH in ED cell consistent with the required seawater CO2 stripper pH and fraction of seawaterpassed trhough ED cell"
   ]
  },
  {
   "cell_type": "code",
   "execution_count": 126,
   "id": "12c10951",
   "metadata": {},
   "outputs": [
    {
     "data": {
      "text/html": [
       "<div>\n",
       "<style scoped>\n",
       "    .dataframe tbody tr th:only-of-type {\n",
       "        vertical-align: middle;\n",
       "    }\n",
       "\n",
       "    .dataframe tbody tr th {\n",
       "        vertical-align: top;\n",
       "    }\n",
       "\n",
       "    .dataframe thead th {\n",
       "        text-align: right;\n",
       "    }\n",
       "</style>\n",
       "<table border=\"1\" class=\"dataframe\">\n",
       "  <thead>\n",
       "    <tr style=\"text-align: right;\">\n",
       "      <th></th>\n",
       "      <th>pH</th>\n",
       "      <th>dic</th>\n",
       "      <th>alkalinity</th>\n",
       "      <th>bicarbonate</th>\n",
       "      <th>carbonate</th>\n",
       "      <th>pCO2</th>\n",
       "    </tr>\n",
       "  </thead>\n",
       "  <tbody>\n",
       "    <tr>\n",
       "      <th>0</th>\n",
       "      <td>1.662965999999998</td>\n",
       "      <td>2100.0</td>\n",
       "      <td>-21511.534919</td>\n",
       "      <td>0.096042</td>\n",
       "      <td>0.0</td>\n",
       "      <td>48041.328496</td>\n",
       "    </tr>\n",
       "  </tbody>\n",
       "</table>\n",
       "</div>"
      ],
      "text/plain": [
       "                  pH     dic    alkalinity bicarbonate carbonate          pCO2\n",
       "0  1.662965999999998  2100.0 -21511.534919    0.096042       0.0  48041.328496"
      ]
     },
     "execution_count": 126,
     "metadata": {},
     "output_type": "execute_result"
    }
   ],
   "source": [
    "counter = 0\n",
    "co2_stripper_predicted_ph = 1000.0\n",
    "initial_pH_estimate = pH_in_seawater_co2_stripper\n",
    "co2_stripper_conditions = 0.0\n",
    "\n",
    "ED_cell_seawater,co2_stripper_conditions,initial_pH_estimate,co2_stripper_predicted_ph = itterate_on_pH(co2_stripper_conditions,initial_pH_estimate,co2_stripper_predicted_ph,seawater_temperature, seawater_salinity,0.1,'down')\n",
    "ED_cell_seawater,co2_stripper_conditions,initial_pH_estimate,co2_stripper_predicted_ph = itterate_on_pH(co2_stripper_conditions,initial_pH_estimate,co2_stripper_predicted_ph,seawater_temperature, seawater_salinity,0.01,'up')\n",
    "ED_cell_seawater,co2_stripper_conditions,initial_pH_estimate,co2_stripper_predicted_ph = itterate_on_pH(co2_stripper_conditions,initial_pH_estimate,co2_stripper_predicted_ph,seawater_temperature, seawater_salinity,0.001,'down')\n",
    "ED_cell_seawater,co2_stripper_conditions,initial_pH_estimate,co2_stripper_predicted_ph = itterate_on_pH(co2_stripper_conditions,initial_pH_estimate,co2_stripper_predicted_ph,seawater_temperature, seawater_salinity,0.0001,'up')\n",
    "ED_cell_seawater,co2_stripper_conditions,initial_pH_estimate,co2_stripper_predicted_ph = itterate_on_pH(co2_stripper_conditions,initial_pH_estimate,co2_stripper_predicted_ph,seawater_temperature, seawater_salinity,0.00001,'down')\n",
    "ED_cell_seawater,co2_stripper_conditions,initial_pH_estimate,co2_stripper_predicted_ph = itterate_on_pH(co2_stripper_conditions,initial_pH_estimate,co2_stripper_predicted_ph,seawater_temperature, seawater_salinity,0.000001,'up')\n",
    "\n",
    "ED_cell_seawater[['pH','dic','alkalinity','bicarbonate', 'carbonate','pCO2']]\n"
   ]
  },
  {
   "cell_type": "markdown",
   "id": "5bcaee4c",
   "metadata": {},
   "source": [
    "\n",
    "\n"
   ]
  },
  {
   "cell_type": "markdown",
   "id": "d083e07f",
   "metadata": {},
   "source": [
    "### Conditions in seawater CO2 stripper"
   ]
  },
  {
   "cell_type": "code",
   "execution_count": 127,
   "id": "f5fdbe09",
   "metadata": {},
   "outputs": [
    {
     "data": {
      "text/html": [
       "<div>\n",
       "<style scoped>\n",
       "    .dataframe tbody tr th:only-of-type {\n",
       "        vertical-align: middle;\n",
       "    }\n",
       "\n",
       "    .dataframe tbody tr th {\n",
       "        vertical-align: top;\n",
       "    }\n",
       "\n",
       "    .dataframe thead th {\n",
       "        text-align: right;\n",
       "    }\n",
       "</style>\n",
       "<table border=\"1\" class=\"dataframe\">\n",
       "  <thead>\n",
       "    <tr style=\"text-align: right;\">\n",
       "      <th></th>\n",
       "      <th>pH</th>\n",
       "      <th>dic</th>\n",
       "      <th>alkalinity</th>\n",
       "      <th>bicarbonate</th>\n",
       "      <th>carbonate</th>\n",
       "      <th>pCO2</th>\n",
       "    </tr>\n",
       "  </thead>\n",
       "  <tbody>\n",
       "    <tr>\n",
       "      <th>0</th>\n",
       "      <td>4.000006046230498</td>\n",
       "      <td>2100.0</td>\n",
       "      <td>-81.153492</td>\n",
       "      <td>20.664562</td>\n",
       "      <td>0.000123</td>\n",
       "      <td>47570.761768</td>\n",
       "    </tr>\n",
       "  </tbody>\n",
       "</table>\n",
       "</div>"
      ],
      "text/plain": [
       "                  pH     dic alkalinity bicarbonate carbonate          pCO2\n",
       "0  4.000006046230498  2100.0 -81.153492   20.664562  0.000123  47570.761768"
      ]
     },
     "execution_count": 127,
     "metadata": {},
     "output_type": "execute_result"
    }
   ],
   "source": [
    "co2_stripper_conditions[['pH','dic','alkalinity','bicarbonate', 'carbonate','pCO2']]"
   ]
  },
  {
   "cell_type": "markdown",
   "id": "26dae6e4",
   "metadata": {},
   "source": [
    "### Fraction of dissolved carbon potentially liberated"
   ]
  },
  {
   "cell_type": "code",
   "execution_count": 128,
   "id": "139d281e",
   "metadata": {},
   "outputs": [
    {
     "name": "stdout",
     "output_type": "stream",
     "text": [
      "[0.9901596738254074]\n"
     ]
    }
   ],
   "source": [
    "fraction_of_liberated_dic = (inflow_seawater_dissolved_inorganic_carbon - co2_stripper_conditions['bicarbonate'].values - co2_stripper_conditions['carbonate'].values)/inflow_seawater_dissolved_inorganic_carbon\n",
    "print(fraction_of_liberated_dic)"
   ]
  },
  {
   "cell_type": "markdown",
   "id": "d15659d9",
   "metadata": {},
   "source": [
    "### Fraction of dissolved carbon liberated given specified extraction efficiency (fraction_of_possible_co2_extracted_to_gas_stream)\n"
   ]
  },
  {
   "cell_type": "code",
   "execution_count": 129,
   "id": "0e330ea7",
   "metadata": {},
   "outputs": [
    {
     "name": "stdout",
     "output_type": "stream",
     "text": [
      "[0.9901596738254074]\n"
     ]
    }
   ],
   "source": [
    "fraction_of_dissolved_carbon_liberated = fraction_of_liberated_dic * fraction_of_possible_co2_extracted_to_gas_stream\n",
    "print(fraction_of_dissolved_carbon_liberated)"
   ]
  },
  {
   "cell_type": "code",
   "execution_count": 130,
   "id": "0e9b8ffc",
   "metadata": {},
   "outputs": [
    {
     "data": {
      "text/plain": [
       "array([0.009840326174592628], dtype=object)"
      ]
     },
     "execution_count": 130,
     "metadata": {},
     "output_type": "execute_result"
    }
   ],
   "source": [
    "1-fraction_of_dissolved_carbon_liberated"
   ]
  },
  {
   "cell_type": "markdown",
   "id": "066e28e0",
   "metadata": {},
   "source": [
    "### Outflow from CO2 stripper"
   ]
  },
  {
   "cell_type": "code",
   "execution_count": 131,
   "id": "9ce0493c",
   "metadata": {},
   "outputs": [
    {
     "data": {
      "text/html": [
       "<div>\n",
       "<style scoped>\n",
       "    .dataframe tbody tr th:only-of-type {\n",
       "        vertical-align: middle;\n",
       "    }\n",
       "\n",
       "    .dataframe tbody tr th {\n",
       "        vertical-align: top;\n",
       "    }\n",
       "\n",
       "    .dataframe thead th {\n",
       "        text-align: right;\n",
       "    }\n",
       "</style>\n",
       "<table border=\"1\" class=\"dataframe\">\n",
       "  <thead>\n",
       "    <tr style=\"text-align: right;\">\n",
       "      <th></th>\n",
       "      <th>pH</th>\n",
       "      <th>dic</th>\n",
       "      <th>alkalinity</th>\n",
       "      <th>bicarbonate</th>\n",
       "      <th>carbonate</th>\n",
       "      <th>pCO2</th>\n",
       "    </tr>\n",
       "  </thead>\n",
       "  <tbody>\n",
       "    <tr>\n",
       "      <th>0</th>\n",
       "      <td>4.000006046230498</td>\n",
       "      <td>20.664685</td>\n",
       "      <td>-101.614952</td>\n",
       "      <td>0.203346</td>\n",
       "      <td>0.000001</td>\n",
       "      <td>468.111812</td>\n",
       "    </tr>\n",
       "  </tbody>\n",
       "</table>\n",
       "</div>"
      ],
      "text/plain": [
       "                  pH        dic  alkalinity bicarbonate carbonate        pCO2\n",
       "0  4.000006046230498  20.664685 -101.614952    0.203346  0.000001  468.111812"
      ]
     },
     "execution_count": 131,
     "metadata": {},
     "output_type": "execute_result"
    }
   ],
   "source": [
    "remaining_dic = inflow_seawater['dic'].values * (1.0-fraction_of_dissolved_carbon_liberated)\n",
    "\n",
    "outflow_from_co2_stripper = carbon_chem_from_pH_and_dic(co2_stripper_conditions['pH'].values, remaining_dic, seawater_temperature, seawater_salinity)\n",
    "outflow_from_co2_stripper[['pH','dic','alkalinity','bicarbonate', 'carbonate','pCO2']]"
   ]
  },
  {
   "cell_type": "markdown",
   "id": "e96bd18d",
   "metadata": {},
   "source": [
    "### Mixing the outflow from CO2 stripper with natural seawater"
   ]
  },
  {
   "cell_type": "code",
   "execution_count": 132,
   "id": "7f7142fc",
   "metadata": {},
   "outputs": [
    {
     "data": {
      "text/html": [
       "<div>\n",
       "<style scoped>\n",
       "    .dataframe tbody tr th:only-of-type {\n",
       "        vertical-align: middle;\n",
       "    }\n",
       "\n",
       "    .dataframe tbody tr th {\n",
       "        vertical-align: top;\n",
       "    }\n",
       "\n",
       "    .dataframe thead th {\n",
       "        text-align: right;\n",
       "    }\n",
       "</style>\n",
       "<table border=\"1\" class=\"dataframe\">\n",
       "  <thead>\n",
       "    <tr style=\"text-align: right;\">\n",
       "      <th></th>\n",
       "      <th>pH</th>\n",
       "      <th>dic</th>\n",
       "      <th>alkalinity</th>\n",
       "      <th>bicarbonate</th>\n",
       "      <th>carbonate</th>\n",
       "      <th>pCO2</th>\n",
       "    </tr>\n",
       "  </thead>\n",
       "  <tbody>\n",
       "    <tr>\n",
       "      <th>0</th>\n",
       "      <td>7.97433866193597</td>\n",
       "      <td>1632.149554</td>\n",
       "      <td>1759.636636</td>\n",
       "      <td>1529.685708</td>\n",
       "      <td>86.134533</td>\n",
       "      <td>373.579903</td>\n",
       "    </tr>\n",
       "  </tbody>\n",
       "</table>\n",
       "</div>"
      ],
      "text/plain": [
       "                 pH          dic   alkalinity  bicarbonate  carbonate  \\\n",
       "0  7.97433866193597  1632.149554  1759.636636  1529.685708  86.134533   \n",
       "\n",
       "         pCO2  \n",
       "0  373.579903  "
      ]
     },
     "execution_count": 132,
     "metadata": {},
     "output_type": "execute_result"
    }
   ],
   "source": [
    "alkalinity_after_co2_stripper = outflow_from_co2_stripper['alkalinity'].values\n",
    "\n",
    "#NOte, the following step accounts for the fact that a fraction (default 10% of the 'alkalinity_after_co2_stripper' has been sent to ED base stream)\n",
    "fraction_of_co2_depleted_water_when_mixed_with_natural_sw =  fraction_of_co2_depleted_water_in_final_outflow - (fraction_of_co2_depleted_water_in_final_outflow * fraction_of_water_passing_through_ED_base_stream)\n",
    "alkalinity_in_mix_co2_stripper_nat_sw = conservative_mixing(alkalinity_after_co2_stripper,inflow_seawater_alkalinity,fraction_of_co2_depleted_water_when_mixed_with_natural_sw)\n",
    "dic_in_in_mix_co2_stripper_nat_sw = conservative_mixing(remaining_dic,inflow_seawater_dissolved_inorganic_carbon,fraction_of_co2_depleted_water_when_mixed_with_natural_sw)\n",
    "\n",
    "composition_mix_co2_stripper_nat_sw = carbon_chem_from_alk_and_dic(alkalinity_in_mix_co2_stripper_nat_sw, dic_in_in_mix_co2_stripper_nat_sw, seawater_temperature, seawater_salinity)\n",
    "\n",
    "composition_mix_co2_stripper_nat_sw[['pH','dic','alkalinity','bicarbonate', 'carbonate','pCO2']]"
   ]
  },
  {
   "cell_type": "markdown",
   "id": "7e2a044b",
   "metadata": {},
   "source": [
    "### Conditions in base stream of ED cell\n"
   ]
  },
  {
   "cell_type": "code",
   "execution_count": 133,
   "id": "96ff27ab",
   "metadata": {},
   "outputs": [
    {
     "data": {
      "text/html": [
       "<div>\n",
       "<style scoped>\n",
       "    .dataframe tbody tr th:only-of-type {\n",
       "        vertical-align: middle;\n",
       "    }\n",
       "\n",
       "    .dataframe tbody tr th {\n",
       "        vertical-align: top;\n",
       "    }\n",
       "\n",
       "    .dataframe thead th {\n",
       "        text-align: right;\n",
       "    }\n",
       "</style>\n",
       "<table border=\"1\" class=\"dataframe\">\n",
       "  <thead>\n",
       "    <tr style=\"text-align: right;\">\n",
       "      <th></th>\n",
       "      <th>pH</th>\n",
       "      <th>dic</th>\n",
       "      <th>alkalinity</th>\n",
       "      <th>bicarbonate</th>\n",
       "      <th>carbonate</th>\n",
       "      <th>pCO2</th>\n",
       "    </tr>\n",
       "  </thead>\n",
       "  <tbody>\n",
       "    <tr>\n",
       "      <th>0</th>\n",
       "      <td>12.210527851437211</td>\n",
       "      <td>20.664685</td>\n",
       "      <td>23811.534919</td>\n",
       "      <td>0.021282</td>\n",
       "      <td>20.643403</td>\n",
       "      <td>0.0</td>\n",
       "    </tr>\n",
       "  </tbody>\n",
       "</table>\n",
       "</div>"
      ],
      "text/plain": [
       "                   pH        dic    alkalinity bicarbonate  carbonate pCO2\n",
       "0  12.210527851437211  20.664685  23811.534919    0.021282  20.643403  0.0"
      ]
     },
     "execution_count": 133,
     "metadata": {},
     "output_type": "execute_result"
    }
   ],
   "source": [
    "\n",
    "ED_cell_base_seawater = carbon_chem_from_alk_and_dic(inflow_seawater_alkalinity - ED_cell_seawater['alkalinity'], remaining_dic, seawater_temperature, seawater_salinity)\n",
    "ED_cell_base_seawater[['pH','dic','alkalinity','bicarbonate', 'carbonate','pCO2']]"
   ]
  },
  {
   "cell_type": "markdown",
   "id": "2f36f1f7",
   "metadata": {},
   "source": [
    "### Conditions after mixing base stream of ED cell with water from seawater CO2 stripper\n"
   ]
  },
  {
   "cell_type": "code",
   "execution_count": 134,
   "id": "739f9374",
   "metadata": {},
   "outputs": [
    {
     "data": {
      "text/html": [
       "<div>\n",
       "<style scoped>\n",
       "    .dataframe tbody tr th:only-of-type {\n",
       "        vertical-align: middle;\n",
       "    }\n",
       "\n",
       "    .dataframe tbody tr th {\n",
       "        vertical-align: top;\n",
       "    }\n",
       "\n",
       "    .dataframe thead th {\n",
       "        text-align: right;\n",
       "    }\n",
       "</style>\n",
       "<table border=\"1\" class=\"dataframe\">\n",
       "  <thead>\n",
       "    <tr style=\"text-align: right;\">\n",
       "      <th></th>\n",
       "      <th>pH</th>\n",
       "      <th>dic</th>\n",
       "      <th>alkalinity</th>\n",
       "      <th>bicarbonate</th>\n",
       "      <th>carbonate</th>\n",
       "      <th>pCO2</th>\n",
       "    </tr>\n",
       "  </thead>\n",
       "  <tbody>\n",
       "    <tr>\n",
       "      <th>0</th>\n",
       "      <td>11.110095387236399</td>\n",
       "      <td>20.664685</td>\n",
       "      <td>2308.115349</td>\n",
       "      <td>0.265028</td>\n",
       "      <td>20.399655</td>\n",
       "      <td>0.000047</td>\n",
       "    </tr>\n",
       "  </tbody>\n",
       "</table>\n",
       "</div>"
      ],
      "text/plain": [
       "                   pH        dic   alkalinity bicarbonate  carbonate      pCO2\n",
       "0  11.110095387236399  20.664685  2308.115349    0.265028  20.399655  0.000047"
      ]
     },
     "execution_count": 134,
     "metadata": {},
     "output_type": "execute_result"
    }
   ],
   "source": [
    "alkalinity_after_ED_base_and_stripper_mixing = conservative_mixing(ED_cell_base_seawater['alkalinity'].values,co2_stripper_conditions['alkalinity'].values,fraction_of_water_passing_through_ED_base_stream)\n",
    "after_ED_base_and_stripper_mixing = carbon_chem_from_alk_and_dic(alkalinity_after_ED_base_and_stripper_mixing, remaining_dic, seawater_temperature, seawater_salinity)\n",
    "after_ED_base_and_stripper_mixing[['pH','dic','alkalinity','bicarbonate', 'carbonate','pCO2']]"
   ]
  },
  {
   "cell_type": "markdown",
   "id": "097efabf",
   "metadata": {},
   "source": [
    "### Conditions after mixing CO2 depleted water with natural seawater in final outflow"
   ]
  },
  {
   "cell_type": "code",
   "execution_count": 135,
   "id": "6775255a",
   "metadata": {},
   "outputs": [
    {
     "data": {
      "text/html": [
       "<div>\n",
       "<style scoped>\n",
       "    .dataframe tbody tr th:only-of-type {\n",
       "        vertical-align: middle;\n",
       "    }\n",
       "\n",
       "    .dataframe tbody tr th {\n",
       "        vertical-align: top;\n",
       "    }\n",
       "\n",
       "    .dataframe thead th {\n",
       "        text-align: right;\n",
       "    }\n",
       "</style>\n",
       "<table border=\"1\" class=\"dataframe\">\n",
       "  <thead>\n",
       "    <tr style=\"text-align: right;\">\n",
       "      <th></th>\n",
       "      <th>pH</th>\n",
       "      <th>dic</th>\n",
       "      <th>alkalinity</th>\n",
       "      <th>bicarbonate</th>\n",
       "      <th>carbonate</th>\n",
       "      <th>pCO2</th>\n",
       "    </tr>\n",
       "  </thead>\n",
       "  <tbody>\n",
       "    <tr>\n",
       "      <th>0</th>\n",
       "      <td>8.86868693539054</td>\n",
       "      <td>1580.166171</td>\n",
       "      <td>2302.028837</td>\n",
       "      <td>1095.167031</td>\n",
       "      <td>483.508071</td>\n",
       "      <td>34.112487</td>\n",
       "    </tr>\n",
       "  </tbody>\n",
       "</table>\n",
       "</div>"
      ],
      "text/plain": [
       "                 pH          dic   alkalinity  bicarbonate   carbonate  \\\n",
       "0  8.86868693539054  1580.166171  2302.028837  1095.167031  483.508071   \n",
       "\n",
       "        pCO2  \n",
       "0  34.112487  "
      ]
     },
     "execution_count": 135,
     "metadata": {},
     "output_type": "execute_result"
    }
   ],
   "source": [
    "alkalinity_in_outflow = conservative_mixing(alkalinity_after_ED_base_and_stripper_mixing,inflow_seawater_alkalinity,fraction_of_co2_depleted_water_in_final_outflow)\n",
    "dic_in_outflow = conservative_mixing(remaining_dic,inflow_seawater_dissolved_inorganic_carbon,fraction_of_co2_depleted_water_in_final_outflow)\n",
    "\n",
    "after_ED_base_and_stripper_mixing_with_natural_seawater = carbon_chem_from_alk_and_dic(alkalinity_in_outflow, dic_in_outflow, seawater_temperature, seawater_salinity)\n",
    "after_ED_base_and_stripper_mixing_with_natural_seawater[['pH','dic','alkalinity','bicarbonate', 'carbonate','pCO2']]"
   ]
  },
  {
   "cell_type": "markdown",
   "id": "d9e7ee0a",
   "metadata": {},
   "source": [
    "## Diagram of results"
   ]
  },
  {
   "cell_type": "markdown",
   "id": "0ead4e6a",
   "metadata": {},
   "source": [
    "edit the value in red below to plot up the values for different variables, options include (amongst others):\n",
    "- 'pH'\n",
    "- 'dic'\n",
    "- 'alkalinity'\n",
    "- 'bicarbonate'\n",
    "- 'carbonate'\n",
    "- 'pCO2'"
   ]
  },
  {
   "cell_type": "code",
   "execution_count": 136,
   "id": "6b5fc871",
   "metadata": {},
   "outputs": [],
   "source": [
    "var_to_plot = 'pH'\n"
   ]
  },
  {
   "cell_type": "code",
   "execution_count": 148,
   "id": "6fffd744",
   "metadata": {},
   "outputs": [
    {
     "data": {
      "image/svg+xml": [
       "<?xml version=\"1.0\" encoding=\"UTF-8\" standalone=\"no\"?>\n",
       "<!DOCTYPE svg PUBLIC \"-//W3C//DTD SVG 1.1//EN\"\n",
       " \"http://www.w3.org/Graphics/SVG/1.1/DTD/svg11.dtd\">\n",
       "<!-- Generated by graphviz version 2.47.2 (0)\n",
       " -->\n",
       "<!-- Title: parent Pages: 1 -->\n",
       "<svg width=\"720pt\" height=\"209pt\"\n",
       " viewBox=\"0.00 0.00 720.00 209.34\" xmlns=\"http://www.w3.org/2000/svg\" xmlns:xlink=\"http://www.w3.org/1999/xlink\">\n",
       "<g id=\"graph0\" class=\"graph\" transform=\"scale(0.44 0.44) rotate(0) translate(4 470)\">\n",
       "<title>parent</title>\n",
       "<polygon fill=\"white\" stroke=\"transparent\" points=\"-4,4 -4,-470 1626.26,-470 1626.26,4 -4,4\"/>\n",
       "<text text-anchor=\"middle\" x=\"811.13\" y=\"-190\" font-family=\"Times,serif\" font-size=\"20.00\">pH data for SeaCURE seawater components</text>\n",
       "<text text-anchor=\"middle\" x=\"811.13\" y=\"-120\" font-family=\"Times,serif\" font-size=\"20.00\">chosen assumptions:</text>\n",
       "<text text-anchor=\"middle\" x=\"811.13\" y=\"-98\" font-family=\"Times,serif\" font-size=\"20.00\">seawater temperature = 10.0 (deg C)</text>\n",
       "<text text-anchor=\"middle\" x=\"811.13\" y=\"-76\" font-family=\"Times,serif\" font-size=\"20.00\">seawater salinity = 35.0 (psu)</text>\n",
       "<text text-anchor=\"middle\" x=\"811.13\" y=\"-54\" font-family=\"Times,serif\" font-size=\"20.00\">inflow seawater alkalinity = 2300.0 (µeq/kg)</text>\n",
       "<text text-anchor=\"middle\" x=\"811.13\" y=\"-32\" font-family=\"Times,serif\" font-size=\"20.00\">inflow seawater dissolved inorganic_carbon = 2100.0 (µmol/kg) </text>\n",
       "<text text-anchor=\"middle\" x=\"811.13\" y=\"-10\" font-family=\"Times,serif\" font-size=\"20.00\">pH in seawater CO2 stripper = 4.0 </text>\n",
       "<g id=\"clust1\" class=\"cluster\">\n",
       "<title>cluster_ed_cell</title>\n",
       "<polygon fill=\"none\" stroke=\"black\" points=\"333.38,-266 333.38,-341 713.97,-341 713.97,-266 333.38,-266\"/>\n",
       "<text text-anchor=\"middle\" x=\"523.68\" y=\"-325.8\" font-family=\"Times,serif\" font-size=\"14.00\">ED Cell</text>\n",
       "</g>\n",
       "<!-- splitting streams 1 -->\n",
       "<g id=\"node1\" class=\"node\">\n",
       "<title>splitting streams 1</title>\n",
       "<ellipse fill=\"none\" stroke=\"black\" cx=\"221.69\" cy=\"-372\" rx=\"58.88\" ry=\"37.45\"/>\n",
       "<text text-anchor=\"middle\" x=\"221.69\" y=\"-383.3\" font-family=\"Times,serif\" font-size=\"14.00\">splitting</text>\n",
       "<text text-anchor=\"middle\" x=\"221.69\" y=\"-368.3\" font-family=\"Times,serif\" font-size=\"14.00\">fraction: 0.1</text>\n",
       "<text text-anchor=\"middle\" x=\"221.69\" y=\"-353.3\" font-family=\"Times,serif\" font-size=\"14.00\">to ED cell</text>\n",
       "</g>\n",
       "<!-- mixing streams 1 -->\n",
       "<g id=\"node2\" class=\"node\">\n",
       "<title>mixing streams 1</title>\n",
       "<ellipse fill=\"none\" stroke=\"black\" cx=\"407.02\" cy=\"-372\" rx=\"36.29\" ry=\"18\"/>\n",
       "<text text-anchor=\"middle\" x=\"407.02\" y=\"-368.3\" font-family=\"Times,serif\" font-size=\"14.00\">mixing</text>\n",
       "</g>\n",
       "<!-- splitting streams 1&#45;&gt;mixing streams 1 -->\n",
       "<g id=\"edge2\" class=\"edge\">\n",
       "<title>splitting streams 1&#45;&gt;mixing streams 1</title>\n",
       "<path fill=\"none\" stroke=\"black\" d=\"M280.45,-372C306.14,-372 335.97,-372 360.1,-372\"/>\n",
       "<polygon fill=\"black\" stroke=\"black\" points=\"360.41,-375.5 370.41,-372 360.41,-368.5 360.41,-375.5\"/>\n",
       "<text text-anchor=\"middle\" x=\"310.88\" y=\"-375.8\" font-family=\"Times,serif\" font-size=\"14.00\">8.09</text>\n",
       "</g>\n",
       "<!-- ED acid stream -->\n",
       "<g id=\"node7\" class=\"node\">\n",
       "<title>ED acid stream</title>\n",
       "<ellipse fill=\"none\" stroke=\"black\" cx=\"407.02\" cy=\"-292\" rx=\"65.79\" ry=\"18\"/>\n",
       "<text text-anchor=\"middle\" x=\"407.02\" y=\"-288.3\" font-family=\"Times,serif\" font-size=\"14.00\">ED acid stream</text>\n",
       "</g>\n",
       "<!-- splitting streams 1&#45;&gt;ED acid stream -->\n",
       "<g id=\"edge1\" class=\"edge\">\n",
       "<title>splitting streams 1&#45;&gt;ED acid stream</title>\n",
       "<path fill=\"none\" stroke=\"black\" d=\"M270.86,-350.98C299.04,-338.68 334.37,-323.27 361.84,-311.28\"/>\n",
       "<polygon fill=\"black\" stroke=\"black\" points=\"363.44,-314.4 371.21,-307.19 360.64,-307.98 363.44,-314.4\"/>\n",
       "<text text-anchor=\"middle\" x=\"310.88\" y=\"-339.8\" font-family=\"Times,serif\" font-size=\"14.00\">8.09</text>\n",
       "</g>\n",
       "<!-- seawater CO2\n",
       "stripper -->\n",
       "<g id=\"node6\" class=\"node\">\n",
       "<title>seawater CO2\n",
       "stripper</title>\n",
       "<ellipse fill=\"none\" stroke=\"black\" cx=\"639.03\" cy=\"-386\" rx=\"105.22\" ry=\"37.45\"/>\n",
       "<text text-anchor=\"middle\" x=\"639.03\" y=\"-397.3\" font-family=\"Times,serif\" font-size=\"14.00\">seawater CO2</text>\n",
       "<text text-anchor=\"middle\" x=\"639.03\" y=\"-382.3\" font-family=\"Times,serif\" font-size=\"14.00\">stripper</text>\n",
       "<text text-anchor=\"middle\" x=\"639.03\" y=\"-367.3\" font-family=\"Times,serif\" font-size=\"14.00\">100.0% extracted to gas</text>\n",
       "</g>\n",
       "<!-- mixing streams 1&#45;&gt;seawater CO2\n",
       "stripper -->\n",
       "<g id=\"edge3\" class=\"edge\">\n",
       "<title>mixing streams 1&#45;&gt;seawater CO2\n",
       "stripper</title>\n",
       "<path fill=\"none\" stroke=\"black\" d=\"M443.21,-374.14C465.31,-375.49 495.18,-377.3 524.88,-379.11\"/>\n",
       "<polygon fill=\"black\" stroke=\"black\" points=\"524.74,-382.61 534.93,-379.72 525.16,-375.62 524.74,-382.61\"/>\n",
       "<text text-anchor=\"middle\" x=\"503.17\" y=\"-381.8\" font-family=\"Times,serif\" font-size=\"14.00\">4.0</text>\n",
       "</g>\n",
       "<!-- mixing streams 3 -->\n",
       "<g id=\"node3\" class=\"node\">\n",
       "<title>mixing streams 3</title>\n",
       "<ellipse fill=\"none\" stroke=\"black\" cx=\"1073.28\" cy=\"-375\" rx=\"90.52\" ry=\"37.45\"/>\n",
       "<text text-anchor=\"middle\" x=\"1073.28\" y=\"-386.3\" font-family=\"Times,serif\" font-size=\"14.00\">mixing</text>\n",
       "<text text-anchor=\"middle\" x=\"1073.28\" y=\"-371.3\" font-family=\"Times,serif\" font-size=\"14.00\">fraction: 0.25</text>\n",
       "<text text-anchor=\"middle\" x=\"1073.28\" y=\"-356.3\" font-family=\"Times,serif\" font-size=\"14.00\">from low pH stream</text>\n",
       "</g>\n",
       "<!-- mix_co2_stripper_nat_sw -->\n",
       "<g id=\"node4\" class=\"node\">\n",
       "<title>mix_co2_stripper_nat_sw</title>\n",
       "<ellipse fill=\"none\" stroke=\"black\" cx=\"1338.52\" cy=\"-311\" rx=\"113.98\" ry=\"18\"/>\n",
       "<text text-anchor=\"middle\" x=\"1338.52\" y=\"-307.3\" font-family=\"Times,serif\" font-size=\"14.00\">mixing from high pH stream</text>\n",
       "</g>\n",
       "<!-- mixing streams 3&#45;&gt;mix_co2_stripper_nat_sw -->\n",
       "<g id=\"edge9\" class=\"edge\">\n",
       "<title>mixing streams 3&#45;&gt;mix_co2_stripper_nat_sw</title>\n",
       "<path fill=\"none\" stroke=\"black\" d=\"M1151.84,-356.14C1187.88,-347.38 1230.47,-337.03 1265.76,-328.45\"/>\n",
       "<polygon fill=\"black\" stroke=\"black\" points=\"1266.62,-331.84 1275.51,-326.08 1264.97,-325.04 1266.62,-331.84\"/>\n",
       "<text text-anchor=\"middle\" x=\"1194.28\" y=\"-351.8\" font-family=\"Times,serif\" font-size=\"14.00\">7.97</text>\n",
       "</g>\n",
       "<!-- seawater outflow -->\n",
       "<g id=\"node10\" class=\"node\">\n",
       "<title>seawater outflow</title>\n",
       "<polygon fill=\"none\" stroke=\"black\" points=\"1604.26,-323 1513.26,-323 1513.26,-299 1604.26,-299 1604.26,-293 1622.26,-311 1604.26,-329 1604.26,-323\"/>\n",
       "<text text-anchor=\"middle\" x=\"1567.76\" y=\"-307.3\" font-family=\"Times,serif\" font-size=\"14.00\">seawater outflow</text>\n",
       "</g>\n",
       "<!-- mix_co2_stripper_nat_sw&#45;&gt;seawater outflow -->\n",
       "<g id=\"edge13\" class=\"edge\">\n",
       "<title>mix_co2_stripper_nat_sw&#45;&gt;seawater outflow</title>\n",
       "<path fill=\"none\" stroke=\"black\" d=\"M1452.48,-311C1469.84,-311 1487.22,-311 1503,-311\"/>\n",
       "<polygon fill=\"black\" stroke=\"black\" points=\"1503.13,-314.5 1513.13,-311 1503.13,-307.5 1503.13,-314.5\"/>\n",
       "<text text-anchor=\"middle\" x=\"1482.76\" y=\"-314.8\" font-family=\"Times,serif\" font-size=\"14.00\">8.87</text>\n",
       "</g>\n",
       "<!-- splitting streams 2 -->\n",
       "<g id=\"node5\" class=\"node\">\n",
       "<title>splitting streams 2</title>\n",
       "<ellipse fill=\"none\" stroke=\"black\" cx=\"857.08\" cy=\"-375\" rx=\"58.88\" ry=\"37.45\"/>\n",
       "<text text-anchor=\"middle\" x=\"857.08\" y=\"-386.3\" font-family=\"Times,serif\" font-size=\"14.00\">splitting</text>\n",
       "<text text-anchor=\"middle\" x=\"857.08\" y=\"-371.3\" font-family=\"Times,serif\" font-size=\"14.00\">fraction: 0.1</text>\n",
       "<text text-anchor=\"middle\" x=\"857.08\" y=\"-356.3\" font-family=\"Times,serif\" font-size=\"14.00\">to ED cell</text>\n",
       "</g>\n",
       "<!-- splitting streams 2&#45;&gt;mixing streams 3 -->\n",
       "<g id=\"edge8\" class=\"edge\">\n",
       "<title>splitting streams 2&#45;&gt;mixing streams 3</title>\n",
       "<path fill=\"none\" stroke=\"black\" d=\"M916.04,-375C933.45,-375 953.07,-375 972.38,-375\"/>\n",
       "<polygon fill=\"black\" stroke=\"black\" points=\"972.43,-378.5 982.43,-375 972.43,-371.5 972.43,-378.5\"/>\n",
       "<text text-anchor=\"middle\" x=\"949.27\" y=\"-378.8\" font-family=\"Times,serif\" font-size=\"14.00\">4.0</text>\n",
       "</g>\n",
       "<!-- ED base stream -->\n",
       "<g id=\"node8\" class=\"node\">\n",
       "<title>ED base stream</title>\n",
       "<ellipse fill=\"none\" stroke=\"black\" cx=\"639.03\" cy=\"-292\" rx=\"66.89\" ry=\"18\"/>\n",
       "<text text-anchor=\"middle\" x=\"639.03\" y=\"-288.3\" font-family=\"Times,serif\" font-size=\"14.00\">ED base stream</text>\n",
       "</g>\n",
       "<!-- splitting streams 2&#45;&gt;ED base stream -->\n",
       "<g id=\"edge7\" class=\"edge\">\n",
       "<title>splitting streams 2&#45;&gt;ED base stream</title>\n",
       "<path fill=\"none\" stroke=\"black\" d=\"M806.15,-355.82C770.5,-342.12 722.84,-323.81 687.71,-310.32\"/>\n",
       "<polygon fill=\"black\" stroke=\"black\" points=\"688.74,-306.97 678.15,-306.65 686.23,-313.5 688.74,-306.97\"/>\n",
       "<text text-anchor=\"middle\" x=\"771.39\" y=\"-348.8\" font-family=\"Times,serif\" font-size=\"14.00\">4.0</text>\n",
       "</g>\n",
       "<!-- seawater CO2\n",
       "stripper&#45;&gt;splitting streams 2 -->\n",
       "<g id=\"edge5\" class=\"edge\">\n",
       "<title>seawater CO2\n",
       "stripper&#45;&gt;splitting streams 2</title>\n",
       "<path fill=\"none\" stroke=\"black\" d=\"M743.62,-380.73C758.78,-379.95 774.06,-379.18 788.26,-378.45\"/>\n",
       "<polygon fill=\"black\" stroke=\"black\" points=\"788.58,-381.94 798.39,-377.94 788.23,-374.95 788.58,-381.94\"/>\n",
       "<text text-anchor=\"middle\" x=\"771.39\" y=\"-382.8\" font-family=\"Times,serif\" font-size=\"14.00\">4.0</text>\n",
       "</g>\n",
       "<!-- ED acid stream&#45;&gt;mixing streams 1 -->\n",
       "<g id=\"edge4\" class=\"edge\">\n",
       "<title>ED acid stream&#45;&gt;mixing streams 1</title>\n",
       "<path fill=\"none\" stroke=\"black\" d=\"M407.02,-310.15C407.02,-320.07 407.02,-332.58 407.02,-343.75\"/>\n",
       "<polygon fill=\"black\" stroke=\"black\" points=\"403.52,-343.92 407.02,-353.92 410.52,-343.92 403.52,-343.92\"/>\n",
       "<text text-anchor=\"middle\" x=\"396.52\" y=\"-328.3\" font-family=\"Times,serif\" font-size=\"14.00\">1.66</text>\n",
       "</g>\n",
       "<!-- ED acid stream&#45;&gt;ED base stream -->\n",
       "<g id=\"edge10\" class=\"edge\">\n",
       "<title>ED acid stream&#45;&gt;ED base stream</title>\n",
       "<path fill=\"none\" stroke=\"transparent\" d=\"M472.7,-292C500.4,-292 532.94,-292 561.8,-292\"/>\n",
       "<polygon fill=\"transparent\" stroke=\"transparent\" points=\"561.83,-295.5 571.83,-292 561.83,-288.5 561.83,-295.5\"/>\n",
       "</g>\n",
       "<!-- ED base stream&#45;&gt;mix_co2_stripper_nat_sw -->\n",
       "<g id=\"edge6\" class=\"edge\">\n",
       "<title>ED base stream&#45;&gt;mix_co2_stripper_nat_sw</title>\n",
       "<path fill=\"none\" stroke=\"black\" d=\"M705.65,-293.79C822.42,-296.97 1067.93,-303.66 1216.19,-307.69\"/>\n",
       "<polygon fill=\"black\" stroke=\"black\" points=\"1216.16,-311.2 1226.26,-307.97 1216.36,-304.2 1216.16,-311.2\"/>\n",
       "<text text-anchor=\"middle\" x=\"949.27\" y=\"-303.8\" font-family=\"Times,serif\" font-size=\"14.00\">12.21</text>\n",
       "</g>\n",
       "<!-- seawater inflow -->\n",
       "<g id=\"node9\" class=\"node\">\n",
       "<title>seawater inflow</title>\n",
       "<polygon fill=\"none\" stroke=\"black\" points=\"84,-424 0,-424 0,-400 84,-400 84,-394 102,-412 84,-430 84,-424\"/>\n",
       "<text text-anchor=\"middle\" x=\"51\" y=\"-408.3\" font-family=\"Times,serif\" font-size=\"14.00\">seawater inflow</text>\n",
       "</g>\n",
       "<!-- seawater inflow&#45;&gt;splitting streams 1 -->\n",
       "<g id=\"edge11\" class=\"edge\">\n",
       "<title>seawater inflow&#45;&gt;splitting streams 1</title>\n",
       "<path fill=\"none\" stroke=\"black\" d=\"M102.16,-400.11C119.2,-396.07 138.49,-391.49 156.48,-387.23\"/>\n",
       "<polygon fill=\"black\" stroke=\"black\" points=\"157.39,-390.61 166.31,-384.89 155.78,-383.8 157.39,-390.61\"/>\n",
       "<text text-anchor=\"middle\" x=\"132.5\" y=\"-398.8\" font-family=\"Times,serif\" font-size=\"14.00\">8.09</text>\n",
       "</g>\n",
       "<!-- seawater inflow&#45;&gt;mixing streams 3 -->\n",
       "<g id=\"edge12\" class=\"edge\">\n",
       "<title>seawater inflow&#45;&gt;mixing streams 3</title>\n",
       "<path fill=\"none\" stroke=\"black\" d=\"M102.24,-429.9C135.42,-440.15 180.11,-451 220.69,-451 220.69,-451 220.69,-451 858.08,-451 911.45,-451 968.23,-429.78 1009.9,-409.77\"/>\n",
       "<polygon fill=\"black\" stroke=\"black\" points=\"1011.66,-412.8 1019.09,-405.26 1008.57,-406.52 1011.66,-412.8\"/>\n",
       "<text text-anchor=\"middle\" x=\"503.17\" y=\"-454.8\" font-family=\"Times,serif\" font-size=\"14.00\">8.09</text>\n",
       "</g>\n",
       "</g>\n",
       "</svg>\n"
      ],
      "text/plain": [
       "<graphviz.dot.Digraph at 0x7fe8435b45b0>"
      ]
     },
     "execution_count": 148,
     "metadata": {},
     "output_type": "execute_result"
    }
   ],
   "source": [
    "seawater_inflow_value = str(np.around(float(inflow_seawater[var_to_plot].values), decimals=2))\n",
    "ED_cell_seawater_value = str(np.around(float(ED_cell_seawater[var_to_plot].values), decimals=2))\n",
    "co2_stripper_value = str(np.around(float(co2_stripper_conditions[var_to_plot].values), decimals=2))\n",
    "mix_co2_stripper_nat_sw_value = str(np.around(float(composition_mix_co2_stripper_nat_sw[var_to_plot].values), decimals=2))\n",
    "ED_cell_base_seawater_value = str(np.around(float(ED_cell_base_seawater[var_to_plot].values), decimals=2))\n",
    "# after_ED_base_and_stripper_mixing_value = str(np.around(float(after_ED_base_and_stripper_mixing[var_to_plot].values), decimals=2))\n",
    "after_ED_base_and_stripper_mixing_with_natural_seawater_value = str(np.around(float(after_ED_base_and_stripper_mixing_with_natural_seawater[var_to_plot].values), decimals=2))\n",
    "outflow_from_co2_stripper_value = str(np.around(float(outflow_from_co2_stripper[var_to_plot].values), decimals=2))\n",
    "\n",
    "from graphviz import Digraph\n",
    "\n",
    "f=Digraph(name='parent')\n",
    "cluster_ed_cell = Digraph(name='ed_cell')\n",
    "# mixing = Digraph(name='mixing')\n",
    "end  = Digraph(name='end')\n",
    "\n",
    "\n",
    "f.attr(rankdir='LR', size='10,10')\n",
    "\n",
    "f.attr('node', shape='oval')\n",
    "end.attr('node', shape='rarrow')\n",
    "\n",
    "end.edge('seawater inflow', 'splitting streams 1', label=seawater_inflow_value)\n",
    "\n",
    "f.node('splitting streams 1',label='splitting\\nfraction: '+str(fraction_of_water_passing_through_ED_acid_stream)+'\\nto ED cell')\n",
    "f.node('mixing streams 1',label='mixing')\n",
    "# f.node('mixing streams 2',label='mixing***')\n",
    "f.node('mixing streams 3',label='mixing\\nfraction: '+str(fraction_of_co2_depleted_water_in_final_outflow)+'\\nfrom low pH stream')\n",
    "f.node('mix_co2_stripper_nat_sw',label='mixing from high pH stream')\n",
    "f.node('splitting streams 2',label='splitting\\nfraction: '+str(fraction_of_water_passing_through_ED_base_stream)+'\\nto ED cell')\n",
    "f.node('seawater CO2\\nstripper', label='seawater CO2\\nstripper\\n'+str(fraction_of_possible_co2_extracted_to_gas_stream*100.0)+'% extracted to gas')\n",
    "\n",
    "fraction_of_possible_co2_extracted_to_gas_stream\n",
    "\n",
    "f.edge('splitting streams 1', 'ED acid stream', label=seawater_inflow_value)\n",
    "f.edge('splitting streams 1', 'mixing streams 1', label=seawater_inflow_value)\n",
    "f.edge('mixing streams 1', 'seawater CO2\\nstripper', label=co2_stripper_value)\n",
    "f.edge('ED acid stream', 'mixing streams 1', label=ED_cell_seawater_value)\n",
    "f.edge('seawater CO2\\nstripper', 'splitting streams 2', label=outflow_from_co2_stripper_value)\n",
    "f.edge('ED base stream', 'mix_co2_stripper_nat_sw', label=ED_cell_base_seawater_value)\n",
    "f.edge('splitting streams 2', 'ED base stream', label=outflow_from_co2_stripper_value)\n",
    "f.edge('splitting streams 2', 'mixing streams 3', label=outflow_from_co2_stripper_value)\n",
    "# f.edge('mixing streams 2', 'mixing streams 3', label=after_ED_base_and_stripper_mixing_value)\n",
    "\n",
    "f.edge('mixing streams 3', 'mix_co2_stripper_nat_sw', label=mix_co2_stripper_nat_sw_value)\n",
    "\n",
    "\n",
    "end.edge('seawater inflow', 'mixing streams 3', label=seawater_inflow_value)\n",
    "\n",
    "\n",
    "end.edge('mix_co2_stripper_nat_sw', 'seawater outflow', label=after_ED_base_and_stripper_mixing_with_natural_seawater_value,shape='rarrow')\n",
    "\n",
    "# cluster_ed_cell.edge('ED acid stream', 'ED base stream')\n",
    "with f.subgraph(name='cluster_ed_cell') as cluster_ed_cell:\n",
    "    cluster_ed_cell.attr(color='black')\n",
    "    cluster_ed_cell.edge_attr['color'] = 'none'\n",
    "    cluster_ed_cell.edges([('ED acid stream', 'ED base stream')])\n",
    "    cluster_ed_cell.attr(label='ED Cell')\n",
    "    \n",
    "f.subgraph(end)\n",
    "\n",
    "f.attr(label=r\"\"\"\\n\\n\"\"\"+var_to_plot+\"\"\" data for SeaCURE seawater components\\n\\n\n",
    "chosen assumptions:\n",
    "seawater temperature = \"\"\"+str(seawater_temperature)+\"\"\" (deg C)\"\"\" \"\"\"\n",
    "seawater salinity = \"\"\"+str(seawater_salinity)+\"\"\" (psu)\"\"\" \"\"\"\n",
    "inflow seawater alkalinity = \"\"\"+str(inflow_seawater_alkalinity)+\"\"\" (µeq/kg)\"\"\" \"\"\"\n",
    "inflow seawater dissolved inorganic_carbon = \"\"\"+str(inflow_seawater_dissolved_inorganic_carbon)+\"\"\" (µmol/kg)\"\"\" \"\"\" \n",
    "pH in seawater CO2 stripper = \"\"\"+str(pH_in_seawater_co2_stripper)+\"\"\" \"\"\")\n",
    "\n",
    "\n",
    "f.attr(fontsize='20')\n",
    "\n",
    "f\n",
    "\n",
    "# f.save()\n",
    "# f.render(filename='/Users/ph290/Downloads/SeaCURE_pH_std', view=0, cleanup=1)"
   ]
  },
  {
   "cell_type": "markdown",
   "id": "85bcde51",
   "metadata": {},
   "source": [
    "## Below is just to help think about potential precipitates"
   ]
  },
  {
   "cell_type": "code",
   "execution_count": 139,
   "id": "e537e3c3",
   "metadata": {},
   "outputs": [],
   "source": [
    "seawater_temperature = 10.0 # degrees C\n",
    "seawater_salinity = 35.0 # psu\n",
    "inflow_seawater_alkalinity = 2300.0 # µeq/kg\n",
    "inflow_seawater_dissolved_inorganic_carbon = 2100.0 # µmol/kg\n",
    "fraction_of_water_passing_through_ED_acid_stream = 0.1 # decimal fraction of the incoming seawater stream diverted through the ED unit\n",
    "pH_in_seawater_co2_stripper = 4.0\n",
    "fraction_of_possible_co2_extracted_to_gas_stream = 1.0 # fraction of the available CO2 removed from teh seawater in the sewater Co2 stripper\n",
    "fraction_of_water_passing_through_ED_base_stream = fraction_of_water_passing_through_ED_acid_stream # initial assumption is that the same volume of fluid is passing through the ED cell's base stream as through the acid stream\n",
    "fraction_of_co2_depleted_water_in_final_outflow = 0.25 # i.e. how much unpricessed seawater if being mixed with the processed water when returned back to the ocean"
   ]
  },
  {
   "cell_type": "code",
   "execution_count": null,
   "id": "3cfed0a5",
   "metadata": {},
   "outputs": [],
   "source": []
  },
  {
   "cell_type": "code",
   "execution_count": 140,
   "id": "6b9cb967",
   "metadata": {},
   "outputs": [],
   "source": [
    "pH_values = np.linspace(8,13,100)\n",
    "\n",
    "kwargs_high_pH = dict(\n",
    "    par1 = ED_cell_base_seawater['dic'].values,  # Value of the first parameter\n",
    "    par2 = pH_values,  # Value of the second parameter, which is a long vector of different DIC's!\n",
    "    par2_type = 3,  # The first parameter supplied is of type \"1\", which is \"alkalinity\"\n",
    "    par1_type = 2,  # The second parameter supplied is of type \"2\", which is \"DIC\"\n",
    "    salinity = seawater_salinity,  # Salinity of the sample\n",
    "    temperature = seawater_temperature,  # Temperature at input conditions\n",
    ")\n",
    "\n",
    "output = pd.DataFrame.from_dict(pyco2.sys(**kwargs_high_pH))\n",
    "\n",
    "\n",
    "\n"
   ]
  },
  {
   "cell_type": "markdown",
   "id": "c3d2eca3",
   "metadata": {},
   "source": [
    "### [CO3] with pH"
   ]
  },
  {
   "cell_type": "code",
   "execution_count": 141,
   "id": "91086b48",
   "metadata": {},
   "outputs": [
    {
     "data": {
      "text/plain": [
       "Text(0, 0.5, 'umol/kg')"
      ]
     },
     "execution_count": 141,
     "metadata": {},
     "output_type": "execute_result"
    },
    {
     "data": {
      "image/png": "[encoded data removed]",
      "text/plain": [
       "<Figure size 432x288 with 1 Axes>"
      ]
     },
     "metadata": {
      "needs_background": "light"
     },
     "output_type": "display_data"
    }
   ],
   "source": [
    "plt.plot(output.pH,output.CO3,label='CO3')\n",
    "plt.legend()\n",
    "plt.xlabel('pH')\n",
    "plt.ylabel('umol/kg')\n"
   ]
  },
  {
   "cell_type": "markdown",
   "id": "6af35f3c",
   "metadata": {},
   "source": [
    "### [total borate] with pH"
   ]
  },
  {
   "cell_type": "code",
   "execution_count": 142,
   "id": "e3350e08",
   "metadata": {},
   "outputs": [
    {
     "data": {
      "text/plain": [
       "Text(0, 0.5, 'umol/kg')"
      ]
     },
     "execution_count": 142,
     "metadata": {},
     "output_type": "execute_result"
    },
    {
     "data": {
      "image/png": "[encoded data removed]",
      "text/plain": [
       "<Figure size 432x288 with 1 Axes>"
      ]
     },
     "metadata": {
      "needs_background": "light"
     },
     "output_type": "display_data"
    }
   ],
   "source": [
    "plt.plot(output.pH,output.BOH4,label='total_borate')\n",
    "plt.legend()\n",
    "plt.xlabel('pH')\n",
    "plt.ylabel('umol/kg')\n",
    "\n"
   ]
  },
  {
   "cell_type": "markdown",
   "id": "925b2d91",
   "metadata": {},
   "source": [
    "### [SO4] with pH"
   ]
  },
  {
   "cell_type": "code",
   "execution_count": 143,
   "id": "015a2b74",
   "metadata": {},
   "outputs": [
    {
     "data": {
      "text/plain": [
       "Text(0, 0.5, 'umol/kg')"
      ]
     },
     "execution_count": 143,
     "metadata": {},
     "output_type": "execute_result"
    },
    {
     "data": {
      "image/png": "[encoded data removed]",
      "text/plain": [
       "<Figure size 432x288 with 1 Axes>"
      ]
     },
     "metadata": {
      "needs_background": "light"
     },
     "output_type": "display_data"
    }
   ],
   "source": [
    "plt.plot(output.pH,output.SO4,label='SO4')\n",
    "plt.legend()\n",
    "plt.xlabel('pH')\n",
    "plt.ylabel('umol/kg')"
   ]
  },
  {
   "cell_type": "markdown",
   "id": "7b7b043a",
   "metadata": {},
   "source": [
    "### [OH] with pH"
   ]
  },
  {
   "cell_type": "code",
   "execution_count": 144,
   "id": "c64fefba",
   "metadata": {},
   "outputs": [
    {
     "data": {
      "text/plain": [
       "Text(0, 0.5, 'umol/kg')"
      ]
     },
     "execution_count": 144,
     "metadata": {},
     "output_type": "execute_result"
    },
    {
     "data": {
      "image/png": "[encoded data removed]",
      "text/plain": [
       "<Figure size 432x288 with 1 Axes>"
      ]
     },
     "metadata": {
      "needs_background": "light"
     },
     "output_type": "display_data"
    }
   ],
   "source": [
    "plt.plot(output.pH,output.hydroxide,label='hydroxide')\n",
    "plt.legend()\n",
    "plt.xlabel('pH')\n",
    "plt.ylabel('umol/kg')"
   ]
  },
  {
   "cell_type": "code",
   "execution_count": null,
   "id": "acb5d10b",
   "metadata": {},
   "outputs": [],
   "source": []
  }
 ],
 "metadata": {
  "kernelspec": {
   "display_name": "Python 3",
   "language": "python",
   "name": "python3"
  },
  "language_info": {
   "codemirror_mode": {
    "name": "ipython",
    "version": 3
   },
   "file_extension": ".py",
   "mimetype": "text/x-python",
   "name": "python",
   "nbconvert_exporter": "python",
   "pygments_lexer": "ipython3",
   "version": "3.9.4"
  }
 },
 "nbformat": 4,
 "nbformat_minor": 5
}
