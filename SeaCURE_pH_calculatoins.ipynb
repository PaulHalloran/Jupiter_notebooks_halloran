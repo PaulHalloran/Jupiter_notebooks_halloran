{
 "cells": [
  {
   "cell_type": "code",
   "execution_count": 95,
   "id": "2cfc0cc8",
   "metadata": {},
   "outputs": [],
   "source": [
    "import numpy as np\n",
    "import PyCO2SYS as pyco2"
   ]
  },
  {
   "cell_type": "code",
   "execution_count": 96,
   "id": "1ed2a70a",
   "metadata": {},
   "outputs": [],
   "source": [
    "# * **Total alkalinity** (type `1`) in μmol·kg<sup>−1</sup>.\n",
    "# * **Dissolved inorganic carbon** (type `2`) in μmol·kg<sup>−1</sup>.\n",
    "# * **pH** (type `3`) on the Total, Seawater, Free or NBS scale[^1].  Which scale is given by the input `pHSCALEIN`.\n",
    "# * **Partial pressure** (type `4`) or **fugacity** (type `5`) **of CO<sub>2</sub>** in μatm or **aqueous CO<sub>2</sub>** (type `8`) in μmol·kg<sup>−1</sup>.\n",
    "# * **Carbonate ion** (type `6`) in μmol·kg<sup>−1</sup>.\n",
    "# * **Bicarbonate ion** (type `7`) in μmol·kg<sup>−1</sup>."
   ]
  },
  {
   "cell_type": "markdown",
   "id": "80d8f206",
   "metadata": {},
   "source": [
    "### Water coming in:"
   ]
  },
  {
   "cell_type": "code",
   "execution_count": 97,
   "id": "a907246a",
   "metadata": {},
   "outputs": [
    {
     "name": "stdout",
     "output_type": "stream",
     "text": [
      "pCO2 366.17568504185215\n",
      "pH 8.075897099950021\n",
      "DIC 2100.0\n"
     ]
    }
   ],
   "source": [
    "natural_seawater_alkalinity = 2300\n",
    "natural_seawater_dic = 2100\n",
    "natural_seawater_salinity = 35\n",
    "natural_seawater_temperature = 10\n",
    "\n",
    "# Define input conditions\n",
    "kwargs = dict(\n",
    "    par1 = natural_seawater_alkalinity,  # Value of the first parameter\n",
    "    par2 = natural_seawater_dic,  # Value of the second parameter, which is a long vector of different DIC's!\n",
    "    par1_type = 1,  # The first parameter supplied is of type \"1\", which is \"alkalinity\"\n",
    "    par2_type = 2,  # The second parameter supplied is of type \"2\", which is \"DIC\"\n",
    "    salinity = natural_seawater_salinity,  # Salinity of the sample\n",
    "    temperature = natural_seawater_temperature,  # Temperature at input conditions\n",
    "    total_silicate = 50,  # Concentration of silicate  in the sample (in umol/kg)\n",
    "    total_phosphate = 2,  # Concentration of phosphate in the sample (in umol/kg)\n",
    "    opt_k_carbonic = 4,  # Choice of H2CO3 and HCO3- dissociation constants K1 and K2 (\"4\" means \"Mehrbach refit\")\n",
    "    opt_k_bisulfate = 1,  # Choice of HSO4- dissociation constants KSO4 (\"1\" means \"Dickson\")\n",
    ")\n",
    "\n",
    "\n",
    "results = pyco2.sys(**kwargs)\n",
    "print('pCO2',results['pCO2'])\n",
    "print('pH',results['pH'])\n",
    "print('DIC',results['dic'])"
   ]
  },
  {
   "cell_type": "markdown",
   "id": "36129b40",
   "metadata": {},
   "source": [
    "### Acidified water in electrodialysis unit\n",
    "\n",
    "Same calculation as above, but reducing the pH to 1.6"
   ]
  },
  {
   "cell_type": "code",
   "execution_count": 98,
   "id": "d105a4be",
   "metadata": {},
   "outputs": [
    {
     "name": "stdout",
     "output_type": "stream",
     "text": [
      "pCO2 48041.57742607431\n",
      "bicarbonate 0.08516115160786758\n",
      "carbonate 2.0841491387948532e-09\n",
      "pH 1.6\n",
      "DIC 2100.0\n",
      "alkalinity -24816.46102207822\n"
     ]
    }
   ],
   "source": [
    "modified_pH = 1.6\n",
    "\n",
    "kwargs2 = dict(\n",
    "    par1 = 2100,  # Value of the first parameter\n",
    "    par2 = modified_pH,  # Value of the second parameter, pH\n",
    "    par1_type = 2,  # The first parameter supplied is of type \"2\", which is \"DIC\"\n",
    "    par2_type = 3,  # The second parameter supplied is of type \"3\", which is \"pH\"\n",
    "    salinity = natural_seawater_salinity,  # Salinity of the sample\n",
    "    temperature = natural_seawater_temperature,  # Temperature at input conditions\n",
    "    total_silicate = 50,  # Concentration of silicate  in the sample (in umol/kg)\n",
    "    total_phosphate = 2,  # Concentration of phosphate in the sample (in umol/kg)\n",
    "    opt_k_carbonic = 4,  # Choice of H2CO3 and HCO3- dissociation constants K1 and K2 (\"4\" means \"Mehrbach refit\")\n",
    "    opt_k_bisulfate = 1,  # Choice of HSO4- dissociation constants KSO4 (\"1\" means \"Dickson\")\n",
    ")\n",
    "\n",
    "results2 = pyco2.sys(**kwargs2)\n",
    "print('pCO2',results2['pCO2'])\n",
    "print('bicarbonate',results2['HCO3'])\n",
    "print('carbonate',results2['CO3'])\n",
    "print('pH',results2['pH'])\n",
    "print('DIC',results2['dic'])\n",
    "print('alkalinity',results2['alkalinity'])"
   ]
  },
  {
   "cell_type": "markdown",
   "id": "b9edb7f2",
   "metadata": {},
   "source": [
    "### Water entering CO2 stripper \n",
    "\n",
    "As above, but setting pH to 4.0"
   ]
  },
  {
   "cell_type": "code",
   "execution_count": 113,
   "id": "79c9240d",
   "metadata": {},
   "outputs": [
    {
     "name": "stdout",
     "output_type": "stream",
     "text": [
      "pCO2 47559.04596219638\n",
      "bicarbonate 21.176656925418914\n",
      "carbonate 0.0001301801202730199\n",
      "pH 4.0\n",
      "DIC 2100.0\n",
      "alkalinity -80.63454502359501\n"
     ]
    }
   ],
   "source": [
    "kwargs3 = dict(\n",
    "    par1 = 2100,  # Value of the first parameter\n",
    "    par2 = 4.0,  # Value of the second parameter, pH\n",
    "    par1_type = 2,  # The first parameter supplied is of type \"2\", which is \"DIC\"\n",
    "    par2_type = 3,  # The second parameter supplied is of type \"3\", which is \"pH\"\n",
    "    salinity = natural_seawater_salinity,  # Salinity of the sample\n",
    "    temperature = natural_seawater_temperature,  # Temperature at input conditions\n",
    "    total_silicate = 50,  # Concentration of silicate  in the sample (in umol/kg)\n",
    "    total_phosphate = 2,  # Concentration of phosphate in the sample (in umol/kg)\n",
    "    opt_k_carbonic = 4,  # Choice of H2CO3 and HCO3- dissociation constants K1 and K2 (\"4\" means \"Mehrbach refit\")\n",
    "    opt_k_bisulfate = 1,  # Choice of HSO4- dissociation constants KSO4 (\"1\" means \"Dickson\")\n",
    ")\n",
    "\n",
    "results3 = pyco2.sys(**kwargs3)\n",
    "print('pCO2',results3['pCO2'])\n",
    "print('bicarbonate',results3['HCO3'])\n",
    "print('carbonate',results3['CO3'])\n",
    "print('pH',results3['pH'])\n",
    "print('DIC',results3['dic'])\n",
    "print('alkalinity',results3['alkalinity'])"
   ]
  },
  {
   "cell_type": "markdown",
   "id": "3d0cca1e",
   "metadata": {},
   "source": [
    "### Base stream in ED unit\n",
    "\n",
    "Assuming essentially all carbon has been removed (using a dissolved inorganic carbon value of 0.00001)\n",
    "\n",
    "Setting alkalinity to the oposite of the change in alkalinity required to acieve pH 1.6 in the ED acidified stream"
   ]
  },
  {
   "cell_type": "code",
   "execution_count": 100,
   "id": "88137b5a",
   "metadata": {},
   "outputs": [
    {
     "name": "stdout",
     "output_type": "stream",
     "text": [
      "pCO2 1.0634135068962886e-14\n",
      "bicarbonate 8.772613727528987e-10\n",
      "carbonate 9.991227381624253e-07\n",
      "pH 12.267802568117897\n",
      "DIC 1e-06\n",
      "alkalinity 27116.46102207822\n"
     ]
    }
   ],
   "source": [
    "DIC_after_co2_stripper = 0.000001\n",
    "\n",
    "kwargs4 = dict(\n",
    "    par1 = 0.000001,  # Value of the first parameter\n",
    "    par2 = results['alkalinity'] - results2['alkalinity'],  # Value of the second parameter, alkalinity\n",
    "    par1_type = 2,  # The first parameter supplied is of type \"2\", which is \"DIC\"\n",
    "    par2_type = 1,  # The second parameter supplied is of type \"1\", which is \"alkalinity\"\n",
    "    salinity = natural_seawater_salinity,  # Salinity of the sample\n",
    "    temperature = natural_seawater_temperature,  # Temperature at input conditions\n",
    "    total_silicate = 50,  # Concentration of silicate  in the sample (in umol/kg)\n",
    "    total_phosphate = 2,  # Concentration of phosphate in the sample (in umol/kg)\n",
    "    opt_k_carbonic = 4,  # Choice of H2CO3 and HCO3- dissociation constants K1 and K2 (\"4\" means \"Mehrbach refit\")\n",
    "    opt_k_bisulfate = 1,  # Choice of HSO4- dissociation constants KSO4 (\"1\" means \"Dickson\")\n",
    ")\n",
    "\n",
    "results4 = pyco2.sys(**kwargs4)\n",
    "print('pCO2',results4['pCO2'])\n",
    "print('bicarbonate',results4['HCO3'])\n",
    "print('carbonate',results4['CO3'])\n",
    "print('pH',results4['pH'])\n",
    "print('DIC',results4['dic'])\n",
    "print('alkalinity',results4['alkalinity'])"
   ]
  },
  {
   "cell_type": "markdown",
   "id": "016baadb",
   "metadata": {},
   "source": [
    "### Diluting the baseified ED water with water from stripper\n",
    "\n",
    "Mixing the low alkalinity water from the CO2 stripper with the very high alkalinity water from the ED unit in the ditution ratio specified below (e.g. 10:1)"
   ]
  },
  {
   "cell_type": "code",
   "execution_count": 116,
   "id": "57ad5997",
   "metadata": {},
   "outputs": [
    {
     "name": "stdout",
     "output_type": "stream",
     "text": [
      "pCO2 2.0136252579608345e-12\n",
      "bicarbonate 1.2004258574164444e-08\n",
      "carbonate 9.879956534095425e-07\n",
      "pH 11.126732424701917\n",
      "DIC 1e-06\n",
      "alkalinity 2391.8286883492974\n"
     ]
    }
   ],
   "source": [
    "dilution = 10.0 #fold\n",
    "\n",
    "ED_basified_water = results['alkalinity'] - results2['alkalinity']\n",
    "Stripped_water = results3['alkalinity']\n",
    "\n",
    "diluted_alkalinity = (ED_basified_water + (dilution * Stripped_water))/(dilution + 1)\n",
    "\n",
    "kwargs5 = dict(\n",
    "    par1 = results4['dic'],  # Value of the first parameter\n",
    "    par2 = diluted_alkalinity,  # Value of the second parameter, alkalinity\n",
    "    par1_type = 2,  # The first parameter supplied is of type \"2\", which is \"DIC\"\n",
    "    par2_type = 1,  # The second parameter supplied is of type \"1\", which is \"alkalinity\"\n",
    "    salinity = natural_seawater_salinity,  # Salinity of the sample\n",
    "    temperature = natural_seawater_temperature,  # Temperature at input conditions\n",
    "    total_silicate = 50,  # Concentration of silicate  in the sample (in umol/kg)\n",
    "    total_phosphate = 2,  # Concentration of phosphate in the sample (in umol/kg)\n",
    "    opt_k_carbonic = 4,  # Choice of H2CO3 and HCO3- dissociation constants K1 and K2 (\"4\" means \"Mehrbach refit\")\n",
    "    opt_k_bisulfate = 1,  # Choice of HSO4- dissociation constants KSO4 (\"1\" means \"Dickson\")\n",
    ")\n",
    "\n",
    "results5 = pyco2.sys(**kwargs5)\n",
    "print('pCO2',results5['pCO2'])\n",
    "print('bicarbonate',results5['HCO3'])\n",
    "print('carbonate',results5['CO3'])\n",
    "print('pH',results5['pH'])\n",
    "print('DIC',results5['dic'])\n",
    "print('alkalinity',results5['alkalinity'])"
   ]
  },
  {
   "cell_type": "markdown",
   "id": "66b2923d",
   "metadata": {},
   "source": [
    "### Dilution of combined ED and stripper water with Seawater\n",
    "\n",
    "Diluting the water combined ED base stream and CO2 stripper water with natural seawater, changing the alklainity and DIC.\n",
    "\n",
    "Dilution factor specified below (e.g. initially 1:5)"
   ]
  },
  {
   "cell_type": "code",
   "execution_count": 127,
   "id": "39d416ec",
   "metadata": {},
   "outputs": [
    {
     "name": "stdout",
     "output_type": "stream",
     "text": [
      "pCO2 68.62813121711523\n",
      "bicarbonate 1369.630167774174\n",
      "carbonate 377.37007179289765\n",
      "pH 8.651476873552626\n",
      "DIC 1750.0000001666667\n",
      "alkalinity 2315.3047813915496\n"
     ]
    }
   ],
   "source": [
    "dilution = 5.0 #fold\n",
    "\n",
    "natural_seawater_alk = results['alkalinity']\n",
    "Combined_ED_basified_and_stripped_water = results5['alkalinity']\n",
    "natural_seawater_dic = results['dic']\n",
    "\n",
    "nat_sw_diluted_alkalinity = (Combined_ED_basified_and_stripped_water + (dilution * natural_seawater_alk))/(dilution + 1)\n",
    "diluted_dic = (results5['dic'] + (dilution * natural_seawater_dic))/(dilution + 1)\n",
    "\n",
    "kwargs6 = dict(\n",
    "    par1 = diluted_dic,  # Value of the first parameter\n",
    "    par2 = nat_sw_diluted_alkalinity,  # Value of the second parameter, alkalinity\n",
    "    par1_type = 2,  # The first parameter supplied is of type \"2\", which is \"DIC\"\n",
    "    par2_type = 1,  # The second parameter supplied is of type \"1\", which is \"alkalinity\"\n",
    "    salinity = natural_seawater_salinity,  # Salinity of the sample\n",
    "    temperature = natural_seawater_temperature,  # Temperature at input conditions\n",
    "    total_silicate = 50,  # Concentration of silicate  in the sample (in umol/kg)\n",
    "    total_phosphate = 2,  # Concentration of phosphate in the sample (in umol/kg)\n",
    "    opt_k_carbonic = 4,  # Choice of H2CO3 and HCO3- dissociation constants K1 and K2 (\"4\" means \"Mehrbach refit\")\n",
    "    opt_k_bisulfate = 1,  # Choice of HSO4- dissociation constants KSO4 (\"1\" means \"Dickson\")\n",
    ")\n",
    "\n",
    "results6 = pyco2.sys(**kwargs6)\n",
    "print('pCO2',results6['pCO2'])\n",
    "print('bicarbonate',results6['HCO3'])\n",
    "print('carbonate',results6['CO3'])\n",
    "print('pH',results6['pH'])\n",
    "print('DIC',results6['dic'])\n",
    "print('alkalinity',results6['alkalinity'])"
   ]
  },
  {
   "cell_type": "code",
   "execution_count": null,
   "id": "ee70c1a9",
   "metadata": {},
   "outputs": [],
   "source": []
  },
  {
   "cell_type": "code",
   "execution_count": null,
   "id": "4cdc29fc",
   "metadata": {},
   "outputs": [],
   "source": []
  }
 ],
 "metadata": {
  "kernelspec": {
   "display_name": "Python 3",
   "language": "python",
   "name": "python3"
  },
  "language_info": {
   "codemirror_mode": {
    "name": "ipython",
    "version": 3
   },
   "file_extension": ".py",
   "mimetype": "text/x-python",
   "name": "python",
   "nbconvert_exporter": "python",
   "pygments_lexer": "ipython3",
   "version": "3.9.4"
  }
 },
 "nbformat": 4,
 "nbformat_minor": 5
}
