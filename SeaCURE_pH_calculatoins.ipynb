{
 "cells": [
  {
   "cell_type": "markdown",
   "id": "4ee05096",
   "metadata": {},
   "source": [
    "# Carbonate system through SeaCURE system \n",
    "\n",
    "Note to Paul. To make this work on binder, you need the the runtime.txt, apt.txt and requirements.txt associated with github commit 6088dd44f2e69c62eeda9b6b555c8174773ac4b0 in https://github.com/PaulHalloran/Jupiter_notebooks_halloran . These install graphviz via apt, then graphviz, pandas, PyCO2SYS and numpy with pip. Note at present does not work if conda installs are invoked with an environment.yml file."
   ]
  },
  {
   "cell_type": "markdown",
   "id": "7d2d3922",
   "metadata": {},
   "source": [
    "### functions required for subsequent calculations"
   ]
  },
  {
   "cell_type": "code",
   "execution_count": 1,
   "id": "33647797",
   "metadata": {},
   "outputs": [],
   "source": [
    "import numpy as np\n",
    "import PyCO2SYS as pyco2\n",
    "import pandas as pd\n",
    "from graphviz import Digraph\n",
    "\n",
    "def carbon_chem_from_alk_and_dic(alkalinity, dic, temperature, salinity):\n",
    "    # * **Total alkalinity** (type `1`) in μmol·kg<sup>−1</sup>.\n",
    "    # * **Dissolved inorganic carbon** (type `2`) in μmol·kg<sup>−1</sup>.\n",
    "    # * **pH** (type `3`) on the Total, Seawater, Free or NBS scale[^1].  Which scale is given by the input `pHSCALEIN`.\n",
    "    # * **Partial pressure** (type `4`) or **fugacity** (type `5`) **of CO<sub>2</sub>** in μatm or **aqueous CO<sub>2</sub>** (type `8`) in μmol·kg<sup>−1</sup>.\n",
    "    # * **Carbonate ion** (type `6`) in μmol·kg<sup>−1</sup>.\n",
    "    # * **Bicarbonate ion** (type `7`) in μmol·kg<sup>−1</sup>.\n",
    "    # Define input conditions\n",
    "    kwargs_alk_dic = dict(\n",
    "        par1 = alkalinity,  # Value of the first parameter\n",
    "        par2 = dic,  # Value of the second parameter, which is a long vector of different DIC's!\n",
    "        par1_type = 1,  # The first parameter supplied is of type \"1\", which is \"alkalinity\"\n",
    "        par2_type = 2,  # The second parameter supplied is of type \"2\", which is \"DIC\"\n",
    "        salinity = salinity,  # Salinity of the sample\n",
    "        temperature = temperature,  # Temperature at input conditions\n",
    "    )\n",
    "    return pd.DataFrame.from_dict(pyco2.sys(**kwargs_alk_dic), orient='index').T\n",
    "\n",
    "def carbon_chem_from_pH_and_dic(pH, dic, temperature, salinity):\n",
    "    # Define input conditions\n",
    "    kwargs_pH_dic = dict(\n",
    "        par1 = dic,  # Value of the first parameter\n",
    "        par2 = pH,  # Value of the second parameter, which is a long vector of different DIC's!\n",
    "        par1_type = 2,  # The first parameter supplied is of type \"1\", which is \"alkalinity\"\n",
    "        par2_type = 3,  # The second parameter supplied is of type \"2\", which is \"DIC\"\n",
    "        salinity = salinity,  # Salinity of the sample\n",
    "        temperature = temperature,  # Temperature at input conditions\n",
    "    )\n",
    "    return pd.DataFrame.from_dict(pyco2.sys(**kwargs_pH_dic), orient='index').T\n",
    "\n",
    "def conservative_mixing(conc1,conc2,fraction_conc1):\n",
    "    return (conc1 * fraction_conc1) + (conc2 * (1.0 - fraction_conc1))\n",
    "\n",
    "\n",
    "def itterate_on_pH(co2_stripper_conditions,initial_pH_estimate,co2_stripper_predicted_ph,seawater_temperature, seawater_salinity,increment,direction):\n",
    "    counter = 0\n",
    "    if direction == 'down':\n",
    "        while co2_stripper_predicted_ph > pH_in_seawater_co2_stripper:\n",
    "            initial_pH_estimate -= increment\n",
    "            counter += 1\n",
    "            ED_cell_seawater = carbon_chem_from_pH_and_dic(initial_pH_estimate, inflow_seawater['dic'].values, seawater_temperature, seawater_salinity)\n",
    "            alkalinity_after_mixing_streams = conservative_mixing(ED_cell_seawater['alkalinity'].values,inflow_seawater['alkalinity'].values,fraction_of_water_passing_through_ED_acid_stream)\n",
    "            co2_stripper_conditions = carbon_chem_from_alk_and_dic(alkalinity_after_mixing_streams, inflow_seawater_dissolved_inorganic_carbon, seawater_temperature, seawater_salinity)\n",
    "            co2_stripper_predicted_ph = co2_stripper_conditions['pH'].values\n",
    "            if counter > 10000:\n",
    "                print('max iterations hit')\n",
    "                break\n",
    "    else:\n",
    "        while co2_stripper_predicted_ph < pH_in_seawater_co2_stripper:\n",
    "            initial_pH_estimate += increment\n",
    "            counter += 1\n",
    "            ED_cell_seawater = carbon_chem_from_pH_and_dic(initial_pH_estimate, inflow_seawater['dic'].values, seawater_temperature, seawater_salinity)\n",
    "            alkalinity_after_mixing_streams = conservative_mixing(ED_cell_seawater['alkalinity'].values,inflow_seawater['alkalinity'].values,fraction_of_water_passing_through_ED_acid_stream)\n",
    "            co2_stripper_conditions = carbon_chem_from_alk_and_dic(alkalinity_after_mixing_streams, inflow_seawater_dissolved_inorganic_carbon, seawater_temperature, seawater_salinity)\n",
    "            co2_stripper_predicted_ph = co2_stripper_conditions['pH'].values\n",
    "            if counter > 10000:\n",
    "                print('max iterations hit')\n",
    "                break\n",
    "    return ED_cell_seawater,co2_stripper_conditions,initial_pH_estimate,co2_stripper_predicted_ph"
   ]
  },
  {
   "cell_type": "markdown",
   "id": "78ba91c3",
   "metadata": {},
   "source": [
    "### Define inputs"
   ]
  },
  {
   "cell_type": "code",
   "execution_count": 2,
   "id": "90d66f2f",
   "metadata": {},
   "outputs": [],
   "source": [
    "seawater_temperature = 10.0 # degrees C\n",
    "seawater_salinity = 35.0 # psu\n",
    "inflow_seawater_alkalinity = 2300.0 # µeq/kg\n",
    "inflow_seawater_dissolved_inorganic_carbon = 2100.0 # µmol/kg\n",
    "fraction_of_water_passing_through_ED_acid_stream = 0.1 # decimal fraction of the incoming seawater stream diverted through the ED unit\n",
    "pH_in_seawater_co2_stripper = 4.0\n",
    "fraction_of_possible_co2_extracted_to_gas_stream = 1.0 # fraction of the available CO2 removed from teh seawater in the sewater Co2 stripper\n",
    "fraction_of_water_passing_through_ED_base_stream = fraction_of_water_passing_through_ED_acid_stream # initial assumption is that the same volume of fluid is passing through the ED cell's base stream as through the acid stream\n",
    "fraction_of_co2_depleted_water_in_final_outflow = 0.25 # i.e. how much unpricessed seawater if being mixed with the processed water when returned back to the ocean"
   ]
  },
  {
   "cell_type": "markdown",
   "id": "f6353f6a",
   "metadata": {},
   "source": [
    "Note, initial output variables are:\n",
    "\n",
    "- pH - self explanatory\n",
    "- dic - dissolved inorganic carbon concentration. i.e. total amount of dissolved carbon in the seawater in µmol/kg\n",
    "- alkalinity - total alkalinity, 'the molar amount of bases in a solution that can be converted to uncharged species by a strong acid' ([wikipedia](https://en.wikipedia.org/wiki/Alkalinity#cite_note-2)), µeq/kg\n",
    "- bicarbonate - concentration of bicarbonate ions µmol/kg\n",
    "- carbonate - concentration of carbonate ions µmol/kg\n",
    "- pCO2 - partial presure of CO2, µatm"
   ]
  },
  {
   "cell_type": "markdown",
   "id": "bd338f0e",
   "metadata": {},
   "source": [
    "### Chemistry of inflow seawater\n"
   ]
  },
  {
   "cell_type": "code",
   "execution_count": 3,
   "id": "72ebf978",
   "metadata": {
    "jupyter": {
     "source_hidden": true
    }
   },
   "outputs": [
    {
     "data": {
      "text/html": [
       "<div>\n",
       "<style scoped>\n",
       "    .dataframe tbody tr th:only-of-type {\n",
       "        vertical-align: middle;\n",
       "    }\n",
       "\n",
       "    .dataframe tbody tr th {\n",
       "        vertical-align: top;\n",
       "    }\n",
       "\n",
       "    .dataframe thead th {\n",
       "        text-align: right;\n",
       "    }\n",
       "</style>\n",
       "<table border=\"1\" class=\"dataframe\">\n",
       "  <thead>\n",
       "    <tr style=\"text-align: right;\">\n",
       "      <th></th>\n",
       "      <th>pH</th>\n",
       "      <th>dic</th>\n",
       "      <th>alkalinity</th>\n",
       "      <th>bicarbonate</th>\n",
       "      <th>carbonate</th>\n",
       "      <th>pCO2</th>\n",
       "    </tr>\n",
       "  </thead>\n",
       "  <tbody>\n",
       "    <tr>\n",
       "      <th>0</th>\n",
       "      <td>8.091704847930695</td>\n",
       "      <td>2100.0</td>\n",
       "      <td>2300.0</td>\n",
       "      <td>1940.980368</td>\n",
       "      <td>143.206398</td>\n",
       "      <td>361.773084</td>\n",
       "    </tr>\n",
       "  </tbody>\n",
       "</table>\n",
       "</div>"
      ],
      "text/plain": [
       "                  pH     dic alkalinity  bicarbonate   carbonate        pCO2\n",
       "0  8.091704847930695  2100.0     2300.0  1940.980368  143.206398  361.773084"
      ]
     },
     "execution_count": 3,
     "metadata": {},
     "output_type": "execute_result"
    }
   ],
   "source": [
    "inflow_seawater = carbon_chem_from_alk_and_dic(inflow_seawater_alkalinity, inflow_seawater_dissolved_inorganic_carbon, seawater_temperature, seawater_salinity)\n",
    "inflow_seawater[['pH','dic','alkalinity','bicarbonate', 'carbonate','pCO2']]\n"
   ]
  },
  {
   "cell_type": "markdown",
   "id": "59e61e8e",
   "metadata": {},
   "source": [
    "### Conditions in acid stream of ED cell\n",
    "\n",
    "Crude itteration to find pH in ED cell consistent with the required seawater CO2 stripper pH and fraction of seawaterpassed trhough ED cell"
   ]
  },
  {
   "cell_type": "code",
   "execution_count": 4,
   "id": "2df05f6d",
   "metadata": {
    "jupyter": {
     "source_hidden": true
    }
   },
   "outputs": [
    {
     "data": {
      "text/html": [
       "<div>\n",
       "<style scoped>\n",
       "    .dataframe tbody tr th:only-of-type {\n",
       "        vertical-align: middle;\n",
       "    }\n",
       "\n",
       "    .dataframe tbody tr th {\n",
       "        vertical-align: top;\n",
       "    }\n",
       "\n",
       "    .dataframe thead th {\n",
       "        text-align: right;\n",
       "    }\n",
       "</style>\n",
       "<table border=\"1\" class=\"dataframe\">\n",
       "  <thead>\n",
       "    <tr style=\"text-align: right;\">\n",
       "      <th></th>\n",
       "      <th>pH</th>\n",
       "      <th>dic</th>\n",
       "      <th>alkalinity</th>\n",
       "      <th>bicarbonate</th>\n",
       "      <th>carbonate</th>\n",
       "      <th>pCO2</th>\n",
       "    </tr>\n",
       "  </thead>\n",
       "  <tbody>\n",
       "    <tr>\n",
       "      <th>0</th>\n",
       "      <td>1.662965999999998</td>\n",
       "      <td>2100.0</td>\n",
       "      <td>-21511.534919</td>\n",
       "      <td>0.096042</td>\n",
       "      <td>0.0</td>\n",
       "      <td>48041.328496</td>\n",
       "    </tr>\n",
       "  </tbody>\n",
       "</table>\n",
       "</div>"
      ],
      "text/plain": [
       "                  pH     dic    alkalinity bicarbonate carbonate          pCO2\n",
       "0  1.662965999999998  2100.0 -21511.534919    0.096042       0.0  48041.328496"
      ]
     },
     "execution_count": 4,
     "metadata": {},
     "output_type": "execute_result"
    }
   ],
   "source": [
    "counter = 0\n",
    "co2_stripper_predicted_ph = 1000.0\n",
    "initial_pH_estimate = pH_in_seawater_co2_stripper\n",
    "co2_stripper_conditions = 0.0\n",
    "\n",
    "ED_cell_seawater,co2_stripper_conditions,initial_pH_estimate,co2_stripper_predicted_ph = itterate_on_pH(co2_stripper_conditions,initial_pH_estimate,co2_stripper_predicted_ph,seawater_temperature, seawater_salinity,0.1,'down')\n",
    "ED_cell_seawater,co2_stripper_conditions,initial_pH_estimate,co2_stripper_predicted_ph = itterate_on_pH(co2_stripper_conditions,initial_pH_estimate,co2_stripper_predicted_ph,seawater_temperature, seawater_salinity,0.01,'up')\n",
    "ED_cell_seawater,co2_stripper_conditions,initial_pH_estimate,co2_stripper_predicted_ph = itterate_on_pH(co2_stripper_conditions,initial_pH_estimate,co2_stripper_predicted_ph,seawater_temperature, seawater_salinity,0.001,'down')\n",
    "ED_cell_seawater,co2_stripper_conditions,initial_pH_estimate,co2_stripper_predicted_ph = itterate_on_pH(co2_stripper_conditions,initial_pH_estimate,co2_stripper_predicted_ph,seawater_temperature, seawater_salinity,0.0001,'up')\n",
    "ED_cell_seawater,co2_stripper_conditions,initial_pH_estimate,co2_stripper_predicted_ph = itterate_on_pH(co2_stripper_conditions,initial_pH_estimate,co2_stripper_predicted_ph,seawater_temperature, seawater_salinity,0.00001,'down')\n",
    "ED_cell_seawater,co2_stripper_conditions,initial_pH_estimate,co2_stripper_predicted_ph = itterate_on_pH(co2_stripper_conditions,initial_pH_estimate,co2_stripper_predicted_ph,seawater_temperature, seawater_salinity,0.000001,'up')\n",
    "\n",
    "ED_cell_seawater[['pH','dic','alkalinity','bicarbonate', 'carbonate','pCO2']]\n"
   ]
  },
  {
   "cell_type": "markdown",
   "id": "9b5ff5cc",
   "metadata": {},
   "source": [
    "\n",
    "\n"
   ]
  },
  {
   "cell_type": "markdown",
   "id": "c915986d",
   "metadata": {},
   "source": [
    "### Conditions in seawater CO2 stripper"
   ]
  },
  {
   "cell_type": "code",
   "execution_count": 5,
   "id": "5699362d",
   "metadata": {
    "jupyter": {
     "source_hidden": true
    }
   },
   "outputs": [
    {
     "data": {
      "text/html": [
       "<div>\n",
       "<style scoped>\n",
       "    .dataframe tbody tr th:only-of-type {\n",
       "        vertical-align: middle;\n",
       "    }\n",
       "\n",
       "    .dataframe tbody tr th {\n",
       "        vertical-align: top;\n",
       "    }\n",
       "\n",
       "    .dataframe thead th {\n",
       "        text-align: right;\n",
       "    }\n",
       "</style>\n",
       "<table border=\"1\" class=\"dataframe\">\n",
       "  <thead>\n",
       "    <tr style=\"text-align: right;\">\n",
       "      <th></th>\n",
       "      <th>pH</th>\n",
       "      <th>dic</th>\n",
       "      <th>alkalinity</th>\n",
       "      <th>bicarbonate</th>\n",
       "      <th>carbonate</th>\n",
       "      <th>pCO2</th>\n",
       "    </tr>\n",
       "  </thead>\n",
       "  <tbody>\n",
       "    <tr>\n",
       "      <th>0</th>\n",
       "      <td>4.000006046230498</td>\n",
       "      <td>2100.0</td>\n",
       "      <td>-81.153492</td>\n",
       "      <td>20.664562</td>\n",
       "      <td>0.000123</td>\n",
       "      <td>47570.761768</td>\n",
       "    </tr>\n",
       "  </tbody>\n",
       "</table>\n",
       "</div>"
      ],
      "text/plain": [
       "                  pH     dic alkalinity bicarbonate carbonate          pCO2\n",
       "0  4.000006046230498  2100.0 -81.153492   20.664562  0.000123  47570.761768"
      ]
     },
     "execution_count": 5,
     "metadata": {},
     "output_type": "execute_result"
    }
   ],
   "source": [
    "co2_stripper_conditions[['pH','dic','alkalinity','bicarbonate', 'carbonate','pCO2']]"
   ]
  },
  {
   "cell_type": "markdown",
   "id": "7709cdcf",
   "metadata": {},
   "source": [
    "### Fraction of dissolved carbon potentially liberated"
   ]
  },
  {
   "cell_type": "code",
   "execution_count": 6,
   "id": "f860f7a7",
   "metadata": {
    "jupyter": {
     "source_hidden": true
    }
   },
   "outputs": [
    {
     "name": "stdout",
     "output_type": "stream",
     "text": [
      "[0.9901596738254074]\n"
     ]
    }
   ],
   "source": [
    "fraction_of_liberated_dic = (inflow_seawater_dissolved_inorganic_carbon - co2_stripper_conditions['bicarbonate'].values - co2_stripper_conditions['carbonate'].values)/inflow_seawater_dissolved_inorganic_carbon\n",
    "print(fraction_of_liberated_dic)"
   ]
  },
  {
   "cell_type": "markdown",
   "id": "e212132a",
   "metadata": {},
   "source": [
    "### Fraction of dissolved carbon liberated given specified extraction efficiency (fraction_of_possible_co2_extracted_to_gas_stream)\n"
   ]
  },
  {
   "cell_type": "code",
   "execution_count": 7,
   "id": "88f65d4f",
   "metadata": {
    "jupyter": {
     "source_hidden": true
    }
   },
   "outputs": [
    {
     "name": "stdout",
     "output_type": "stream",
     "text": [
      "[0.9901596738254074]\n"
     ]
    }
   ],
   "source": [
    "print(fraction_of_liberated_dic * fraction_of_possible_co2_extracted_to_gas_stream)"
   ]
  },
  {
   "cell_type": "markdown",
   "id": "af8550ce",
   "metadata": {},
   "source": [
    "### Conditions in base stream of ED cell\n"
   ]
  },
  {
   "cell_type": "code",
   "execution_count": 8,
   "id": "6a687eca",
   "metadata": {
    "jupyter": {
     "source_hidden": true
    }
   },
   "outputs": [
    {
     "data": {
      "text/html": [
       "<div>\n",
       "<style scoped>\n",
       "    .dataframe tbody tr th:only-of-type {\n",
       "        vertical-align: middle;\n",
       "    }\n",
       "\n",
       "    .dataframe tbody tr th {\n",
       "        vertical-align: top;\n",
       "    }\n",
       "\n",
       "    .dataframe thead th {\n",
       "        text-align: right;\n",
       "    }\n",
       "</style>\n",
       "<table border=\"1\" class=\"dataframe\">\n",
       "  <thead>\n",
       "    <tr style=\"text-align: right;\">\n",
       "      <th></th>\n",
       "      <th>pH</th>\n",
       "      <th>dic</th>\n",
       "      <th>alkalinity</th>\n",
       "      <th>bicarbonate</th>\n",
       "      <th>carbonate</th>\n",
       "      <th>pCO2</th>\n",
       "    </tr>\n",
       "  </thead>\n",
       "  <tbody>\n",
       "    <tr>\n",
       "      <th>0</th>\n",
       "      <td>12.210527851437211</td>\n",
       "      <td>20.664685</td>\n",
       "      <td>23811.534919</td>\n",
       "      <td>0.021282</td>\n",
       "      <td>20.643403</td>\n",
       "      <td>0.0</td>\n",
       "    </tr>\n",
       "  </tbody>\n",
       "</table>\n",
       "</div>"
      ],
      "text/plain": [
       "                   pH        dic    alkalinity bicarbonate  carbonate pCO2\n",
       "0  12.210527851437211  20.664685  23811.534919    0.021282  20.643403  0.0"
      ]
     },
     "execution_count": 8,
     "metadata": {},
     "output_type": "execute_result"
    }
   ],
   "source": [
    "remaining_dic = (co2_stripper_conditions['dic'].values * (1.0 - fraction_of_liberated_dic)) * (1.0/fraction_of_possible_co2_extracted_to_gas_stream)\n",
    "\n",
    "ED_cell_base_seawater = carbon_chem_from_alk_and_dic(inflow_seawater_alkalinity - ED_cell_seawater['alkalinity'], remaining_dic, seawater_temperature, seawater_salinity)\n",
    "ED_cell_base_seawater[['pH','dic','alkalinity','bicarbonate', 'carbonate','pCO2']]"
   ]
  },
  {
   "cell_type": "markdown",
   "id": "30f9000a",
   "metadata": {},
   "source": [
    "### Conditions after mixing base stream of ED cell with water from seawater CO2 stripper\n"
   ]
  },
  {
   "cell_type": "code",
   "execution_count": 9,
   "id": "7047c2af",
   "metadata": {
    "jupyter": {
     "source_hidden": true
    }
   },
   "outputs": [
    {
     "data": {
      "text/html": [
       "<div>\n",
       "<style scoped>\n",
       "    .dataframe tbody tr th:only-of-type {\n",
       "        vertical-align: middle;\n",
       "    }\n",
       "\n",
       "    .dataframe tbody tr th {\n",
       "        vertical-align: top;\n",
       "    }\n",
       "\n",
       "    .dataframe thead th {\n",
       "        text-align: right;\n",
       "    }\n",
       "</style>\n",
       "<table border=\"1\" class=\"dataframe\">\n",
       "  <thead>\n",
       "    <tr style=\"text-align: right;\">\n",
       "      <th></th>\n",
       "      <th>pH</th>\n",
       "      <th>dic</th>\n",
       "      <th>alkalinity</th>\n",
       "      <th>bicarbonate</th>\n",
       "      <th>carbonate</th>\n",
       "      <th>pCO2</th>\n",
       "    </tr>\n",
       "  </thead>\n",
       "  <tbody>\n",
       "    <tr>\n",
       "      <th>0</th>\n",
       "      <td>11.110095387236399</td>\n",
       "      <td>20.664685</td>\n",
       "      <td>2308.115349</td>\n",
       "      <td>0.265028</td>\n",
       "      <td>20.399655</td>\n",
       "      <td>0.000047</td>\n",
       "    </tr>\n",
       "  </tbody>\n",
       "</table>\n",
       "</div>"
      ],
      "text/plain": [
       "                   pH        dic   alkalinity bicarbonate  carbonate      pCO2\n",
       "0  11.110095387236399  20.664685  2308.115349    0.265028  20.399655  0.000047"
      ]
     },
     "execution_count": 9,
     "metadata": {},
     "output_type": "execute_result"
    }
   ],
   "source": [
    "alkalinity_after_ED_base_and_stripper_mixing = conservative_mixing(ED_cell_base_seawater['alkalinity'].values,co2_stripper_conditions['alkalinity'].values,fraction_of_water_passing_through_ED_base_stream)\n",
    "after_ED_base_and_stripper_mixing = carbon_chem_from_alk_and_dic(alkalinity_after_ED_base_and_stripper_mixing, remaining_dic, seawater_temperature, seawater_salinity)\n",
    "after_ED_base_and_stripper_mixing[['pH','dic','alkalinity','bicarbonate', 'carbonate','pCO2']]"
   ]
  },
  {
   "cell_type": "markdown",
   "id": "8db65867",
   "metadata": {},
   "source": [
    "### Conditions after mixing CO2 depleted water with natural seawater in final outflow"
   ]
  },
  {
   "cell_type": "code",
   "execution_count": 10,
   "id": "e2d13f3d",
   "metadata": {
    "jupyter": {
     "source_hidden": true
    }
   },
   "outputs": [
    {
     "data": {
      "text/html": [
       "<div>\n",
       "<style scoped>\n",
       "    .dataframe tbody tr th:only-of-type {\n",
       "        vertical-align: middle;\n",
       "    }\n",
       "\n",
       "    .dataframe tbody tr th {\n",
       "        vertical-align: top;\n",
       "    }\n",
       "\n",
       "    .dataframe thead th {\n",
       "        text-align: right;\n",
       "    }\n",
       "</style>\n",
       "<table border=\"1\" class=\"dataframe\">\n",
       "  <thead>\n",
       "    <tr style=\"text-align: right;\">\n",
       "      <th></th>\n",
       "      <th>pH</th>\n",
       "      <th>dic</th>\n",
       "      <th>alkalinity</th>\n",
       "      <th>bicarbonate</th>\n",
       "      <th>carbonate</th>\n",
       "      <th>pCO2</th>\n",
       "    </tr>\n",
       "  </thead>\n",
       "  <tbody>\n",
       "    <tr>\n",
       "      <th>0</th>\n",
       "      <td>8.86868693539054</td>\n",
       "      <td>1580.166171</td>\n",
       "      <td>2302.028837</td>\n",
       "      <td>1095.167031</td>\n",
       "      <td>483.508071</td>\n",
       "      <td>34.112487</td>\n",
       "    </tr>\n",
       "  </tbody>\n",
       "</table>\n",
       "</div>"
      ],
      "text/plain": [
       "                 pH          dic   alkalinity  bicarbonate   carbonate  \\\n",
       "0  8.86868693539054  1580.166171  2302.028837  1095.167031  483.508071   \n",
       "\n",
       "        pCO2  \n",
       "0  34.112487  "
      ]
     },
     "execution_count": 10,
     "metadata": {},
     "output_type": "execute_result"
    }
   ],
   "source": [
    "alkalinity_in_outflow = conservative_mixing(alkalinity_after_ED_base_and_stripper_mixing,inflow_seawater_alkalinity,fraction_of_co2_depleted_water_in_final_outflow)\n",
    "dic_in_outflow = conservative_mixing(remaining_dic,inflow_seawater_dissolved_inorganic_carbon,fraction_of_co2_depleted_water_in_final_outflow)\n",
    "\n",
    "after_ED_base_and_stripper_mixing_with_natural_seawater = carbon_chem_from_alk_and_dic(alkalinity_in_outflow, dic_in_outflow, seawater_temperature, seawater_salinity)\n",
    "after_ED_base_and_stripper_mixing_with_natural_seawater[['pH','dic','alkalinity','bicarbonate', 'carbonate','pCO2']]"
   ]
  },
  {
   "cell_type": "markdown",
   "id": "e763a05c",
   "metadata": {},
   "source": [
    "## Diagram of results"
   ]
  },
  {
   "cell_type": "markdown",
   "id": "56346f5b",
   "metadata": {},
   "source": [
    "edit the value in red below to plot up the values for different variables, options include (amongst others):\n",
    "- 'pH'\n",
    "- 'dic'\n",
    "- 'alkalinity'\n",
    "- 'bicarbonate'\n",
    "- 'carbonate'\n",
    "- 'pCO2'"
   ]
  },
  {
   "cell_type": "code",
   "execution_count": 11,
   "id": "11bf71e5",
   "metadata": {},
   "outputs": [],
   "source": [
    "var_to_plot = 'pH'\n"
   ]
  },
  {
   "cell_type": "code",
   "execution_count": 14,
   "id": "e4d26dab",
   "metadata": {},
   "outputs": [
    {
     "data": {
      "image/svg+xml": [
       "<?xml version=\"1.0\" encoding=\"UTF-8\" standalone=\"no\"?>\n",
       "<!DOCTYPE svg PUBLIC \"-//W3C//DTD SVG 1.1//EN\"\n",
       " \"http://www.w3.org/Graphics/SVG/1.1/DTD/svg11.dtd\">\n",
       "<!-- Generated by graphviz version 2.47.2 (0)\n",
       " -->\n",
       "<!-- Title: parent Pages: 1 -->\n",
       "<svg width=\"720pt\" height=\"231pt\"\n",
       " viewBox=\"0.00 0.00 720.00 230.61\" xmlns=\"http://www.w3.org/2000/svg\" xmlns:xlink=\"http://www.w3.org/1999/xlink\">\n",
       "<g id=\"graph0\" class=\"graph\" transform=\"scale(0.49 0.49) rotate(0) translate(4 465.95)\">\n",
       "<title>parent</title>\n",
       "<polygon fill=\"white\" stroke=\"transparent\" points=\"-4,4 -4,-465.95 1463.24,-465.95 1463.24,4 -4,4\"/>\n",
       "<text text-anchor=\"middle\" x=\"729.62\" y=\"-190\" font-family=\"Times,serif\" font-size=\"20.00\">pH data for SeaCURE seawater components</text>\n",
       "<text text-anchor=\"middle\" x=\"729.62\" y=\"-120\" font-family=\"Times,serif\" font-size=\"20.00\">chosen assumptions:</text>\n",
       "<text text-anchor=\"middle\" x=\"729.62\" y=\"-98\" font-family=\"Times,serif\" font-size=\"20.00\">seawater temperature = 10.0 (deg C)</text>\n",
       "<text text-anchor=\"middle\" x=\"729.62\" y=\"-76\" font-family=\"Times,serif\" font-size=\"20.00\">seawater salinity = 35.0 (psu)</text>\n",
       "<text text-anchor=\"middle\" x=\"729.62\" y=\"-54\" font-family=\"Times,serif\" font-size=\"20.00\">inflow seawater alkalinity = 2300.0 (µeq/kg)</text>\n",
       "<text text-anchor=\"middle\" x=\"729.62\" y=\"-32\" font-family=\"Times,serif\" font-size=\"20.00\">inflow seawater dissolved_inorganic_carbon = 2100.0 (µmol/kg) </text>\n",
       "<text text-anchor=\"middle\" x=\"729.62\" y=\"-10\" font-family=\"Times,serif\" font-size=\"20.00\">pH in seawater CO2 stripper = 4.0 </text>\n",
       "<g id=\"clust1\" class=\"cluster\">\n",
       "<title>cluster_ed_cell</title>\n",
       "<polygon fill=\"none\" stroke=\"black\" points=\"333.38,-304.48 333.38,-379.48 706.97,-379.48 706.97,-304.48 333.38,-304.48\"/>\n",
       "<text text-anchor=\"middle\" x=\"520.18\" y=\"-364.28\" font-family=\"Times,serif\" font-size=\"14.00\">ED Cell</text>\n",
       "</g>\n",
       "<!-- splitting streams 1 -->\n",
       "<g id=\"node1\" class=\"node\">\n",
       "<title>splitting streams 1</title>\n",
       "<ellipse fill=\"none\" stroke=\"black\" cx=\"221.69\" cy=\"-344.48\" rx=\"58.88\" ry=\"37.45\"/>\n",
       "<text text-anchor=\"middle\" x=\"221.69\" y=\"-355.78\" font-family=\"Times,serif\" font-size=\"14.00\">splitting</text>\n",
       "<text text-anchor=\"middle\" x=\"221.69\" y=\"-340.78\" font-family=\"Times,serif\" font-size=\"14.00\">fraction: 0.1</text>\n",
       "<text text-anchor=\"middle\" x=\"221.69\" y=\"-325.78\" font-family=\"Times,serif\" font-size=\"14.00\">to ED cell</text>\n",
       "</g>\n",
       "<!-- mixing streams 1 -->\n",
       "<g id=\"node2\" class=\"node\">\n",
       "<title>mixing streams 1</title>\n",
       "<ellipse fill=\"none\" stroke=\"black\" cx=\"407.02\" cy=\"-405.48\" rx=\"36.29\" ry=\"18\"/>\n",
       "<text text-anchor=\"middle\" x=\"407.02\" y=\"-401.78\" font-family=\"Times,serif\" font-size=\"14.00\">mixing</text>\n",
       "</g>\n",
       "<!-- splitting streams 1&#45;&gt;mixing streams 1 -->\n",
       "<g id=\"edge2\" class=\"edge\">\n",
       "<title>splitting streams 1&#45;&gt;mixing streams 1</title>\n",
       "<path fill=\"none\" stroke=\"black\" d=\"M273.22,-362.82C292.04,-369.51 313.63,-377.01 333.38,-383.48 343.72,-386.86 354.96,-390.36 365.43,-393.53\"/>\n",
       "<polygon fill=\"black\" stroke=\"black\" points=\"364.59,-396.94 375.18,-396.47 366.61,-390.23 364.59,-396.94\"/>\n",
       "<text text-anchor=\"middle\" x=\"310.88\" y=\"-382.28\" font-family=\"Times,serif\" font-size=\"14.00\">8.09</text>\n",
       "</g>\n",
       "<!-- ED acid stream -->\n",
       "<g id=\"node7\" class=\"node\">\n",
       "<title>ED acid stream</title>\n",
       "<ellipse fill=\"none\" stroke=\"black\" cx=\"407.02\" cy=\"-330.48\" rx=\"65.79\" ry=\"18\"/>\n",
       "<text text-anchor=\"middle\" x=\"407.02\" y=\"-326.78\" font-family=\"Times,serif\" font-size=\"14.00\">ED acid stream</text>\n",
       "</g>\n",
       "<!-- splitting streams 1&#45;&gt;ED acid stream -->\n",
       "<g id=\"edge1\" class=\"edge\">\n",
       "<title>splitting streams 1&#45;&gt;ED acid stream</title>\n",
       "<path fill=\"none\" stroke=\"black\" d=\"M280.19,-340.09C297.05,-338.8 315.7,-337.37 333.37,-336.02\"/>\n",
       "<polygon fill=\"black\" stroke=\"black\" points=\"333.93,-339.49 343.64,-335.24 333.4,-332.51 333.93,-339.49\"/>\n",
       "<text text-anchor=\"middle\" x=\"310.88\" y=\"-341.28\" font-family=\"Times,serif\" font-size=\"14.00\">8.09</text>\n",
       "</g>\n",
       "<!-- seawater CO2\n",
       "stripper -->\n",
       "<g id=\"node6\" class=\"node\">\n",
       "<title>seawater CO2\n",
       "stripper</title>\n",
       "<ellipse fill=\"none\" stroke=\"black\" cx=\"632.03\" cy=\"-424.48\" rx=\"105.22\" ry=\"37.45\"/>\n",
       "<text text-anchor=\"middle\" x=\"632.03\" y=\"-435.78\" font-family=\"Times,serif\" font-size=\"14.00\">seawater CO2</text>\n",
       "<text text-anchor=\"middle\" x=\"632.03\" y=\"-420.78\" font-family=\"Times,serif\" font-size=\"14.00\">stripper</text>\n",
       "<text text-anchor=\"middle\" x=\"632.03\" y=\"-405.78\" font-family=\"Times,serif\" font-size=\"14.00\">100.0% extracted to gas</text>\n",
       "</g>\n",
       "<!-- mixing streams 1&#45;&gt;seawater CO2\n",
       "stripper -->\n",
       "<g id=\"edge3\" class=\"edge\">\n",
       "<title>mixing streams 1&#45;&gt;seawater CO2\n",
       "stripper</title>\n",
       "<path fill=\"none\" stroke=\"black\" d=\"M443.36,-408.49C464.14,-410.26 491.69,-412.6 519.25,-414.95\"/>\n",
       "<polygon fill=\"black\" stroke=\"black\" points=\"519.14,-418.46 529.4,-415.82 519.73,-411.48 519.14,-418.46\"/>\n",
       "<text text-anchor=\"middle\" x=\"499.67\" y=\"-417.28\" font-family=\"Times,serif\" font-size=\"14.00\">4.0</text>\n",
       "</g>\n",
       "<!-- mixing streams 2 -->\n",
       "<g id=\"node3\" class=\"node\">\n",
       "<title>mixing streams 2</title>\n",
       "<ellipse fill=\"none\" stroke=\"black\" cx=\"999.16\" cy=\"-327.48\" rx=\"36.29\" ry=\"18\"/>\n",
       "<text text-anchor=\"middle\" x=\"999.16\" y=\"-323.78\" font-family=\"Times,serif\" font-size=\"14.00\">mixing</text>\n",
       "</g>\n",
       "<!-- mixing streams 3 -->\n",
       "<g id=\"node4\" class=\"node\">\n",
       "<title>mixing streams 3</title>\n",
       "<ellipse fill=\"none\" stroke=\"black\" cx=\"1195.9\" cy=\"-295.48\" rx=\"93.18\" ry=\"37.45\"/>\n",
       "<text text-anchor=\"middle\" x=\"1195.9\" y=\"-306.78\" font-family=\"Times,serif\" font-size=\"14.00\">mixing</text>\n",
       "<text text-anchor=\"middle\" x=\"1195.9\" y=\"-291.78\" font-family=\"Times,serif\" font-size=\"14.00\">fraction: 0.25</text>\n",
       "<text text-anchor=\"middle\" x=\"1195.9\" y=\"-276.78\" font-family=\"Times,serif\" font-size=\"14.00\">from high pH stream</text>\n",
       "</g>\n",
       "<!-- mixing streams 2&#45;&gt;mixing streams 3 -->\n",
       "<g id=\"edge9\" class=\"edge\">\n",
       "<title>mixing streams 2&#45;&gt;mixing streams 3</title>\n",
       "<path fill=\"none\" stroke=\"black\" d=\"M1034.08,-321.9C1052.29,-318.91 1075.75,-315.06 1099.09,-311.22\"/>\n",
       "<polygon fill=\"black\" stroke=\"black\" points=\"1099.77,-314.66 1109.07,-309.58 1098.63,-307.75 1099.77,-314.66\"/>\n",
       "<text text-anchor=\"middle\" x=\"1069.06\" y=\"-321.28\" font-family=\"Times,serif\" font-size=\"14.00\">11.11</text>\n",
       "</g>\n",
       "<!-- seawater outflow -->\n",
       "<g id=\"node10\" class=\"node\">\n",
       "<title>seawater outflow</title>\n",
       "<polygon fill=\"none\" stroke=\"black\" points=\"1441.24,-307.48 1350.24,-307.48 1350.24,-283.48 1441.24,-283.48 1441.24,-277.48 1459.24,-295.48 1441.24,-313.48 1441.24,-307.48\"/>\n",
       "<text text-anchor=\"middle\" x=\"1404.74\" y=\"-291.78\" font-family=\"Times,serif\" font-size=\"14.00\">seawater outflow</text>\n",
       "</g>\n",
       "<!-- mixing streams 3&#45;&gt;seawater outflow -->\n",
       "<g id=\"edge13\" class=\"edge\">\n",
       "<title>mixing streams 3&#45;&gt;seawater outflow</title>\n",
       "<path fill=\"none\" stroke=\"black\" d=\"M1289.43,-295.48C1306.46,-295.48 1323.88,-295.48 1339.83,-295.48\"/>\n",
       "<polygon fill=\"black\" stroke=\"black\" points=\"1340.08,-298.98 1350.08,-295.48 1340.08,-291.98 1340.08,-298.98\"/>\n",
       "<text text-anchor=\"middle\" x=\"1319.74\" y=\"-299.28\" font-family=\"Times,serif\" font-size=\"14.00\">8.87</text>\n",
       "</g>\n",
       "<!-- splitting streams 2 -->\n",
       "<g id=\"node5\" class=\"node\">\n",
       "<title>splitting streams 2</title>\n",
       "<ellipse fill=\"none\" stroke=\"black\" cx=\"850.08\" cy=\"-397.48\" rx=\"58.88\" ry=\"37.45\"/>\n",
       "<text text-anchor=\"middle\" x=\"850.08\" y=\"-408.78\" font-family=\"Times,serif\" font-size=\"14.00\">splitting</text>\n",
       "<text text-anchor=\"middle\" x=\"850.08\" y=\"-393.78\" font-family=\"Times,serif\" font-size=\"14.00\">fraction: 0.1</text>\n",
       "<text text-anchor=\"middle\" x=\"850.08\" y=\"-378.78\" font-family=\"Times,serif\" font-size=\"14.00\">to ED cell</text>\n",
       "</g>\n",
       "<!-- splitting streams 2&#45;&gt;mixing streams 2 -->\n",
       "<g id=\"edge8\" class=\"edge\">\n",
       "<title>splitting streams 2&#45;&gt;mixing streams 2</title>\n",
       "<path fill=\"none\" stroke=\"black\" d=\"M897.61,-375.33C918.88,-365.21 943.64,-353.42 963.27,-344.08\"/>\n",
       "<polygon fill=\"black\" stroke=\"black\" points=\"964.93,-347.17 972.46,-339.71 961.92,-340.85 964.93,-347.17\"/>\n",
       "<text text-anchor=\"middle\" x=\"935.77\" y=\"-363.28\" font-family=\"Times,serif\" font-size=\"14.00\">4.0</text>\n",
       "</g>\n",
       "<!-- ED base stream -->\n",
       "<g id=\"node8\" class=\"node\">\n",
       "<title>ED base stream</title>\n",
       "<ellipse fill=\"none\" stroke=\"black\" cx=\"632.03\" cy=\"-330.48\" rx=\"66.89\" ry=\"18\"/>\n",
       "<text text-anchor=\"middle\" x=\"632.03\" y=\"-326.78\" font-family=\"Times,serif\" font-size=\"14.00\">ED base stream</text>\n",
       "</g>\n",
       "<!-- splitting streams 2&#45;&gt;ED base stream -->\n",
       "<g id=\"edge7\" class=\"edge\">\n",
       "<title>splitting streams 2&#45;&gt;ED base stream</title>\n",
       "<path fill=\"none\" stroke=\"black\" d=\"M796.92,-381.3C763.37,-370.9 719.91,-357.42 686.18,-346.96\"/>\n",
       "<polygon fill=\"black\" stroke=\"black\" points=\"687.08,-343.57 676.49,-343.95 685,-350.26 687.08,-343.57\"/>\n",
       "<text text-anchor=\"middle\" x=\"764.39\" y=\"-377.28\" font-family=\"Times,serif\" font-size=\"14.00\">4.0</text>\n",
       "</g>\n",
       "<!-- seawater CO2\n",
       "stripper&#45;&gt;splitting streams 2 -->\n",
       "<g id=\"edge5\" class=\"edge\">\n",
       "<title>seawater CO2\n",
       "stripper&#45;&gt;splitting streams 2</title>\n",
       "<path fill=\"none\" stroke=\"black\" d=\"M731.57,-412.16C748.64,-410.03 766.03,-407.86 782.02,-405.86\"/>\n",
       "<polygon fill=\"black\" stroke=\"black\" points=\"782.81,-409.29 792.3,-404.57 781.94,-402.34 782.81,-409.29\"/>\n",
       "<text text-anchor=\"middle\" x=\"764.39\" y=\"-412.28\" font-family=\"Times,serif\" font-size=\"14.00\">4.0</text>\n",
       "</g>\n",
       "<!-- ED acid stream&#45;&gt;mixing streams 1 -->\n",
       "<g id=\"edge4\" class=\"edge\">\n",
       "<title>ED acid stream&#45;&gt;mixing streams 1</title>\n",
       "<path fill=\"none\" stroke=\"black\" d=\"M407.02,-348.63C407.02,-357.14 407.02,-367.47 407.02,-376.98\"/>\n",
       "<polygon fill=\"black\" stroke=\"black\" points=\"403.52,-377.23 407.02,-387.23 410.52,-377.23 403.52,-377.23\"/>\n",
       "<text text-anchor=\"middle\" x=\"396.52\" y=\"-364.28\" font-family=\"Times,serif\" font-size=\"14.00\">1.66</text>\n",
       "</g>\n",
       "<!-- ED acid stream&#45;&gt;ED base stream -->\n",
       "<g id=\"edge10\" class=\"edge\">\n",
       "<title>ED acid stream&#45;&gt;ED base stream</title>\n",
       "<path fill=\"none\" stroke=\"transparent\" d=\"M472.83,-330.48C498.48,-330.48 528.17,-330.48 554.84,-330.48\"/>\n",
       "<polygon fill=\"transparent\" stroke=\"transparent\" points=\"554.9,-333.98 564.9,-330.48 554.9,-326.98 554.9,-333.98\"/>\n",
       "</g>\n",
       "<!-- ED base stream&#45;&gt;mixing streams 2 -->\n",
       "<g id=\"edge6\" class=\"edge\">\n",
       "<title>ED base stream&#45;&gt;mixing streams 2</title>\n",
       "<path fill=\"none\" stroke=\"black\" d=\"M699.15,-329.93C772.35,-329.33 888.41,-328.38 952.27,-327.85\"/>\n",
       "<polygon fill=\"black\" stroke=\"black\" points=\"952.46,-331.35 962.43,-327.77 952.41,-324.35 952.46,-331.35\"/>\n",
       "<text text-anchor=\"middle\" x=\"850.08\" y=\"-332.28\" font-family=\"Times,serif\" font-size=\"14.00\">12.21</text>\n",
       "</g>\n",
       "<!-- seawater inflow -->\n",
       "<g id=\"node9\" class=\"node\">\n",
       "<title>seawater inflow</title>\n",
       "<polygon fill=\"none\" stroke=\"black\" points=\"84,-307.48 0,-307.48 0,-283.48 84,-283.48 84,-277.48 102,-295.48 84,-313.48 84,-307.48\"/>\n",
       "<text text-anchor=\"middle\" x=\"51\" y=\"-291.78\" font-family=\"Times,serif\" font-size=\"14.00\">seawater inflow</text>\n",
       "</g>\n",
       "<!-- seawater inflow&#45;&gt;splitting streams 1 -->\n",
       "<g id=\"edge11\" class=\"edge\">\n",
       "<title>seawater inflow&#45;&gt;splitting streams 1</title>\n",
       "<path fill=\"none\" stroke=\"black\" d=\"M102.16,-310.05C119.77,-315.16 139.79,-320.98 158.29,-326.35\"/>\n",
       "<polygon fill=\"black\" stroke=\"black\" points=\"157.51,-329.77 168.09,-329.2 159.46,-323.05 157.51,-329.77\"/>\n",
       "<text text-anchor=\"middle\" x=\"132.5\" y=\"-324.28\" font-family=\"Times,serif\" font-size=\"14.00\">8.09</text>\n",
       "</g>\n",
       "<!-- seawater inflow&#45;&gt;mixing streams 3 -->\n",
       "<g id=\"edge12\" class=\"edge\">\n",
       "<title>seawater inflow&#45;&gt;mixing streams 3</title>\n",
       "<path fill=\"none\" stroke=\"black\" d=\"M102.08,-288.23C135.57,-283.99 180.68,-279.48 220.69,-279.48 220.69,-279.48 220.69,-279.48 1000.16,-279.48 1031.25,-279.48 1065.03,-281.53 1095.6,-284.16\"/>\n",
       "<polygon fill=\"black\" stroke=\"black\" points=\"1095.56,-287.67 1105.83,-285.07 1096.19,-280.7 1095.56,-287.67\"/>\n",
       "<text text-anchor=\"middle\" x=\"632.03\" y=\"-283.28\" font-family=\"Times,serif\" font-size=\"14.00\">8.09</text>\n",
       "</g>\n",
       "</g>\n",
       "</svg>\n"
      ],
      "text/plain": [
       "<graphviz.dot.Digraph at 0x7f953ec4c250>"
      ]
     },
     "execution_count": 14,
     "metadata": {},
     "output_type": "execute_result"
    }
   ],
   "source": [
    "seawater_inflow_value = str(np.around(float(inflow_seawater[var_to_plot].values), decimals=2))\n",
    "ED_cell_seawater_value = str(np.around(float(ED_cell_seawater[var_to_plot].values), decimals=2))\n",
    "co2_stripper_value = str(np.around(float(co2_stripper_conditions[var_to_plot].values), decimals=2))\n",
    "ED_cell_base_seawater_value = str(np.around(float(ED_cell_base_seawater[var_to_plot].values), decimals=2))\n",
    "after_ED_base_and_stripper_mixing_value = str(np.around(float(after_ED_base_and_stripper_mixing[var_to_plot].values), decimals=2))\n",
    "after_ED_base_and_stripper_mixing_with_natural_seawater_value = str(np.around(float(after_ED_base_and_stripper_mixing_with_natural_seawater[var_to_plot].values), decimals=2))\n",
    "\n",
    "from graphviz import Digraph\n",
    "\n",
    "f=Digraph(name='parent')\n",
    "cluster_ed_cell = Digraph(name='ed_cell')\n",
    "# mixing = Digraph(name='mixing')\n",
    "end  = Digraph(name='end')\n",
    "\n",
    "\n",
    "f.attr(rankdir='LR', size='10,10')\n",
    "\n",
    "f.attr('node', shape='oval')\n",
    "end.attr('node', shape='rarrow')\n",
    "\n",
    "end.edge('seawater inflow', 'splitting streams 1', label=seawater_inflow_value)\n",
    "\n",
    "f.node('splitting streams 1',label='splitting\\nfraction: '+str(fraction_of_water_passing_through_ED_acid_stream)+'\\nto ED cell')\n",
    "f.node('mixing streams 1',label='mixing')\n",
    "f.node('mixing streams 2',label='mixing')\n",
    "f.node('mixing streams 3',label='mixing\\nfraction: '+str(fraction_of_co2_depleted_water_in_final_outflow)+'\\nfrom high pH stream')\n",
    "\n",
    "f.node('splitting streams 2',label='splitting\\nfraction: '+str(fraction_of_water_passing_through_ED_base_stream)+'\\nto ED cell')\n",
    "\n",
    "f.node('seawater CO2\\nstripper', label='seawater CO2\\nstripper\\n'+str(fraction_of_possible_co2_extracted_to_gas_stream*100.0)+'% extracted to gas')\n",
    "\n",
    "fraction_of_possible_co2_extracted_to_gas_stream\n",
    "\n",
    "f.edge('splitting streams 1', 'ED acid stream', label=seawater_inflow_value)\n",
    "f.edge('splitting streams 1', 'mixing streams 1', label=seawater_inflow_value)\n",
    "f.edge('mixing streams 1', 'seawater CO2\\nstripper', label=co2_stripper_value)\n",
    "f.edge('ED acid stream', 'mixing streams 1', label=ED_cell_seawater_value)\n",
    "f.edge('seawater CO2\\nstripper', 'splitting streams 2', label=co2_stripper_value)\n",
    "f.edge('ED base stream', 'mixing streams 2', label=ED_cell_base_seawater_value)\n",
    "f.edge('splitting streams 2', 'ED base stream', label=co2_stripper_value)\n",
    "f.edge('splitting streams 2', 'mixing streams 2', label=co2_stripper_value)\n",
    "f.edge('mixing streams 2', 'mixing streams 3', label=after_ED_base_and_stripper_mixing_value)\n",
    "end.edge('seawater inflow', 'mixing streams 3', label=seawater_inflow_value)\n",
    "\n",
    "end.edge('mixing streams 3', 'seawater outflow', label=after_ED_base_and_stripper_mixing_with_natural_seawater_value,shape='rarrow')\n",
    "\n",
    "# cluster_ed_cell.edge('ED acid stream', 'ED base stream')\n",
    "with f.subgraph(name='cluster_ed_cell') as cluster_ed_cell:\n",
    "    cluster_ed_cell.attr(color='black')\n",
    "    cluster_ed_cell.edge_attr['color'] = 'none'\n",
    "    cluster_ed_cell.edges([('ED acid stream', 'ED base stream')])\n",
    "    cluster_ed_cell.attr(label='ED Cell')\n",
    "    \n",
    "f.subgraph(end)\n",
    "\n",
    "f.attr(label=r\"\"\"\\n\\n\"\"\"+var_to_plot+\"\"\" data for SeaCURE seawater components\\n\\n\n",
    "chosen assumptions:\n",
    "seawater temperature = \"\"\"+str(seawater_temperature)+\"\"\" (deg C)\"\"\" \"\"\"\n",
    "seawater salinity = \"\"\"+str(seawater_salinity)+\"\"\" (psu)\"\"\" \"\"\"\n",
    "inflow seawater alkalinity = \"\"\"+str(inflow_seawater_alkalinity)+\"\"\" (µeq/kg)\"\"\" \"\"\"\n",
    "inflow seawater dissolved_inorganic_carbon = \"\"\"+str(inflow_seawater_dissolved_inorganic_carbon)+\"\"\" (µmol/kg)\"\"\" \"\"\" \n",
    "pH in seawater CO2 stripper = \"\"\"+str(pH_in_seawater_co2_stripper)+\"\"\" \"\"\")\n",
    "\n",
    "\n",
    "f.attr(fontsize='20')\n",
    "\n",
    "f"
   ]
  },
  {
   "cell_type": "code",
   "execution_count": null,
   "id": "bacd152f",
   "metadata": {},
   "outputs": [],
   "source": []
  }
 ],
 "metadata": {
  "kernelspec": {
   "display_name": "Python 3",
   "language": "python",
   "name": "python3"
  },
  "language_info": {
   "codemirror_mode": {
    "name": "ipython",
    "version": 3
   },
   "file_extension": ".py",
   "mimetype": "text/x-python",
   "name": "python",
   "nbconvert_exporter": "python",
   "pygments_lexer": "ipython3",
   "version": "3.9.4"
  }
 },
 "nbformat": 4,
 "nbformat_minor": 5
}
