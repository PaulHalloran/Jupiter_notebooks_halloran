{
 "cells": [
  {
   "cell_type": "code",
   "execution_count": 135,
   "metadata": {},
   "outputs": [],
   "source": [
    "import urllib.request\n",
    "from datetime import datetime, timedelta\n",
    "import uuid\n",
    "import re"
   ]
  },
  {
   "cell_type": "code",
   "execution_count": 136,
   "metadata": {},
   "outputs": [],
   "source": [
    "url = \"file:///Users/ph290/Downloads/Services%20-%20PharmOutcomes130121.html\"\n",
    "d = datetime.today()\n",
    "output_filename = '/Users/ph290/Documents/HalloranSync/documents/for_mark/output_'+d.strftime('%Y-%m-%d')+'.csv'\n",
    "x = urllib.request.urlopen(url)\n",
    "data = str((x.read()))\n",
    "\n",
    "#remove like:\n",
    "# Saved&nbsp;2021-01-11\n",
    "data = re.sub('Saved&nbsp;2021-[0-1][0-9]-[0-3][0-9]', '', data)\n",
    "\n",
    "text_file = open(\"/Users/ph290/Documents/HalloranSync/documents/for_mark/ignore_string_output.txt\", \"w\")\n",
    "text_file.write(data)\n",
    "text_file.close()"
   ]
  },
  {
   "cell_type": "code",
   "execution_count": 137,
   "metadata": {},
   "outputs": [
    {
     "name": "stdout",
     "output_type": "stream",
     "text": [
      "2021-01-13\n",
      "2021-01-12\n",
      "2021-01-11\n",
      "2021-01-10\n",
      "2021-01-09\n",
      "2021-01-08\n",
      "2021-01-07\n",
      "2021-01-06\n",
      "2021-01-05\n",
      "2021-01-04\n",
      "2021-01-03\n",
      "2021-01-02\n",
      "2021-01-01\n"
     ]
    }
   ],
   "source": [
    "out_dict = {}\n",
    "\n",
    "d = datetime.today()\n",
    "\n",
    "not_first_date = True\n",
    "\n",
    "while not_first_date:\n",
    "    date_given = d.strftime('%Y-%m-%d')\n",
    "    if date_given in data:\n",
    "        not_first_date = False\n",
    "    else:\n",
    "        d = d - timedelta(days=1)\n",
    "\n",
    "date_exists = True\n",
    "\n",
    "while d > datetime(2021, 1, 1, 0, 0, 0, 0):\n",
    "#     print('loop0')\n",
    "\n",
    "    date_given = d.strftime('%Y-%m-%d')\n",
    "    print(date_given)\n",
    "\n",
    "    if date_given in data:\n",
    "\n",
    "        not_end = True\n",
    "        i=1\n",
    "\n",
    "        while not_end:\n",
    "#             print('loop1')\n",
    "            try:\n",
    "                tmp = data.split(date_given)[i].split('NotClaimable')[0]\n",
    "#                 tmp = data.split('NotClaimable')[0]\n",
    "#                 tmp = data.split(date_given)[i].split('281483650')[0]\n",
    "                try:\n",
    "                    patient_name = tmp.split('info no-lock\" title=\"')[1].split('\">')[0]\n",
    "                except IndexError:\n",
    "                    patient_name = tmp.split('<span style=\"color:salmon;\">&bull;&nbsp;')[1].split('<br>')[0]\n",
    "                index = uuid.uuid4()\n",
    "                out_dict[index]={}\n",
    "                out_dict[index]['patient_name'] = patient_name\n",
    "#                 if patient_name == 'James G Eadie':\n",
    "#                     print(i)\n",
    "#                     print(tmp)\n",
    "#                 if patient_name == 'Brian E Sayers':\n",
    "#                     print(i)\n",
    "#                     print(tmp)\n",
    "#                 if patient_name == 'JILL MURDIN':\n",
    "#                     print(i)\n",
    "#                     print(tmp)\n",
    "                out_dict[index]['Date Given'] = date_given\n",
    "                out_dict[index]['DOB'] = tmp.split('<br>&bull;&nbsp;')[1]\n",
    "                out_dict[index]['Postcode'] = tmp.split('<br>&bull;&nbsp;')[2].split('</span>')[0]\n",
    "                out_dict[index]['Vaccinator'] = tmp.split('provisionedit\">')[5].split('</a>')[0]\n",
    "                i += 1\n",
    "#                 print(i)\n",
    "            except IndexError:\n",
    "                not_end = False\n",
    "\n",
    "        d  =  d - timedelta(days=1)\n",
    "    else:\n",
    "        d  =  d - timedelta(days=1)"
   ]
  },
  {
   "cell_type": "code",
   "execution_count": 138,
   "metadata": {},
   "outputs": [
    {
     "name": "stdout",
     "output_type": "stream",
     "text": [
      "Derek G Chaplin 1940-07-22 BN43 6TE\n",
      "RAYMOND ADRIANO FRANK BARONTINI 1936-04-23 BN43 6HT\n",
      "Kenneth A Geall 1930-11-03 BN43 6HG\n",
      "Richard Samuel Cooke 1931-12-29 BN43 5AN\n",
      "DIANA H CRAMP 1940-02-20 BN42 4TN\n"
     ]
    }
   ],
   "source": [
    "#Identify individuals occuring multiple times in list\n",
    "MyList =  []\n",
    "for index in list(out_dict):\n",
    "    item = out_dict[index]['patient_name']+' '+out_dict[index]['DOB']+' '+out_dict[index]['Postcode']\n",
    "    MyList.append(item)\n",
    "    \n",
    "from collections import Counter\n",
    "\n",
    "count_dict = dict(Counter(MyList))\n",
    "\n",
    "for name, no in count_dict.items():  # for name, age in dictionary.iteritems():  (for Python 2.x)\n",
    "    if no >= 2:\n",
    "        print(name)"
   ]
  },
  {
   "cell_type": "code",
   "execution_count": 139,
   "metadata": {},
   "outputs": [],
   "source": [
    "#output the data\n",
    "with open(output_filename, 'w') as f:\n",
    "    f.write(\"%s,%s,%s,%s,%s,\\n\"%('Date Given','Patient name','DOB','Postcode','Vaccinator'))\n",
    "    for key in out_dict.keys():\n",
    "#         f.write(\"%s,%s\\n\"%(key,[out_dict[key][key2] for key2 in (out_dict[key])]))\n",
    "        f.write(\"%s,%s,%s,%s,%s,\\n\"%(out_dict[key]['Date Given'],out_dict[key]['patient_name'],out_dict[key]['DOB'],out_dict[key]['Postcode'],out_dict[key]['Vaccinator']))\n"
   ]
  },
  {
   "cell_type": "code",
   "execution_count": null,
   "metadata": {},
   "outputs": [],
   "source": []
  },
  {
   "cell_type": "code",
   "execution_count": null,
   "metadata": {},
   "outputs": [],
   "source": []
  },
  {
   "cell_type": "code",
   "execution_count": null,
   "metadata": {},
   "outputs": [],
   "source": []
  },
  {
   "cell_type": "code",
   "execution_count": 133,
   "metadata": {},
   "outputs": [],
   "source": [
    "copied_file = '/Users/ph290/Downloads/test2.txt'\n",
    "\n",
    "with open(copied_file, 'r') as file:\n",
    "    data2 = file.read()\n"
   ]
  },
  {
   "cell_type": "code",
   "execution_count": 40,
   "metadata": {},
   "outputs": [],
   "source": [
    "for i in range(1600):\n",
    "    i+=1\n",
    "#     print(data2.split('Vaccination\\t• ')[i].split('\\n• ')[0])"
   ]
  },
  {
   "cell_type": "code",
   "execution_count": 140,
   "metadata": {},
   "outputs": [
    {
     "ename": "SyntaxError",
     "evalue": "unexpected EOF while parsing (<ipython-input-140-9b713e562c43>, line 15)",
     "output_type": "error",
     "traceback": [
      "\u001b[0;36m  File \u001b[0;32m\"<ipython-input-140-9b713e562c43>\"\u001b[0;36m, line \u001b[0;32m15\u001b[0m\n\u001b[0;31m    #         print(name_to_test)\u001b[0m\n\u001b[0m                                 ^\u001b[0m\n\u001b[0;31mSyntaxError\u001b[0m\u001b[0;31m:\u001b[0m unexpected EOF while parsing\n"
     ]
    }
   ],
   "source": [
    "name_list = ''\n",
    "for key in out_dict:\n",
    "        name_list += key\n",
    "        \n",
    "# print(name_list)\n",
    "\n",
    "for i in range(1600):\n",
    "    i+=1\n",
    "    name_to_test = data2.split('Vaccination\\t• ')[i].split('\\n• ')[0]\n",
    "    try:\n",
    "        name_to_test = name_to_test.split('...')[0]\n",
    "    except:\n",
    "        pass\n",
    "    if not(name_to_test in name_list):\n",
    "        print(name_to_test)"
   ]
  },
  {
   "cell_type": "code",
   "execution_count": 134,
   "metadata": {},
   "outputs": [
    {
     "data": {
      "text/plain": [
       "1586"
      ]
     },
     "execution_count": 134,
     "metadata": {},
     "output_type": "execute_result"
    }
   ],
   "source": [
    "data2.count('First Vaccination')"
   ]
  },
  {
   "cell_type": "code",
   "execution_count": null,
   "metadata": {},
   "outputs": [],
   "source": []
  }
 ],
 "metadata": {
  "kernelspec": {
   "display_name": "Python 3",
   "language": "python",
   "name": "python3"
  },
  "language_info": {
   "codemirror_mode": {
    "name": "ipython",
    "version": 3
   },
   "file_extension": ".py",
   "mimetype": "text/x-python",
   "name": "python",
   "nbconvert_exporter": "python",
   "pygments_lexer": "ipython3",
   "version": "3.8.3"
  }
 },
 "nbformat": 4,
 "nbformat_minor": 4
}
