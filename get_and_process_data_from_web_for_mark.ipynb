{
 "cells": [
  {
   "cell_type": "code",
   "execution_count": 268,
   "metadata": {},
   "outputs": [],
   "source": [
    "import urllib.request\n",
    "from datetime import datetime, timedelta\n",
    "import uuid\n",
    "import re\n",
    "import pandas as pd"
   ]
  },
  {
   "cell_type": "code",
   "execution_count": 269,
   "metadata": {},
   "outputs": [],
   "source": [
    "url = \"file:///Users/ph290/Documents/HalloranSync/documents/for_mark/Services%20-%20PharmOutcomes180121.html\"\n",
    "d = datetime.today()\n",
    "output_filename = '/Users/ph290/Documents/HalloranSync/documents/for_mark/output_'+d.strftime('%Y-%m-%d')+'.csv'\n",
    "x = urllib.request.urlopen(url)\n",
    "data = str((x.read()))\n",
    "\n",
    "#remove like:\n",
    "# Saved&nbsp;2021-01-11\n",
    "data = re.sub('Saved&nbsp;2021-[0-1][0-9]-[0-3][0-9]', '', data)\n",
    "\n",
    "text_file = open(\"/Users/ph290/Documents/HalloranSync/documents/for_mark/ignore_string_output.txt\", \"w\")\n",
    "text_file.write(data)\n",
    "text_file.close()"
   ]
  },
  {
   "cell_type": "code",
   "execution_count": 270,
   "metadata": {},
   "outputs": [
    {
     "name": "stdout",
     "output_type": "stream",
     "text": [
      "2021-01-15\n",
      "2021-01-14\n",
      "2021-01-13\n",
      "2021-01-12\n",
      "2021-01-11\n",
      "2021-01-10\n",
      "2021-01-09\n",
      "2021-01-08\n",
      "2021-01-07\n",
      "2021-01-06\n",
      "2021-01-05\n",
      "2021-01-04\n",
      "2021-01-03\n",
      "2021-01-02\n",
      "2021-01-01\n"
     ]
    }
   ],
   "source": [
    "out_dict = {}\n",
    "\n",
    "d = datetime.today()\n",
    "\n",
    "not_first_date = True\n",
    "\n",
    "while not_first_date:\n",
    "    date_given = d.strftime('%Y-%m-%d')\n",
    "    if date_given in data:\n",
    "        not_first_date = False\n",
    "    else:\n",
    "        d = d - timedelta(days=1)\n",
    "\n",
    "date_exists = True\n",
    "\n",
    "while d > datetime(2021, 1, 1, 0, 0, 0, 0):\n",
    "#     print('loop0')\n",
    "\n",
    "    date_given = d.strftime('%Y-%m-%d')\n",
    "    print(date_given)\n",
    "\n",
    "    if date_given in data:\n",
    "\n",
    "        not_end = True\n",
    "        i=1\n",
    "\n",
    "        while not_end:\n",
    "#             print('loop1')\n",
    "            try:\n",
    "                tmp = data.split(date_given)[i].split('NotClaimable')[0]\n",
    "#                 tmp = data.split('NotClaimable')[0]\n",
    "#                 tmp = data.split(date_given)[i].split('281483650')[0]\n",
    "                try:\n",
    "                    patient_name = tmp.split('info no-lock\" title=\"')[1].split('\">')[0]\n",
    "                except IndexError:\n",
    "                    patient_name = tmp.split('<span style=\"color:salmon;\">&bull;&nbsp;')[1].split('<br>')[0]\n",
    "                index = uuid.uuid4()\n",
    "                out_dict[index]={}\n",
    "                out_dict[index]['patient_name'] = patient_name\n",
    "#                 if patient_name == 'James G Eadie':\n",
    "#                     print(i)\n",
    "#                     print(tmp)\n",
    "#                 if patient_name == 'Brian E Sayers':\n",
    "#                     print(i)\n",
    "#                     print(tmp)\n",
    "#                 if patient_name == 'JILL MURDIN':\n",
    "#                     print(i)\n",
    "#                     print(tmp)\n",
    "                out_dict[index]['Date Given'] = date_given\n",
    "                out_dict[index]['DOB'] = tmp.split('<br>&bull;&nbsp;')[1]\n",
    "                out_dict[index]['Postcode'] = tmp.split('<br>&bull;&nbsp;')[2].split('</span>')[0]\n",
    "                out_dict[index]['Vaccinator'] = tmp.split('provisionedit\">')[5].split('</a>')[0]\n",
    "                i += 1\n",
    "#                 print(i)\n",
    "            except IndexError:\n",
    "                not_end = False\n",
    "\n",
    "        d  =  d - timedelta(days=1)\n",
    "    else:\n",
    "        d  =  d - timedelta(days=1)"
   ]
  },
  {
   "cell_type": "code",
   "execution_count": 271,
   "metadata": {},
   "outputs": [],
   "source": [
    "#Read in pts_with_vax_appt\n",
    "df_Ptswithvacappt = pd.read_csv('/Users/ph290/Documents/HalloranSync/documents/for_mark/Ptswithvacapptsuptoendof15thJan.csv') \n",
    "df_Ptswithvacappt['Date of Birth'] = pd.to_datetime(df_Ptswithvacappt['Date of Birth'])\n",
    "df_Ptswithvacappt['Given Name'] = df_Ptswithvacappt['Given Name'].str.upper() \n",
    "df_Ptswithvacappt['Family Name'] = df_Ptswithvacappt['Family Name'].str.upper() \n",
    "df_Ptswithvacappt['Postcode'] = df_Ptswithvacappt['Postcode'].str.upper()\n",
    "df_Ptswithvacappt = df_Ptswithvacappt.dropna()\n",
    "\n",
    "df_out_dict = pd.DataFrame.from_dict(out_dict, orient='index')\n",
    "df_out_dict['DOB'] = pd.to_datetime(df_out_dict['DOB'])\n",
    "df_out_dict['Postcode'] = df_out_dict['Postcode'].str.upper() \n",
    "df_out_dict['patient_name'] = df_out_dict['patient_name'].str.upper()\n",
    "df_out_dict.reset_index(drop=True, inplace=True)\n",
    "\n"
   ]
  },
  {
   "cell_type": "code",
   "execution_count": 281,
   "metadata": {},
   "outputs": [],
   "source": [
    "#Identify individuals occuring multiple times in list\n",
    "df = pd.DataFrame(columns=list(df_Ptswithvacappt))\n",
    "\n",
    "for i in range(len(df_Ptswithvacappt.Postcode)):\n",
    "    tmp = df_out_dict[(df_out_dict.Postcode == df_Ptswithvacappt.iloc[i].Postcode) & (df_out_dict['DOB'] == df_Ptswithvacappt.iloc[i]['Date of Birth']) & (df_out_dict[\"patient_name\"].str.contains(df_Ptswithvacappt.iloc[i]['Family Name'])) & (df_out_dict[\"patient_name\"].str.contains(df_Ptswithvacappt.iloc[i]['Given Name']))]\n",
    "    if len(tmp) == 0:\n",
    "        df = df.append(df_Ptswithvacappt.iloc[i])\n",
    "\n",
    "        \n",
    "# write DataFrame to an excel sheet \n",
    "df.to_csv('/Users/ph290/Documents/HalloranSync/documents/for_mark/vac_appoints_but_not_on_pharmaout.csv')\n",
    "        "
   ]
  },
  {
   "cell_type": "code",
   "execution_count": 314,
   "metadata": {},
   "outputs": [],
   "source": [
    "#As above but in other lists (i.e. lists swapped over)\n",
    "df2 = pd.DataFrame(columns=list(df_out_dict))\n",
    "\n",
    "for i in range(len(df_out_dict.Postcode)):\n",
    "    tmp = df_Ptswithvacappt[(df_Ptswithvacappt.Postcode == df_out_dict.iloc[i].Postcode) & (df_Ptswithvacappt['Date of Birth'] == df_out_dict.iloc[i]['DOB']) & (df_Ptswithvacappt[\"Family Name\"].str.contains(df_out_dict.iloc[i]['patient_name'].split(' ')[-1])) & \n",
    "                        (df_Ptswithvacappt[\"Given Name\"].str.contains(df_out_dict.iloc[i]['patient_name'].split(' ')[0]))]\n",
    "    if len(tmp) == 0:\n",
    "#         print(i)\n",
    "        df2 = df2.append(df_out_dict.iloc[i])\n",
    "        \n",
    "# write DataFrame to an excel sheet \n",
    "df2.to_csv('/Users/ph290/Documents/HalloranSync/documents/for_mark/on_pharmaout_but_not_vac_appoints.csv')\n",
    "        "
   ]
  },
  {
   "cell_type": "code",
   "execution_count": 316,
   "metadata": {},
   "outputs": [
    {
     "ename": "SyntaxError",
     "evalue": "unexpected EOF while parsing (<ipython-input-316-9bf6ca2b77f7>, line 13)",
     "output_type": "error",
     "traceback": [
      "\u001b[0;36m  File \u001b[0;32m\"<ipython-input-316-9bf6ca2b77f7>\"\u001b[0;36m, line \u001b[0;32m13\u001b[0m\n\u001b[0;31m    #         print(name)\u001b[0m\n\u001b[0m                         ^\u001b[0m\n\u001b[0;31mSyntaxError\u001b[0m\u001b[0;31m:\u001b[0m unexpected EOF while parsing\n"
     ]
    }
   ],
   "source": [
    "#Duplicate (or more) names\n",
    "MyList =  []\n",
    "for index in list(out_dict):\n",
    "    item = out_dict[index]['patient_name']+' '+out_dict[index]['DOB']+' '+out_dict[index]['Postcode']\n",
    "    MyList.append(item)\n",
    "    \n",
    "from collections import Counter\n",
    "\n",
    "count_dict = dict(Counter(MyList))\n",
    "\n",
    "for name, no in count_dict.items():  # for name, age in dictionary.iteritems():  (for Python 2.x)\n",
    "    if no >= 2:\n",
    "        print(name)"
   ]
  },
  {
   "cell_type": "code",
   "execution_count": 156,
   "metadata": {},
   "outputs": [],
   "source": [
    "#output the data\n",
    "with open(output_filename, 'w') as f:\n",
    "    f.write(\"%s,%s,%s,%s,%s,\\n\"%('Date Given','Patient name','DOB','Postcode','Vaccinator'))\n",
    "    for key in out_dict.keys():\n",
    "#         f.write(\"%s,%s\\n\"%(key,[out_dict[key][key2] for key2 in (out_dict[key])]))\n",
    "        f.write(\"%s,%s,%s,%s,%s,\\n\"%(out_dict[key]['Date Given'],out_dict[key]['patient_name'],out_dict[key]['DOB'],out_dict[key]['Postcode'],out_dict[key]['Vaccinator']))\n"
   ]
  },
  {
   "cell_type": "code",
   "execution_count": null,
   "metadata": {},
   "outputs": [],
   "source": []
  },
  {
   "cell_type": "code",
   "execution_count": null,
   "metadata": {},
   "outputs": [],
   "source": []
  },
  {
   "cell_type": "code",
   "execution_count": null,
   "metadata": {},
   "outputs": [],
   "source": []
  },
  {
   "cell_type": "code",
   "execution_count": null,
   "metadata": {},
   "outputs": [],
   "source": []
  }
 ],
 "metadata": {
  "kernelspec": {
   "display_name": "Python 3",
   "language": "python",
   "name": "python3"
  },
  "language_info": {
   "codemirror_mode": {
    "name": "ipython",
    "version": 3
   },
   "file_extension": ".py",
   "mimetype": "text/x-python",
   "name": "python",
   "nbconvert_exporter": "python",
   "pygments_lexer": "ipython3",
   "version": "3.8.3"
  }
 },
 "nbformat": 4,
 "nbformat_minor": 4
}
