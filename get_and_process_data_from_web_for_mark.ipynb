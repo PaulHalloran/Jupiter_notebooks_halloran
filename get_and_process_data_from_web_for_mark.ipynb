{
 "cells": [
  {
   "cell_type": "code",
   "execution_count": 263,
   "metadata": {},
   "outputs": [],
   "source": [
    "# from urllib.request import urlopen\n",
    "import urllib.request\n",
    "from datetime import datetime, timedelta"
   ]
  },
  {
   "cell_type": "code",
   "execution_count": 264,
   "metadata": {},
   "outputs": [],
   "source": [
    "url = \"file:///Users/ph290/Downloads/Services%20-%20PharmOutcomes110121.html\"\n",
    "d = datetime.today()\n",
    "output_filename = '/Users/ph290/Documents/HalloranSync/documents/for_mark/output_'+d.strftime('%Y-%m-%d')+'.csv'\n",
    "x = urllib.request.urlopen(url)\n",
    "data = str((x.read()))"
   ]
  },
  {
   "cell_type": "code",
   "execution_count": 266,
   "metadata": {},
   "outputs": [],
   "source": [
    "out_dict = {}\n",
    "\n",
    "d = datetime.today()\n",
    "\n",
    "date_exists = True\n",
    "\n",
    "while date_exists:\n",
    "\n",
    "    date_given = d.strftime('%Y-%m-%d')\n",
    "\n",
    "    if date_given in data:\n",
    "\n",
    "        not_end = True\n",
    "        i=1\n",
    "\n",
    "        while not_end:\n",
    "            try:\n",
    "                tmp = data.split(date_given)[i].split('NotClaimable')[0]\n",
    "                try:\n",
    "                    patient_name = tmp.split('info no-lock\" title=\"')[1].split('\">')[0]\n",
    "                except IndexError:\n",
    "                    patient_name = tmp.split('<span style=\"color:salmon;\">&bull;&nbsp;')[1].split('<br>')[0]\n",
    "                out_dict[patient_name]={}\n",
    "                out_dict[patient_name]['Date Given'] = date_given\n",
    "                out_dict[patient_name]['DOB'] = tmp.split('<br>&bull;&nbsp;')[1]\n",
    "                out_dict[patient_name]['Postcode'] = tmp.split('<br>&bull;&nbsp;')[2].split('</span>')[0]\n",
    "                out_dict[patient_name]['Vaccinator'] = tmp.split('provisionedit\">')[5].split('</a>')[0]\n",
    "                i += 1\n",
    "            except IndexError:\n",
    "                not_end = False\n",
    "\n",
    "        d  =  d - timedelta(days=1)\n",
    "    else:\n",
    "        date_exists = False"
   ]
  },
  {
   "cell_type": "code",
   "execution_count": 267,
   "metadata": {},
   "outputs": [],
   "source": [
    "#output the data\n",
    "with open(output_filename, 'w') as f:\n",
    "    f.write(\"%s,%s,%s,%s,%s,\\n\"%('Date Given','Patient name','DOB','Postcode','Vaccinator'))\n",
    "    for key in out_dict.keys():\n",
    "#         f.write(\"%s,%s\\n\"%(key,[out_dict[key][key2] for key2 in (out_dict[key])]))\n",
    "        f.write(\"%s,%s,%s,%s,%s,\\n\"%(out_dict[key]['Date Given'],key,out_dict[key]['DOB'],out_dict[key]['Postcode'],out_dict[key]['Vaccinator']))\n"
   ]
  }
 ],
 "metadata": {
  "kernelspec": {
   "display_name": "Python 3",
   "language": "python",
   "name": "python3"
  },
  "language_info": {
   "codemirror_mode": {
    "name": "ipython",
    "version": 3
   },
   "file_extension": ".py",
   "mimetype": "text/x-python",
   "name": "python",
   "nbconvert_exporter": "python",
   "pygments_lexer": "ipython3",
   "version": "3.8.3"
  }
 },
 "nbformat": 4,
 "nbformat_minor": 4
}
