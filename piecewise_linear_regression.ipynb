{
 "cells": [
  {
   "cell_type": "markdown",
   "metadata": {},
   "source": [
    "# Testing to see if the regression lines between two datasets are significantly different\n",
    "Note that this is built up from https://statisticsbyjim.com/regression/comparing-regression-lines/\n",
    "\n",
    "a worked example of the above (to confirm that I could replicate it in python) is presented at the bottom of this worksheet"
   ]
  },
  {
   "cell_type": "code",
   "execution_count": 490,
   "metadata": {},
   "outputs": [],
   "source": [
    "import numpy as np\n",
    "import matplotlib.pyplot as plt\n",
    "import scipy.stats as stats\n",
    "from sklearn.datasets import make_regression\n"
   ]
  },
  {
   "cell_type": "markdown",
   "metadata": {},
   "source": [
    "### generate random data which potentially has a breakpoint"
   ]
  },
  {
   "cell_type": "code",
   "execution_count": 504,
   "metadata": {},
   "outputs": [],
   "source": [
    "\n",
    "xa, ya = make_regression(n_samples=100, n_features=1, noise=20)\n",
    "xa=xa[:,0]\n",
    "xa -= np.min(xa)\n",
    "ya -= np.min(ya)\n",
    "my_sort = np.argsort(xa)\n",
    "xa = xa[my_sort]\n",
    "ya = ya[my_sort]\n",
    "xb, yb = make_regression(n_samples=100, n_features=1, noise=20)\n",
    "xb=xb[:,0]\n",
    "xb -= np.min(xb)\n",
    "yb -= np.min(yb)\n",
    "my_sort = np.argsort(xb)\n",
    "xb = xb[my_sort]\n",
    "xb += np.max(xa)\n",
    "yb = yb[my_sort]\n",
    "yb += np.max(ya)\n",
    "x = np.concatenate((xa,xb))\n",
    "y = np.concatenate((ya,yb))\n",
    "\n",
    "\n",
    "\n"
   ]
  },
  {
   "cell_type": "markdown",
   "metadata": {},
   "source": [
    "### Calculating the piecewise linear regression from 1st principles"
   ]
  },
  {
   "cell_type": "code",
   "execution_count": 505,
   "metadata": {},
   "outputs": [
    {
     "data": {
      "image/png": "[encoded data removed]",
      "text/plain": [
       "<Figure size 432x288 with 1 Axes>"
      ]
     },
     "metadata": {
      "needs_background": "light"
     },
     "output_type": "display_data"
    }
   ],
   "source": [
    "\n",
    "#Wikipedia: The least squares method applied separately to each segment, by which the two regression lines are made to fit the data set as closely as possible while minimizing the sum of squares of the differences (SSD) between observed (y) and calculated (Yr) values of the dependent variable,\n",
    "my_sort = np.argsort(x)\n",
    "x = x[my_sort]\n",
    "y = y[my_sort]\n",
    "\n",
    "threshold_p_value = 0.05\n",
    "\n",
    "piecewise_square_sum = np.zeros(len(x))\n",
    "piecewise_square_sum[:] = np.nan\n",
    "for i in 1+np.arange(len(x)-1):\n",
    "    #loop through each potential split of the data. e.g. [a,b,c,d,e], split is [a] and [b,c,d,e] then [a,b] and [c,d,e] etc.\n",
    "    x1,x2 = x[0:i],x[i::]\n",
    "    y1,y2 = y[0:i],y[i::]\n",
    "    # calculate the least squares regression from the left hand side of the split\n",
    "    slope1, intercept1, r_value1, p_value1, std_err1 = stats.linregress(x1,y1)\n",
    "    # calculate the sum of the square of the distances of each point in the left hand of the split from the best fit line\n",
    "    sum_squares1 = np.sum([np.square(y1[i] - ((slope1 * x1[i])+ intercept1)) for i in range(len(x1))])\n",
    "    # calculate the least squares regression from the right hand side of the split\n",
    "    slope2, intercept2, r_value2, p_value2, std_err2 = stats.linregress(x2,y2)\n",
    "    # calculate the sum of the square of the distances of each point in the right hand of the split from the best fit line\n",
    "    sum_squares2 = np.sum([np.square(y2[i] - ((slope2 * x2[i])+ intercept2)) for i in range(len(x2))])\n",
    "    #test if the p-values for both segments (left and right) are significant (using value held by threshold_p_value).\n",
    "    # If it is add together the sums of the squares of the distances from teh two segments note this in an array and move on to the next split\n",
    "    if (p_value1 <= threshold_p_value) and (p_value2 <= threshold_p_value):\n",
    "        piecewise_square_sum[i] = sum_squares1 + sum_squares2\n",
    "\n",
    "# check that we have some splits which have significant p-values for both left and right (i.e. we have at least one splot whichh gave us two vioable regressions)\n",
    "if False in np.isnan(piecewise_square_sum):\n",
    "    # find the split which gave the lowest sum of the squared distances across the two segments\n",
    "    i2 = np.where(piecewise_square_sum == np.nanmin(piecewise_square_sum))[0][0]\n",
    "    x1,x2 = x[0:i2],x[i2::]\n",
    "    y1,y2 = y[0:i2],y[i2::]\n",
    "    slope1, intercept1, r_value1, p_value1, std_err1 = stats.linregress(x1,y1)\n",
    "    slope2, intercept2, r_value2, p_value2, std_err2 = stats.linregress(x2,y2)\n",
    "\n",
    "    slope, intercept, r_value, p_value, std_err = stats.linregress(x,y)\n",
    "    standard_linear_regression_square_sum = np.sum([np.square(y[i] - ((slope * x[i])+ intercept)) for i in range(len(x))])\n",
    "\n",
    "    # check that the piecewise regression, i.e. two separate lines gave a better fir than just using a single regression line\n",
    "    if standard_linear_regression_square_sum < piecewise_square_sum[i2]:\n",
    "        print 'single regression line provides the best fit'\n",
    "    else:\n",
    "        #plot the results\n",
    "        plt.scatter(x,y)\n",
    "        x1b = np.linspace(min(x1),max(x1),3)\n",
    "        plt.plot(x1b,(slope1 * x1b)+ intercept1,'r')\n",
    "        x2b = np.linspace(min(x2),max(x2),3)\n",
    "        plt.plot(x2b,(slope2 * x2b)+ intercept2,'b')\n",
    "\n",
    "        # single linear regression\n",
    "        x1c = np.linspace(min(x),max(x),3)\n",
    "        plt.plot(x1c,(slope * x1c)+ intercept,'k')"
   ]
  },
  {
   "cell_type": "markdown",
   "metadata": {},
   "source": [
    "## test if the two regressions are significantly different"
   ]
  },
  {
   "cell_type": "markdown",
   "metadata": {},
   "source": [
    "### put the data into a pandas dataframe (just to hhelp understand what I am doing)"
   ]
  },
  {
   "cell_type": "code",
   "execution_count": 506,
   "metadata": {},
   "outputs": [],
   "source": [
    "x3 = np.concatenate((x1,x2))\n",
    "y3 = np.concatenate((y1,y2))\n",
    "condition = np.concatenate((x1_string,x2_string))\n",
    "x1_string = np.empty(len(x1), dtype=\"S1\")\n",
    "x1_string[:] = 'A'\n",
    "x2_string = np.empty(len(x2), dtype=\"S1\")\n",
    "x2_string[:] = 'B'\n",
    "data = {'Input':x3, 'Output':y3,'Condition':condition} \n",
    "df2 = pd.DataFrame(data) "
   ]
  },
  {
   "cell_type": "markdown",
   "metadata": {},
   "source": [
    "### calculate the p-value describing whether the two regressions are significantluy different"
   ]
  },
  {
   "cell_type": "code",
   "execution_count": 507,
   "metadata": {},
   "outputs": [
    {
     "name": "stdout",
     "output_type": "stream",
     "text": [
      "p-value for difference in the two slopes:\n",
      "6.96775771689e-27\n"
     ]
    }
   ],
   "source": [
    "#https://statisticsbyjim.com/regression/comparing-regression-lines/\n",
    "# data: https://statisticsbyjim.com/wp-content/uploads/2017/07/TestSlopes.csv\n",
    "import statsmodels.formula.api as smf\n",
    "mod = smf.ols(formula='Output ~ Input * Condition', data=df2)\n",
    "res = mod.fit()\n",
    "# print(res.params)\n",
    "# print(res.pvalues)\n",
    "pvalue_for_testing_regression_differences = res.pvalues[3]\n",
    "print 'p-value for difference in the two slopes:'\n",
    "print pvalue_for_testing_regression_differences"
   ]
  },
  {
   "cell_type": "markdown",
   "metadata": {},
   "source": [
    "# Below is the example I was working from to test the diff slopes"
   ]
  },
  {
   "cell_type": "code",
   "execution_count": 417,
   "metadata": {},
   "outputs": [
    {
     "name": "stdout",
     "output_type": "stream",
     "text": [
      "Intercept               9.099022\n",
      "Condition[T.B]         -2.359412\n",
      "Input                   1.535910\n",
      "Input:Condition[T.B]    0.469138\n",
      "dtype: float64\n",
      "Intercept               4.813416e-14\n",
      "Condition[T.B]          9.284673e-02\n",
      "Input                   1.015199e-29\n",
      "Input:Condition[T.B]    1.325837e-04\n",
      "dtype: float64\n",
      "#########################################\n",
      "                            OLS Regression Results                            \n",
      "==============================================================================\n",
      "Dep. Variable:                 Output   R-squared:                       0.928\n",
      "Model:                            OLS   Adj. R-squared:                  0.925\n",
      "Method:                 Least Squares   F-statistic:                     319.4\n",
      "Date:                Mon, 15 Jun 2020   Prob (F-statistic):           3.00e-42\n",
      "Time:                        21:49:31   Log-Likelihood:                -191.42\n",
      "No. Observations:                  78   AIC:                             390.8\n",
      "Df Residuals:                      74   BIC:                             400.3\n",
      "Df Model:                           3                                         \n",
      "Covariance Type:            nonrobust                                         \n",
      "========================================================================================\n",
      "                           coef    std err          t      P>|t|      [0.025      0.975]\n",
      "----------------------------------------------------------------------------------------\n",
      "Intercept                9.0990      0.980      9.286      0.000       7.147      11.052\n",
      "Condition[T.B]          -2.3594      1.386     -1.703      0.093      -5.121       0.402\n",
      "Input                    1.5359      0.082     18.672      0.000       1.372       1.700\n",
      "Input:Condition[T.B]     0.4691      0.116      4.033      0.000       0.237       0.701\n",
      "==============================================================================\n",
      "Omnibus:                        0.013   Durbin-Watson:                   2.126\n",
      "Prob(Omnibus):                  0.993   Jarque-Bera (JB):                0.144\n",
      "Skew:                          -0.016   Prob(JB):                        0.930\n",
      "Kurtosis:                       2.792   Cond. No.                         66.4\n",
      "==============================================================================\n",
      "\n",
      "Warnings:\n",
      "[1] Standard Errors assume that the covariance matrix of the errors is correctly specified.\n"
     ]
    }
   ],
   "source": [
    "#https://statisticsbyjim.com/regression/comparing-regression-lines/\n",
    "# data: https://statisticsbyjim.com/wp-content/uploads/2017/07/TestSlopes.csv\n",
    "df = pd.read_csv('/Users/ph290/Downloads/TestSlopes.csv')\n",
    "import statsmodels.formula.api as smf\n",
    "mod = smf.ols(formula='Output ~ Input * Condition', data=df)\n",
    "res = mod.fit()\n",
    "print(res.params)\n",
    "print(res.pvalues)\n",
    "pvalue_for_testing_regression_differences = res.pvalues[3]\n",
    "print '#########################################'\n",
    "print(res.summary())\n",
    "# The p-value for Input is 0.000, which indicates that the relationship between Input and Output is statistically significant.\n",
    "# Next, look at Condition. This term is the main effect that tests for the difference between the constants. The coefficient indicates that the difference between the constants is -2.36, but the p-value is only 0.093. The lack of statistical significance indicates that we can’t conclude the constants are different.\n",
    "# Now, let’s move on to the interaction term (Input*Condition). The coefficient of 0.469 represents the difference between the coefficient for Condition A and Condition B. The p-value of 0.000 indicates that this difference is statistically significant. We can reject the null hypothesis that the difference is zero. In other words, we can conclude that Condition affects the relationship between Input and Output.\n",
    "\n"
   ]
  }
 ],
 "metadata": {
  "kernelspec": {
   "display_name": "Python 2",
   "language": "python",
   "name": "python2"
  },
  "language_info": {
   "codemirror_mode": {
    "name": "ipython",
    "version": 2
   },
   "file_extension": ".py",
   "mimetype": "text/x-python",
   "name": "python",
   "nbconvert_exporter": "python",
   "pygments_lexer": "ipython2",
   "version": "2.7.17"
  }
 },
 "nbformat": 4,
 "nbformat_minor": 2
}
