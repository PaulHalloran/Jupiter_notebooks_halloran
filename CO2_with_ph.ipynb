{
 "cells": [
  {
   "cell_type": "code",
   "execution_count": 91,
   "id": "651241f0",
   "metadata": {},
   "outputs": [
    {
     "name": "stdout",
     "output_type": "stream",
     "text": [
      "Conditions have been defined!\n",
      "ph 8.0\n",
      "0.916332547123486\n",
      "5.738260014353322\n",
      "93.34540743852318\n",
      "97.94052484879991\n",
      " \n",
      "ph 4.0\n",
      "98.99158156640289\n",
      "6.199053346334283e-06\n",
      "1.0084122345437578\n",
      "99.99999999999999\n"
     ]
    }
   ],
   "source": [
    "# Define input and output conditions\n",
    "par1type = 1  # The first parameter supplied is of type \"1\", which means \"alkalinity\"\n",
    "par1 = 2400  # value of the first parameter\n",
    "par2type = 3  # The second parameter supplied is of type \"3\", which means \"pH\"\n",
    "par2 = 7.8  # value of the second parameter\n",
    "sal = 35  # Salinity of the sample\n",
    "tempin = 10  # Temperature at input conditions\n",
    "tempout = 10  # Temperature at output conditions\n",
    "presin = 0  # Pressure    at input conditions\n",
    "presout = 0  # Pressure    at output conditions\n",
    "sil = 50  # Concentration of silicate  in the sample (in umol/kg)\n",
    "po4 = 2  # Concentration of phosphate in the sample (in umol/kg)\n",
    "pHscale = 1  # pH scale at which the input pH is reported (\"1\" means \"Total Scale\")\n",
    "k1k2c = 4  # Choice of H2CO3 and HCO3- dissociation constants K1 and K2 (\"4\" means \"Mehrbach refit\")\n",
    "kso4c = 1  # Choice of HSO4- dissociation constants KSO4 and boron:sal (\"1\" means \"Dickson\" and \"Uppstrom\")\n",
    "print('Conditions have been defined!')\n",
    "\n",
    "\n",
    "# Import PyCO2SYS\n",
    "import PyCO2SYS as pyco2\n",
    "\n",
    "# Run PyCO2SYS\n",
    "\n",
    "par2 = 8.0 # ph 8\n",
    "\n",
    "\n",
    "CO2dict = pyco2.sys(par1, par2, par1type, par2type,\n",
    "                    salinity=sal, temperature=tempin, temperature_out=tempout,\n",
    "                    pressure=presin, pressure_out=presout,\n",
    "                    total_silicate=sil, total_phosphate=po4,\n",
    "                    opt_pH_scale=pHscale, opt_k_carbonic=k1k2c, opt_k_bisulfate=kso4c)\n",
    "print('ph '+str(par2))\n",
    "aq_co2_percent = ((CO2dict['aqueous_CO2']/CO2dict['dic'])*100)\n",
    "co3_percent = ((CO2dict['carbonate_out']/CO2dict['dic'])*100)\n",
    "h2co3_percent = ((CO2dict['bicarbonate_out']/CO2dict['dic'])*100)\n",
    "print(aq_co2_percent)\n",
    "print(co3_percent)\n",
    "print(h2co3_percent)\n",
    "print(aq_co2_percent + co2_percent + h2co3_percent)\n",
    "\n",
    "par2 = 4.0 # ph 4\n",
    "\n",
    "CO2dict = pyco2.sys(par1, par2, par1type, par2type,\n",
    "                    salinity=sal, temperature=tempin, temperature_out=tempout,\n",
    "                    pressure=presin, pressure_out=presout,\n",
    "                    total_silicate=sil, total_phosphate=po4,\n",
    "                    opt_pH_scale=pHscale, opt_k_carbonic=k1k2c, opt_k_bisulfate=kso4c)\n",
    "\n",
    "print(' ')\n",
    "print('ph '+str(par2))\n",
    "aq_co2_percent2 = ((CO2dict['aqueous_CO2']/CO2dict['dic'])*100)\n",
    "co3_percent2 = ((CO2dict['carbonate_out']/CO2dict['dic'])*100)\n",
    "h2co3_percent2 = ((CO2dict['bicarbonate_out']/CO2dict['dic'])*100)\n",
    "print(aq_co2_percent2)\n",
    "print(co3_percent2)\n",
    "print(h2co3_percent2)\n",
    "print(aq_co2_percent2 + co3_percent2 + h2co3_percent2)\n"
   ]
  },
  {
   "cell_type": "code",
   "execution_count": 117,
   "id": "02ca7c3e",
   "metadata": {},
   "outputs": [
    {
     "data": {
      "image/png": "[encoded data removed]",
      "text/plain": [
       "<Figure size 432x288 with 1 Axes>"
      ]
     },
     "metadata": {
      "needs_background": "light"
     },
     "output_type": "display_data"
    }
   ],
   "source": [
    "import matplotlib.pyplot as plt\n",
    "\n",
    "\n",
    "labels = ['pH4', 'pH8']\n",
    "co3 = [co3_percent2,co3_percent]\n",
    "h2co3 = [h2co3_percent2,h2co3_percent]\n",
    "co2 = [aq_co2_percent2,aq_co2_percent]\n",
    "width = 0.35       # the width of the bars: can also be len(x) sequence\n",
    "\n",
    "fig, ax = plt.subplots()\n",
    "# fig, ax = plt.subplots(figsize=(10,10))\n",
    "\n",
    "ax.bar(labels, co3, width, label='CO$_3$',color='#bc5090')\n",
    "ax.bar(labels, h2co3, width,bottom=co3, label='H$_2$CO$_3$',color='#58508d')\n",
    "ax.bar(labels, co2, width, bottom =np.add(co3,h2co3),label='CO$_2$',color='#ffa600')\n",
    "\n",
    "\n",
    "# ax.set_ylabel('Scores')\n",
    "# ax.set_title('Scores by group and gender')\n",
    "ax.legend()\n",
    "\n",
    "plt.savefig('/Users/ph290/Documents/HalloranSync/documents/projects/SeaCURE/figures/ph_percent.svg')\n",
    "plt.show()"
   ]
  },
  {
   "cell_type": "code",
   "execution_count": 97,
   "id": "baed05b0",
   "metadata": {},
   "outputs": [
    {
     "data": {
      "text/plain": [
       "array([ 6.65459256, 98.99158777])"
      ]
     },
     "execution_count": 97,
     "metadata": {},
     "output_type": "execute_result"
    }
   ],
   "source": [
    "np.add(co2,co3)"
   ]
  },
  {
   "cell_type": "code",
   "execution_count": null,
   "id": "1d1003c5",
   "metadata": {},
   "outputs": [],
   "source": []
  }
 ],
 "metadata": {
  "kernelspec": {
   "display_name": "Python 3",
   "language": "python",
   "name": "python3"
  },
  "language_info": {
   "codemirror_mode": {
    "name": "ipython",
    "version": 3
   },
   "file_extension": ".py",
   "mimetype": "text/x-python",
   "name": "python",
   "nbconvert_exporter": "python",
   "pygments_lexer": "ipython3",
   "version": "3.9.4"
  }
 },
 "nbformat": 4,
 "nbformat_minor": 5
}
