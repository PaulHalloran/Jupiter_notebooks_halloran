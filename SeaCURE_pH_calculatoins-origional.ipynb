{
 "cells": [
  {
   "cell_type": "code",
   "execution_count": 201,
   "id": "1dae992e",
   "metadata": {},
   "outputs": [],
   "source": [
    "import numpy as np\n",
    "import PyCO2SYS as pyco2\n",
    "import pandas as pd"
   ]
  },
  {
   "cell_type": "code",
   "execution_count": 151,
   "id": "bd65c3f3",
   "metadata": {},
   "outputs": [],
   "source": [
    "# * **Total alkalinity** (type `1`) in μmol·kg<sup>−1</sup>.\n",
    "# * **Dissolved inorganic carbon** (type `2`) in μmol·kg<sup>−1</sup>.\n",
    "# * **pH** (type `3`) on the Total, Seawater, Free or NBS scale[^1].  Which scale is given by the input `pHSCALEIN`.\n",
    "# * **Partial pressure** (type `4`) or **fugacity** (type `5`) **of CO<sub>2</sub>** in μatm or **aqueous CO<sub>2</sub>** (type `8`) in μmol·kg<sup>−1</sup>.\n",
    "# * **Carbonate ion** (type `6`) in μmol·kg<sup>−1</sup>.\n",
    "# * **Bicarbonate ion** (type `7`) in μmol·kg<sup>−1</sup>."
   ]
  },
  {
   "cell_type": "markdown",
   "id": "3ac23ece",
   "metadata": {},
   "source": [
    "### Water coming in:"
   ]
  },
  {
   "cell_type": "code",
   "execution_count": 152,
   "id": "710c2a74",
   "metadata": {},
   "outputs": [
    {
     "name": "stdout",
     "output_type": "stream",
     "text": [
      "pCO2 316.86695133110544\n",
      "pH 8.134870805398185\n",
      "DIC 2100.0\n"
     ]
    }
   ],
   "source": [
    "natural_seawater_alkalinity = 2330\n",
    "natural_seawater_dic = 2100\n",
    "natural_seawater_salinity = 35\n",
    "natural_seawater_temperature = 10\n",
    "\n",
    "# Define input conditions\n",
    "kwargs = dict(\n",
    "    par1 = natural_seawater_alkalinity,  # Value of the first parameter\n",
    "    par2 = natural_seawater_dic,  # Value of the second parameter, which is a long vector of different DIC's!\n",
    "    par1_type = 1,  # The first parameter supplied is of type \"1\", which is \"alkalinity\"\n",
    "    par2_type = 2,  # The second parameter supplied is of type \"2\", which is \"DIC\"\n",
    "    salinity = natural_seawater_salinity,  # Salinity of the sample\n",
    "    temperature = natural_seawater_temperature,  # Temperature at input conditions\n",
    "    total_silicate = 50,  # Concentration of silicate  in the sample (in umol/kg)\n",
    "    total_phosphate = 2,  # Concentration of phosphate in the sample (in umol/kg)\n",
    "    opt_k_carbonic = 4,  # Choice of H2CO3 and HCO3- dissociation constants K1 and K2 (\"4\" means \"Mehrbach refit\")\n",
    "    opt_k_bisulfate = 1,  # Choice of HSO4- dissociation constants KSO4 (\"1\" means \"Dickson\")\n",
    ")\n",
    "\n",
    "\n",
    "results = pyco2.sys(**kwargs)\n",
    "print('pCO2',results['pCO2'])\n",
    "print('pH',results['pH'])\n",
    "print('DIC',results['dic'])"
   ]
  },
  {
   "cell_type": "markdown",
   "id": "6d15c7a9",
   "metadata": {},
   "source": [
    "### Acidified water in electrodialysis unit\n",
    "\n",
    "Same calculation as above, but reducing the pH to 1.6"
   ]
  },
  {
   "cell_type": "code",
   "execution_count": 153,
   "id": "037e4606",
   "metadata": {},
   "outputs": [
    {
     "name": "stdout",
     "output_type": "stream",
     "text": [
      "pCO2 48041.57742607431\n",
      "bicarbonate 0.08516115160786758\n",
      "carbonate 2.0841491387948532e-09\n",
      "pH 1.6\n",
      "DIC 2100.0\n",
      "alkalinity -24816.46102207822\n"
     ]
    }
   ],
   "source": [
    "modified_pH = 1.6\n",
    "\n",
    "kwargs2 = dict(\n",
    "    par1 = 2100,  # Value of the first parameter\n",
    "    par2 = modified_pH,  # Value of the second parameter, pH\n",
    "    par1_type = 2,  # The first parameter supplied is of type \"2\", which is \"DIC\"\n",
    "    par2_type = 3,  # The second parameter supplied is of type \"3\", which is \"pH\"\n",
    "    salinity = natural_seawater_salinity,  # Salinity of the sample\n",
    "    temperature = natural_seawater_temperature,  # Temperature at input conditions\n",
    "    total_silicate = 50,  # Concentration of silicate  in the sample (in umol/kg)\n",
    "    total_phosphate = 2,  # Concentration of phosphate in the sample (in umol/kg)\n",
    "    opt_k_carbonic = 4,  # Choice of H2CO3 and HCO3- dissociation constants K1 and K2 (\"4\" means \"Mehrbach refit\")\n",
    "    opt_k_bisulfate = 1,  # Choice of HSO4- dissociation constants KSO4 (\"1\" means \"Dickson\")\n",
    ")\n",
    "\n",
    "results2 = pyco2.sys(**kwargs2)\n",
    "print('pCO2',results2['pCO2'])\n",
    "print('bicarbonate',results2['HCO3'])\n",
    "print('carbonate',results2['CO3'])\n",
    "print('pH',results2['pH'])\n",
    "print('DIC',results2['dic'])\n",
    "print('alkalinity',results2['alkalinity'])"
   ]
  },
  {
   "cell_type": "markdown",
   "id": "5f466229",
   "metadata": {},
   "source": [
    "### Water entering CO2 stripper \n",
    "\n",
    "As above, but setting pH to 4.0"
   ]
  },
  {
   "cell_type": "code",
   "execution_count": 171,
   "id": "792208db",
   "metadata": {},
   "outputs": [
    {
     "name": "stdout",
     "output_type": "stream",
     "text": [
      "pCO2 47559.04596219638\n",
      "bicarbonate 21.176656925418914\n",
      "carbonate 0.0001301801202730199\n",
      "pH 4.0\n",
      "DIC 2100.0\n",
      "alkalinity -80.63454502359501\n"
     ]
    }
   ],
   "source": [
    "kwargs3 = dict(\n",
    "    par1 = 2100,  # Value of the first parameter\n",
    "    par2 = 4.0,  # Value of the second parameter, pH\n",
    "    par1_type = 2,  # The first parameter supplied is of type \"2\", which is \"DIC\"\n",
    "    par2_type = 3,  # The second parameter supplied is of type \"3\", which is \"pH\"\n",
    "    salinity = natural_seawater_salinity,  # Salinity of the sample\n",
    "    temperature = natural_seawater_temperature,  # Temperature at input conditions\n",
    "    total_silicate = 50,  # Concentration of silicate  in the sample (in umol/kg)\n",
    "    total_phosphate = 2,  # Concentration of phosphate in the sample (in umol/kg)\n",
    "    opt_k_carbonic = 4,  # Choice of H2CO3 and HCO3- dissociation constants K1 and K2 (\"4\" means \"Mehrbach refit\")\n",
    "    opt_k_bisulfate = 1,  # Choice of HSO4- dissociation constants KSO4 (\"1\" means \"Dickson\")\n",
    ")\n",
    "\n",
    "results3 = pyco2.sys(**kwargs3)\n",
    "print('pCO2',results3['pCO2'])\n",
    "print('bicarbonate',results3['HCO3'])\n",
    "print('carbonate',results3['CO3'])\n",
    "print('pH',results3['pH'])\n",
    "print('DIC',results3['dic'])\n",
    "print('alkalinity',results3['alkalinity'])"
   ]
  },
  {
   "cell_type": "markdown",
   "id": "59007eda",
   "metadata": {},
   "source": [
    "### Base stream in ED unit\n",
    "\n",
    "Assuming essentially all carbon has been removed (using a dissolved inorganic carbon value of 0.00001)\n",
    "\n",
    "Setting alkalinity to the oposite of the change in alkalinity required to acieve pH 1.6 in the ED acidified stream"
   ]
  },
  {
   "cell_type": "code",
   "execution_count": 155,
   "id": "ee9a0867",
   "metadata": {},
   "outputs": [
    {
     "name": "stdout",
     "output_type": "stream",
     "text": [
      "pCO2 1.0610241855762467e-12\n",
      "bicarbonate 8.762757172638054e-08\n",
      "carbonate 9.991237238189586e-05\n",
      "pH 12.268291226648067\n",
      "DIC 0.0001\n",
      "alkalinity 27146.46102207822\n"
     ]
    }
   ],
   "source": [
    "DIC_after_co2_stripper = 0.0001\n",
    "\n",
    "kwargs4 = dict(\n",
    "    par1 = DIC_after_co2_stripper,  # Value of the first parameter\n",
    "    par2 = results['alkalinity'] - results2['alkalinity'],  # Value of the second parameter, alkalinity\n",
    "    par1_type = 2,  # The first parameter supplied is of type \"2\", which is \"DIC\"\n",
    "    par2_type = 1,  # The second parameter supplied is of type \"1\", which is \"alkalinity\"\n",
    "    salinity = natural_seawater_salinity,  # Salinity of the sample\n",
    "    temperature = natural_seawater_temperature,  # Temperature at input conditions\n",
    "    total_silicate = 50,  # Concentration of silicate  in the sample (in umol/kg)\n",
    "    total_phosphate = 2,  # Concentration of phosphate in the sample (in umol/kg)\n",
    "    opt_k_carbonic = 4,  # Choice of H2CO3 and HCO3- dissociation constants K1 and K2 (\"4\" means \"Mehrbach refit\")\n",
    "    opt_k_bisulfate = 1,  # Choice of HSO4- dissociation constants KSO4 (\"1\" means \"Dickson\")\n",
    ")\n",
    "\n",
    "results4 = pyco2.sys(**kwargs4)\n",
    "print('pCO2',results4['pCO2'])\n",
    "print('bicarbonate',results4['HCO3'])\n",
    "print('carbonate',results4['CO3'])\n",
    "print('pH',results4['pH'])\n",
    "print('DIC',results4['dic'])\n",
    "print('alkalinity',results4['alkalinity'])"
   ]
  },
  {
   "cell_type": "code",
   "execution_count": 147,
   "id": "d5146017",
   "metadata": {},
   "outputs": [
    {
     "data": {
      "text/plain": [
       "27146.46102207822"
      ]
     },
     "execution_count": 147,
     "metadata": {},
     "output_type": "execute_result"
    }
   ],
   "source": [
    "results['alkalinity'] - results2['alkalinity']"
   ]
  },
  {
   "cell_type": "markdown",
   "id": "304b02c8",
   "metadata": {},
   "source": [
    "### Diluting the baseified ED water with water from stripper\n",
    "\n",
    "Mixing the low alkalinity water from the CO2 stripper with the very high alkalinity water from the ED unit in the ditution ratio specified below (e.g. 10:1)"
   ]
  },
  {
   "cell_type": "code",
   "execution_count": 161,
   "id": "3d335c2d",
   "metadata": {},
   "outputs": [
    {
     "name": "stdout",
     "output_type": "stream",
     "text": [
      "pCO2 2.250262837726202e-10\n",
      "bicarbonate 1.2685652950380725e-06\n",
      "carbonate 9.873142486898113e-05\n",
      "pH 11.102455311138677\n",
      "DIC 0.0001\n",
      "alkalinity 2286.938982550476\n"
     ]
    }
   ],
   "source": [
    "dilution = 10 #fold\n",
    "\n",
    "ED_basified_water = results['alkalinity'] - results2['alkalinity']\n",
    "Stripped_water = results3['alkalinity']\n",
    "\n",
    "diluted_alkalinity = (ED_basified_water + (dilution * Stripped_water))/(dilution + 1)\n",
    "\n",
    "kwargs5 = dict(\n",
    "    par1 = results4['dic'],  # Value of the first parameter\n",
    "    par2 = diluted_alkalinity,  # Value of the second parameter, alkalinity\n",
    "    par1_type = 2,  # The first parameter supplied is of type \"2\", which is \"DIC\"\n",
    "    par2_type = 1,  # The second parameter supplied is of type \"1\", which is \"alkalinity\"\n",
    "    salinity = natural_seawater_salinity,  # Salinity of the sample\n",
    "    temperature = natural_seawater_temperature,  # Temperature at input conditions\n",
    "    total_silicate = 50,  # Concentration of silicate  in the sample (in umol/kg)\n",
    "    total_phosphate = 2,  # Concentration of phosphate in the sample (in umol/kg)\n",
    "    opt_k_carbonic = 4,  # Choice of H2CO3 and HCO3- dissociation constants K1 and K2 (\"4\" means \"Mehrbach refit\")\n",
    "    opt_k_bisulfate = 1,  # Choice of HSO4- dissociation constants KSO4 (\"1\" means \"Dickson\")\n",
    ")\n",
    "\n",
    "results5 = pyco2.sys(**kwargs5)\n",
    "print('pCO2',results5['pCO2'])\n",
    "print('bicarbonate',results5['HCO3'])\n",
    "print('carbonate',results5['CO3'])\n",
    "print('pH',results5['pH'])\n",
    "print('DIC',results5['dic'])\n",
    "print('alkalinity',results5['alkalinity'])"
   ]
  },
  {
   "cell_type": "markdown",
   "id": "d746b027",
   "metadata": {},
   "source": [
    "### Dilution of combined ED and stripper water with Seawater\n",
    "\n",
    "Diluting the water combined ED base stream and CO2 stripper water with natural seawater, changing the alklainity and DIC.\n",
    "\n",
    "Dilution factor specified below (e.g. initially 1:5)"
   ]
  },
  {
   "cell_type": "code",
   "execution_count": 135,
   "id": "2c5d6ecf",
   "metadata": {},
   "outputs": [
    {
     "name": "stdout",
     "output_type": "stream",
     "text": [
      "pCO2 13.749023701102026\n",
      "bicarbonate 783.3017248756668\n",
      "carbonate 616.0973006263547\n",
      "pH 9.10703295548212\n",
      "DIC 1400.0000003333334\n",
      "alkalinity 2330.609562783099\n"
     ]
    }
   ],
   "source": [
    "dilution = 2.0 #fold\n",
    "\n",
    "natural_seawater_alk = results['alkalinity']\n",
    "Combined_ED_basified_and_stripped_water = results5['alkalinity']\n",
    "natural_seawater_dic = results['dic']\n",
    "\n",
    "nat_sw_diluted_alkalinity = (Combined_ED_basified_and_stripped_water + (dilution * natural_seawater_alk))/(dilution + 1)\n",
    "diluted_dic = (results5['dic'] + (dilution * natural_seawater_dic))/(dilution + 1)\n",
    "\n",
    "kwargs6 = dict(\n",
    "    par1 = diluted_dic,  # Value of the first parameter\n",
    "    par2 = nat_sw_diluted_alkalinity,  # Value of the second parameter, alkalinity\n",
    "    par1_type = 2,  # The first parameter supplied is of type \"2\", which is \"DIC\"\n",
    "    par2_type = 1,  # The second parameter supplied is of type \"1\", which is \"alkalinity\"\n",
    "    salinity = natural_seawater_salinity,  # Salinity of the sample\n",
    "    temperature = natural_seawater_temperature,  # Temperature at input conditions\n",
    "    total_silicate = 50,  # Concentration of silicate  in the sample (in umol/kg)\n",
    "    total_phosphate = 2,  # Concentration of phosphate in the sample (in umol/kg)\n",
    "    opt_k_carbonic = 4,  # Choice of H2CO3 and HCO3- dissociation constants K1 and K2 (\"4\" means \"Mehrbach refit\")\n",
    "    opt_k_bisulfate = 1,  # Choice of HSO4- dissociation constants KSO4 (\"1\" means \"Dickson\")\n",
    ")\n",
    "\n",
    "results6 = pyco2.sys(**kwargs6)\n",
    "print('pCO2',results6['pCO2'])\n",
    "print('bicarbonate',results6['HCO3'])\n",
    "print('carbonate',results6['CO3'])\n",
    "print('pH',results6['pH'])\n",
    "print('DIC',results6['dic'])\n",
    "print('alkalinity',results6['alkalinity'])"
   ]
  },
  {
   "cell_type": "code",
   "execution_count": null,
   "id": "4960e2b8",
   "metadata": {},
   "outputs": [],
   "source": []
  },
  {
   "cell_type": "markdown",
   "id": "d3165ce1",
   "metadata": {},
   "source": []
  },
  {
   "cell_type": "markdown",
   "id": "8aaac253",
   "metadata": {},
   "source": [
    "# Question: what pH seawater do you need to mix with pH8 seawater to get to pH4?"
   ]
  },
  {
   "cell_type": "code",
   "execution_count": 172,
   "id": "1b752f5a",
   "metadata": {},
   "outputs": [
    {
     "name": "stdout",
     "output_type": "stream",
     "text": [
      "pCO2 366.17568504185215\n",
      "pH 8.075897099950021\n",
      "DIC 2100.0\n"
     ]
    }
   ],
   "source": [
    "# Natural seawater\n",
    "\n",
    "natural_seawater_alkalinity = 2300\n",
    "natural_seawater_dic = 2100\n",
    "natural_seawater_salinity = 35\n",
    "natural_seawater_temperature = 10\n",
    "\n",
    "# Define input conditions\n",
    "kwargs = dict(\n",
    "    par1 = natural_seawater_alkalinity,  # Value of the first parameter\n",
    "    par2 = natural_seawater_dic,  # Value of the second parameter, which is a long vector of different DIC's!\n",
    "    par1_type = 1,  # The first parameter supplied is of type \"1\", which is \"alkalinity\"\n",
    "    par2_type = 2,  # The second parameter supplied is of type \"2\", which is \"DIC\"\n",
    "    salinity = natural_seawater_salinity,  # Salinity of the sample\n",
    "    temperature = natural_seawater_temperature,  # Temperature at input conditions\n",
    "    total_silicate = 50,  # Concentration of silicate  in the sample (in umol/kg)\n",
    "    total_phosphate = 2,  # Concentration of phosphate in the sample (in umol/kg)\n",
    "    opt_k_carbonic = 4,  # Choice of H2CO3 and HCO3- dissociation constants K1 and K2 (\"4\" means \"Mehrbach refit\")\n",
    "    opt_k_bisulfate = 1,  # Choice of HSO4- dissociation constants KSO4 (\"1\" means \"Dickson\")\n",
    ")\n",
    "\n",
    "\n",
    "results = pyco2.sys(**kwargs)\n",
    "print('pCO2',results['pCO2'])\n",
    "print('pH',results['pH'])\n",
    "print('DIC',results['dic'])"
   ]
  },
  {
   "cell_type": "code",
   "execution_count": 189,
   "id": "3b3f4912",
   "metadata": {},
   "outputs": [
    {
     "name": "stdout",
     "output_type": "stream",
     "text": [
      "pCO2 48041.57742607431\n",
      "bicarbonate 0.08516115160786758\n",
      "carbonate 2.0841491387948532e-09\n",
      "pH 1.6\n",
      "DIC 2100.0\n",
      "alkalinity -24816.46102207822\n"
     ]
    }
   ],
   "source": [
    "modified_pH = 1.6\n",
    "\n",
    "kwargs2 = dict(\n",
    "    par1 = 2100,  # Value of the first parameter\n",
    "    par2 = modified_pH,  # Value of the second parameter, pH\n",
    "    par1_type = 2,  # The first parameter supplied is of type \"2\", which is \"DIC\"\n",
    "    par2_type = 3,  # The second parameter supplied is of type \"3\", which is \"pH\"\n",
    "    salinity = natural_seawater_salinity,  # Salinity of the sample\n",
    "    temperature = natural_seawater_temperature,  # Temperature at input conditions\n",
    "    total_silicate = 50,  # Concentration of silicate  in the sample (in umol/kg)\n",
    "    total_phosphate = 2,  # Concentration of phosphate in the sample (in umol/kg)\n",
    "    opt_k_carbonic = 4,  # Choice of H2CO3 and HCO3- dissociation constants K1 and K2 (\"4\" means \"Mehrbach refit\")\n",
    "    opt_k_bisulfate = 1,  # Choice of HSO4- dissociation constants KSO4 (\"1\" means \"Dickson\")\n",
    ")\n",
    "\n",
    "results2 = pyco2.sys(**kwargs2)\n",
    "print('pCO2',results2['pCO2'])\n",
    "print('bicarbonate',results2['HCO3'])\n",
    "print('carbonate',results2['CO3'])\n",
    "print('pH',results2['pH'])\n",
    "print('DIC',results2['dic'])\n",
    "print('alkalinity',results2['alkalinity'])"
   ]
  },
  {
   "cell_type": "code",
   "execution_count": 190,
   "id": "b4227075",
   "metadata": {},
   "outputs": [],
   "source": [
    "dilution = 10.0 #fold\n",
    "\n",
    "natural_seawater_alk = results['alkalinity']\n",
    "low_pH_water_alk = results2['alkalinity']\n",
    "\n",
    "\n",
    "nat_sw_diluted_alkalinity = (low_pH_water_alk + (dilution * natural_seawater_alk))/(dilution + 1)\n"
   ]
  },
  {
   "cell_type": "code",
   "execution_count": 191,
   "id": "1b106152",
   "metadata": {},
   "outputs": [
    {
     "name": "stdout",
     "output_type": "stream",
     "text": [
      "pCO2 47764.253442794354\n",
      "pH 3.7588834750917792\n",
      "DIC 2100.0\n"
     ]
    }
   ],
   "source": [
    "# Define input conditions\n",
    "kwargs9 = dict(\n",
    "    par1 = nat_sw_diluted_alkalinity,  # Value of the first parameter\n",
    "    par2 = natural_seawater_dic,  # Value of the second parameter, which is a long vector of different DIC's!\n",
    "    par1_type = 1,  # The first parameter supplied is of type \"1\", which is \"alkalinity\"\n",
    "    par2_type = 2,  # The second parameter supplied is of type \"2\", which is \"DIC\"\n",
    "    salinity = natural_seawater_salinity,  # Salinity of the sample\n",
    "    temperature = natural_seawater_temperature,  # Temperature at input conditions\n",
    "    total_silicate = 50,  # Concentration of silicate  in the sample (in umol/kg)\n",
    "    total_phosphate = 2,  # Concentration of phosphate in the sample (in umol/kg)\n",
    "    opt_k_carbonic = 4,  # Choice of H2CO3 and HCO3- dissociation constants K1 and K2 (\"4\" means \"Mehrbach refit\")\n",
    "    opt_k_bisulfate = 1,  # Choice of HSO4- dissociation constants KSO4 (\"1\" means \"Dickson\")\n",
    ")\n",
    "\n",
    "\n",
    "results9 = pyco2.sys(**kwargs9)\n",
    "print('pCO2',results9['pCO2'])\n",
    "print('pH',results9['pH'])\n",
    "print('DIC',results9['dic'])"
   ]
  },
  {
   "cell_type": "markdown",
   "id": "3b32f65b",
   "metadata": {},
   "source": [
    "# Calculations simplified"
   ]
  },
  {
   "cell_type": "markdown",
   "id": "289387a8",
   "metadata": {},
   "source": [
    "### functions required for subsequent calculations"
   ]
  },
  {
   "cell_type": "code",
   "execution_count": 301,
   "id": "3df842cf",
   "metadata": {},
   "outputs": [],
   "source": [
    "def carbon_chem_from_alk_and_dic(alkalinity, dic, temperature, salinity):\n",
    "    # Define input conditions\n",
    "    kwargs_alk_dic = dict(\n",
    "        par1 = alkalinity,  # Value of the first parameter\n",
    "        par2 = dic,  # Value of the second parameter, which is a long vector of different DIC's!\n",
    "        par1_type = 1,  # The first parameter supplied is of type \"1\", which is \"alkalinity\"\n",
    "        par2_type = 2,  # The second parameter supplied is of type \"2\", which is \"DIC\"\n",
    "        salinity = salinity,  # Salinity of the sample\n",
    "        temperature = temperature,  # Temperature at input conditions\n",
    "    )\n",
    "    return pd.DataFrame.from_dict(pyco2.sys(**kwargs_alk_dic), orient='index').T\n",
    "\n",
    "def carbon_chem_from_pH_and_dic(pH, dic, temperature, salinity):\n",
    "    # Define input conditions\n",
    "    kwargs_pH_dic = dict(\n",
    "        par1 = dic,  # Value of the first parameter\n",
    "        par2 = pH,  # Value of the second parameter, which is a long vector of different DIC's!\n",
    "        par1_type = 2,  # The first parameter supplied is of type \"1\", which is \"alkalinity\"\n",
    "        par2_type = 3,  # The second parameter supplied is of type \"2\", which is \"DIC\"\n",
    "        salinity = salinity,  # Salinity of the sample\n",
    "        temperature = temperature,  # Temperature at input conditions\n",
    "    )\n",
    "    return pd.DataFrame.from_dict(pyco2.sys(**kwargs_pH_dic), orient='index').T\n",
    "\n",
    "def conservative_mixing(conc1,conc2,fraction_conc1):\n",
    "    return (conc1 * fraction_conc1) + (conc2 * (1.0 - fraction_conc1))\n",
    "\n",
    "\n",
    "def itterate_on_pH(co2_stripper_conditions,initial_pH_estimate,co2_stripper_predicted_ph,increment,direction):\n",
    "    counter = 0\n",
    "    if direction == 'down':\n",
    "        while co2_stripper_predicted_ph > pH_in_seawater_co2_stripper:\n",
    "            initial_pH_estimate -= increment\n",
    "            counter += 1\n",
    "            ED_cell_seawater = carbon_chem_from_pH_and_dic(initial_pH_estimate, inflow_seawater['dic'].values, temperature, salinity)\n",
    "            alkalinity_after_mixing_streams = conservative_mixing(ED_cell_seawater['alkalinity'].values,inflow_seawater['alkalinity'].values,fraction_of_water_passing_through_ED_acid_stream)\n",
    "            co2_stripper_conditions = carbon_chem_from_alk_and_dic(alkalinity_after_mixing_streams, inflow_seawater_dissolved_inorganic_carbon, seawater_temperature, seawater_salinity)\n",
    "            co2_stripper_predicted_ph = co2_stripper_conditions['pH'].values\n",
    "            if counter > 10000:\n",
    "                print('max iterations hit')\n",
    "                break\n",
    "    else:\n",
    "        while co2_stripper_predicted_ph < pH_in_seawater_co2_stripper:\n",
    "            initial_pH_estimate += increment\n",
    "            counter += 1\n",
    "            ED_cell_seawater = carbon_chem_from_pH_and_dic(initial_pH_estimate, inflow_seawater['dic'].values, temperature, salinity)\n",
    "            alkalinity_after_mixing_streams = conservative_mixing(ED_cell_seawater['alkalinity'].values,inflow_seawater['alkalinity'].values,fraction_of_water_passing_through_ED_acid_stream)\n",
    "            co2_stripper_conditions = carbon_chem_from_alk_and_dic(alkalinity_after_mixing_streams, inflow_seawater_dissolved_inorganic_carbon, seawater_temperature, seawater_salinity)\n",
    "            co2_stripper_predicted_ph = co2_stripper_conditions['pH'].values\n",
    "            if counter > 10000:\n",
    "                print('max iterations hit')\n",
    "                break\n",
    "    return ED_cell_seawater,co2_stripper_conditions,initial_pH_estimate,co2_stripper_predicted_ph"
   ]
  },
  {
   "cell_type": "markdown",
   "id": "6dd392a7",
   "metadata": {},
   "source": [
    "### Define inputs"
   ]
  },
  {
   "cell_type": "code",
   "execution_count": 330,
   "id": "fa8c9d3a",
   "metadata": {},
   "outputs": [],
   "source": [
    "seawater_temperature = 10.0 # degrees C\n",
    "seawater_salinity = 35.0 # psu\n",
    "inflow_seawater_alkalinity = 2300.0 # µeq/kg\n",
    "inflow_seawater_dissolved_inorganic_carbon = 2100.0 # µmol/kg\n",
    "fraction_of_water_passing_through_ED_acid_stream = 0.1 # decimal fraction of the incoming seawater stream diverted through the ED unit\n",
    "pH_in_seawater_co2_stripper = 4.0\n",
    "fraction_of_water_passing_through_ED_base_stream = fraction_of_water_passing_through_ED_acid_stream # initial assumption is that the same volume of fluid is passing through the ED cell's base stream as through the acid stream\n",
    "fraction_of_co2_depleted_water_in_final_outflow = 0.25 # i.e. how much unpricessed seawater if being mixed with the processed water when returned back to the ocean"
   ]
  },
  {
   "cell_type": "markdown",
   "id": "c58aa104",
   "metadata": {},
   "source": [
    "### Chemistry of inflow seawater\n",
    "\n",
    "Note, initial output variables are:\n",
    "\n",
    "pH - self explanatory\n",
    "\n",
    "dic - dissolved inorganic carbon concentration. i.e. total amount of dissolved carbon in the seawater in µmol/kg\n",
    "\n",
    "alkalinity - total alkalinity, 'the molar amount of bases in a solution that can be converted to uncharged species by a strong acid' ([wikipedia](https://en.wikipedia.org/wiki/Alkalinity#cite_note-2)), µeq/kg\n",
    "\n",
    "bicarbonate - concentration of bicarbonate ions µmol/kg\n",
    "\n",
    "carbonate - concentration of carbonate ions µmol/kg\n",
    "\n",
    "pCO2 - partial presure of CO2, µatm"
   ]
  },
  {
   "cell_type": "code",
   "execution_count": 317,
   "id": "f2c79f7b",
   "metadata": {},
   "outputs": [
    {
     "data": {
      "text/html": [
       "<div>\n",
       "<style scoped>\n",
       "    .dataframe tbody tr th:only-of-type {\n",
       "        vertical-align: middle;\n",
       "    }\n",
       "\n",
       "    .dataframe tbody tr th {\n",
       "        vertical-align: top;\n",
       "    }\n",
       "\n",
       "    .dataframe thead th {\n",
       "        text-align: right;\n",
       "    }\n",
       "</style>\n",
       "<table border=\"1\" class=\"dataframe\">\n",
       "  <thead>\n",
       "    <tr style=\"text-align: right;\">\n",
       "      <th></th>\n",
       "      <th>pH</th>\n",
       "      <th>dic</th>\n",
       "      <th>alkalinity</th>\n",
       "      <th>bicarbonate</th>\n",
       "      <th>carbonate</th>\n",
       "      <th>pCO2</th>\n",
       "    </tr>\n",
       "  </thead>\n",
       "  <tbody>\n",
       "    <tr>\n",
       "      <th>0</th>\n",
       "      <td>8.091704847930695</td>\n",
       "      <td>2100.0</td>\n",
       "      <td>2300.0</td>\n",
       "      <td>1940.980368</td>\n",
       "      <td>143.206398</td>\n",
       "      <td>361.773084</td>\n",
       "    </tr>\n",
       "  </tbody>\n",
       "</table>\n",
       "</div>"
      ],
      "text/plain": [
       "                  pH     dic alkalinity  bicarbonate   carbonate        pCO2\n",
       "0  8.091704847930695  2100.0     2300.0  1940.980368  143.206398  361.773084"
      ]
     },
     "execution_count": 317,
     "metadata": {},
     "output_type": "execute_result"
    }
   ],
   "source": [
    "inflow_seawater = carbon_chem_from_alk_and_dic(inflow_seawater_alkalinity, inflow_seawater_dissolved_inorganic_carbon, seawater_temperature, seawater_salinity)\n",
    "inflow_seawater[['pH','dic','alkalinity','bicarbonate', 'carbonate','pCO2']]\n"
   ]
  },
  {
   "cell_type": "markdown",
   "id": "a2fe1424",
   "metadata": {},
   "source": [
    "### Conditions in acid stream of ED cell\n",
    "\n",
    "Crude itteration to find pH in ED cell consistent with the required seawater CO2 stripper pH and fraction of seawaterpassed trhough ED cell"
   ]
  },
  {
   "cell_type": "code",
   "execution_count": 309,
   "id": "bffccb8d",
   "metadata": {},
   "outputs": [
    {
     "data": {
      "text/html": [
       "<div>\n",
       "<style scoped>\n",
       "    .dataframe tbody tr th:only-of-type {\n",
       "        vertical-align: middle;\n",
       "    }\n",
       "\n",
       "    .dataframe tbody tr th {\n",
       "        vertical-align: top;\n",
       "    }\n",
       "\n",
       "    .dataframe thead th {\n",
       "        text-align: right;\n",
       "    }\n",
       "</style>\n",
       "<table border=\"1\" class=\"dataframe\">\n",
       "  <thead>\n",
       "    <tr style=\"text-align: right;\">\n",
       "      <th></th>\n",
       "      <th>pH</th>\n",
       "      <th>dic</th>\n",
       "      <th>alkalinity</th>\n",
       "      <th>bicarbonate</th>\n",
       "      <th>carbonate</th>\n",
       "      <th>pCO2</th>\n",
       "    </tr>\n",
       "  </thead>\n",
       "  <tbody>\n",
       "    <tr>\n",
       "      <th>0</th>\n",
       "      <td>1.662965999999998</td>\n",
       "      <td>2100.0</td>\n",
       "      <td>-21511.534919</td>\n",
       "      <td>0.096042</td>\n",
       "      <td>0.0</td>\n",
       "      <td>48041.328496</td>\n",
       "    </tr>\n",
       "  </tbody>\n",
       "</table>\n",
       "</div>"
      ],
      "text/plain": [
       "                  pH     dic    alkalinity bicarbonate carbonate          pCO2\n",
       "0  1.662965999999998  2100.0 -21511.534919    0.096042       0.0  48041.328496"
      ]
     },
     "execution_count": 309,
     "metadata": {},
     "output_type": "execute_result"
    }
   ],
   "source": [
    "counter = 0\n",
    "co2_stripper_predicted_ph = 1000.0\n",
    "initial_pH_estimate = pH_in_seawater_co2_stripper\n",
    "co2_stripper_conditions = 0.0\n",
    "\n",
    "ED_cell_seawater,co2_stripper_conditions,initial_pH_estimate,co2_stripper_predicted_ph = itterate_on_pH(co2_stripper_conditions,initial_pH_estimate,co2_stripper_predicted_ph,0.1,'down')\n",
    "ED_cell_seawater,co2_stripper_conditions,initial_pH_estimate,co2_stripper_predicted_ph = itterate_on_pH(co2_stripper_conditions,initial_pH_estimate,co2_stripper_predicted_ph,0.01,'up')\n",
    "ED_cell_seawater,co2_stripper_conditions,initial_pH_estimate,co2_stripper_predicted_ph = itterate_on_pH(co2_stripper_conditions,initial_pH_estimate,co2_stripper_predicted_ph,0.001,'down')\n",
    "ED_cell_seawater,co2_stripper_conditions,initial_pH_estimate,co2_stripper_predicted_ph = itterate_on_pH(co2_stripper_conditions,initial_pH_estimate,co2_stripper_predicted_ph,0.0001,'up')\n",
    "ED_cell_seawater,co2_stripper_conditions,initial_pH_estimate,co2_stripper_predicted_ph = itterate_on_pH(co2_stripper_conditions,initial_pH_estimate,co2_stripper_predicted_ph,0.00001,'down')\n",
    "ED_cell_seawater,co2_stripper_conditions,initial_pH_estimate,co2_stripper_predicted_ph = itterate_on_pH(co2_stripper_conditions,initial_pH_estimate,co2_stripper_predicted_ph,0.000001,'up')\n",
    "\n",
    "ED_cell_seawater[['pH','dic','alkalinity','bicarbonate', 'carbonate','pCO2']]\n"
   ]
  },
  {
   "cell_type": "markdown",
   "id": "6a449e84",
   "metadata": {},
   "source": [
    "\n",
    "\n"
   ]
  },
  {
   "cell_type": "markdown",
   "id": "d3be0c49",
   "metadata": {},
   "source": [
    "### Conditions in seawater CO2 stripper"
   ]
  },
  {
   "cell_type": "code",
   "execution_count": 310,
   "id": "b88cadd1",
   "metadata": {},
   "outputs": [
    {
     "data": {
      "text/html": [
       "<div>\n",
       "<style scoped>\n",
       "    .dataframe tbody tr th:only-of-type {\n",
       "        vertical-align: middle;\n",
       "    }\n",
       "\n",
       "    .dataframe tbody tr th {\n",
       "        vertical-align: top;\n",
       "    }\n",
       "\n",
       "    .dataframe thead th {\n",
       "        text-align: right;\n",
       "    }\n",
       "</style>\n",
       "<table border=\"1\" class=\"dataframe\">\n",
       "  <thead>\n",
       "    <tr style=\"text-align: right;\">\n",
       "      <th></th>\n",
       "      <th>pH</th>\n",
       "      <th>dic</th>\n",
       "      <th>alkalinity</th>\n",
       "      <th>bicarbonate</th>\n",
       "      <th>carbonate</th>\n",
       "      <th>pCO2</th>\n",
       "    </tr>\n",
       "  </thead>\n",
       "  <tbody>\n",
       "    <tr>\n",
       "      <th>0</th>\n",
       "      <td>4.000006046230498</td>\n",
       "      <td>2100.0</td>\n",
       "      <td>-81.153492</td>\n",
       "      <td>20.664562</td>\n",
       "      <td>0.000123</td>\n",
       "      <td>47570.761768</td>\n",
       "    </tr>\n",
       "  </tbody>\n",
       "</table>\n",
       "</div>"
      ],
      "text/plain": [
       "                  pH     dic alkalinity bicarbonate carbonate          pCO2\n",
       "0  4.000006046230498  2100.0 -81.153492   20.664562  0.000123  47570.761768"
      ]
     },
     "execution_count": 310,
     "metadata": {},
     "output_type": "execute_result"
    }
   ],
   "source": [
    "co2_stripper_conditions[['pH','dic','alkalinity','bicarbonate', 'carbonate','pCO2']]"
   ]
  },
  {
   "cell_type": "markdown",
   "id": "3df74e67",
   "metadata": {},
   "source": [
    "### Fraction of dissolved carbon liberated"
   ]
  },
  {
   "cell_type": "code",
   "execution_count": 325,
   "id": "1331a4bd",
   "metadata": {},
   "outputs": [
    {
     "name": "stdout",
     "output_type": "stream",
     "text": [
      "[0.9901596738254074]\n"
     ]
    }
   ],
   "source": [
    "fraction_of_liberated_dic = (inflow_seawater_dissolved_inorganic_carbon - co2_stripper_conditions['bicarbonate'].values - co2_stripper_conditions['carbonate'].values)/inflow_seawater_dissolved_inorganic_carbon\n",
    "print(fraction_of_liberated_dic)"
   ]
  },
  {
   "cell_type": "markdown",
   "id": "8d3b32c2",
   "metadata": {},
   "source": [
    "### Conditions in base stream of ED cell\n"
   ]
  },
  {
   "cell_type": "code",
   "execution_count": 323,
   "id": "601d9bbd",
   "metadata": {},
   "outputs": [
    {
     "data": {
      "text/html": [
       "<div>\n",
       "<style scoped>\n",
       "    .dataframe tbody tr th:only-of-type {\n",
       "        vertical-align: middle;\n",
       "    }\n",
       "\n",
       "    .dataframe tbody tr th {\n",
       "        vertical-align: top;\n",
       "    }\n",
       "\n",
       "    .dataframe thead th {\n",
       "        text-align: right;\n",
       "    }\n",
       "</style>\n",
       "<table border=\"1\" class=\"dataframe\">\n",
       "  <thead>\n",
       "    <tr style=\"text-align: right;\">\n",
       "      <th></th>\n",
       "      <th>pH</th>\n",
       "      <th>dic</th>\n",
       "      <th>alkalinity</th>\n",
       "      <th>bicarbonate</th>\n",
       "      <th>carbonate</th>\n",
       "      <th>pCO2</th>\n",
       "    </tr>\n",
       "  </thead>\n",
       "  <tbody>\n",
       "    <tr>\n",
       "      <th>0</th>\n",
       "      <td>12.210527851437211</td>\n",
       "      <td>20.664685</td>\n",
       "      <td>23811.534919</td>\n",
       "      <td>0.021282</td>\n",
       "      <td>20.643403</td>\n",
       "      <td>0.0</td>\n",
       "    </tr>\n",
       "  </tbody>\n",
       "</table>\n",
       "</div>"
      ],
      "text/plain": [
       "                   pH        dic    alkalinity bicarbonate  carbonate pCO2\n",
       "0  12.210527851437211  20.664685  23811.534919    0.021282  20.643403  0.0"
      ]
     },
     "execution_count": 323,
     "metadata": {},
     "output_type": "execute_result"
    }
   ],
   "source": [
    "remaining_dic = co2_stripper_conditions['dic'].values * (1.0 - fraction_of_liberated_dic)\n",
    "\n",
    "ED_cell_base_seawater = carbon_chem_from_alk_and_dic(inflow_seawater_alkalinity - ED_cell_seawater['alkalinity'], remaining_dic, seawater_temperature, seawater_salinity)\n",
    "ED_cell_base_seawater[['pH','dic','alkalinity','bicarbonate', 'carbonate','pCO2']]"
   ]
  },
  {
   "cell_type": "markdown",
   "id": "7f6bdec8",
   "metadata": {},
   "source": [
    "### Conditions after mixing base stream of ED cell with water from seawater CO2 stripper\n"
   ]
  },
  {
   "cell_type": "code",
   "execution_count": 328,
   "id": "190af0c3",
   "metadata": {},
   "outputs": [
    {
     "data": {
      "text/html": [
       "<div>\n",
       "<style scoped>\n",
       "    .dataframe tbody tr th:only-of-type {\n",
       "        vertical-align: middle;\n",
       "    }\n",
       "\n",
       "    .dataframe tbody tr th {\n",
       "        vertical-align: top;\n",
       "    }\n",
       "\n",
       "    .dataframe thead th {\n",
       "        text-align: right;\n",
       "    }\n",
       "</style>\n",
       "<table border=\"1\" class=\"dataframe\">\n",
       "  <thead>\n",
       "    <tr style=\"text-align: right;\">\n",
       "      <th></th>\n",
       "      <th>pH</th>\n",
       "      <th>dic</th>\n",
       "      <th>alkalinity</th>\n",
       "      <th>bicarbonate</th>\n",
       "      <th>carbonate</th>\n",
       "      <th>pCO2</th>\n",
       "    </tr>\n",
       "  </thead>\n",
       "  <tbody>\n",
       "    <tr>\n",
       "      <th>0</th>\n",
       "      <td>11.110095387236399</td>\n",
       "      <td>20.664685</td>\n",
       "      <td>2308.115349</td>\n",
       "      <td>0.265028</td>\n",
       "      <td>20.399655</td>\n",
       "      <td>0.000047</td>\n",
       "    </tr>\n",
       "  </tbody>\n",
       "</table>\n",
       "</div>"
      ],
      "text/plain": [
       "                   pH        dic   alkalinity bicarbonate  carbonate      pCO2\n",
       "0  11.110095387236399  20.664685  2308.115349    0.265028  20.399655  0.000047"
      ]
     },
     "execution_count": 328,
     "metadata": {},
     "output_type": "execute_result"
    }
   ],
   "source": [
    "alkalinity_after_ED_base_and_stripper_mixing = conservative_mixing(ED_cell_base_seawater['alkalinity'].values,co2_stripper_conditions['alkalinity'].values,fraction_of_water_passing_through_ED_base_stream)\n",
    "after_ED_base_and_stripper_mixing = carbon_chem_from_alk_and_dic(alkalinity_after_ED_base_and_stripper_mixing, remaining_dic, seawater_temperature, seawater_salinity)\n",
    "after_ED_base_and_stripper_mixing[['pH','dic','alkalinity','bicarbonate', 'carbonate','pCO2']]"
   ]
  },
  {
   "cell_type": "markdown",
   "id": "4e56cc68",
   "metadata": {},
   "source": [
    "### Conditions after mixing CO2 depleted water with natural seeawater in final outflow"
   ]
  },
  {
   "cell_type": "code",
   "execution_count": 331,
   "id": "4bf94a01",
   "metadata": {},
   "outputs": [
    {
     "data": {
      "text/html": [
       "<div>\n",
       "<style scoped>\n",
       "    .dataframe tbody tr th:only-of-type {\n",
       "        vertical-align: middle;\n",
       "    }\n",
       "\n",
       "    .dataframe tbody tr th {\n",
       "        vertical-align: top;\n",
       "    }\n",
       "\n",
       "    .dataframe thead th {\n",
       "        text-align: right;\n",
       "    }\n",
       "</style>\n",
       "<table border=\"1\" class=\"dataframe\">\n",
       "  <thead>\n",
       "    <tr style=\"text-align: right;\">\n",
       "      <th></th>\n",
       "      <th>pH</th>\n",
       "      <th>dic</th>\n",
       "      <th>alkalinity</th>\n",
       "      <th>bicarbonate</th>\n",
       "      <th>carbonate</th>\n",
       "      <th>pCO2</th>\n",
       "    </tr>\n",
       "  </thead>\n",
       "  <tbody>\n",
       "    <tr>\n",
       "      <th>0</th>\n",
       "      <td>8.86868693539054</td>\n",
       "      <td>1580.166171</td>\n",
       "      <td>2302.028837</td>\n",
       "      <td>1095.167031</td>\n",
       "      <td>483.508071</td>\n",
       "      <td>34.112487</td>\n",
       "    </tr>\n",
       "  </tbody>\n",
       "</table>\n",
       "</div>"
      ],
      "text/plain": [
       "                 pH          dic   alkalinity  bicarbonate   carbonate  \\\n",
       "0  8.86868693539054  1580.166171  2302.028837  1095.167031  483.508071   \n",
       "\n",
       "        pCO2  \n",
       "0  34.112487  "
      ]
     },
     "execution_count": 331,
     "metadata": {},
     "output_type": "execute_result"
    }
   ],
   "source": [
    "alkalinity_in_outflow = conservative_mixing(alkalinity_after_ED_base_and_stripper_mixing,inflow_seawater_alkalinity,fraction_of_co2_depleted_water_in_final_outflow)\n",
    "dic_in_outflow = conservative_mixing(remaining_dic,inflow_seawater_dissolved_inorganic_carbon,fraction_of_co2_depleted_water_in_final_outflow)\n",
    "\n",
    "after_ED_base_and_stripper_mixing = carbon_chem_from_alk_and_dic(alkalinity_in_outflow, dic_in_outflow, seawater_temperature, seawater_salinity)\n",
    "after_ED_base_and_stripper_mixing[['pH','dic','alkalinity','bicarbonate', 'carbonate','pCO2']]"
   ]
  },
  {
   "cell_type": "code",
   "execution_count": null,
   "id": "750226fe",
   "metadata": {},
   "outputs": [],
   "source": []
  }
 ],
 "metadata": {
  "kernelspec": {
   "display_name": "Python 3",
   "language": "python",
   "name": "python3"
  },
  "language_info": {
   "codemirror_mode": {
    "name": "ipython",
    "version": 3
   },
   "file_extension": ".py",
   "mimetype": "text/x-python",
   "name": "python",
   "nbconvert_exporter": "python",
   "pygments_lexer": "ipython3",
   "version": "3.9.4"
  }
 },
 "nbformat": 4,
 "nbformat_minor": 5
}
