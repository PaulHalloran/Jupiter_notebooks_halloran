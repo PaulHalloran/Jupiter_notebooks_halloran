{
 "cells": [
  {
   "cell_type": "code",
   "execution_count": 5,
   "metadata": {},
   "outputs": [],
   "source": [
    "import pandas as pd\n",
    "import matplotlib.pyplot as plt\n",
    "import matplotlib\n",
    "import itertools\n",
    "import datetime\n",
    "import matplotlib.dates as mdates\n",
    "import numpy as np"
   ]
  },
  {
   "cell_type": "code",
   "execution_count": 1,
   "metadata": {},
   "outputs": [
    {
     "ename": "NameError",
     "evalue": "name 'ax' is not defined",
     "output_type": "error",
     "traceback": [
      "\u001b[0;31m---------------------------------------------------------------------------\u001b[0m",
      "\u001b[0;31mNameError\u001b[0m                                 Traceback (most recent call last)",
      "\u001b[0;32m<ipython-input-1-a0a0fafd6ce6>\u001b[0m in \u001b[0;36m<module>\u001b[0;34m\u001b[0m\n\u001b[0;32m----> 1\u001b[0;31m \u001b[0max\u001b[0m\u001b[0;34m.\u001b[0m\u001b[0mset_xlim\u001b[0m\u001b[0;34m(\u001b[0m\u001b[0;34m[\u001b[0m\u001b[0mdatetime\u001b[0m\u001b[0;34m.\u001b[0m\u001b[0mdate\u001b[0m\u001b[0;34m(\u001b[0m\u001b[0;36m2019\u001b[0m\u001b[0;34m,\u001b[0m \u001b[0;36m11\u001b[0m\u001b[0;34m,\u001b[0m \u001b[0;36m1\u001b[0m\u001b[0;34m)\u001b[0m\u001b[0;34m,\u001b[0m \u001b[0mdatetime\u001b[0m\u001b[0;34m.\u001b[0m\u001b[0mdate\u001b[0m\u001b[0;34m(\u001b[0m\u001b[0;36m2020\u001b[0m\u001b[0;34m,\u001b[0m \u001b[0;36m1\u001b[0m\u001b[0;34m,\u001b[0m \u001b[0;36m1\u001b[0m\u001b[0;34m)\u001b[0m\u001b[0;34m]\u001b[0m\u001b[0;34m)\u001b[0m\u001b[0;34m\u001b[0m\u001b[0;34m\u001b[0m\u001b[0m\n\u001b[0m",
      "\u001b[0;31mNameError\u001b[0m: name 'ax' is not defined"
     ]
    }
   ],
   "source": [
    "ax.set_xlim([datetime.date(2019, 11, 1), datetime.date(2020, 1, 1)])"
   ]
  },
  {
   "cell_type": "code",
   "execution_count": null,
   "metadata": {},
   "outputs": [],
   "source": [
    "plt.show()"
   ]
  },
  {
   "cell_type": "code",
   "execution_count": null,
   "metadata": {},
   "outputs": [],
   "source": []
  },
  {
   "cell_type": "code",
   "execution_count": 6,
   "metadata": {},
   "outputs": [
    {
     "ename": "NameError",
     "evalue": "name 'df2' is not defined",
     "output_type": "error",
     "traceback": [
      "\u001b[0;31m---------------------------------------------------------------------------\u001b[0m",
      "\u001b[0;31mNameError\u001b[0m                                 Traceback (most recent call last)",
      "\u001b[0;32m<ipython-input-6-feae239132d2>\u001b[0m in \u001b[0;36m<module>\u001b[0;34m\u001b[0m\n\u001b[1;32m      5\u001b[0m \u001b[0;32mfor\u001b[0m \u001b[0mInstrumentID\u001b[0m \u001b[0;32min\u001b[0m \u001b[0;34m[\u001b[0m\u001b[0;34m'Diana1'\u001b[0m\u001b[0;34m,\u001b[0m\u001b[0;34m'Diana2'\u001b[0m\u001b[0;34m,\u001b[0m\u001b[0;34m'Diana3'\u001b[0m\u001b[0;34m]\u001b[0m\u001b[0;34m:\u001b[0m\u001b[0;34m\u001b[0m\u001b[0;34m\u001b[0m\u001b[0m\n\u001b[1;32m      6\u001b[0m     \u001b[0mmarker\u001b[0m \u001b[0;34m=\u001b[0m \u001b[0mnext\u001b[0m\u001b[0;34m(\u001b[0m\u001b[0mmarkers\u001b[0m\u001b[0;34m)\u001b[0m\u001b[0;34m\u001b[0m\u001b[0;34m\u001b[0m\u001b[0m\n\u001b[0;32m----> 7\u001b[0;31m     \u001b[0mdf_tempory\u001b[0m \u001b[0;34m=\u001b[0m \u001b[0mdf2\u001b[0m\u001b[0;34m[\u001b[0m\u001b[0mdf2\u001b[0m\u001b[0;34m[\u001b[0m\u001b[0;34m'InstrumentID'\u001b[0m\u001b[0;34m]\u001b[0m \u001b[0;34m==\u001b[0m \u001b[0mInstrumentID\u001b[0m\u001b[0;34m]\u001b[0m\u001b[0;34m\u001b[0m\u001b[0;34m\u001b[0m\u001b[0m\n\u001b[0m\u001b[1;32m      8\u001b[0m     \u001b[0mcbar\u001b[0m \u001b[0;34m=\u001b[0m \u001b[0max\u001b[0m\u001b[0;34m.\u001b[0m\u001b[0mscatter\u001b[0m\u001b[0;34m(\u001b[0m\u001b[0mdf_tempory\u001b[0m\u001b[0;34m[\u001b[0m\u001b[0;34m'Week Start Date'\u001b[0m\u001b[0;34m]\u001b[0m\u001b[0;34m.\u001b[0m\u001b[0mvalues\u001b[0m\u001b[0;34m,\u001b[0m\u001b[0mdf_tempory\u001b[0m\u001b[0;34m[\u001b[0m\u001b[0;34m'Calculated Abnormal Rate'\u001b[0m\u001b[0;34m]\u001b[0m\u001b[0;34m.\u001b[0m\u001b[0mvalues\u001b[0m\u001b[0;34m*\u001b[0m\u001b[0;36m100.0\u001b[0m\u001b[0;34m,\u001b[0m\u001b[0mc\u001b[0m\u001b[0;34m=\u001b[0m\u001b[0;34m(\u001b[0m\u001b[0mdf_tempory\u001b[0m\u001b[0;34m[\u001b[0m\u001b[0;34m'# of ABNORMAL results within 30days'\u001b[0m\u001b[0;34m]\u001b[0m  \u001b[0;34m+\u001b[0m \u001b[0mdf_tempory\u001b[0m\u001b[0;34m[\u001b[0m\u001b[0;34m'# of NORMAL results within 14days'\u001b[0m\u001b[0;34m]\u001b[0m\u001b[0;34m)\u001b[0m\u001b[0;34m.\u001b[0m\u001b[0mvalues\u001b[0m\u001b[0;34m,\u001b[0m\u001b[0malpha\u001b[0m\u001b[0;34m=\u001b[0m\u001b[0;36m0.9\u001b[0m\u001b[0;34m,\u001b[0m\u001b[0ms\u001b[0m\u001b[0;34m=\u001b[0m\u001b[0;36m100\u001b[0m\u001b[0;34m,\u001b[0m\u001b[0mmarker\u001b[0m\u001b[0;34m=\u001b[0m\u001b[0mmarker\u001b[0m\u001b[0;34m,\u001b[0m\u001b[0mlabel\u001b[0m\u001b[0;34m=\u001b[0m\u001b[0mInstrumentID\u001b[0m\u001b[0;34m,\u001b[0m\u001b[0mcmap\u001b[0m\u001b[0;34m=\u001b[0m\u001b[0;34m'YlOrBr'\u001b[0m\u001b[0;34m)\u001b[0m\u001b[0;34m\u001b[0m\u001b[0;34m\u001b[0m\u001b[0m\n\u001b[1;32m      9\u001b[0m \u001b[0;34m\u001b[0m\u001b[0m\n",
      "\u001b[0;31mNameError\u001b[0m: name 'df2' is not defined"
     ]
    },
    {
     "data": {
      "image/png": "[encoded data removed]",
      "text/plain": [
       "<Figure size 1440x720 with 1 Axes>"
      ]
     },
     "metadata": {
      "needs_background": "light"
     },
     "output_type": "display_data"
    }
   ],
   "source": [
    "\n",
    "markers = itertools.cycle(('+', 'o', '*')) \n",
    "\n",
    "#plot the data\n",
    "fig, ax = plt.subplots(figsize=(20,10))\n",
    "for InstrumentID in ['Diana1','Diana2','Diana3']:\n",
    "    marker = next(markers)\n",
    "    df_tempory = df2[df2['InstrumentID'] == InstrumentID]\n",
    "    cbar = ax.scatter(df_tempory['Week Start Date'].values,df_tempory['Calculated Abnormal Rate'].values*100.0,c=(df_tempory['# of ABNORMAL results within 30days']  + df_tempory['# of NORMAL results within 14days']).values,alpha=0.9,s=100,marker=marker,label=InstrumentID,cmap='YlOrBr')\n",
    "\n",
    "ax.legend()\n",
    "plt.colorbar(cbar)\n",
    "\n",
    "for InstrumentID in ['Diana1','Diana2','Diana3']:\n",
    "    marker = next(markers)\n",
    "    df_tempory = df2[df2['InstrumentID'] == InstrumentID]\n",
    "    ax.scatter(df_tempory['Week Start Date'].values,df_tempory['Calculated Abnormal Rate'].values*100.0,c='k',s=10,marker=marker,label=InstrumentID,alpha=0.5)\n",
    "\n",
    "\n",
    "ax.set_xlabel('date')\n",
    "ax.set_ylabel('Calculated abnormal rate')\n",
    "# plt.savefig('/Users/SPH/qc_data/abnormal_rates.png',dpi=300)\n",
    "plt.savefig('/Users/SPH/qc_data/Positivity-all-data_Diana 1,2 & 3.png',dpi=300)\n",
    "plt.show()"
   ]
  },
  {
   "cell_type": "code",
   "execution_count": null,
   "metadata": {},
   "outputs": [],
   "source": [
    "\n",
    "markers = itertools.cycle(('+', 'o', '*')) \n",
    "\n",
    "#plot the data\n",
    "fig, ax = plt.subplots(figsize=(20,10))\n",
    "for InstrumentID in ['Diana1','Diana2','Diana3']:\n",
    "    marker = next(markers)\n",
    "    df_tempory = df2[df2['InstrumentID'] == InstrumentID]\n",
    "    cbar = ax.scatter(df_tempory['Week Start Date'].values,df_tempory['Calculated Abnormal Rate'].values*100.0,c=(df_tempory['# of ABNORMAL results within 30days']  + df_tempory['# of NORMAL results within 14days']).values,alpha=0.9,s=100,marker=marker,label=InstrumentID,cmap='YlOrBr')\n",
    "\n",
    "ax.legend()\n",
    "plt.colorbar(cbar)\n",
    "\n",
    "for InstrumentID in ['Diana1','Diana2','Diana3']:\n",
    "    marker = next(markers)\n",
    "    df_tempory = df2[df2['InstrumentID'] == InstrumentID]\n",
    "    ax.scatter(df_tempory['Week Start Date'].values,df_tempory['Calculated Abnormal Rate'].values*100.0,c='k',s=10,marker=marker,label=InstrumentID,alpha=0.5)\n",
    "\n",
    "\n",
    "ax.set_ylim([0,10])\n",
    "ax.set_xlabel('date')\n",
    "ax.set_ylabel('Calculated abnormal rate')\n",
    "# plt.savefig('/Users/SPH/qc_data/abnormal_rates.png',dpi=300)\n",
    "plt.savefig('/Users/SPH/qc_data/Positivity-<10%_data_Diana 1,2 & 3.png',dpi=300)\n",
    "plt.show()"
   ]
  },
  {
   "cell_type": "code",
   "execution_count": null,
   "metadata": {},
   "outputs": [],
   "source": [
    "InstrumentID = 'Diana1'\n",
    "\n",
    "#plot the data\n",
    "fig, ax = plt.subplots(figsize=(20,10))\n",
    "\n",
    "df_tempory = df2[df2['InstrumentID'] == InstrumentID]\n",
    "cbar=ax.scatter(df_tempory['Week Start Date'].values,df_tempory['Calculated Abnormal Rate'].values*100.0,c=(df_tempory['# of ABNORMAL results within 30days']  + df_tempory['# of NORMAL results within 14days']).values,alpha=0.9,s=200,label=InstrumentID,cmap='YlOrBr')\n",
    "\n",
    "plt.colorbar(cbar)\n",
    "\n",
    "ax.scatter(df_tempory['Week Start Date'].values,df_tempory['Calculated Abnormal Rate'].values*100.0,c='k',s=10,label=InstrumentID,alpha=0.5)\n",
    "\n",
    "ax.set_yticks(np.arange(0, 10, step=0.5))\n",
    "ax.set_ylim([3,7])\n",
    "ax.set_xlabel('date')\n",
    "ax.set_ylabel('Calculated abnormal rate')\n",
    "plt.title(InstrumentID)\n",
    "# plt.savefig('/Users/SPH/qc_data/abnormal_rates.png',dpi=300)\n",
    "plt.savefig('/Users/SPH/qc_data/Positivity-3%-7%_data_Diana 1.png',dpi=300)\n",
    "plt.show()"
   ]
  },
  {
   "cell_type": "code",
   "execution_count": null,
   "metadata": {},
   "outputs": [],
   "source": [
    "InstrumentID = 'Diana2'\n",
    "\n",
    "#plot the data\n",
    "fig, ax = plt.subplots(figsize=(20,10))\n",
    "\n",
    "df_tempory = df2[df2['InstrumentID'] == InstrumentID]\n",
    "cbar=ax.scatter(df_tempory['Week Start Date'].values,df_tempory['Calculated Abnormal Rate'].values*100.0,c=(df_tempory['# of ABNORMAL results within 30days']  + df_tempory['# of NORMAL results within 14days']).values,alpha=0.9,s=200,label=InstrumentID,cmap='YlOrBr')\n",
    "\n",
    "plt.colorbar(cbar)\n",
    "\n",
    "ax.scatter(df_tempory['Week Start Date'].values,df_tempory['Calculated Abnormal Rate'].values*100.0,c='k',s=10,label=InstrumentID,alpha=0.5)\n",
    "\n",
    "ax.set_yticks(np.arange(0, 10, step=0.5))\n",
    "ax.set_ylim([3,7])\n",
    "ax.set_xlabel('date')\n",
    "ax.set_ylabel('Calculated abnormal rate')\n",
    "plt.title(InstrumentID)\n",
    "# plt.savefig('/Users/SPH/qc_data/abnormal_rates.png',dpi=300)\n",
    "plt.savefig('/Users/SPH/qc_data/Positivity-3%-7%_data_Diana 2.png',dpi=300)\n",
    "plt.show()"
   ]
  },
  {
   "cell_type": "code",
   "execution_count": null,
   "metadata": {},
   "outputs": [],
   "source": [
    "#save the data with the improved date column to files\n",
    "df.to_csv('/Users/SPH/qc_data/cco_qc_analysis_for_excel.csv')"
   ]
  },
  {
   "cell_type": "code",
   "execution_count": null,
   "metadata": {},
   "outputs": [],
   "source": []
  },
  {
   "cell_type": "code",
   "execution_count": null,
   "metadata": {},
   "outputs": [],
   "source": [
    "InstrumentID = 'Diana3'\n",
    "\n",
    "#plot the data\n",
    "fig, ax = plt.subplots(figsize=(20,10))\n",
    "\n",
    "df_tempory = df2[df2['InstrumentID'] == InstrumentID]\n",
    "cbar=ax.scatter(df_tempory['Week Start Date'].values,df_tempory['Calculated Abnormal Rate'].values*100.0,c=(df_tempory['# of ABNORMAL results within 30days']  + df_tempory['# of NORMAL results within 14days']).values,alpha=0.9,s=200,label=InstrumentID,cmap='YlOrBr')\n",
    "\n",
    "plt.colorbar(cbar)\n",
    "\n",
    "ax.scatter(df_tempory['Week Start Date'].values,df_tempory['Calculated Abnormal Rate'].values*100.0,c='k',s=10,label=InstrumentID,alpha=0.5)\n",
    "\n",
    "ax.set_yticks(np.arange(0, 10, step=0.5))\n",
    "ax.set_ylim([3,7])\n",
    "ax.set_xlabel('date')\n",
    "ax.set_ylabel('Calculated abnormal rate')\n",
    "plt.title(InstrumentID)\n",
    "# plt.savefig('/Users/SPH/qc_data/abnormal_rates.png',dpi=300)\n",
    "plt.savefig('/Users/SPH/qc_data/Positivity-3%-7%_data_Diana 3.png',dpi=300)\n",
    "plt.show()"
   ]
  },
  {
   "cell_type": "code",
   "execution_count": null,
   "metadata": {},
   "outputs": [],
   "source": [
    "#save the data with the improved date column to files\n",
    "df.to_csv('/Users/SPH/qc_data/cco_qc_analysis_for_excel.csv')"
   ]
  },
  {
   "cell_type": "code",
   "execution_count": null,
   "metadata": {},
   "outputs": [],
   "source": [
    "markers = itertools.cycle(('+', 'o', '*')) \n",
    "\n",
    "#plot the data\n",
    "fig, ax = plt.subplots(figsize=(20,10))\n",
    "for InstrumentID in ['Diana1','Diana2','Diana3']:\n",
    "    marker = next(markers)\n",
    "    df_tempory = df2[df2['InstrumentID'] == InstrumentID]\n",
    "    cbar = ax.scatter(df_tempory['Week Start Date'].values,df_tempory['Calculated Abnormal Rate'].values*100.0,c=(df_tempory['# of ABNORMAL results within 30days']  + df_tempory['# of NORMAL results within 14days']).values,alpha=0.9,s=100,marker=marker,label=InstrumentID,cmap='YlOrBr')\n",
    "\n",
    "ax.legend()\n",
    "plt.colorbar(cbar)\n",
    "\n",
    "for InstrumentID in ['Diana1','Diana2','Diana3']:\n",
    "    marker = next(markers)\n",
    "    df_tempory = df2[df2['InstrumentID'] == InstrumentID]\n",
    "    ax.scatter(df_tempory['Week Start Date'].values,df_tempory['Calculated Abnormal Rate'].values*100.0,c='k',s=10,marker=marker,label=InstrumentID,alpha=0.5)\n",
    "\n",
    "\n",
    "ax.set_ylim([3,7])\n",
    "ax.set_xlabel('date')\n",
    "ax.set_ylabel('Calculated abnormal rate')\n",
    "# plt.savefig('/Users/SPH/qc_data/abnormal_rates.png',dpi=300)\n",
    "\n",
    "plt.show()"
   ]
  },
  {
   "cell_type": "code",
   "execution_count": null,
   "metadata": {},
   "outputs": [],
   "source": []
  },
  {
   "cell_type": "code",
   "execution_count": null,
   "metadata": {},
   "outputs": [],
   "source": []
  },
  {
   "cell_type": "code",
   "execution_count": null,
   "metadata": {},
   "outputs": [],
   "source": []
  }
 ],
 "metadata": {
  "kernelspec": {
   "display_name": "Python 3",
   "language": "python",
   "name": "python3"
  },
  "language_info": {
   "codemirror_mode": {
    "name": "ipython",
    "version": 3
   },
   "file_extension": ".py",
   "mimetype": "text/x-python",
   "name": "python",
   "nbconvert_exporter": "python",
   "pygments_lexer": "ipython3",
   "version": "3.7.4"
  }
 },
 "nbformat": 4,
 "nbformat_minor": 4
}
