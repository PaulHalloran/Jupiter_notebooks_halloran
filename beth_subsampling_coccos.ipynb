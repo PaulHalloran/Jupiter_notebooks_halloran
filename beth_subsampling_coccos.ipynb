{
 "cells": [
  {
   "cell_type": "markdown",
   "metadata": {},
   "source": [
    "A file with columns for each repeat would be great thanks. I’ve attached the data in this email. I’m basing the species composition of the core in your biogeosciences paper, so I’m trying to construct a regression line with the following weighting, G. oceanica 45%, E. huxleyi 35%, C. pelagicus 15%, C. Leptoporus 5%.\n",
    " \n",
    "Annoyingly, I have the fewest observations for G. Oceanica so this potentially wont work given that this will end up being a sample of 1 for C. Leptoporus? I think a regression line with equal weighting and a discussion of how this will lead to error in cell size estimates is the nest best option.\n",
    " \n",
    "Great, thanks for having a look at the manuscript. End of the week should be do-able!\n",
    " \n",
    " "
   ]
  },
  {
   "cell_type": "markdown",
   "metadata": {},
   "source": [
    "### Import required modules"
   ]
  },
  {
   "cell_type": "code",
   "execution_count": 24,
   "metadata": {},
   "outputs": [],
   "source": [
    "import pandas as pd\n",
    "import numpy as np"
   ]
  },
  {
   "cell_type": "markdown",
   "metadata": {},
   "source": [
    "### Read in the data from the excel file"
   ]
  },
  {
   "cell_type": "code",
   "execution_count": 25,
   "metadata": {},
   "outputs": [],
   "source": [
    "file = '/Users/ph290/Downloads/Diameter_cell.xlsx'\n",
    "diameter_data = pd.read_excel(file,sheet_name = None)"
   ]
  },
  {
   "cell_type": "markdown",
   "metadata": {},
   "source": [
    "### Set the no. individuals to use for teh subsampling\n",
    "here it is set to the minimum nuber in a any of the species' datasets"
   ]
  },
  {
   "cell_type": "code",
   "execution_count": 26,
   "metadata": {},
   "outputs": [],
   "source": [
    "min_no_samples = np.min([len(diameter_data[species]['Cell']) for species in list(diameter_data)])"
   ]
  },
  {
   "cell_type": "markdown",
   "metadata": {},
   "source": [
    "### Loop through and create the subsets"
   ]
  },
  {
   "cell_type": "code",
   "execution_count": 172,
   "metadata": {},
   "outputs": [],
   "source": [
    "no_subsets = 100\n",
    "\n",
    "df = pd.DataFrame(columns = list(diameter_data))\n",
    "mydict={}\n",
    "\n",
    "for species in list(diameter_data):\n",
    "    mydict[species] = {}\n",
    "    for i in np.arange(no_subsets):\n",
    "        no_items = len(diameter_data[species]['Cell'])\n",
    "        index_values = np.random.choice(no_items, min_no_samples, replace = False)\n",
    "        mydict[species][str(i)] = {}\n",
    "        mydict[species][str(i)]['Coccosphere'] = diameter_data[species]['Coccosphere'].iloc[index_values].values\n",
    "        mydict[species][str(i)]['Cell'] = diameter_data[species]['Cell'].iloc[index_values].values\n"
   ]
  },
  {
   "cell_type": "code",
   "execution_count": 173,
   "metadata": {},
   "outputs": [],
   "source": [
    "columns = []\n",
    "\n",
    "for species in list(mydict):\n",
    "    for i in np.arange(no_subsets):\n",
    "        for j in ['Coccosphere','Cell']:\n",
    "            columns.append(species+'_'+j+'_'+str(i))\n",
    "\n",
    "data = np.zeros([min_no_samples,len(columns)])\n",
    "data[:] = np.nan"
   ]
  },
  {
   "cell_type": "code",
   "execution_count": 174,
   "metadata": {},
   "outputs": [],
   "source": [
    "for y in range(min_no_samples):\n",
    "    x = 0\n",
    "    for species in list(mydict):\n",
    "        for i in np.arange(no_subsets):\n",
    "            for j in ['Coccosphere','Cell']:\n",
    "                data[y,x] = mydict[species][str(i)][j][y]\n",
    "                x += 1"
   ]
  },
  {
   "cell_type": "code",
   "execution_count": 175,
   "metadata": {},
   "outputs": [],
   "source": [
    "df = pd.DataFrame (data, columns = columns)"
   ]
  },
  {
   "cell_type": "code",
   "execution_count": 176,
   "metadata": {},
   "outputs": [],
   "source": [
    "df.to_csv('/Users/ph290/Downloads/Diameter_cell_subsets.csv', index=False)  "
   ]
  },
  {
   "cell_type": "code",
   "execution_count": null,
   "metadata": {},
   "outputs": [],
   "source": []
  }
 ],
 "metadata": {
  "kernelspec": {
   "display_name": "Python 3",
   "language": "python",
   "name": "python3"
  },
  "language_info": {
   "codemirror_mode": {
    "name": "ipython",
    "version": 3
   },
   "file_extension": ".py",
   "mimetype": "text/x-python",
   "name": "python",
   "nbconvert_exporter": "python",
   "pygments_lexer": "ipython3",
   "version": "3.8.3"
  }
 },
 "nbformat": 4,
 "nbformat_minor": 4
}
