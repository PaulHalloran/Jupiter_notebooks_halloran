{
 "cells": [
  {
   "cell_type": "markdown",
   "metadata": {},
   "source": [
    "A file with columns for each repeat would be great thanks. I’ve attached the data in this email. I’m basing the species composition of the core in your biogeosciences paper, so I’m trying to construct a regression line with the following weighting, G. oceanica 45%, E. huxleyi 35%, C. pelagicus 15%, C. Leptoporus 5%.\n",
    " \n",
    "Annoyingly, I have the fewest observations for G. Oceanica so this potentially wont work given that this will end up being a sample of 1 for C. Leptoporus? I think a regression line with equal weighting and a discussion of how this will lead to error in cell size estimates is the nest best option.\n",
    " \n",
    "Great, thanks for having a look at the manuscript. End of the week should be do-able!\n",
    " \n",
    " "
   ]
  },
  {
   "cell_type": "markdown",
   "metadata": {},
   "source": [
    "### Import required modules"
   ]
  },
  {
   "cell_type": "code",
   "execution_count": 1,
   "metadata": {},
   "outputs": [],
   "source": [
    "import pandas as pd\n",
    "import numpy as np\n",
    "import matplotlib.pyplot as plt"
   ]
  },
  {
   "cell_type": "markdown",
   "metadata": {},
   "source": [
    "### Read in the data from the excel file"
   ]
  },
  {
   "cell_type": "code",
   "execution_count": 2,
   "metadata": {},
   "outputs": [],
   "source": [
    "file = '/Users/ph290/Downloads/Diameter_cell.xlsx'\n",
    "diameter_data = pd.read_excel(file,sheet_name = None)"
   ]
  },
  {
   "cell_type": "markdown",
   "metadata": {},
   "source": [
    "### Set the no. individuals to use for teh subsampling\n",
    "here it is set to the minimum nuber in a any of the species' datasets"
   ]
  },
  {
   "cell_type": "code",
   "execution_count": 3,
   "metadata": {},
   "outputs": [],
   "source": [
    "min_no_samples = np.min([len(diameter_data[species]['Cell']) for species in list(diameter_data)])"
   ]
  },
  {
   "cell_type": "markdown",
   "metadata": {},
   "source": [
    "### Loop through and create the subsets"
   ]
  },
  {
   "cell_type": "code",
   "execution_count": 4,
   "metadata": {},
   "outputs": [],
   "source": [
    "no_subsets = 100\n",
    "\n",
    "df = pd.DataFrame(columns = list(diameter_data))\n",
    "mydict={}\n",
    "\n",
    "for species in list(diameter_data):\n",
    "    mydict[species] = {}\n",
    "    for i in np.arange(no_subsets):\n",
    "        no_items = len(diameter_data[species]['Cell'])\n",
    "        index_values = np.random.choice(no_items, min_no_samples, replace = False)\n",
    "        mydict[species][str(i)] = {}\n",
    "        mydict[species][str(i)]['Coccosphere'] = diameter_data[species]['Coccosphere'].iloc[index_values].values\n",
    "        mydict[species][str(i)]['Cell'] = diameter_data[species]['Cell'].iloc[index_values].values\n"
   ]
  },
  {
   "cell_type": "markdown",
   "metadata": {},
   "source": [
    "### Write out the data"
   ]
  },
  {
   "cell_type": "code",
   "execution_count": 5,
   "metadata": {},
   "outputs": [],
   "source": [
    "columns = []\n",
    "\n",
    "for species in list(mydict):\n",
    "    for i in np.arange(no_subsets):\n",
    "        for j in ['Coccosphere','Cell']:\n",
    "            columns.append(species+'_'+j+'_'+str(i))\n",
    "\n",
    "data = np.zeros([min_no_samples,len(columns)])\n",
    "data[:] = np.nan\n",
    "\n",
    "for y in range(min_no_samples):\n",
    "    x = 0\n",
    "    for species in list(mydict):\n",
    "        for i in np.arange(no_subsets):\n",
    "            for j in ['Coccosphere','Cell']:\n",
    "                data[y,x] = mydict[species][str(i)][j][y]\n",
    "                x += 1\n",
    "                \n",
    "df = pd.DataFrame (data, columns = columns)\n",
    "df.to_csv('/Users/ph290/Downloads/Diameter_cell_subsets.csv', index=False)  "
   ]
  },
  {
   "cell_type": "markdown",
   "metadata": {},
   "source": [
    "# Now combining species together"
   ]
  },
  {
   "cell_type": "code",
   "execution_count": 6,
   "metadata": {},
   "outputs": [
    {
     "data": {
      "image/png": "[encoded data removed]",
      "text/plain": [
       "<Figure size 432x288 with 1 Axes>"
      ]
     },
     "metadata": {
      "needs_background": "light"
     },
     "output_type": "display_data"
    }
   ],
   "source": [
    "no_subsets = [15,5,35,45]\n",
    "# G. oceanica 45%, E. huxleyi 35%, C. pelagicus 15%, C. Leptoporus 5%\n",
    "\n",
    "data_Coccosphere = []\n",
    "data_Cell = []\n",
    "m = []\n",
    "c = []\n",
    "\n",
    "no_interations = 1000\n",
    "for count in np.arange(no_interations):\n",
    "\n",
    "    df = pd.DataFrame(columns = list(diameter_data))\n",
    "    mydict={}\n",
    "\n",
    "    for s,species in enumerate(list(diameter_data)):\n",
    "        mydict[species] = {}\n",
    "#         for i in np.arange(min_no_samples):\n",
    "        no_items = len(diameter_data[species]['Cell'])\n",
    "        index_values = np.random.choice(no_items, min_no_samples, replace = False)\n",
    "        mydict[species][str(count)] = {}\n",
    "        mydict[species][str(count)]['Coccosphere'] = diameter_data[species]['Coccosphere'].iloc[index_values].values\n",
    "        mydict[species][str(count)]['Cell'] = diameter_data[species]['Cell'].iloc[index_values].values\n",
    "\n",
    "\n",
    "#     columns = []\n",
    "\n",
    "#     for s,species in enumerate(list(diameter_data)):\n",
    "#         for i in np.arange(no_subsets[s]):\n",
    "#             for j in ['Coccosphere','Cell']:\n",
    "#                 columns.append(species+'_'+j+'_'+str(i))\n",
    "\n",
    "#     data = np.zeros([min_no_samples,len(columns)])\n",
    "#     data[:] = np.nan\n",
    "\n",
    "#     for y in range(min_no_samples):\n",
    "#         x = 0\n",
    "#         for s,species in enumerate(list(diameter_data)):\n",
    "#             for i in np.arange(no_subsets[s]):\n",
    "#                 for j in ['Coccosphere','Cell']:\n",
    "#                     data[y,x] = mydict[species][str(i)][j][y]\n",
    "#                     x += 1\n",
    "    \n",
    "#     df = pd.DataFrame (data, columns = columns)\n",
    "#     df.to_csv('/Users/ph290/Downloads/beth_weighted/weighted_diameter_cell_subsets_'+str(count)+'.csv', index=False)  \n",
    "    \n",
    "    \n",
    "\n",
    "    for y in range(min_no_samples):\n",
    "        for s,species in enumerate(list(diameter_data)):\n",
    "            data_Coccosphere.append(mydict[species][str(count)]['Coccosphere'][y])\n",
    "            data_Cell.append(mydict[species][str(count)]['Cell'][y])\n",
    "\n",
    "    df2 = pd.DataFrame(data={\n",
    "    'Coccosphere' : data_Coccosphere,\n",
    "    'Cell' : data_Cell,\n",
    "    })\n",
    "    \n",
    "    xi = np.array(data_Cell)\n",
    "    A = np.array([ xi, np.ones(len(xi))])\n",
    "\n",
    "    # linearly generated sequence\n",
    "    y=np.array(data_Coccosphere)\n",
    "    w = np.linalg.lstsq(A.T,y)[0]\n",
    "    # obtaining the parameters\n",
    "\n",
    "    # plotting the line\n",
    "    line = w[0]*xi+w[1]\n",
    "    m.append(w[0])\n",
    "    c.append(w[1])\n",
    "    # regression line\n",
    "    plt.scatter(xi,y,s=0.1)\n",
    "    plt.plot(xi,line,'r-',lw=0.5)\n",
    "\n",
    "\n",
    "#     df2.to_csv('/Users/ph290/Downloads/beth_weighted/second_attempt/weighted_diameter_cell_subsets_'+str(count)+'.csv', index=False)  \n",
    "\n",
    "plt.xlabel('Cell diameter')\n",
    "plt.ylabel('Coccosphere diameter')\n",
    "plt.show()"
   ]
  },
  {
   "cell_type": "markdown",
   "metadata": {},
   "source": [
    "# Histogram of gradient on slopes"
   ]
  },
  {
   "cell_type": "code",
   "execution_count": 11,
   "metadata": {},
   "outputs": [
    {
     "name": "stdout",
     "output_type": "stream",
     "text": [
      "Value of 50th percentile:\n",
      "1.34332594799\n",
      "Value of 1st percentile:\n",
      "1.3404168144\n",
      "Value of 99th percentile:\n",
      "1.36239765618\n",
      "Value of 5th percentile:\n",
      "1.34093260096\n",
      "Value of 95th percentile:\n",
      "1.34697898267\n"
     ]
    },
    {
     "data": {
      "image/png": "[encoded data removed]",
      "text/plain": [
       "<Figure size 432x288 with 1 Axes>"
      ]
     },
     "metadata": {
      "needs_background": "light"
     },
     "output_type": "display_data"
    }
   ],
   "source": [
    "n, bins, patches = plt.hist(np.array(m), 100, density=True, facecolor='g', alpha=0.75)\n",
    "\n",
    "percentile_50 = np.percentile(m,50)\n",
    "print('Value of 50th percentile:')\n",
    "print(percentile_50)\n",
    "\n",
    "percentile_1 = np.percentile(m,1)\n",
    "percentile_99 = np.percentile(m,99)\n",
    "print('Value of 1st percentile:')\n",
    "print(percentile_1)\n",
    "print('Value of 99th percentile:')\n",
    "print(percentile_99)\n",
    "\n",
    "percentile_5 = np.percentile(m,5)\n",
    "percentile_95 = np.percentile(m,95)\n",
    "print('Value of 5th percentile:')\n",
    "print(percentile_5)\n",
    "print('Value of 95th percentile:')\n",
    "print(percentile_95)\n",
    "\n",
    "my_ylim = plt.gca().get_ylim()\n",
    "plt.plot([percentile_1,percentile_1],[my_ylim[0],my_ylim[1]],'r',label = '1-99% range')\n",
    "plt.plot([percentile_99,percentile_99],[my_ylim[0],my_ylim[1]],'r')\n",
    "\n",
    "plt.plot([percentile_5,percentile_5],[my_ylim[0],my_ylim[1]],'b',label = '5-95% range')\n",
    "plt.plot([percentile_95,percentile_95],[my_ylim[0],my_ylim[1]],'b')\n",
    "\n",
    "plt.xlabel('gradient value')\n",
    "plt.ylabel('frequency')\n",
    "plt.grid(True)\n",
    "\n",
    "plt.legend()\n",
    "\n",
    "plt.show()"
   ]
  },
  {
   "cell_type": "markdown",
   "metadata": {},
   "source": [
    "# Histogram of gradient on y intercept"
   ]
  },
  {
   "cell_type": "code",
   "execution_count": 12,
   "metadata": {},
   "outputs": [
    {
     "name": "stdout",
     "output_type": "stream",
     "text": [
      "Value of 50th percentile:\n",
      "-0.672900859033\n",
      "Value of 1st percentile:\n",
      "-0.76726108046\n",
      "Value of 99th percentile:\n",
      "-0.658708369389\n",
      "Value of 5th percentile:\n",
      "-0.701126833601\n",
      "Value of 95th percentile:\n",
      "-0.661400252212\n"
     ]
    },
    {
     "data": {
      "image/png": "[encoded data removed]",
      "text/plain": [
       "<Figure size 432x288 with 1 Axes>"
      ]
     },
     "metadata": {
      "needs_background": "light"
     },
     "output_type": "display_data"
    }
   ],
   "source": [
    "n, bins, patches = plt.hist(np.array(c), 100, density=True, facecolor='g', alpha=0.75)\n",
    "\n",
    "c_percentile_50 = np.percentile(c,50)\n",
    "print('Value of 50th percentile:')\n",
    "print(c_percentile_50)\n",
    "\n",
    "c_percentile_1 = np.percentile(c,1)\n",
    "c_percentile_99 = np.percentile(c,99)\n",
    "print('Value of 1st percentile:')\n",
    "print(c_percentile_1)\n",
    "print('Value of 99th percentile:')\n",
    "print(c_percentile_99)\n",
    "\n",
    "c_percentile_5 = np.percentile(c,5)\n",
    "c_percentile_95 = np.percentile(c,95)\n",
    "print('Value of 5th percentile:')\n",
    "print(c_percentile_5)\n",
    "print('Value of 95th percentile:')\n",
    "print(c_percentile_95)\n",
    "\n",
    "my_ylim = plt.gca().get_ylim()\n",
    "plt.plot([c_percentile_1,c_percentile_1],[my_ylim[0],my_ylim[1]],'r',label = '1-99% range')\n",
    "plt.plot([c_percentile_99,c_percentile_99],[my_ylim[0],my_ylim[1]],'r')\n",
    "\n",
    "plt.plot([c_percentile_5,c_percentile_5],[my_ylim[0],my_ylim[1]],'b',label = '5-95% range')\n",
    "plt.plot([c_percentile_95,c_percentile_95],[my_ylim[0],my_ylim[1]],'b')\n",
    "\n",
    "plt.legend()\n",
    "\n",
    "plt.xlabel('intercept value')\n",
    "plt.ylabel('frequency')\n",
    "plt.grid(True)\n",
    "plt.show()"
   ]
  },
  {
   "cell_type": "code",
   "execution_count": 9,
   "metadata": {},
   "outputs": [
    {
     "name": "stdout",
     "output_type": "stream",
     "text": [
      "y = m * x +c\n",
      "mean relationship\n",
      "y = 1.34332594799 * x + -0.672900859033\n",
      "relationship 95% lower bound\n",
      "y = 1.34093260096 * x + -0.701126833601\n",
      "relationship 95% upper bound\n",
      "y = 1.34697898267 * x + -0.661400252212\n"
     ]
    }
   ],
   "source": [
    "print('y = m * x +c')\n",
    "\n",
    "print('mean relationship')\n",
    "print('y = '+str(percentile_50)+' * x + '+str(str(c_percentile_50)))\n",
    "\n",
    "print('relationship 95% lower bound')\n",
    "print('y = '+str(percentile_5)+' * x + '+str(str(c_percentile_5)))\n",
    "\n",
    "print('relationship 95% upper bound')\n",
    "print('y = '+str(percentile_95)+' * x + '+str(str(c_percentile_95)))"
   ]
  }
 ],
 "metadata": {
  "kernelspec": {
   "display_name": "Python 2",
   "language": "python",
   "name": "python2"
  },
  "language_info": {
   "codemirror_mode": {
    "name": "ipython",
    "version": 2
   },
   "file_extension": ".py",
   "mimetype": "text/x-python",
   "name": "python",
   "nbconvert_exporter": "python",
   "pygments_lexer": "ipython2",
   "version": "2.7.17"
  }
 },
 "nbformat": 4,
 "nbformat_minor": 4
}
