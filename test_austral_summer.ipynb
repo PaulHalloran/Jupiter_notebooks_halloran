{
 "cells": [
  {
   "cell_type": "code",
   "execution_count": null,
   "id": "93e5ce04",
   "metadata": {},
   "outputs": [],
   "source": [
    "import iris\n",
    "import glob\n",
    "import iris.coord_categorisation\n",
    "import numpy as np"
   ]
  },
  {
   "cell_type": "code",
   "execution_count": null,
   "id": "035933e5",
   "metadata": {},
   "outputs": [],
   "source": [
    "# directories = glob.glob('/data/BatCaveNAS/ph290/CMIP6_william/tos_day_ssp???_r1i1p1f1_r1i1p1f2/processed_native_grid_global')\n",
    "\n",
    "# # for d in directories:\n",
    "# d = directories[0]\n",
    "# files = glob.glob(d+'/dhw_*GBR.nc')\n",
    "\n",
    "# # for f in files:\n",
    "# f = files[0]\n",
    "f = '/Users/ph290/Downloads/'\n",
    "\n",
    "cube = iris.load_cube(f)\n",
    "\n",
    "try:\n",
    "    iris.coord_categorisation.add_year(cube, 'time', name='year')\n",
    "except:\n",
    "    pass\n",
    "\n",
    "try:\n",
    "    iris.coord_categorisation.add_year(cube, 'time', name='year2')\n",
    "except:\n",
    "    pass\n",
    "\n",
    "try:\n",
    "    iris.coord_categorisation.add_month_number(cube, 'time', name='month_number')\n",
    "except:\n",
    "    pass\n",
    "\n",
    "try:\n",
    "    iris.coord_categorisation.add_day_of_month(cube, 'time', name='day_of_month')\n",
    "except:\n",
    "    pass\n",
    "\n",
    "cube_years = cube.coord('year').points\n",
    "cube_months = cube.coord('month_number').points\n",
    "cube_days = cube.coord('day_of_month').points\n",
    "\n",
    "# print cube.coord('year2').points\n",
    "\n",
    "#change the year value from calendar years to the same 'year' used in William's relentless march paper (2019) (i.e. August 1-July 31) to encompass the complete austral summer.\n",
    "#This is important so that one bleaching season (which crosses 1st Jan) does not get picked up as two bleaching years.\n",
    "#Skirving 2019: 'for example, 1998 refers to (1) August 1, 1997–July 31, 1998 for the Southern Hemisphere'\n",
    "coral_stress_year = np.zeros(len(cube_years))\n",
    "coral_stress_year[:] = np.nan\n",
    "tmp_year = np.min(cube_years)\n",
    "for i in range(len(cube_years)):\n",
    "    if (cube_months[i] == 8) & (cube_days[i] == 1):\n",
    "        tmp_year += 1\n",
    "    coral_stress_year[i] = tmp_year\n",
    "\n",
    "\n",
    "cube.coord('year2').points = coral_stress_year.astype(int)\n",
    "\n",
    "# note the [1:-1] is because the first and last year will have only aggregated half a year of data because of the above\n",
    "dhw_austral_ann_max = cube.aggregated_by('year2', iris.analysis.MAX)[1:-1]\n",
    "\n",
    "# iris.fileformats.netcdf.save(dhw_austral_ann_max, f.split('.nc')[0]+'_austral_summer_ann_max.nc')\n",
    "\n",
    "\n",
    "# output files in: /data/BatCaveNAS/ph290/CMIP6_william/tos_day_ssp???_r1i1p1f1_r1i1p1f2/processed_native_grid_global/*_austral_summer_ann_max.nc\n",
    "\n",
    "# /home/shared/for_ben/processed_native_grid_global/"
   ]
  }
 ],
 "metadata": {
  "kernelspec": {
   "display_name": "Python 3",
   "language": "python",
   "name": "python3"
  },
  "language_info": {
   "codemirror_mode": {
    "name": "ipython",
    "version": 3
   },
   "file_extension": ".py",
   "mimetype": "text/x-python",
   "name": "python",
   "nbconvert_exporter": "python",
   "pygments_lexer": "ipython3",
   "version": "3.9.4"
  }
 },
 "nbformat": 4,
 "nbformat_minor": 5
}
